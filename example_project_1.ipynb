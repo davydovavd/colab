{
  "cells": [
    {
      "cell_type": "markdown",
      "metadata": {
        "id": "view-in-github",
        "colab_type": "text"
      },
      "source": [
        "<a href=\"https://colab.research.google.com/github/vddavydova/colab/blob/main/example_project_1.ipynb\" target=\"_parent\"><img src=\"https://colab.research.google.com/assets/colab-badge.svg\" alt=\"Open In Colab\"/></a>"
      ]
    },
    {
      "cell_type": "markdown",
      "metadata": {
        "id": "DMqEGLpDmm5x"
      },
      "source": [
        "# Пример анализа кейса про кольцо"
      ]
    },
    {
      "cell_type": "markdown",
      "metadata": {
        "id": "buTIbryTmm54"
      },
      "source": [
        "## Загрузка данных и необходимых библиотек"
      ]
    },
    {
      "cell_type": "code",
      "execution_count": null,
      "metadata": {
        "id": "ldAH_gQvmm56"
      },
      "outputs": [],
      "source": [
        " #pip install pandas matplotlib numpy seaborn scikit-learn klearn statistics statsmodels scipy"
      ]
    },
    {
      "cell_type": "code",
      "execution_count": null,
      "metadata": {
        "id": "Mqy19LsCmm58"
      },
      "outputs": [],
      "source": [
        "## команды для установки директории\n",
        "\n",
        "#import `os` \n",
        "import os\n",
        "\n",
        "# retrieve current working directory (`cwd`)\n",
        "cwd = os.getcwd()\n",
        "cwd\n",
        "\n",
        "# change directory \n",
        "os.chdir(\"C:/Users/Виолетта\")\n",
        "\n",
        "# list all files and directories in current directory\n",
        "#os.listdir('.')"
      ]
    },
    {
      "cell_type": "code",
      "execution_count": null,
      "metadata": {
        "id": "zBKT8XSBmm59"
      },
      "outputs": [],
      "source": [
        "import numpy as np\n",
        "import matplotlib.pyplot as plt\n",
        "import pandas as pd \n",
        "import matplotlib.pyplot as plt\n",
        "import seaborn as sns\n",
        "from sklearn.linear_model import LinearRegression\n",
        "from sklearn.model_selection import train_test_split\n",
        "import math\n",
        "import statistics \n",
        "import scipy.stats\n",
        "import statsmodels.formula.api as smf\n",
        "from statsmodels.graphics.gofplots import qqplot"
      ]
    },
    {
      "cell_type": "code",
      "execution_count": null,
      "metadata": {
        "id": "qv_6-yJumm59"
      },
      "outputs": [],
      "source": [
        "plt.style.use('ggplot')  #красивые графики\n",
        "plt.rcParams['figure.figsize'] = (15, 5)  #размер картинок"
      ]
    },
    {
      "cell_type": "code",
      "execution_count": null,
      "metadata": {
        "id": "DLKQrSmNmm5-"
      },
      "outputs": [],
      "source": [
        "#чтение датасета\n",
        "data = pd.read_csv('./data.csv', sep=';', encoding='latin1')"
      ]
    },
    {
      "cell_type": "code",
      "execution_count": null,
      "metadata": {
        "scrolled": true,
        "id": "LydYoBCZmm5_",
        "outputId": "9e1a8fdd-2cd7-48aa-8024-878e3e91b228"
      },
      "outputs": [
        {
          "data": {
            "text/html": [
              "<div>\n",
              "<style scoped>\n",
              "    .dataframe tbody tr th:only-of-type {\n",
              "        vertical-align: middle;\n",
              "    }\n",
              "\n",
              "    .dataframe tbody tr th {\n",
              "        vertical-align: top;\n",
              "    }\n",
              "\n",
              "    .dataframe thead th {\n",
              "        text-align: right;\n",
              "    }\n",
              "</style>\n",
              "<table border=\"1\" class=\"dataframe\">\n",
              "  <thead>\n",
              "    <tr style=\"text-align: right;\">\n",
              "      <th></th>\n",
              "      <th>ID</th>\n",
              "      <th>Carat Weight</th>\n",
              "      <th>Cut</th>\n",
              "      <th>Color</th>\n",
              "      <th>Clarity</th>\n",
              "      <th>Polish</th>\n",
              "      <th>Symmetry</th>\n",
              "      <th>Report</th>\n",
              "      <th>Price</th>\n",
              "    </tr>\n",
              "  </thead>\n",
              "  <tbody>\n",
              "    <tr>\n",
              "      <th>0</th>\n",
              "      <td>1.0</td>\n",
              "      <td>1.10</td>\n",
              "      <td>Ideal</td>\n",
              "      <td>H</td>\n",
              "      <td>SI1</td>\n",
              "      <td>VG</td>\n",
              "      <td>EX</td>\n",
              "      <td>GIA</td>\n",
              "      <td>5169.0</td>\n",
              "    </tr>\n",
              "    <tr>\n",
              "      <th>1</th>\n",
              "      <td>2.0</td>\n",
              "      <td>0.83</td>\n",
              "      <td>Ideal</td>\n",
              "      <td>H</td>\n",
              "      <td>VS1</td>\n",
              "      <td>ID</td>\n",
              "      <td>ID</td>\n",
              "      <td>AGSL</td>\n",
              "      <td>3470.0</td>\n",
              "    </tr>\n",
              "    <tr>\n",
              "      <th>2</th>\n",
              "      <td>3.0</td>\n",
              "      <td>0.85</td>\n",
              "      <td>Ideal</td>\n",
              "      <td>H</td>\n",
              "      <td>SI1</td>\n",
              "      <td>EX</td>\n",
              "      <td>EX</td>\n",
              "      <td>GIA</td>\n",
              "      <td>3183.0</td>\n",
              "    </tr>\n",
              "    <tr>\n",
              "      <th>3</th>\n",
              "      <td>4.0</td>\n",
              "      <td>0.91</td>\n",
              "      <td>Ideal</td>\n",
              "      <td>E</td>\n",
              "      <td>SI1</td>\n",
              "      <td>VG</td>\n",
              "      <td>VG</td>\n",
              "      <td>GIA</td>\n",
              "      <td>4370.0</td>\n",
              "    </tr>\n",
              "    <tr>\n",
              "      <th>4</th>\n",
              "      <td>5.0</td>\n",
              "      <td>0.83</td>\n",
              "      <td>Ideal</td>\n",
              "      <td>G</td>\n",
              "      <td>SI1</td>\n",
              "      <td>EX</td>\n",
              "      <td>EX</td>\n",
              "      <td>GIA</td>\n",
              "      <td>3171.0</td>\n",
              "    </tr>\n",
              "  </tbody>\n",
              "</table>\n",
              "</div>"
            ],
            "text/plain": [
              "    ID  Carat Weight    Cut Color Clarity Polish Symmetry Report   Price\n",
              "0  1.0          1.10  Ideal     H     SI1     VG       EX    GIA  5169.0\n",
              "1  2.0          0.83  Ideal     H     VS1     ID       ID   AGSL  3470.0\n",
              "2  3.0          0.85  Ideal     H     SI1     EX       EX    GIA  3183.0\n",
              "3  4.0          0.91  Ideal     E     SI1     VG       VG    GIA  4370.0\n",
              "4  5.0          0.83  Ideal     G     SI1     EX       EX    GIA  3171.0"
            ]
          },
          "execution_count": 70,
          "metadata": {},
          "output_type": "execute_result"
        }
      ],
      "source": [
        "#названия столбцов в дадасете\n",
        "data.head()"
      ]
    },
    {
      "cell_type": "code",
      "execution_count": null,
      "metadata": {
        "id": "aSo_dvCKmm6B",
        "outputId": "06319c6e-5f9d-4203-a730-dfbe75d375e7"
      },
      "outputs": [
        {
          "name": "stdout",
          "output_type": "stream",
          "text": [
            "<class 'pandas.core.frame.DataFrame'>\n",
            "RangeIndex: 6026 entries, 0 to 6025\n",
            "Data columns (total 9 columns):\n",
            " #   Column        Non-Null Count  Dtype  \n",
            "---  ------        --------------  -----  \n",
            " 0   ID            6000 non-null   float64\n",
            " 1   Carat Weight  6000 non-null   float64\n",
            " 2   Cut           6000 non-null   object \n",
            " 3   Color         5999 non-null   object \n",
            " 4   Clarity       6000 non-null   object \n",
            " 5   Polish        6000 non-null   object \n",
            " 6   Symmetry      5999 non-null   object \n",
            " 7   Report        6000 non-null   object \n",
            " 8   Price         4500 non-null   float64\n",
            "dtypes: float64(3), object(6)\n",
            "memory usage: 423.8+ KB\n"
          ]
        }
      ],
      "source": [
        "#просмотр столбцов и пропущенных значений датасета\n",
        "data.info()"
      ]
    },
    {
      "cell_type": "markdown",
      "metadata": {
        "id": "flK9TOBsmm6C"
      },
      "source": [
        "В данном случае обращаем внимание на то, с какой теперь строки отсутсвуют цены."
      ]
    },
    {
      "cell_type": "code",
      "execution_count": null,
      "metadata": {
        "scrolled": true,
        "id": "j-gMvViEmm6C",
        "outputId": "d2732bca-a377-4fdb-ee71-14e606b94f8b"
      },
      "outputs": [
        {
          "data": {
            "text/html": [
              "<div>\n",
              "<style scoped>\n",
              "    .dataframe tbody tr th:only-of-type {\n",
              "        vertical-align: middle;\n",
              "    }\n",
              "\n",
              "    .dataframe tbody tr th {\n",
              "        vertical-align: top;\n",
              "    }\n",
              "\n",
              "    .dataframe thead th {\n",
              "        text-align: right;\n",
              "    }\n",
              "</style>\n",
              "<table border=\"1\" class=\"dataframe\">\n",
              "  <thead>\n",
              "    <tr style=\"text-align: right;\">\n",
              "      <th></th>\n",
              "      <th>ID</th>\n",
              "      <th>Carat Weight</th>\n",
              "      <th>Cut</th>\n",
              "      <th>Color</th>\n",
              "      <th>Clarity</th>\n",
              "      <th>Polish</th>\n",
              "      <th>Symmetry</th>\n",
              "      <th>Report</th>\n",
              "      <th>Price</th>\n",
              "    </tr>\n",
              "  </thead>\n",
              "  <tbody>\n",
              "    <tr>\n",
              "      <th>0</th>\n",
              "      <td>1.0</td>\n",
              "      <td>1.10</td>\n",
              "      <td>Ideal</td>\n",
              "      <td>H</td>\n",
              "      <td>SI1</td>\n",
              "      <td>VG</td>\n",
              "      <td>EX</td>\n",
              "      <td>GIA</td>\n",
              "      <td>5169.0</td>\n",
              "    </tr>\n",
              "    <tr>\n",
              "      <th>1</th>\n",
              "      <td>2.0</td>\n",
              "      <td>0.83</td>\n",
              "      <td>Ideal</td>\n",
              "      <td>H</td>\n",
              "      <td>VS1</td>\n",
              "      <td>ID</td>\n",
              "      <td>ID</td>\n",
              "      <td>AGSL</td>\n",
              "      <td>3470.0</td>\n",
              "    </tr>\n",
              "    <tr>\n",
              "      <th>2</th>\n",
              "      <td>3.0</td>\n",
              "      <td>0.85</td>\n",
              "      <td>Ideal</td>\n",
              "      <td>H</td>\n",
              "      <td>SI1</td>\n",
              "      <td>EX</td>\n",
              "      <td>EX</td>\n",
              "      <td>GIA</td>\n",
              "      <td>3183.0</td>\n",
              "    </tr>\n",
              "    <tr>\n",
              "      <th>3</th>\n",
              "      <td>4.0</td>\n",
              "      <td>0.91</td>\n",
              "      <td>Ideal</td>\n",
              "      <td>E</td>\n",
              "      <td>SI1</td>\n",
              "      <td>VG</td>\n",
              "      <td>VG</td>\n",
              "      <td>GIA</td>\n",
              "      <td>4370.0</td>\n",
              "    </tr>\n",
              "    <tr>\n",
              "      <th>4</th>\n",
              "      <td>5.0</td>\n",
              "      <td>0.83</td>\n",
              "      <td>Ideal</td>\n",
              "      <td>G</td>\n",
              "      <td>SI1</td>\n",
              "      <td>EX</td>\n",
              "      <td>EX</td>\n",
              "      <td>GIA</td>\n",
              "      <td>3171.0</td>\n",
              "    </tr>\n",
              "    <tr>\n",
              "      <th>...</th>\n",
              "      <td>...</td>\n",
              "      <td>...</td>\n",
              "      <td>...</td>\n",
              "      <td>...</td>\n",
              "      <td>...</td>\n",
              "      <td>...</td>\n",
              "      <td>...</td>\n",
              "      <td>...</td>\n",
              "      <td>...</td>\n",
              "    </tr>\n",
              "    <tr>\n",
              "      <th>4497</th>\n",
              "      <td>4498.0</td>\n",
              "      <td>0.90</td>\n",
              "      <td>Very Good</td>\n",
              "      <td>D</td>\n",
              "      <td>SI1</td>\n",
              "      <td>VG</td>\n",
              "      <td>G</td>\n",
              "      <td>GIA</td>\n",
              "      <td>4497.0</td>\n",
              "    </tr>\n",
              "    <tr>\n",
              "      <th>4498</th>\n",
              "      <td>4499.0</td>\n",
              "      <td>1.21</td>\n",
              "      <td>Very Good</td>\n",
              "      <td>G</td>\n",
              "      <td>SI1</td>\n",
              "      <td>VG</td>\n",
              "      <td>VG</td>\n",
              "      <td>GIA</td>\n",
              "      <td>6439.0</td>\n",
              "    </tr>\n",
              "    <tr>\n",
              "      <th>4499</th>\n",
              "      <td>4500.0</td>\n",
              "      <td>1.50</td>\n",
              "      <td>Signature-Ideal</td>\n",
              "      <td>I</td>\n",
              "      <td>IF</td>\n",
              "      <td>ID</td>\n",
              "      <td>ID</td>\n",
              "      <td>AGSL</td>\n",
              "      <td>12725.0</td>\n",
              "    </tr>\n",
              "    <tr>\n",
              "      <th>4500</th>\n",
              "      <td>4501.0</td>\n",
              "      <td>1.08</td>\n",
              "      <td>Very Good</td>\n",
              "      <td>F</td>\n",
              "      <td>VS2</td>\n",
              "      <td>G</td>\n",
              "      <td>VG</td>\n",
              "      <td>GIA</td>\n",
              "      <td>NaN</td>\n",
              "    </tr>\n",
              "    <tr>\n",
              "      <th>4501</th>\n",
              "      <td>4502.0</td>\n",
              "      <td>1.12</td>\n",
              "      <td>Very Good</td>\n",
              "      <td>E</td>\n",
              "      <td>VS1</td>\n",
              "      <td>ID</td>\n",
              "      <td>ID</td>\n",
              "      <td>AGSL</td>\n",
              "      <td>NaN</td>\n",
              "    </tr>\n",
              "  </tbody>\n",
              "</table>\n",
              "<p>4502 rows × 9 columns</p>\n",
              "</div>"
            ],
            "text/plain": [
              "          ID  Carat Weight              Cut Color Clarity Polish Symmetry  \\\n",
              "0        1.0          1.10            Ideal     H     SI1     VG       EX   \n",
              "1        2.0          0.83            Ideal     H     VS1     ID       ID   \n",
              "2        3.0          0.85            Ideal     H     SI1     EX       EX   \n",
              "3        4.0          0.91            Ideal     E     SI1     VG       VG   \n",
              "4        5.0          0.83            Ideal     G     SI1     EX       EX   \n",
              "...      ...           ...              ...   ...     ...    ...      ...   \n",
              "4497  4498.0          0.90        Very Good     D     SI1     VG        G   \n",
              "4498  4499.0          1.21        Very Good     G     SI1     VG       VG   \n",
              "4499  4500.0          1.50  Signature-Ideal     I      IF     ID       ID   \n",
              "4500  4501.0          1.08        Very Good     F     VS2      G       VG   \n",
              "4501  4502.0          1.12        Very Good     E     VS1     ID       ID   \n",
              "\n",
              "     Report    Price  \n",
              "0       GIA   5169.0  \n",
              "1      AGSL   3470.0  \n",
              "2       GIA   3183.0  \n",
              "3       GIA   4370.0  \n",
              "4       GIA   3171.0  \n",
              "...     ...      ...  \n",
              "4497    GIA   4497.0  \n",
              "4498    GIA   6439.0  \n",
              "4499   AGSL  12725.0  \n",
              "4500    GIA      NaN  \n",
              "4501   AGSL      NaN  \n",
              "\n",
              "[4502 rows x 9 columns]"
            ]
          },
          "execution_count": 72,
          "metadata": {},
          "output_type": "execute_result"
        }
      ],
      "source": [
        "# данные анализируются до строки 4502, далее - строки для прогнозных значений\n",
        "\n",
        "data[:4502]"
      ]
    },
    {
      "cell_type": "code",
      "execution_count": null,
      "metadata": {
        "id": "0lql9ArPmm6D",
        "outputId": "eb9d9aab-e5b7-4af6-9e15-ced2f57f9a8a"
      },
      "outputs": [
        {
          "data": {
            "text/html": [
              "<div>\n",
              "<style scoped>\n",
              "    .dataframe tbody tr th:only-of-type {\n",
              "        vertical-align: middle;\n",
              "    }\n",
              "\n",
              "    .dataframe tbody tr th {\n",
              "        vertical-align: top;\n",
              "    }\n",
              "\n",
              "    .dataframe thead th {\n",
              "        text-align: right;\n",
              "    }\n",
              "</style>\n",
              "<table border=\"1\" class=\"dataframe\">\n",
              "  <thead>\n",
              "    <tr style=\"text-align: right;\">\n",
              "      <th></th>\n",
              "      <th>ID</th>\n",
              "      <th>Carat Weight</th>\n",
              "      <th>Cut</th>\n",
              "      <th>Color</th>\n",
              "      <th>Clarity</th>\n",
              "      <th>Polish</th>\n",
              "      <th>Symmetry</th>\n",
              "      <th>Report</th>\n",
              "      <th>Price</th>\n",
              "    </tr>\n",
              "  </thead>\n",
              "  <tbody>\n",
              "    <tr>\n",
              "      <th>0</th>\n",
              "      <td>1.0</td>\n",
              "      <td>1.10</td>\n",
              "      <td>Ideal</td>\n",
              "      <td>H</td>\n",
              "      <td>SI1</td>\n",
              "      <td>VG</td>\n",
              "      <td>EX</td>\n",
              "      <td>GIA</td>\n",
              "      <td>5169.0</td>\n",
              "    </tr>\n",
              "    <tr>\n",
              "      <th>1</th>\n",
              "      <td>2.0</td>\n",
              "      <td>0.83</td>\n",
              "      <td>Ideal</td>\n",
              "      <td>H</td>\n",
              "      <td>VS1</td>\n",
              "      <td>ID</td>\n",
              "      <td>ID</td>\n",
              "      <td>AGSL</td>\n",
              "      <td>3470.0</td>\n",
              "    </tr>\n",
              "    <tr>\n",
              "      <th>2</th>\n",
              "      <td>3.0</td>\n",
              "      <td>0.85</td>\n",
              "      <td>Ideal</td>\n",
              "      <td>H</td>\n",
              "      <td>SI1</td>\n",
              "      <td>EX</td>\n",
              "      <td>EX</td>\n",
              "      <td>GIA</td>\n",
              "      <td>3183.0</td>\n",
              "    </tr>\n",
              "    <tr>\n",
              "      <th>3</th>\n",
              "      <td>4.0</td>\n",
              "      <td>0.91</td>\n",
              "      <td>Ideal</td>\n",
              "      <td>E</td>\n",
              "      <td>SI1</td>\n",
              "      <td>VG</td>\n",
              "      <td>VG</td>\n",
              "      <td>GIA</td>\n",
              "      <td>4370.0</td>\n",
              "    </tr>\n",
              "    <tr>\n",
              "      <th>4</th>\n",
              "      <td>5.0</td>\n",
              "      <td>0.83</td>\n",
              "      <td>Ideal</td>\n",
              "      <td>G</td>\n",
              "      <td>SI1</td>\n",
              "      <td>EX</td>\n",
              "      <td>EX</td>\n",
              "      <td>GIA</td>\n",
              "      <td>3171.0</td>\n",
              "    </tr>\n",
              "    <tr>\n",
              "      <th>...</th>\n",
              "      <td>...</td>\n",
              "      <td>...</td>\n",
              "      <td>...</td>\n",
              "      <td>...</td>\n",
              "      <td>...</td>\n",
              "      <td>...</td>\n",
              "      <td>...</td>\n",
              "      <td>...</td>\n",
              "      <td>...</td>\n",
              "    </tr>\n",
              "    <tr>\n",
              "      <th>4497</th>\n",
              "      <td>4498.0</td>\n",
              "      <td>0.90</td>\n",
              "      <td>Very Good</td>\n",
              "      <td>D</td>\n",
              "      <td>SI1</td>\n",
              "      <td>VG</td>\n",
              "      <td>G</td>\n",
              "      <td>GIA</td>\n",
              "      <td>4497.0</td>\n",
              "    </tr>\n",
              "    <tr>\n",
              "      <th>4498</th>\n",
              "      <td>4499.0</td>\n",
              "      <td>1.21</td>\n",
              "      <td>Very Good</td>\n",
              "      <td>G</td>\n",
              "      <td>SI1</td>\n",
              "      <td>VG</td>\n",
              "      <td>VG</td>\n",
              "      <td>GIA</td>\n",
              "      <td>6439.0</td>\n",
              "    </tr>\n",
              "    <tr>\n",
              "      <th>4499</th>\n",
              "      <td>4500.0</td>\n",
              "      <td>1.50</td>\n",
              "      <td>Signature-Ideal</td>\n",
              "      <td>I</td>\n",
              "      <td>IF</td>\n",
              "      <td>ID</td>\n",
              "      <td>ID</td>\n",
              "      <td>AGSL</td>\n",
              "      <td>12725.0</td>\n",
              "    </tr>\n",
              "    <tr>\n",
              "      <th>4500</th>\n",
              "      <td>4501.0</td>\n",
              "      <td>1.08</td>\n",
              "      <td>Very Good</td>\n",
              "      <td>F</td>\n",
              "      <td>VS2</td>\n",
              "      <td>G</td>\n",
              "      <td>VG</td>\n",
              "      <td>GIA</td>\n",
              "      <td>NaN</td>\n",
              "    </tr>\n",
              "    <tr>\n",
              "      <th>4501</th>\n",
              "      <td>4502.0</td>\n",
              "      <td>1.12</td>\n",
              "      <td>Very Good</td>\n",
              "      <td>E</td>\n",
              "      <td>VS1</td>\n",
              "      <td>ID</td>\n",
              "      <td>ID</td>\n",
              "      <td>AGSL</td>\n",
              "      <td>NaN</td>\n",
              "    </tr>\n",
              "  </tbody>\n",
              "</table>\n",
              "<p>4502 rows × 9 columns</p>\n",
              "</div>"
            ],
            "text/plain": [
              "          ID  Carat Weight              Cut Color Clarity Polish Symmetry  \\\n",
              "0        1.0          1.10            Ideal     H     SI1     VG       EX   \n",
              "1        2.0          0.83            Ideal     H     VS1     ID       ID   \n",
              "2        3.0          0.85            Ideal     H     SI1     EX       EX   \n",
              "3        4.0          0.91            Ideal     E     SI1     VG       VG   \n",
              "4        5.0          0.83            Ideal     G     SI1     EX       EX   \n",
              "...      ...           ...              ...   ...     ...    ...      ...   \n",
              "4497  4498.0          0.90        Very Good     D     SI1     VG        G   \n",
              "4498  4499.0          1.21        Very Good     G     SI1     VG       VG   \n",
              "4499  4500.0          1.50  Signature-Ideal     I      IF     ID       ID   \n",
              "4500  4501.0          1.08        Very Good     F     VS2      G       VG   \n",
              "4501  4502.0          1.12        Very Good     E     VS1     ID       ID   \n",
              "\n",
              "     Report    Price  \n",
              "0       GIA   5169.0  \n",
              "1      AGSL   3470.0  \n",
              "2       GIA   3183.0  \n",
              "3       GIA   4370.0  \n",
              "4       GIA   3171.0  \n",
              "...     ...      ...  \n",
              "4497    GIA   4497.0  \n",
              "4498    GIA   6439.0  \n",
              "4499   AGSL  12725.0  \n",
              "4500    GIA      NaN  \n",
              "4501   AGSL      NaN  \n",
              "\n",
              "[4502 rows x 9 columns]"
            ]
          },
          "execution_count": 73,
          "metadata": {},
          "output_type": "execute_result"
        }
      ],
      "source": [
        "#заменим значение \"Not Available\" в данных на «не число» (np.nan — «not a number»), \n",
        "#которое Python все же интерпретирует как число.\n",
        "data = data.replace({'Not Available': np.nan})\n",
        "data[:4502]"
      ]
    },
    {
      "cell_type": "markdown",
      "metadata": {
        "id": "lqMBDBpImm6E"
      },
      "source": [
        "## Преобразование данных: удаление неккоректных значений и переименование столбцов в датасете"
      ]
    },
    {
      "cell_type": "code",
      "execution_count": null,
      "metadata": {
        "id": "-rVXnIsKmm6E",
        "outputId": "a8dfe931-e16a-4efc-ec3e-871944148bf4"
      },
      "outputs": [
        {
          "name": "stdout",
          "output_type": "stream",
          "text": [
            "          ID  Carat Weight        Cut Color Clarity Polish Symmetry Report  \\\n",
            "1888  1889.0       10002.0  Very Good     D     SI1     VG       VG    GIA   \n",
            "1948  1949.0        5500.0      Ideal     D     SI1     EX       EX    GIA   \n",
            "\n",
            "          Price  \n",
            "1888     0.0055  \n",
            "1948  3605.0000  \n"
          ]
        }
      ],
      "source": [
        "# строки, в которых вес больше 3х\n",
        "v_Carat_Weight=data.loc[data['Carat Weight'] > 3]\n",
        "print(v_Carat_Weight)"
      ]
    },
    {
      "cell_type": "code",
      "execution_count": null,
      "metadata": {
        "id": "8VPEJC1Zmm6F"
      },
      "outputs": [],
      "source": [
        "#data=data.drop(data[data_analysis['Carat Weight'] > 3].index)"
      ]
    },
    {
      "cell_type": "markdown",
      "metadata": {
        "id": "1xI4Xojymm6F"
      },
      "source": [
        "Нет оснований избавляться от подобных значений. "
      ]
    },
    {
      "cell_type": "code",
      "execution_count": null,
      "metadata": {
        "id": "lQVmQiDCmm6G",
        "outputId": "f7300c85-7558-4fc0-d736-cf6bfedbc0ac"
      },
      "outputs": [
        {
          "data": {
            "text/html": [
              "<div>\n",
              "<style scoped>\n",
              "    .dataframe tbody tr th:only-of-type {\n",
              "        vertical-align: middle;\n",
              "    }\n",
              "\n",
              "    .dataframe tbody tr th {\n",
              "        vertical-align: top;\n",
              "    }\n",
              "\n",
              "    .dataframe thead th {\n",
              "        text-align: right;\n",
              "    }\n",
              "</style>\n",
              "<table border=\"1\" class=\"dataframe\">\n",
              "  <thead>\n",
              "    <tr style=\"text-align: right;\">\n",
              "      <th></th>\n",
              "      <th>ID</th>\n",
              "      <th>Carat Weight</th>\n",
              "      <th>Cut</th>\n",
              "      <th>Color</th>\n",
              "      <th>Clarity</th>\n",
              "      <th>Polish</th>\n",
              "      <th>Symmetry</th>\n",
              "      <th>Report</th>\n",
              "      <th>Price</th>\n",
              "    </tr>\n",
              "  </thead>\n",
              "  <tbody>\n",
              "    <tr>\n",
              "      <th>1994</th>\n",
              "      <td>1995.0</td>\n",
              "      <td>1.01</td>\n",
              "      <td>ssssssssss</td>\n",
              "      <td>G</td>\n",
              "      <td>SI1</td>\n",
              "      <td>VG</td>\n",
              "      <td>G</td>\n",
              "      <td>GIA</td>\n",
              "      <td>4805.0</td>\n",
              "    </tr>\n",
              "  </tbody>\n",
              "</table>\n",
              "</div>"
            ],
            "text/plain": [
              "          ID  Carat Weight         Cut Color Clarity Polish Symmetry Report  \\\n",
              "1994  1995.0          1.01  ssssssssss     G     SI1     VG        G    GIA   \n",
              "\n",
              "       Price  \n",
              "1994  4805.0  "
            ]
          },
          "execution_count": 76,
          "metadata": {},
          "output_type": "execute_result"
        }
      ],
      "source": [
        "data.loc[data['Cut'] == 'ssssssssss']"
      ]
    },
    {
      "cell_type": "code",
      "execution_count": null,
      "metadata": {
        "id": "6clS7xlRmm6G"
      },
      "outputs": [],
      "source": [
        "data=data.drop(data[data['Cut'] == 'ssssssssss'].index)"
      ]
    },
    {
      "cell_type": "code",
      "execution_count": null,
      "metadata": {
        "id": "9eTB1tm6mm6H",
        "outputId": "bfee27ef-2656-4731-fcad-123fae12c089"
      },
      "outputs": [
        {
          "data": {
            "text/html": [
              "<div>\n",
              "<style scoped>\n",
              "    .dataframe tbody tr th:only-of-type {\n",
              "        vertical-align: middle;\n",
              "    }\n",
              "\n",
              "    .dataframe tbody tr th {\n",
              "        vertical-align: top;\n",
              "    }\n",
              "\n",
              "    .dataframe thead th {\n",
              "        text-align: right;\n",
              "    }\n",
              "</style>\n",
              "<table border=\"1\" class=\"dataframe\">\n",
              "  <thead>\n",
              "    <tr style=\"text-align: right;\">\n",
              "      <th></th>\n",
              "      <th>ID</th>\n",
              "      <th>Carat Weight</th>\n",
              "      <th>Cut</th>\n",
              "      <th>Color</th>\n",
              "      <th>Clarity</th>\n",
              "      <th>Polish</th>\n",
              "      <th>Symmetry</th>\n",
              "      <th>Report</th>\n",
              "      <th>Price</th>\n",
              "    </tr>\n",
              "  </thead>\n",
              "  <tbody>\n",
              "    <tr>\n",
              "      <th>1219</th>\n",
              "      <td>1220.0</td>\n",
              "      <td>1.67</td>\n",
              "      <td>Ideallll</td>\n",
              "      <td>D</td>\n",
              "      <td>SI1</td>\n",
              "      <td>G</td>\n",
              "      <td>VG</td>\n",
              "      <td>GIA</td>\n",
              "      <td>14154.0</td>\n",
              "    </tr>\n",
              "  </tbody>\n",
              "</table>\n",
              "</div>"
            ],
            "text/plain": [
              "          ID  Carat Weight       Cut Color Clarity Polish Symmetry Report  \\\n",
              "1219  1220.0          1.67  Ideallll     D     SI1      G       VG    GIA   \n",
              "\n",
              "        Price  \n",
              "1219  14154.0  "
            ]
          },
          "execution_count": 78,
          "metadata": {},
          "output_type": "execute_result"
        }
      ],
      "source": [
        "data.loc[data['Cut'] == 'Ideallll']"
      ]
    },
    {
      "cell_type": "code",
      "execution_count": null,
      "metadata": {
        "id": "I5iy1-bqmm6H"
      },
      "outputs": [],
      "source": [
        "data=data.drop(data[data['Cut'] == 'Ideallll'].index)"
      ]
    },
    {
      "cell_type": "markdown",
      "metadata": {
        "id": "-PzTOEbMmm6I"
      },
      "source": [
        "## Предварительный анализ данных: описательная статистика"
      ]
    },
    {
      "cell_type": "markdown",
      "metadata": {
        "id": "jGgKzkGOmm6I"
      },
      "source": [
        "В данном разделе предварительный анализ данных будет заключаться в расчете описательной статистики."
      ]
    },
    {
      "cell_type": "markdown",
      "metadata": {
        "id": "QpwBCdyHmm6I"
      },
      "source": [
        "Далее анализ наиболее часто встречающихся значений - мода."
      ]
    },
    {
      "cell_type": "code",
      "execution_count": null,
      "metadata": {
        "id": "ogJN0Pr5mm6J"
      },
      "outputs": [],
      "source": [
        "# иное название для удобства\n",
        "data=data.rename(columns={'Carat Weight': 'Carat_Weight'})"
      ]
    },
    {
      "cell_type": "code",
      "execution_count": null,
      "metadata": {
        "id": "SHwlD-Bemm6J",
        "outputId": "562f831f-ae1e-4a74-db8d-376235bdf5d0"
      },
      "outputs": [
        {
          "data": {
            "text/plain": [
              "1.01    447\n",
              "0.90    373\n",
              "1.00    285\n",
              "2.01    247\n",
              "1.02    190\n",
              "       ... \n",
              "2.81      1\n",
              "2.73      1\n",
              "1.83      1\n",
              "1.82      1\n",
              "2.76      1\n",
              "Name: Carat_Weight, Length: 198, dtype: int64"
            ]
          },
          "execution_count": 81,
          "metadata": {},
          "output_type": "execute_result"
        }
      ],
      "source": [
        "data['Carat_Weight'].value_counts()"
      ]
    },
    {
      "cell_type": "code",
      "execution_count": null,
      "metadata": {
        "id": "GUcYFh7zmm6J",
        "outputId": "2d44e9cb-1387-4c46-989b-8abab04eb1df"
      },
      "outputs": [
        {
          "data": {
            "text/plain": [
              "Ideal              2479\n",
              "Very Good          2428\n",
              "Good                707\n",
              "Signature-Ideal     253\n",
              "Fair                129\n",
              "-                     2\n",
              "Name: Cut, dtype: int64"
            ]
          },
          "execution_count": 82,
          "metadata": {},
          "output_type": "execute_result"
        }
      ],
      "source": [
        "data['Cut'].value_counts()"
      ]
    },
    {
      "cell_type": "code",
      "execution_count": null,
      "metadata": {
        "id": "l9IOBP_Qmm6K",
        "outputId": "6837b73b-c019-4d90-bed5-b471b112d132"
      },
      "outputs": [
        {
          "data": {
            "text/plain": [
              "G    1500\n",
              "H    1079\n",
              "F    1012\n",
              "I     967\n",
              "E     778\n",
              "D     660\n",
              "-       1\n",
              "Name: Color, dtype: int64"
            ]
          },
          "execution_count": 83,
          "metadata": {},
          "output_type": "execute_result"
        }
      ],
      "source": [
        "data['Color'].value_counts()"
      ]
    },
    {
      "cell_type": "code",
      "execution_count": null,
      "metadata": {
        "id": "hAUwKYjNmm6K",
        "outputId": "5af2610a-fcc8-4a1f-8a1d-1cbbe384959a"
      },
      "outputs": [
        {
          "data": {
            "text/plain": [
              "SI1     2057\n",
              "VS2     1574\n",
              "VS1     1192\n",
              "VVS2     666\n",
              "VVS1     285\n",
              "IF       219\n",
              "FL         4\n",
              "           1\n",
              "Name: Clarity, dtype: int64"
            ]
          },
          "execution_count": 84,
          "metadata": {},
          "output_type": "execute_result"
        }
      ],
      "source": [
        "data['Clarity'].value_counts()"
      ]
    },
    {
      "cell_type": "code",
      "execution_count": null,
      "metadata": {
        "id": "MWGPb244mm6L",
        "outputId": "59460991-5503-41c5-b613-3eba47eecedf"
      },
      "outputs": [
        {
          "data": {
            "text/plain": [
              "EX    2425\n",
              "VG    2408\n",
              "ID     595\n",
              "G      569\n",
              "ÍÄ       1\n",
              "Name: Polish, dtype: int64"
            ]
          },
          "execution_count": 85,
          "metadata": {},
          "output_type": "execute_result"
        }
      ],
      "source": [
        "data['Polish'].value_counts()"
      ]
    },
    {
      "cell_type": "code",
      "execution_count": null,
      "metadata": {
        "id": "ERUbtqNCmm6L",
        "outputId": "d0a99abd-d5e2-40ea-8678-f2caf5b25c7d"
      },
      "outputs": [
        {
          "data": {
            "text/plain": [
              "VG    2415\n",
              "EX    2059\n",
              "G      914\n",
              "ID     608\n",
              "         1\n",
              "Name: Symmetry, dtype: int64"
            ]
          },
          "execution_count": 86,
          "metadata": {},
          "output_type": "execute_result"
        }
      ],
      "source": [
        "data['Symmetry'].value_counts()"
      ]
    },
    {
      "cell_type": "code",
      "execution_count": null,
      "metadata": {
        "id": "ztaPSZ3smm6L",
        "outputId": "f6e0aec8-81b6-4ef4-978d-620ef2b24360"
      },
      "outputs": [
        {
          "data": {
            "text/plain": [
              "GIA     5264\n",
              "AGSL     734\n",
              "Name: Report, dtype: int64"
            ]
          },
          "execution_count": 87,
          "metadata": {},
          "output_type": "execute_result"
        }
      ],
      "source": [
        "data['Report'].value_counts()"
      ]
    },
    {
      "cell_type": "code",
      "execution_count": null,
      "metadata": {
        "id": "42NGYbZ8mm6M",
        "outputId": "c6a693d2-f585-4b11-9dfc-fc940e4b927b"
      },
      "outputs": [
        {
          "data": {
            "text/plain": [
              "4058.0     5\n",
              "8014.0     5\n",
              "5408.0     5\n",
              "4905.0     5\n",
              "5452.0     5\n",
              "          ..\n",
              "3872.0     1\n",
              "10598.0    1\n",
              "6726.0     1\n",
              "10964.0    1\n",
              "14206.0    1\n",
              "Name: Price, Length: 3789, dtype: int64"
            ]
          },
          "execution_count": 88,
          "metadata": {},
          "output_type": "execute_result"
        }
      ],
      "source": [
        "data['Price'].value_counts()"
      ]
    },
    {
      "cell_type": "markdown",
      "metadata": {
        "id": "vw7Q4alSmm6M"
      },
      "source": [
        "Таким образом, имеем следующие данные:\n",
        "1. вес карата - 1.01; \n",
        "2. огранка - идеальная; \n",
        "3. цвет - почти бесцветные, при этом цвет обнаруживается при сравнении с бриллиантами высшего качества;\n",
        "4. чистота - незначительные включения (по пирамиде качества чистоты);\n",
        "5. полировка - очень хорошая;\n",
        "6. качество семметрии - очень хорошая;\n",
        "7. геммологическая лаборотория - значительное преобладание Геммологического института Америки;\n",
        "8. цена - от 5000 до 8000 долларов.\n",
        "\n",
        "На основе полученных результатов с учетом того, что оценка бриллиантов зависит от четырех основных критериев, \n",
        "известных как \"четыре С\" можно сделать выводы о том, что,как правило, распространены камни весом одного карата, при этом наиболее популярна огранка категории относительно максимального светопреломления в камнях круглой огранки,\n",
        "по цвету - почти бесцветные или ювелирные, \n",
        "по чистоте - второе с конца по пирамиде качества, что определяется как незначительные включения минеральных отложений и различных неоднородностей.\n",
        "Также важно не оставить без внимания и инфе факторы, влияющие на стоимость камней. Так симметрия огранки и полировка поверхностей, влияющие на отражение/преломление света распространена досточно выского качества. \n",
        "Большинство бриллиантов ювелирного качества имеют классификационные сертификаты, выданные Геммологического института Америки в Северной Америки. \n",
        "И наконец, наиболее распространенная цена на бриллианты составляет в диапозоне от 5000 до 8000 долларов, что является значительным показателем для Грега."
      ]
    },
    {
      "cell_type": "markdown",
      "metadata": {
        "scrolled": false,
        "id": "vjY1-tsJmm6N"
      },
      "source": [
        "Далее рассмотрена описательная статистика только для цены и веса камня."
      ]
    },
    {
      "cell_type": "code",
      "execution_count": null,
      "metadata": {
        "id": "BUDejAlfmm6N",
        "outputId": "9c6b1f3d-25ee-4cc6-f2d4-146de2e0b747"
      },
      "outputs": [
        {
          "data": {
            "text/plain": [
              "count      4498.000000\n",
              "mean      11674.280800\n",
              "std       10069.545291\n",
              "min      -10001.000000\n",
              "25%        5126.250000\n",
              "50%        7868.500000\n",
              "75%       14952.250000\n",
              "max      101561.000000\n",
              "Name: Price, dtype: float64"
            ]
          },
          "execution_count": 89,
          "metadata": {},
          "output_type": "execute_result"
        }
      ],
      "source": [
        "data['Price'].describe()"
      ]
    },
    {
      "cell_type": "markdown",
      "metadata": {
        "id": "30Y4Zueemm6N"
      },
      "source": [
        "Среднее значение говорит нам, что «типичная» цена в датасете равна примерно 11675.49. Соответственно, большинство камней стоят достаточно дорого. "
      ]
    },
    {
      "cell_type": "markdown",
      "metadata": {
        "id": "1ABioUPTmm6O"
      },
      "source": [
        "Медианная цена камня составляет 7868 долларов. \n",
        "Это предполагает, что как минимум у половины камней в датасете цена равна или ниже 7871 долларов."
      ]
    },
    {
      "cell_type": "markdown",
      "metadata": {
        "id": "XLZEwWUxmm6O"
      },
      "source": [
        "Отрицательность минимального значения говорит о некорректности данных, поэтому необходимо избавится от подобных значений."
      ]
    },
    {
      "cell_type": "markdown",
      "metadata": {
        "id": "tANC9Mskmm6O"
      },
      "source": [
        "Избавимся от некорректных значений цены."
      ]
    },
    {
      "cell_type": "code",
      "execution_count": null,
      "metadata": {
        "id": "J3gF127jmm6P"
      },
      "outputs": [],
      "source": [
        "data=data.drop(data[data.Price <= 0].index)"
      ]
    },
    {
      "cell_type": "code",
      "execution_count": null,
      "metadata": {
        "scrolled": true,
        "id": "4kWSPGDDmm6P",
        "outputId": "8be483fb-ab88-454b-9526-0e3f3a40a788"
      },
      "outputs": [
        {
          "data": {
            "text/plain": [
              "count     5996.000000\n",
              "mean         3.919528\n",
              "std        147.376231\n",
              "min          0.750000\n",
              "25%          1.000000\n",
              "50%          1.130000\n",
              "75%          1.590000\n",
              "max      10002.000000\n",
              "Name: Carat_Weight, dtype: float64"
            ]
          },
          "execution_count": 91,
          "metadata": {},
          "output_type": "execute_result"
        }
      ],
      "source": [
        "data['Carat_Weight'].describe()"
      ]
    },
    {
      "cell_type": "markdown",
      "metadata": {
        "id": "JicuRI3nmm6P"
      },
      "source": [
        "Выводы по размеру камня: средний вес камня - 4.8; максимальный размер - 10002, что свидетельствует о наличии выброса относительно минимального и среднего значений; медианный размер камня - 1.13, т.е. как минимум у половины камней в датасете вес составляет 1.13 карата."
      ]
    },
    {
      "cell_type": "markdown",
      "metadata": {
        "id": "sBzebaasmm6P"
      },
      "source": [
        "## Предварительный анализ данных: графическое представление"
      ]
    },
    {
      "cell_type": "code",
      "execution_count": null,
      "metadata": {
        "scrolled": false,
        "id": "VxFPZQyPmm6Q",
        "outputId": "b83f6f2b-bec7-4c4b-968c-f8e14093fa10"
      },
      "outputs": [
        {
          "data": {
            "text/plain": [
              "<AxesSubplot:>"
            ]
          },
          "execution_count": 92,
          "metadata": {},
          "output_type": "execute_result"
        },
        {
          "data": {
            "image/png": "[encoded data removed]",
            "text/plain": [
              "<Figure size 1080x360 with 1 Axes>"
            ]
          },
          "metadata": {},
          "output_type": "display_data"
        }
      ],
      "source": [
        "data['Price'].plot()"
      ]
    },
    {
      "cell_type": "markdown",
      "metadata": {
        "id": "ci6hzWUCmm6Q"
      },
      "source": [
        "На основе данного графика можно преположить, что в датасете есть выбросы, а также он указывает, что отрицательные значения цены были удалены."
      ]
    },
    {
      "cell_type": "code",
      "execution_count": null,
      "metadata": {
        "id": "ljzxOJLcmm6Q",
        "outputId": "263bcdab-1936-458a-9955-9cbe77d2a7ce"
      },
      "outputs": [
        {
          "data": {
            "image/png": "[encoded data removed]",
            "text/plain": [
              "<Figure size 1080x360 with 1 Axes>"
            ]
          },
          "metadata": {},
          "output_type": "display_data"
        }
      ],
      "source": [
        "#гистограмма цены\n",
        "plt.style.use('fivethirtyeight')\n",
        "plt.hist(data['Price'].dropna(), bins = 500, edgecolor = 'k');\n",
        "plt.xlabel('Price'); plt.ylabel('ID');\n",
        "plt.title('Prices');"
      ]
    },
    {
      "cell_type": "code",
      "execution_count": null,
      "metadata": {
        "id": "o8VNPqmxmm6Q"
      },
      "outputs": [],
      "source": [
        ""
      ]
    }
  ],
  "metadata": {
    "kernelspec": {
      "display_name": "Python 3",
      "language": "python",
      "name": "python3"
    },
    "language_info": {
      "codemirror_mode": {
        "name": "ipython",
        "version": 3
      },
      "file_extension": ".py",
      "mimetype": "text/x-python",
      "name": "python",
      "nbconvert_exporter": "python",
      "pygments_lexer": "ipython3",
      "version": "3.8.8"
    },
    "colab": {
      "name": "example project 1.ipynb",
      "provenance": [],
      "include_colab_link": true
    }
  },
  "nbformat": 4,
  "nbformat_minor": 0
}