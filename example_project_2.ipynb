{
  "cells": [
    {
      "cell_type": "markdown",
      "metadata": {
        "id": "view-in-github",
        "colab_type": "text"
      },
      "source": [
        "<a href=\"https://colab.research.google.com/github/vddavydova/colab/blob/main/example_project_2.ipynb\" target=\"_parent\"><img src=\"https://colab.research.google.com/assets/colab-badge.svg\" alt=\"Open In Colab\"/></a>"
      ]
    },
    {
      "cell_type": "markdown",
      "metadata": {
        "id": "4Pusbr0Km4Gt"
      },
      "source": [
        "# Пример анализа кейса про рынок труда\n"
      ]
    },
    {
      "cell_type": "markdown",
      "metadata": {
        "id": "021Jci77m4Gy"
      },
      "source": [
        "Исследуем рынок труда в России в 2019 году по данным опросника РМЭЗ НИУ ВШЭ (подробнее о нем [тут](https://www.hse.ru/rlms/))."
      ]
    },
    {
      "cell_type": "markdown",
      "metadata": {
        "id": "rp8kU_gcm4Gz"
      },
      "source": [
        "Импортируем библиотеки и настраиваем параметры графиков"
      ]
    },
    {
      "cell_type": "code",
      "execution_count": null,
      "metadata": {
        "id": "c_H9p88xm4G0"
      },
      "outputs": [],
      "source": [
        "import pandas as pd\n",
        "import numpy as np\n",
        "import seaborn as sns\n",
        "import matplotlib.pyplot as plt\n",
        "\n",
        "\n",
        "sns.set(style='darkgrid', palette='pastel', color_codes=True)\n",
        "plt.rcParams['figure.figsize'] = (12, 6)"
      ]
    },
    {
      "cell_type": "markdown",
      "metadata": {
        "id": "C1_Wqv62m4G2"
      },
      "source": [
        "Создаем словарь для указания типов данных в колонках и словарь для переименования колонок. "
      ]
    },
    {
      "cell_type": "code",
      "execution_count": null,
      "metadata": {
        "id": "Zt6BERAcm4G2"
      },
      "outputs": [],
      "source": [
        "## создаем словарь\n",
        "\n",
        "cols = {\n",
        "    'region':'category',\n",
        "    'status':'category',\n",
        "    ##'popul':'category',\n",
        "    ##'ui3':'category',\n",
        "    ##'ui4':'category',\n",
        "    'u_age':int,\n",
        "    'uh5':'category',\n",
        "    'u_marst':'category',\n",
        "    'u_diplom':'category',\n",
        "    #'u_educ':'category',\n",
        "    'u_occup08':'category',\n",
        "    'uj1':'category',\n",
        "    'uj4.1':'category',\n",
        "    'uj13.2':float\n",
        "}\n",
        "rename_cols={\n",
        "    'region':'region',\n",
        "    'status':'town_type',\n",
        "    ##'popul':'population',\n",
        "    ##'ui3':'origin_type',\n",
        "    ##'ui4':'nationality',\n",
        "    'u_age':'age',\n",
        "    'uh5':'sex',\n",
        "    'u_marst':'marital_status',\n",
        "    'u_diplom':'finished_education',\n",
        "    #'u_educ':'education',\n",
        "    'u_occup08':'professional_group',\n",
        "    'uj1':'employed',\n",
        "    'uj4.1':'industry',\n",
        "    'uj13.2':'wage'}\n",
        "\n",
        "cols_ = ['x'+x[1:] if x[0]=='u' else x for x in cols.keys()]\n",
        "rename_cols = {('x'+key[1:] if key[0]=='u' else key):value   for key,value in rename_cols.items()}"
      ]
    },
    {
      "cell_type": "markdown",
      "metadata": {
        "id": "4vZwxUHMm4G4"
      },
      "source": [
        "Загружаем данные."
      ]
    },
    {
      "cell_type": "code",
      "execution_count": null,
      "metadata": {
        "id": "5dSxJ4Jxm4G4"
      },
      "outputs": [],
      "source": [
        "#import `os` \n",
        "import os\n",
        "\n",
        "# retrieve current working directory (`cwd`)\n",
        "cwd = os.getcwd()\n",
        "cwd\n",
        "\n",
        "# change directory \n",
        "os.chdir(\"C:/Users/Виолетта\")\n",
        "\n",
        "# list all files and directories in current directory\n",
        "#os.listdir('.')"
      ]
    },
    {
      "cell_type": "code",
      "execution_count": null,
      "metadata": {
        "id": "kOBk32pVm4G5",
        "outputId": "321275bd-e546-4004-ef2e-29c7d97309f6"
      },
      "outputs": [
        {
          "data": {
            "text/html": [
              "<div>\n",
              "<style scoped>\n",
              "    .dataframe tbody tr th:only-of-type {\n",
              "        vertical-align: middle;\n",
              "    }\n",
              "\n",
              "    .dataframe tbody tr th {\n",
              "        vertical-align: top;\n",
              "    }\n",
              "\n",
              "    .dataframe thead th {\n",
              "        text-align: right;\n",
              "    }\n",
              "</style>\n",
              "<table border=\"1\" class=\"dataframe\">\n",
              "  <thead>\n",
              "    <tr style=\"text-align: right;\">\n",
              "      <th></th>\n",
              "      <th>status</th>\n",
              "      <th>x_marst</th>\n",
              "      <th>x_occup08</th>\n",
              "      <th>x_diplom</th>\n",
              "      <th>x_age</th>\n",
              "      <th>region</th>\n",
              "      <th>xh5</th>\n",
              "      <th>xj1</th>\n",
              "      <th>xj4.1</th>\n",
              "      <th>xj13.2</th>\n",
              "    </tr>\n",
              "  </thead>\n",
              "  <tbody>\n",
              "    <tr>\n",
              "      <th>0</th>\n",
              "      <td>ПГТ</td>\n",
              "      <td>Bдовец (вдова)</td>\n",
              "      <td>работники сферы торговли и услуг</td>\n",
              "      <td>законченное среднее образование</td>\n",
              "      <td>64.0</td>\n",
              "      <td>Ленинградская область, Волосовский район</td>\n",
              "      <td>ЖЕНСКИЙ</td>\n",
              "      <td>Вы сейчас работаете</td>\n",
              "      <td>ЗДРАВООХРАНЕНИЕ</td>\n",
              "      <td>25000.0</td>\n",
              "    </tr>\n",
              "    <tr>\n",
              "      <th>1</th>\n",
              "      <td>ПГТ</td>\n",
              "      <td>Никогда в браке не состояли</td>\n",
              "      <td>NaN</td>\n",
              "      <td>незаконченное среднее образование (7 - 8 кл) +...</td>\n",
              "      <td>75.0</td>\n",
              "      <td>Ленинградская область, Волосовский район</td>\n",
              "      <td>ЖЕНСКИЙ</td>\n",
              "      <td>Или у Вас сейчас нет работы</td>\n",
              "      <td>NaN</td>\n",
              "      <td>NaN</td>\n",
              "    </tr>\n",
              "    <tr>\n",
              "      <th>2</th>\n",
              "      <td>ПГТ</td>\n",
              "      <td>Состоите в зарегистрированном браке</td>\n",
              "      <td>NaN</td>\n",
              "      <td>законченное среднее специальное образование</td>\n",
              "      <td>73.0</td>\n",
              "      <td>Ленинградская область, Волосовский район</td>\n",
              "      <td>ЖЕНСКИЙ</td>\n",
              "      <td>Или у Вас сейчас нет работы</td>\n",
              "      <td>NaN</td>\n",
              "      <td>NaN</td>\n",
              "    </tr>\n",
              "    <tr>\n",
              "      <th>3</th>\n",
              "      <td>ПГТ</td>\n",
              "      <td>Состоите в зарегистрированном браке</td>\n",
              "      <td>NaN</td>\n",
              "      <td>незаконченное среднее образование (7 - 8 кл)</td>\n",
              "      <td>65.0</td>\n",
              "      <td>Ленинградская область, Волосовский район</td>\n",
              "      <td>ЖЕНСКИЙ</td>\n",
              "      <td>Или у Вас сейчас нет работы</td>\n",
              "      <td>NaN</td>\n",
              "      <td>NaN</td>\n",
              "    </tr>\n",
              "    <tr>\n",
              "      <th>4</th>\n",
              "      <td>ПГТ</td>\n",
              "      <td>Состоите в зарегистрированном браке</td>\n",
              "      <td>квалифицированные рабочие, использующие машины...</td>\n",
              "      <td>законченное среднее образование</td>\n",
              "      <td>51.0</td>\n",
              "      <td>Ленинградская область, Волосовский район</td>\n",
              "      <td>ЖЕНСКИЙ</td>\n",
              "      <td>Вы сейчас работаете</td>\n",
              "      <td>ТРАНСПОРТ, СВЯЗЬ</td>\n",
              "      <td>18000.0</td>\n",
              "    </tr>\n",
              "  </tbody>\n",
              "</table>\n",
              "</div>"
            ],
            "text/plain": [
              "  status                              x_marst  \\\n",
              "0    ПГТ                       Bдовец (вдова)   \n",
              "1    ПГТ          Никогда в браке не состояли   \n",
              "2    ПГТ  Состоите в зарегистрированном браке   \n",
              "3    ПГТ  Состоите в зарегистрированном браке   \n",
              "4    ПГТ  Состоите в зарегистрированном браке   \n",
              "\n",
              "                                           x_occup08  \\\n",
              "0                   работники сферы торговли и услуг   \n",
              "1                                                NaN   \n",
              "2                                                NaN   \n",
              "3                                                NaN   \n",
              "4  квалифицированные рабочие, использующие машины...   \n",
              "\n",
              "                                            x_diplom  x_age  \\\n",
              "0                    законченное среднее образование   64.0   \n",
              "1  незаконченное среднее образование (7 - 8 кл) +...   75.0   \n",
              "2        законченное среднее специальное образование   73.0   \n",
              "3       незаконченное среднее образование (7 - 8 кл)   65.0   \n",
              "4                    законченное среднее образование   51.0   \n",
              "\n",
              "                                     region      xh5  \\\n",
              "0  Ленинградская область, Волосовский район  ЖЕНСКИЙ   \n",
              "1  Ленинградская область, Волосовский район  ЖЕНСКИЙ   \n",
              "2  Ленинградская область, Волосовский район  ЖЕНСКИЙ   \n",
              "3  Ленинградская область, Волосовский район  ЖЕНСКИЙ   \n",
              "4  Ленинградская область, Волосовский район  ЖЕНСКИЙ   \n",
              "\n",
              "                           xj1             xj4.1   xj13.2  \n",
              "0          Вы сейчас работаете   ЗДРАВООХРАНЕНИЕ  25000.0  \n",
              "1  Или у Вас сейчас нет работы               NaN      NaN  \n",
              "2  Или у Вас сейчас нет работы               NaN      NaN  \n",
              "3  Или у Вас сейчас нет работы               NaN      NaN  \n",
              "4          Вы сейчас работаете  ТРАНСПОРТ, СВЯЗЬ  18000.0  "
            ]
          },
          "execution_count": 13,
          "metadata": {},
          "output_type": "execute_result"
        }
      ],
      "source": [
        "##df = pd.read_spss('r28i_os_32.sav', usecols=rename_cols.keys()) ## original data\n",
        "\n",
        "df = pd.read_csv('./rlms19.csv', usecols=rename_cols.keys())\n",
        "df.head()"
      ]
    },
    {
      "cell_type": "code",
      "execution_count": null,
      "metadata": {
        "id": "WUPqZsz1m4G7",
        "outputId": "dcf7beaf-fefa-4325-8cc6-9896786ee2a0"
      },
      "outputs": [
        {
          "data": {
            "text/plain": [
              "(12228, 10)"
            ]
          },
          "execution_count": 14,
          "metadata": {},
          "output_type": "execute_result"
        }
      ],
      "source": [
        "df.shape"
      ]
    },
    {
      "cell_type": "markdown",
      "metadata": {
        "id": "GkqqrlIdm4G8"
      },
      "source": [
        "## Подготовка данных"
      ]
    },
    {
      "cell_type": "markdown",
      "metadata": {
        "id": "LG1VOJyNm4G8"
      },
      "source": [
        "Например, переименуем колонки в соответствии со словарем `rename_cols`."
      ]
    },
    {
      "cell_type": "code",
      "execution_count": null,
      "metadata": {
        "id": "P0cQ1pBHm4G9"
      },
      "outputs": [],
      "source": [
        "## your code here ╰( ͡° ͜ʖ ͡° )つ──☆"
      ]
    },
    {
      "cell_type": "markdown",
      "metadata": {
        "id": "Fexwm0cAm4G9"
      },
      "source": [
        "Можем заменить пропуски закодированные как `'ЗАТРУДНЯЮСЬ ОТВЕТИТЬ', 'НЕТ ОТВЕТА', 'ОТКАЗ ОТ ОТВЕТА'` на `np.nan`, используя метод `replace`."
      ]
    },
    {
      "cell_type": "code",
      "execution_count": null,
      "metadata": {
        "id": "1W_tihs9m4G9"
      },
      "outputs": [],
      "source": [
        "nans = ['ЗАТРУДНЯЮСЬ ОТВЕТИТЬ', 'НЕТ ОТВЕТА', 'ОТКАЗ ОТ ОТВЕТА']\n",
        "## your code here ╰( ͡° ͜ʖ ͡° )つ──☆"
      ]
    },
    {
      "cell_type": "markdown",
      "metadata": {
        "id": "VdqRpaYFm4G-"
      },
      "source": [
        "Также\n",
        "Используя метод `replace`, заменим категории `ЖЕНСКИЙ` на `Ж`, а `МУЖСКОЙ` на `М` в колонке `sex`."
      ]
    },
    {
      "cell_type": "code",
      "execution_count": null,
      "metadata": {
        "id": "8Uuowxfjm4G-"
      },
      "outputs": [],
      "source": [
        "## your code here ╰( ͡° ͜ʖ ͡° )つ──☆"
      ]
    },
    {
      "cell_type": "markdown",
      "metadata": {
        "id": "xJuzTPoNm4G_"
      },
      "source": [
        "Или\n",
        "В колонках `industry` и `marital_status` приведем символы к нижнему регистру и к заглавной букве. В колонке `industry` замените `It, информационные технологии` на `IT, информационные технологии`, используя метод `replace`."
      ]
    },
    {
      "cell_type": "code",
      "execution_count": null,
      "metadata": {
        "id": "6VszaX5wm4G_"
      },
      "outputs": [],
      "source": [
        "## your code here ╰( ͡° ͜ʖ ͡° )つ──☆"
      ]
    },
    {
      "cell_type": "markdown",
      "metadata": {
        "id": "HP0kAutGm4HA"
      },
      "source": [
        "В колонке `'age'` приведем тип данных к `int`, а в `'wage'` к `float`, используя метод astype.\n"
      ]
    },
    {
      "cell_type": "code",
      "execution_count": null,
      "metadata": {
        "id": "RzP0OUMym4HA"
      },
      "outputs": [],
      "source": [
        "## your code here ╰( ͡° ͜ʖ ͡° )つ──☆"
      ]
    },
    {
      "cell_type": "markdown",
      "metadata": {
        "id": "-bk9vRkdm4HA"
      },
      "source": [
        "Получим таблицу в следующем виде."
      ]
    },
    {
      "cell_type": "code",
      "execution_count": null,
      "metadata": {
        "id": "XZl5fy_vm4HB",
        "outputId": "798bbb6a-10fe-4c9c-e233-8a3141d6f74b"
      },
      "outputs": [
        {
          "name": "stdout",
          "output_type": "stream",
          "text": [
            "<class 'pandas.core.frame.DataFrame'>\n",
            "RangeIndex: 12228 entries, 0 to 12227\n",
            "Data columns (total 10 columns):\n",
            " #   Column     Non-Null Count  Dtype  \n",
            "---  ------     --------------  -----  \n",
            " 0   status     12228 non-null  object \n",
            " 1   x_marst    10414 non-null  object \n",
            " 2   x_occup08  5107 non-null   object \n",
            " 3   x_diplom   10414 non-null  object \n",
            " 4   x_age      12228 non-null  float64\n",
            " 5   region     12228 non-null  object \n",
            " 6   xh5        12228 non-null  object \n",
            " 7   xj1        10414 non-null  object \n",
            " 8   xj4.1      5107 non-null   object \n",
            " 9   xj13.2     4665 non-null   object \n",
            "dtypes: float64(1), object(9)\n",
            "memory usage: 955.4+ KB\n"
          ]
        }
      ],
      "source": [
        "df.info()\n",
        "# инфо может не совпадать!"
      ]
    },
    {
      "cell_type": "markdown",
      "metadata": {
        "id": "qzoFDJ2pm4HB"
      },
      "source": [
        "## Анализ данных"
      ]
    },
    {
      "cell_type": "markdown",
      "metadata": {
        "id": "uCtz5fx6m4HB"
      },
      "source": [
        "### Частоты категориальных колонок"
      ]
    },
    {
      "cell_type": "markdown",
      "metadata": {
        "id": "sJuYfow-m4HC"
      },
      "source": [
        "Познакомимся с рынком труда России. Для этого можно дописать функцию info_count."
      ]
    },
    {
      "cell_type": "code",
      "execution_count": null,
      "metadata": {
        "id": "rmOFTFBpm4HC"
      },
      "outputs": [],
      "source": [
        "def info_count(df, col):\n",
        "    # рассмотрим долю каждой категории в некоторых категориальных колонках\n",
        "    ## группируем таблицу df по колонке col\n",
        "    ## считаем количество значений в каждой категории колонки col\n",
        "    ## делаем сортировку по количеству значений\n",
        "    ## делим сгруппированную таблицу на число без пропущенных значений, чтобы посчитать долю\n",
        "    ## результат записываем в переменную g\n",
        "    \n",
        "    ## g = ## your code here ╰( ͡° ͜ʖ ͡° )つ──☆\n",
        "    \n",
        "    \n",
        "    \n",
        "    ## далее строится график\n",
        "   # g.plot(kind='barh')\n",
        "   # for index, value in enumerate(g):\n",
        "    #    plt.text(value, index, str(round(value*100,1))+'%')\n",
        "    #plt.grid(True)\n",
        "    #plt.show()\n"
      ]
    },
    {
      "cell_type": "code",
      "execution_count": null,
      "metadata": {
        "scrolled": true,
        "id": "zEq6E5enm4HC"
      },
      "outputs": [],
      "source": [
        "##plot_cols = ['town_type', \n",
        "            #'marital_status', \n",
        "           # 'professional_group',\n",
        "           # 'finished_education', \n",
        "            #'age', 'region', 'wage'\n",
        "           # 'sex', \n",
        "           # 'employed', 'industry',\n",
        "          # ]\n",
        "#for col in plot_cols:\n",
        "  #  info_count(df, col)"
      ]
    },
    {
      "cell_type": "markdown",
      "metadata": {
        "id": "DistOX0Gm4HD"
      },
      "source": [
        "### Gender wage gap"
      ]
    },
    {
      "cell_type": "markdown",
      "metadata": {
        "id": "K5PvYR3Pm4HD"
      },
      "source": [
        "Можно создать две подвыборки: одну с мужчинами, чья зарплата меньше или равна 100 тыс. руб, и одну с женщинами, чья зарплата также ниже 100 тыс. руб. "
      ]
    },
    {
      "cell_type": "code",
      "execution_count": null,
      "metadata": {
        "id": "k5ATmLxGm4HD"
      },
      "outputs": [],
      "source": [
        "m_under100k = ## your code here ╰( ͡° ͜ʖ ͡° )つ──☆\n",
        "f_under100k = ## your code here ╰( ͡° ͜ʖ ͡° )つ──☆"
      ]
    },
    {
      "cell_type": "markdown",
      "metadata": {
        "id": "P-vBgCzum4HE"
      },
      "source": [
        "И рассмотреть график. Можно ли говорить о значительной разнице в зарплатах между женщинами и мужчинами? \n",
        "\n",
        "[Подробнее о феномене](https://en.wikipedia.org/wiki/Gender_pay_gap)."
      ]
    },
    {
      "cell_type": "code",
      "execution_count": null,
      "metadata": {
        "id": "1owqtk2ym4HE",
        "outputId": "e2b7a957-d9e6-4220-f414-69fb2574cada"
      },
      "outputs": [
        {
          "data": {
            "image/png": "[encoded data removed]",
            "text/plain": [
              "<Figure size 864x432 with 1 Axes>"
            ]
          },
          "metadata": {},
          "output_type": "display_data"
        }
      ],
      "source": [
        "bins=25\n",
        "maxx=100000\n",
        "\n",
        "f_under100k['wage'].plot(kind='hist', bins=bins, alpha=0.5, label='Ж')\n",
        "m_under100k['wage'].plot(kind='hist', bins=bins, alpha=0.5, label='М')\n",
        "plt.xlim(0,maxx)\n",
        "\n",
        "plt.legend()\n",
        "plt.show()"
      ]
    }
  ],
  "metadata": {
    "kernelspec": {
      "display_name": "Python 3",
      "language": "python",
      "name": "python3"
    },
    "language_info": {
      "codemirror_mode": {
        "name": "ipython",
        "version": 3
      },
      "file_extension": ".py",
      "mimetype": "text/x-python",
      "name": "python",
      "nbconvert_exporter": "python",
      "pygments_lexer": "ipython3",
      "version": "3.8.8"
    },
    "toc": {
      "base_numbering": 1,
      "nav_menu": {},
      "number_sections": true,
      "sideBar": true,
      "skip_h1_title": false,
      "title_cell": "Table of Contents",
      "title_sidebar": "Contents",
      "toc_cell": true,
      "toc_position": {},
      "toc_section_display": true,
      "toc_window_display": true
    },
    "colab": {
      "name": "example project 2.ipynb",
      "provenance": [],
      "include_colab_link": true
    }
  },
  "nbformat": 4,
  "nbformat_minor": 0
}