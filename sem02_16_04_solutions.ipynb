{
  "cells": [
    {
      "cell_type": "markdown",
      "metadata": {
        "id": "view-in-github",
        "colab_type": "text"
      },
      "source": [
        "<a href=\"https://colab.research.google.com/github/vddavydova/colab/blob/main/sem02_16_04_solutions.ipynb\" target=\"_parent\"><img src=\"https://colab.research.google.com/assets/colab-badge.svg\" alt=\"Open In Colab\"/></a>"
      ]
    },
    {
      "cell_type": "markdown",
      "id": "25bec73b",
      "metadata": {
        "id": "25bec73b"
      },
      "source": [
        "## Решения задач:"
      ]
    },
    {
      "cell_type": "markdown",
      "id": "78ceaea1",
      "metadata": {
        "id": "78ceaea1"
      },
      "source": [
        "## Задачи на условные вероятности*\n"
      ]
    },
    {
      "cell_type": "markdown",
      "id": "c5303f69",
      "metadata": {
        "id": "c5303f69"
      },
      "source": [
        "Удав Анатолий любит французские багеты. Длина французского багета равна 1 метру. За один заглот Удав Анатолий заглатывает\n",
        "кусок случайной длины равномерно распределенной на отрезке [0; 1]. Для того, чтобы съесть весь багет удаву потребуется случайное количество N заглотов.\n",
        "Оцените $P(N=2), P(N=3), E(N)$"
      ]
    },
    {
      "cell_type": "code",
      "execution_count": null,
      "id": "468d088c",
      "metadata": {
        "id": "468d088c"
      },
      "outputs": [],
      "source": [
        "import pandas as pd\n",
        "import numpy as np\n",
        "\n",
        "from random import uniform\n",
        "from random import randint\n",
        "\n",
        "uniform(a=0, b=1)\n",
        "\n",
        "randint(a=1, b=10)\n",
        "\n",
        "\n",
        "def esh_baget():\n",
        "    \"\"\"\n",
        "    Симулятор жизни удава Анатолия. \n",
        "    Возвращает число укусов, потребовавшееся, чтобы съесть один батон.\n",
        "    \"\"\"\n",
        "    baget = 1\n",
        "    n_ukusov = 0\n",
        "    while baget > 0:\n",
        "        ukus = uniform(a=0, b=1)\n",
        "        baget -= ukus\n",
        "        n_ukusov += 1\n",
        "    return n_ukusov\n",
        "\n",
        "esh_baget()\n",
        "\n",
        "n_exper = 100000\n",
        "exper = [esh_baget() for i in range(n_exper)]\n",
        "#exper"
      ]
    },
    {
      "cell_type": "code",
      "execution_count": null,
      "id": "730cd6a2-383e-4ca1-82fb-78d0788d1420",
      "metadata": {
        "id": "730cd6a2-383e-4ca1-82fb-78d0788d1420",
        "outputId": "3fe2a7c5-0359-459f-eb4b-c7eeffbb5115"
      },
      "outputs": [
        {
          "data": {
            "text/plain": [
              "0.498"
            ]
          },
          "execution_count": 6,
          "metadata": {},
          "output_type": "execute_result"
        }
      ],
      "source": [
        "# P(N=2) \n",
        "PNeq2_hat = exper.count(2) / n_exper\n",
        "PNeq2_hat"
      ]
    },
    {
      "cell_type": "code",
      "execution_count": null,
      "id": "b12910fe-bc5e-4d38-be9d-091994c4c8f2",
      "metadata": {
        "id": "b12910fe-bc5e-4d38-be9d-091994c4c8f2",
        "outputId": "7f188f20-5abf-43a4-a8e6-919545d45b80"
      },
      "outputs": [
        {
          "data": {
            "text/plain": [
              "0.33434"
            ]
          },
          "execution_count": 7,
          "metadata": {},
          "output_type": "execute_result"
        }
      ],
      "source": [
        "# P(N=3)\n",
        "PNeq3_hat = exper.count(3) / n_exper\n",
        "PNeq3_hat"
      ]
    },
    {
      "cell_type": "code",
      "execution_count": null,
      "id": "d0977fe1-bc3c-40c9-bcce-e5fe221cc107",
      "metadata": {
        "id": "d0977fe1-bc3c-40c9-bcce-e5fe221cc107",
        "outputId": "2f6af9a6-efd1-46a7-fed2-c977050b113b"
      },
      "outputs": [
        {
          "data": {
            "text/plain": [
              "2.72188"
            ]
          },
          "execution_count": 8,
          "metadata": {},
          "output_type": "execute_result"
        }
      ],
      "source": [
        "# E(N)\n",
        "np.mean(exper)"
      ]
    },
    {
      "cell_type": "markdown",
      "id": "6f1b72d8",
      "metadata": {
        "id": "6f1b72d8"
      },
      "source": [
        "Клавдии Леопольдина подбрасывает кубик до первой шестёрки. \n",
        "Обозначим: величина N — число бросков. \n",
        "Событие A — при подбрасываниях выпадала только чётная грань.\n",
        "\n",
        "Оцените $P(N=2), P(N=3), E(N)$\n",
        "\n",
        "Оцените $P(A), P(N=2|A), P(A|N=2), P(A$ OR $N=2), P(A$ AND $N=2)$"
      ]
    },
    {
      "cell_type": "code",
      "execution_count": null,
      "id": "23f42578",
      "metadata": {
        "id": "23f42578",
        "outputId": "b2809bd3-b602-4010-df11-d88d37123326"
      },
      "outputs": [
        {
          "data": {
            "text/plain": [
              "1.4056224899598393"
            ]
          },
          "execution_count": 3,
          "metadata": {},
          "output_type": "execute_result"
        }
      ],
      "source": [
        "from random import randint\n",
        "\n",
        "def bros_kubiki():\n",
        "    \"\"\"\n",
        "    Симулятор жизни гюрзы Клавдии. Подбрасываем кубик до первой шестёрки.\n",
        "    Считаем число бросков и следим, выпадала ли только чётная грань. \n",
        "    Функция возвращает (число бросков, True/False)\n",
        "    \"\"\"\n",
        "    n_broskov = 0\n",
        "    tolko_chet = True\n",
        "    brosok = -1 # вымышленный бросок, чтобы зайти внутрь цикла\n",
        "    while brosok < 6:\n",
        "        brosok = randint(a=1, b=6)\n",
        "        n_broskov += 1\n",
        "        if brosok % 2 == 1:\n",
        "            tolko_chet = False\n",
        "    return (n_broskov, tolko_chet)\n",
        "\n",
        "\n",
        "bros_kubiki()\n",
        "\n",
        "\n",
        "n_exper = 1000\n",
        "exper = [bros_kubiki() for i in range(n_exper)]\n",
        "\n",
        "exper[0:10]\n",
        "\n",
        "exper_df = pd.DataFrame(exper, columns=['chislo_broskov', 'tolko_chet'])\n",
        "\n",
        "exper_df\n",
        "\n",
        "exper_df['chislo_broskov'].mean()\n",
        "\n",
        "exper_A_happened = exper_df.query('tolko_chet == True')\n",
        "exper_A_happened\n",
        "\n",
        "exper_A_happened['chislo_broskov'].mean()\n"
      ]
    },
    {
      "cell_type": "code",
      "execution_count": null,
      "id": "87873628-62c1-4cd5-9fa5-88797f5fa2a1",
      "metadata": {
        "id": "87873628-62c1-4cd5-9fa5-88797f5fa2a1"
      },
      "outputs": [],
      "source": [
        ""
      ]
    }
  ],
  "metadata": {
    "kernelspec": {
      "display_name": "Python 3",
      "language": "python",
      "name": "python3"
    },
    "language_info": {
      "codemirror_mode": {
        "name": "ipython",
        "version": 3
      },
      "file_extension": ".py",
      "mimetype": "text/x-python",
      "name": "python",
      "nbconvert_exporter": "python",
      "pygments_lexer": "ipython3",
      "version": "3.8.8"
    },
    "colab": {
      "name": "sem02_16.04-solutions.ipynb",
      "provenance": [],
      "include_colab_link": true
    }
  },
  "nbformat": 4,
  "nbformat_minor": 5
}