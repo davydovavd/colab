{
  "cells": [
    {
      "cell_type": "markdown",
      "metadata": {
        "id": "view-in-github",
        "colab_type": "text"
      },
      "source": [
        "<a href=\"https://colab.research.google.com/github/vddavydova/colab/blob/main/sem05_numpy.ipynb\" target=\"_parent\"><img src=\"https://colab.research.google.com/assets/colab-badge.svg\" alt=\"Open In Colab\"/></a>"
      ]
    },
    {
      "cell_type": "markdown",
      "metadata": {
        "id": "KOeTaqunsATe"
      },
      "source": [
        "# DAP: class 5_numpy\n"
      ]
    },
    {
      "cell_type": "markdown",
      "metadata": {
        "id": "uP7NV6EjxPoN"
      },
      "source": [
        "___"
      ]
    },
    {
      "cell_type": "markdown",
      "metadata": {
        "id": "WS8wNxBXxPoO"
      },
      "source": [
        "## План на сегодня:\n",
        "\n",
        "* NumPy\n",
        "* joins"
      ]
    },
    {
      "cell_type": "markdown",
      "metadata": {
        "id": "5E-daRcDxPoP"
      },
      "source": [
        "___"
      ]
    },
    {
      "cell_type": "markdown",
      "metadata": {
        "id": "GCTtMn7RSC4k"
      },
      "source": [
        "## NumPy\n",
        "\n",
        "**NumPy** — библиотека языка Python, позволяющая (удобно) работать с многомерными массивами и матрицами. Кроме того, NumPy позволяет векторизовать многие вычисления, имеющие место в машинном обучении.\n",
        "\n",
        " - [numpy](http://www.numpy.org)\n",
        " - [numpy tutorial](http://cs231n.github.io/python-numpy-tutorial/)\n",
        " - [100 numpy exercises](http://www.labri.fr/perso/nrougier/teaching/numpy.100/)\n",
        " \n",
        "Кстати, про NumPy относительно недавно вышла [публикация](https://www.nature.com/articles/s41586-020-2649-2) в Nature."
      ]
    },
    {
      "cell_type": "code",
      "execution_count": null,
      "metadata": {
        "id": "-WoasyadsN_P"
      },
      "outputs": [],
      "source": [
        "!pip3 install numpy \n",
        "# устанавливаем библиотеку, если работаем локально на собственных компьютерах\n",
        "\n",
        "# в Colab-e это не нужно, большинство библиотек тут уже предустановлено"
      ]
    },
    {
      "cell_type": "code",
      "execution_count": null,
      "metadata": {
        "id": "HySnaagqsExm"
      },
      "outputs": [],
      "source": [
        "import numpy as np \n",
        "# переименовываем то, как к нему кратко обращаться, \n",
        "# чтобы использовать его функции и методы (так можно сделать с любым модулем)"
      ]
    },
    {
      "cell_type": "markdown",
      "metadata": {
        "id": "87SGO1xu75Kn"
      },
      "source": [
        "Основным типом данных NumPy является многомерный массив элементов одного типа — [numpy.ndarray](http://docs.scipy.org/doc/numpy-1.10.0/reference/generated/numpy.array.html). Каждый подобный массив имеет несколько *измерений* или *осей* — в частности, вектор (в классическом понимании) является одномерным массивом и имеет 1 ось, матрица является двумерным массивом и имеет 2 оси. Многомерные массивы имеют 3 и более осей (например, тензоры)."
      ]
    },
    {
      "cell_type": "code",
      "execution_count": null,
      "metadata": {
        "ExecuteTime": {
          "end_time": "2020-09-22T15:42:51.842022Z",
          "start_time": "2020-09-22T15:42:51.830534Z"
        },
        "id": "dEPCJPvj75Ko"
      },
      "outputs": [],
      "source": [
        "vec = np.array([1, 2, 3])\n",
        "vec.ndim # количество осей"
      ]
    },
    {
      "cell_type": "code",
      "execution_count": null,
      "metadata": {
        "id": "8lIVuackSBcu"
      },
      "outputs": [],
      "source": [
        "# можно указать желаемый тип\n",
        "vec_str = np.array([10, 100, 10000, 1], dtype=str)\n",
        "print(vec_str)\n",
        "vec_str[0] = 1000000 \n",
        "# заметьте как мы обновляем элемент числом, но в массиве он становится строкой, так как у массива мы указали тип элементов\n",
        "print(vec_str)"
      ]
    },
    {
      "cell_type": "code",
      "execution_count": null,
      "metadata": {
        "ExecuteTime": {
          "end_time": "2020-09-22T15:42:51.848899Z",
          "start_time": "2020-09-22T15:42:51.844661Z"
        },
        "id": "YUod9A9M75Kr"
      },
      "outputs": [],
      "source": [
        "mat = np.array([[1, 2, 3], [4, 5, 6]])\n",
        "mat.ndim"
      ]
    },
    {
      "cell_type": "markdown",
      "metadata": {
        "id": "c6dP6sVO75Ks"
      },
      "source": [
        "Чтобы узнать длину массива по каждой из осей, можно воспользоваться атрибутом shape:"
      ]
    },
    {
      "cell_type": "code",
      "execution_count": null,
      "metadata": {
        "ExecuteTime": {
          "end_time": "2020-09-22T15:42:51.854991Z",
          "start_time": "2020-09-22T15:42:51.851142Z"
        },
        "id": "Acji2K1H75Ku"
      },
      "outputs": [],
      "source": [
        "vec.shape"
      ]
    },
    {
      "cell_type": "markdown",
      "metadata": {
        "id": "XE9AV5fH75Kv"
      },
      "source": [
        "Чтобы узнать тип элементов и их размер в байтах:"
      ]
    },
    {
      "cell_type": "code",
      "execution_count": null,
      "metadata": {
        "ExecuteTime": {
          "end_time": "2020-09-22T15:42:51.865162Z",
          "start_time": "2020-09-22T15:42:51.857049Z"
        },
        "id": "bCetJrj475Kx"
      },
      "outputs": [],
      "source": [
        "mat.dtype.name"
      ]
    },
    {
      "cell_type": "code",
      "execution_count": null,
      "metadata": {
        "ExecuteTime": {
          "end_time": "2020-09-22T15:42:51.871563Z",
          "start_time": "2020-09-22T15:42:51.867576Z"
        },
        "id": "dSiRWiFG75Ky"
      },
      "outputs": [],
      "source": [
        "mat.itemsize"
      ]
    },
    {
      "cell_type": "code",
      "execution_count": null,
      "metadata": {
        "id": "87ZSy_7ySAyb"
      },
      "outputs": [],
      "source": [
        "# многомерные массивы\n",
        "tens = np.array([[[1, 2], [3, 4]], [[1, 2], [3, 4]]]) \n",
        "print(tens, tens.ndim, tens.shape, sep='\\n')"
      ]
    },
    {
      "cell_type": "markdown",
      "metadata": {
        "id": "ASYWBsFc75Kz"
      },
      "source": [
        "#### Создание массивов\n",
        "\n",
        "Есть несколько способов сформировать массив в NumPy:\n",
        "\n",
        "* Передать итерируемый объект в качестве параметра функции array (можно также явно указать тип элементов):"
      ]
    },
    {
      "cell_type": "code",
      "execution_count": null,
      "metadata": {
        "ExecuteTime": {
          "end_time": "2020-09-22T15:42:51.878946Z",
          "start_time": "2020-09-22T15:42:51.874042Z"
        },
        "id": "sIqY0vYU75K0"
      },
      "outputs": [],
      "source": [
        "A = np.array([1, 2, 3])\n",
        "A, A.dtype"
      ]
    },
    {
      "cell_type": "code",
      "execution_count": null,
      "metadata": {
        "ExecuteTime": {
          "end_time": "2020-09-22T15:42:51.887234Z",
          "start_time": "2020-09-22T15:42:51.882620Z"
        },
        "id": "ms0O0p_K75K0"
      },
      "outputs": [],
      "source": [
        "A = np.array([1, 2, 3], dtype=float)\n",
        "A, A.dtype"
      ]
    },
    {
      "cell_type": "markdown",
      "metadata": {
        "id": "hKk_L5-c75K1"
      },
      "source": [
        "* Воспользоваться функциями zeros, ones, empty, identity, full если вам нужен объект специального вида:"
      ]
    },
    {
      "cell_type": "code",
      "execution_count": null,
      "metadata": {
        "ExecuteTime": {
          "end_time": "2020-09-22T15:42:51.893393Z",
          "start_time": "2020-09-22T15:42:51.889888Z"
        },
        "id": "GaQ9LLjn75K2"
      },
      "outputs": [],
      "source": [
        "np.zeros((3,))"
      ]
    },
    {
      "cell_type": "code",
      "execution_count": null,
      "metadata": {
        "ExecuteTime": {
          "end_time": "2020-09-22T15:42:51.898550Z",
          "start_time": "2020-09-22T15:42:51.894863Z"
        },
        "id": "7UAhhrEp75K2"
      },
      "outputs": [],
      "source": [
        "np.ones((3, 4))"
      ]
    },
    {
      "cell_type": "code",
      "execution_count": null,
      "metadata": {
        "id": "J4uWF_WzGjFv"
      },
      "outputs": [],
      "source": [
        "np.empty((2,3)) \n",
        "# заполняется \"какими-то\" числами, предполагается использовать \n",
        "# такой массив, чтобы потом туда вставлять необходимые значения"
      ]
    },
    {
      "cell_type": "code",
      "execution_count": null,
      "metadata": {
        "ExecuteTime": {
          "end_time": "2020-09-22T15:42:51.903530Z",
          "start_time": "2020-09-22T15:42:51.900141Z"
        },
        "id": "awsq8Hhj75K3"
      },
      "outputs": [],
      "source": [
        "np.identity(3)"
      ]
    },
    {
      "cell_type": "code",
      "execution_count": null,
      "metadata": {
        "id": "ItrU9opvGXuO"
      },
      "outputs": [],
      "source": [
        "np.full((2,3,4), 8)"
      ]
    },
    {
      "cell_type": "markdown",
      "metadata": {
        "id": "Se-Oj-UU75K4"
      },
      "source": [
        "* Воспользоваться функциями arange (в качестве параметров принимает левую и правую границы последовательности и **шаг**) и linspace (принимает левую и правую границы и **количество элементов**) для формирования последовательностей:"
      ]
    },
    {
      "cell_type": "code",
      "execution_count": null,
      "metadata": {
        "ExecuteTime": {
          "end_time": "2020-09-22T15:42:51.908583Z",
          "start_time": "2020-09-22T15:42:51.905271Z"
        },
        "id": "i48B8JuL75K4"
      },
      "outputs": [],
      "source": [
        "np.arange(2, 20, 3) # аналогично стандартной функции range python, правая граница не включается"
      ]
    },
    {
      "cell_type": "code",
      "execution_count": null,
      "metadata": {
        "ExecuteTime": {
          "end_time": "2020-09-22T15:42:51.913731Z",
          "start_time": "2020-09-22T15:42:51.910114Z"
        },
        "id": "VK1zHoQA75K6"
      },
      "outputs": [],
      "source": [
        "np.arange(2.5, 8.7, 0.9) # но может работать и с вещественными числами"
      ]
    },
    {
      "cell_type": "code",
      "execution_count": null,
      "metadata": {
        "ExecuteTime": {
          "end_time": "2020-09-22T15:42:51.918947Z",
          "start_time": "2020-09-22T15:42:51.915578Z"
        },
        "id": "ZyAmksPm75K6"
      },
      "outputs": [],
      "source": [
        "np.linspace(2, 18, 14) # правая граница включается (по умолчанию)"
      ]
    },
    {
      "cell_type": "markdown",
      "metadata": {
        "id": "fbVS5Zjh75K7"
      },
      "source": [
        "* Изменить размеры существующего массива с помощью reshape (при этом количество элементов должно оставаться неизменным):"
      ]
    },
    {
      "cell_type": "code",
      "execution_count": null,
      "metadata": {
        "ExecuteTime": {
          "end_time": "2020-09-22T15:42:51.923959Z",
          "start_time": "2020-09-22T15:42:51.920505Z"
        },
        "id": "8uEafzkx75K8"
      },
      "outputs": [],
      "source": [
        "np.arange(9).reshape(3, 3)"
      ]
    },
    {
      "cell_type": "markdown",
      "metadata": {
        "id": "w6c0T5QM75K8"
      },
      "source": [
        "Вместо значения длины массива по одному из измерений можно указать -1 — в этом случае значение будет рассчитано автоматически:"
      ]
    },
    {
      "cell_type": "code",
      "execution_count": null,
      "metadata": {
        "ExecuteTime": {
          "end_time": "2020-09-22T15:42:51.929133Z",
          "start_time": "2020-09-22T15:42:51.925453Z"
        },
        "id": "h-PmgvOK75K9",
        "scrolled": false
      },
      "outputs": [],
      "source": [
        "np.arange(8).reshape(2, -1)"
      ]
    },
    {
      "cell_type": "markdown",
      "metadata": {
        "id": "bhZdFcvk75K-"
      },
      "source": [
        "* Транспонировать существующий массив:"
      ]
    },
    {
      "cell_type": "code",
      "execution_count": null,
      "metadata": {
        "ExecuteTime": {
          "end_time": "2020-09-22T15:42:51.933803Z",
          "start_time": "2020-09-22T15:42:51.930599Z"
        },
        "id": "KJT0ZBNu75K-"
      },
      "outputs": [],
      "source": [
        "C = np.arange(6).reshape(2, -1)\n",
        "C"
      ]
    },
    {
      "cell_type": "code",
      "execution_count": null,
      "metadata": {
        "ExecuteTime": {
          "end_time": "2020-09-22T15:42:51.938143Z",
          "start_time": "2020-09-22T15:42:51.935159Z"
        },
        "id": "NRVpdWnv75K_"
      },
      "outputs": [],
      "source": [
        "C.T"
      ]
    },
    {
      "cell_type": "markdown",
      "metadata": {
        "id": "T_9bu8uz75K_"
      },
      "source": [
        "* Повторить существующий массив:"
      ]
    },
    {
      "cell_type": "code",
      "execution_count": null,
      "metadata": {
        "ExecuteTime": {
          "end_time": "2020-09-22T15:42:51.943090Z",
          "start_time": "2020-09-22T15:42:51.939583Z"
        },
        "id": "teuazoqO75LA"
      },
      "outputs": [],
      "source": [
        "a = np.arange(3)\n",
        "np.tile(a, (2, 2))"
      ]
    },
    {
      "cell_type": "code",
      "execution_count": null,
      "metadata": {
        "ExecuteTime": {
          "end_time": "2020-09-22T15:42:51.947733Z",
          "start_time": "2020-09-22T15:42:51.944564Z"
        },
        "id": "MXUjzhs275LA"
      },
      "outputs": [],
      "source": [
        "np.tile(a, (4, 1))"
      ]
    },
    {
      "cell_type": "markdown",
      "metadata": {
        "id": "seggaOv4F95f"
      },
      "source": [
        "- Превратить многомерный массив в вектор:"
      ]
    },
    {
      "cell_type": "code",
      "execution_count": null,
      "metadata": {
        "id": "LJDq6quqjnoo"
      },
      "outputs": [],
      "source": [
        "tens = np.arange(8).reshape(2,2,2)\n",
        "line = tens.flatten()\n",
        "tens.shape, line, line.shape"
      ]
    },
    {
      "cell_type": "markdown",
      "metadata": {
        "id": "x8CHDyJtecMB"
      },
      "source": [
        "* С помощью функции ```np.logspace``` создать массив из равноудаленных элементов в логарифмической шкале"
      ]
    },
    {
      "cell_type": "code",
      "execution_count": null,
      "metadata": {
        "id": "C49be3ueeci3"
      },
      "outputs": [],
      "source": [
        "np.logspace(2, 5, num=10, base=2, dtype=int) # 10 ~равноудаленных целых чисел от 2^2 до 5^2"
      ]
    },
    {
      "cell_type": "markdown",
      "metadata": {
        "id": "DRL6CfrNfLUq"
      },
      "source": [
        "* С помощью функции ``np.linspace`` создать массив из равноудаленных элементов в линейной шкале"
      ]
    },
    {
      "cell_type": "code",
      "execution_count": null,
      "metadata": {
        "id": "f2Bk2YCRfL__"
      },
      "outputs": [],
      "source": [
        "np.linspace(10, 100, 3)"
      ]
    },
    {
      "cell_type": "markdown",
      "metadata": {
        "id": "0irRkXWjgXrO"
      },
      "source": [
        "#### Random\n",
        "[Сабмодуль ```np.random```](https://docs.scipy.org/doc/numpy-1.14.1/reference/routines.random.html) позволяет создавать массивы с элементами из вероятностных распределений. Создадим следующие массивы:\n",
        "1. Массив из 10 случайных чисел из $U([0,1))$ (равномерное распределение на полуотрезке [0, 1))\n",
        "2. Массив 3х5 случайных чисел из $\\mathcal{N}(0,1)$ (стандартное нормальное распределение)\n",
        "3. Массив из случайных целых чисел от 0 до 10 размером 15\n",
        "4. Массив из случайной подвыборки чисел от 0 до 20 размером 15 (то же что 3, но без повторений)\n"
      ]
    },
    {
      "cell_type": "code",
      "execution_count": null,
      "metadata": {
        "id": "1G4Car37gYVx"
      },
      "outputs": [],
      "source": [
        "np.random.random((10,))"
      ]
    },
    {
      "cell_type": "code",
      "execution_count": null,
      "metadata": {
        "id": "ILQ2OuSmhnR_"
      },
      "outputs": [],
      "source": [
        "np.random.randn(3, 5)"
      ]
    },
    {
      "cell_type": "code",
      "execution_count": null,
      "metadata": {
        "id": "MecrbyDRhnJp"
      },
      "outputs": [],
      "source": [
        "np.random.randint(0, 10, size=(15,))"
      ]
    },
    {
      "cell_type": "code",
      "execution_count": null,
      "metadata": {
        "id": "9Y8CNIzLhm-e"
      },
      "outputs": [],
      "source": [
        "np.random.choice(np.arange(0, 20), size=(15,), replace=False)"
      ]
    },
    {
      "cell_type": "markdown",
      "metadata": {
        "id": "GF_jUmBAJaIH"
      },
      "source": [
        "### Обработка массивов"
      ]
    },
    {
      "cell_type": "markdown",
      "metadata": {
        "id": "HKt5nUDk_nmO"
      },
      "source": [
        "С помощью `np.where` для случайного вектора вернем вектор, где отрицательные элементы заменены 0."
      ]
    },
    {
      "cell_type": "code",
      "execution_count": null,
      "metadata": {
        "id": "iLV3Lj1N_4Yk"
      },
      "outputs": [],
      "source": [
        "a = np.random.randn(5) * 4 - 1\n",
        "a, np.where(a > 0, a, 0) \n",
        "# также третьим аргументом можно подать массив того же размера, \n",
        "# тогда заменятся элементы не соответсвующие условию будут заменяться соответствующими занчениями"
      ]
    },
    {
      "cell_type": "markdown",
      "metadata": {
        "id": "JoV0STQ7_4yo"
      },
      "source": [
        "С помощью `np.clip` можно ограничить значения массива (снизу и/или сверху):"
      ]
    },
    {
      "cell_type": "code",
      "execution_count": null,
      "metadata": {
        "id": "Lq2qD0iYAnv3"
      },
      "outputs": [],
      "source": [
        "np.clip(a, 0, 1)"
      ]
    },
    {
      "cell_type": "markdown",
      "metadata": {
        "id": "go76xR1jBlI_"
      },
      "source": [
        "С помощью `np.vstack` и `np.hstack` можно \"стакать\" (stack - укладывать/накладывать друг на друга) массивы по вертикали и по горизонтали:"
      ]
    },
    {
      "cell_type": "code",
      "execution_count": null,
      "metadata": {
        "id": "Xh2KyYIRB7ph"
      },
      "outputs": [],
      "source": [
        "a, b = np.full((2, 3), 1), np.full((3, 2), 2)\n",
        "# тут важно чтобы одна из осей по которой мы стакаем у обоих массивов была одинаковая\n",
        "print(np.vstack([a, b.T]), '\\n')\n",
        "print(np.hstack([a.T, b]))"
      ]
    },
    {
      "cell_type": "markdown",
      "metadata": {
        "id": "z6AFui8FB8Os"
      },
      "source": [
        "С помощью `np.unique` можно составить массив, в котором первый столбец - уникальные значения вектора, а второй столбец соответсвует тому сколько раз соответственный элемент первого столбца встретился в векторе."
      ]
    },
    {
      "cell_type": "code",
      "execution_count": null,
      "metadata": {
        "id": "1utpdSaQCd2i"
      },
      "outputs": [],
      "source": [
        "a = np.random.randint(-2, 2, 20)\n",
        "print(a, '\\n')\n",
        "elements, frequency = np.unique(a, return_counts=True)\n",
        "print(elements, '\\n')\n",
        "print(frequency)"
      ]
    },
    {
      "cell_type": "markdown",
      "metadata": {
        "id": "pVVxPQc175LA"
      },
      "source": [
        "#### Базовые операции\n",
        "\n",
        "* Базовые арифметические операции над массивами выполняются поэлементно:"
      ]
    },
    {
      "cell_type": "code",
      "execution_count": null,
      "metadata": {
        "ExecuteTime": {
          "end_time": "2020-09-22T15:42:51.951681Z",
          "start_time": "2020-09-22T15:42:51.949257Z"
        },
        "id": "8v22zgh075LB"
      },
      "outputs": [],
      "source": [
        "A = np.arange(9).reshape(3, 3)\n",
        "B = np.arange(1, 10).reshape(3, 3)"
      ]
    },
    {
      "cell_type": "code",
      "execution_count": null,
      "metadata": {
        "ExecuteTime": {
          "end_time": "2020-09-22T15:42:51.957595Z",
          "start_time": "2020-09-22T15:42:51.954043Z"
        },
        "id": "-oSMH3BM75LB"
      },
      "outputs": [],
      "source": [
        "print(A)\n",
        "print(B)"
      ]
    },
    {
      "cell_type": "code",
      "execution_count": null,
      "metadata": {
        "ExecuteTime": {
          "end_time": "2020-09-22T15:42:51.964000Z",
          "start_time": "2020-09-22T15:42:51.960861Z"
        },
        "id": "JZExDGGe75LB"
      },
      "outputs": [],
      "source": [
        "A + B"
      ]
    },
    {
      "cell_type": "code",
      "execution_count": null,
      "metadata": {
        "ExecuteTime": {
          "end_time": "2020-09-22T15:42:51.969202Z",
          "start_time": "2020-09-22T15:42:51.966077Z"
        },
        "id": "BZ-NOFzw75LC"
      },
      "outputs": [],
      "source": [
        "A * 1.0 / B"
      ]
    },
    {
      "cell_type": "code",
      "execution_count": null,
      "metadata": {
        "ExecuteTime": {
          "end_time": "2020-09-22T15:42:51.974197Z",
          "start_time": "2020-09-22T15:42:51.970594Z"
        },
        "id": "XX451m3d75LC"
      },
      "outputs": [],
      "source": [
        "A + 1"
      ]
    },
    {
      "cell_type": "code",
      "execution_count": null,
      "metadata": {
        "ExecuteTime": {
          "end_time": "2020-09-22T15:42:51.978713Z",
          "start_time": "2020-09-22T15:42:51.975679Z"
        },
        "id": "6rhj3dLH75LD"
      },
      "outputs": [],
      "source": [
        "3 * A"
      ]
    },
    {
      "cell_type": "code",
      "execution_count": null,
      "metadata": {
        "ExecuteTime": {
          "end_time": "2020-09-22T15:42:51.983697Z",
          "start_time": "2020-09-22T15:42:51.980254Z"
        },
        "id": "m__lnlAm75LD"
      },
      "outputs": [],
      "source": [
        "A ** 2"
      ]
    },
    {
      "cell_type": "markdown",
      "metadata": {
        "id": "Lfj2odFZ75LD"
      },
      "source": [
        "Отдельно обратим внимание на то, что умножение массивов также является **поэлементным**, а не матричным:"
      ]
    },
    {
      "cell_type": "code",
      "execution_count": null,
      "metadata": {
        "ExecuteTime": {
          "end_time": "2020-09-22T15:42:51.990640Z",
          "start_time": "2020-09-22T15:42:51.985073Z"
        },
        "id": "70jnWbF675LE"
      },
      "outputs": [],
      "source": [
        "A * B"
      ]
    },
    {
      "cell_type": "markdown",
      "metadata": {
        "id": "9OuBl7dt75LE"
      },
      "source": [
        "Для выполнения матричного умножения необходимо использовать функцию dot:"
      ]
    },
    {
      "cell_type": "code",
      "execution_count": null,
      "metadata": {
        "ExecuteTime": {
          "end_time": "2020-09-22T15:42:51.995038Z",
          "start_time": "2020-09-22T15:42:51.991988Z"
        },
        "id": "RJ5kVHYd75LE"
      },
      "outputs": [],
      "source": [
        "A.dot(B)"
      ]
    },
    {
      "cell_type": "markdown",
      "metadata": {
        "id": "uJWhaRMW75LF"
      },
      "source": [
        "Для умножения векторов или матриц можно также использовать оператор `@`:"
      ]
    },
    {
      "cell_type": "code",
      "execution_count": null,
      "metadata": {
        "ExecuteTime": {
          "end_time": "2020-09-22T15:42:51.999446Z",
          "start_time": "2020-09-22T15:42:51.996579Z"
        },
        "id": "6DJoolBC75LF"
      },
      "outputs": [],
      "source": [
        "A @ B"
      ]
    },
    {
      "cell_type": "code",
      "execution_count": null,
      "metadata": {
        "ExecuteTime": {
          "end_time": "2020-09-22T15:42:52.004093Z",
          "start_time": "2020-09-22T15:42:52.000788Z"
        },
        "id": "3zgK8XiK75LF"
      },
      "outputs": [],
      "source": [
        "np.array([1, 2, 3, 4]) @ np.array([1, 1, 1, 1])"
      ]
    },
    {
      "cell_type": "markdown",
      "metadata": {
        "id": "UbAPcV8a75LG"
      },
      "source": [
        "Поскольку операции выполняются поэлементно, операнды бинарных операций должны иметь одинаковый размер. Тем не менее, операция может быть корректно выполнена, если размеры операндов таковы, что они могут быть расширены до одинаковых размеров. \n",
        "\n",
        "Данная возможность называется [broadcasting](http://www.scipy-lectures.org/intro/numpy/operations.html#broadcasting):\n",
        "\n",
        "\n",
        "![](https://jakevdp.github.io/PythonDataScienceHandbook/figures/02.05-broadcasting.png)"
      ]
    },
    {
      "cell_type": "code",
      "execution_count": null,
      "metadata": {
        "ExecuteTime": {
          "end_time": "2020-09-22T15:42:52.011906Z",
          "start_time": "2020-09-22T15:42:52.005614Z"
        },
        "id": "e5VxkRdO75LG"
      },
      "outputs": [],
      "source": [
        "np.tile(np.arange(0, 40, 10), (3, 1)).T + np.array([0, 1, 2])"
      ]
    },
    {
      "cell_type": "markdown",
      "metadata": {
        "id": "ChUHx1qU75LH"
      },
      "source": [
        "* Некоторые операции над массивами (например, вычисления минимума, максимума, суммы элементов) выполняются над всеми элементами вне зависимости от формы массива, однако при указании оси выполняются вдоль нее (например, для нахождения максимума каждой строки или каждого столбца):"
      ]
    },
    {
      "cell_type": "code",
      "execution_count": null,
      "metadata": {
        "ExecuteTime": {
          "end_time": "2020-09-22T15:42:52.023902Z",
          "start_time": "2020-09-22T15:42:52.020457Z"
        },
        "id": "YwO7rOiw75LH"
      },
      "outputs": [],
      "source": [
        "A"
      ]
    },
    {
      "cell_type": "code",
      "execution_count": null,
      "metadata": {
        "ExecuteTime": {
          "end_time": "2020-09-22T15:42:52.028517Z",
          "start_time": "2020-09-22T15:42:52.025419Z"
        },
        "id": "jCZRmCZp75LI"
      },
      "outputs": [],
      "source": [
        "A.min()"
      ]
    },
    {
      "cell_type": "code",
      "execution_count": null,
      "metadata": {
        "ExecuteTime": {
          "end_time": "2020-09-22T15:42:52.033907Z",
          "start_time": "2020-09-22T15:42:52.030567Z"
        },
        "id": "r_9uERte75LI"
      },
      "outputs": [],
      "source": [
        "A.max(axis=1)"
      ]
    },
    {
      "cell_type": "code",
      "execution_count": null,
      "metadata": {
        "ExecuteTime": {
          "end_time": "2020-09-22T15:42:52.047824Z",
          "start_time": "2020-09-22T15:42:52.035571Z"
        },
        "id": "s8nHSukn75LI"
      },
      "outputs": [],
      "source": [
        "A.sum(axis=1)"
      ]
    },
    {
      "cell_type": "markdown",
      "metadata": {
        "id": "osY_xK_sSwcZ"
      },
      "source": [
        "Понять и научиться классно использовать эту главную особенность библиотекм - искусство! И только с опытом (сыном ошибок трудных) можно овладеть данным навыком. "
      ]
    },
    {
      "cell_type": "markdown",
      "metadata": {
        "id": "zs5oTTDY75LJ"
      },
      "source": [
        "#### Индексация\n",
        "\n",
        "Для доступа к элементам может использоваться [много различных способов](http://docs.scipy.org/doc/numpy/reference/arrays.indexing.html), рассмотрим основные.\n",
        "\n",
        "* Для индексации могут использоваться конкретные значения индексов и срезы (slice), как и в стандартных типах Python. Для многомерных массивов индексы для различных осей разделяются запятой. Если для многомерного массива указаны индексы не для всех измерений, недостающие заполняются полным срезом (:)."
      ]
    },
    {
      "cell_type": "code",
      "execution_count": null,
      "metadata": {
        "ExecuteTime": {
          "end_time": "2020-09-22T15:42:52.053659Z",
          "start_time": "2020-09-22T15:42:52.049560Z"
        },
        "id": "k06ras-o75LK"
      },
      "outputs": [],
      "source": [
        "a = np.arange(10)\n",
        "a"
      ]
    },
    {
      "cell_type": "code",
      "execution_count": null,
      "metadata": {
        "ExecuteTime": {
          "end_time": "2020-09-22T15:42:52.061600Z",
          "start_time": "2020-09-22T15:42:52.055403Z"
        },
        "id": "KFFlpqy175LL"
      },
      "outputs": [],
      "source": [
        "a[2:5]"
      ]
    },
    {
      "cell_type": "code",
      "execution_count": null,
      "metadata": {
        "ExecuteTime": {
          "end_time": "2020-09-22T15:42:52.067935Z",
          "start_time": "2020-09-22T15:42:52.063842Z"
        },
        "id": "Rhg8C5dm75LM"
      },
      "outputs": [],
      "source": [
        "a[3:8:2]"
      ]
    },
    {
      "cell_type": "code",
      "execution_count": null,
      "metadata": {
        "ExecuteTime": {
          "end_time": "2020-09-22T15:42:52.074833Z",
          "start_time": "2020-09-22T15:42:52.070054Z"
        },
        "id": "6eujc-wc75LM"
      },
      "outputs": [],
      "source": [
        "A = np.arange(81).reshape(9, -1)\n",
        "A"
      ]
    },
    {
      "cell_type": "code",
      "execution_count": null,
      "metadata": {
        "ExecuteTime": {
          "end_time": "2020-09-22T15:42:52.081227Z",
          "start_time": "2020-09-22T15:42:52.077236Z"
        },
        "id": "uhklazih75LM"
      },
      "outputs": [],
      "source": [
        "A[2:4]"
      ]
    },
    {
      "cell_type": "code",
      "execution_count": null,
      "metadata": {
        "ExecuteTime": {
          "end_time": "2020-09-22T15:42:52.087442Z",
          "start_time": "2020-09-22T15:42:52.083387Z"
        },
        "id": "ti3p3KT975LN"
      },
      "outputs": [],
      "source": [
        "A[:, 2:4]"
      ]
    },
    {
      "cell_type": "code",
      "execution_count": null,
      "metadata": {
        "ExecuteTime": {
          "end_time": "2020-09-22T15:42:52.093678Z",
          "start_time": "2020-09-22T15:42:52.089478Z"
        },
        "id": "ZXNq_NrG75LN"
      },
      "outputs": [],
      "source": [
        "A[2:4, 2:4]"
      ]
    },
    {
      "cell_type": "code",
      "execution_count": null,
      "metadata": {
        "ExecuteTime": {
          "end_time": "2020-09-22T15:42:52.099303Z",
          "start_time": "2020-09-22T15:42:52.095614Z"
        },
        "id": "I-0mQe2A75LO"
      },
      "outputs": [],
      "source": [
        "A[-1]"
      ]
    },
    {
      "cell_type": "markdown",
      "metadata": {
        "id": "h-Tcvfwi75LP"
      },
      "source": [
        "* Также может использоваться индексация при помощи списков индексов (по каждой из осей):"
      ]
    },
    {
      "cell_type": "code",
      "execution_count": null,
      "metadata": {
        "ExecuteTime": {
          "end_time": "2020-09-22T15:42:52.108235Z",
          "start_time": "2020-09-22T15:42:52.101451Z"
        },
        "id": "kugMnaHu75LP"
      },
      "outputs": [],
      "source": [
        "A = np.arange(81).reshape(9, -1)\n",
        "A"
      ]
    },
    {
      "cell_type": "code",
      "execution_count": null,
      "metadata": {
        "ExecuteTime": {
          "end_time": "2020-09-22T15:42:52.116476Z",
          "start_time": "2020-09-22T15:42:52.110224Z"
        },
        "id": "sHjojU_v75LQ"
      },
      "outputs": [],
      "source": [
        "A[[2, 4, 5], [0, 1, 3]]"
      ]
    },
    {
      "cell_type": "markdown",
      "metadata": {
        "id": "WVR_APRm75LQ"
      },
      "source": [
        "* Может применяться логическая индексация (при помощи логических массивов):"
      ]
    },
    {
      "cell_type": "code",
      "execution_count": null,
      "metadata": {
        "ExecuteTime": {
          "end_time": "2020-09-22T15:42:52.121334Z",
          "start_time": "2020-09-22T15:42:52.117919Z"
        },
        "id": "gU51jjla75LQ"
      },
      "outputs": [],
      "source": [
        "A = np.arange(11)\n",
        "A"
      ]
    },
    {
      "cell_type": "code",
      "execution_count": null,
      "metadata": {
        "ExecuteTime": {
          "end_time": "2020-09-22T15:42:52.127505Z",
          "start_time": "2020-09-22T15:42:52.123314Z"
        },
        "id": "Rgo0dyey75LQ"
      },
      "outputs": [],
      "source": [
        "A[A % 5 != 3]"
      ]
    },
    {
      "cell_type": "code",
      "execution_count": null,
      "metadata": {
        "ExecuteTime": {
          "end_time": "2020-09-22T15:42:52.134183Z",
          "start_time": "2020-09-22T15:42:52.129853Z"
        },
        "id": "tt2ekIWc75LR"
      },
      "outputs": [],
      "source": [
        "A[np.logical_and(A != 7, A % 5 != 3)] # также можно использовать логические операции"
      ]
    },
    {
      "cell_type": "markdown",
      "metadata": {
        "id": "PTsnlnv575LR"
      },
      "source": [
        "#### Зачем?\n",
        "\n",
        "Зачем необходимо использовать NumPy, если существуют стандартные списки/кортежи и циклы?\n",
        "\n",
        "Причина заключается в скорости работы. Попробуем посчитать скалярное произведение 2 больших векторов:"
      ]
    },
    {
      "cell_type": "code",
      "execution_count": null,
      "metadata": {
        "ExecuteTime": {
          "end_time": "2020-09-22T15:42:53.481301Z",
          "start_time": "2020-09-22T15:42:52.136072Z"
        },
        "id": "OCaSONXg75LR"
      },
      "outputs": [],
      "source": [
        "SIZE = 10000000\n",
        "\n",
        "A_quick_arr = np.random.normal(size = (SIZE,))\n",
        "B_quick_arr = np.random.normal(size = (SIZE,))\n",
        "\n",
        "A_slow_list, B_slow_list = list(A_quick_arr), list(B_quick_arr)"
      ]
    },
    {
      "cell_type": "code",
      "execution_count": null,
      "metadata": {
        "ExecuteTime": {
          "end_time": "2020-09-22T15:42:56.303195Z",
          "start_time": "2020-09-22T15:42:53.483058Z"
        },
        "id": "t1yQplCM75LS"
      },
      "outputs": [],
      "source": [
        "%%time\n",
        "ans = 0\n",
        "for i in range(len(A_slow_list)):\n",
        "    ans += A_slow_list[i] * B_slow_list[i]"
      ]
    },
    {
      "cell_type": "code",
      "execution_count": null,
      "metadata": {
        "ExecuteTime": {
          "end_time": "2020-09-22T15:42:58.772193Z",
          "start_time": "2020-09-22T15:42:56.304960Z"
        },
        "id": "6tRnUZNl75LS"
      },
      "outputs": [],
      "source": [
        "%%time\n",
        "ans = sum([A_slow_list[i] * B_slow_list[i] for i in range(SIZE)])"
      ]
    },
    {
      "cell_type": "code",
      "execution_count": null,
      "metadata": {
        "ExecuteTime": {
          "end_time": "2020-09-22T15:42:58.804583Z",
          "start_time": "2020-09-22T15:42:58.773657Z"
        },
        "id": "y2IVNeeD75LS"
      },
      "outputs": [],
      "source": [
        "%%time\n",
        "ans = np.sum(A_quick_arr * B_quick_arr)"
      ]
    },
    {
      "cell_type": "code",
      "execution_count": null,
      "metadata": {
        "ExecuteTime": {
          "end_time": "2020-09-22T15:42:58.818620Z",
          "start_time": "2020-09-22T15:42:58.807193Z"
        },
        "id": "_-6p6nqQ75LT"
      },
      "outputs": [],
      "source": [
        "%%time\n",
        "ans = A_quick_arr.dot(B_quick_arr)"
      ]
    },
    {
      "cell_type": "markdown",
      "metadata": {
        "id": "V2DOHp5n75LT"
      },
      "source": [
        "NumPy работает быстро по нескольким причинам:\n",
        "* Массивы хранятся в непрерывном участке памяти, а все элементы имеют один и тот же тип\n",
        "* Для вычислений по возможности используются библиотеки линейной алгебры вроде BLAS\n",
        "\n",
        "Посмотреть, какая библиотека используется у вас, можно в конфигурации NumPy:"
      ]
    },
    {
      "cell_type": "code",
      "execution_count": null,
      "metadata": {
        "ExecuteTime": {
          "end_time": "2020-09-22T15:42:58.983297Z",
          "start_time": "2020-09-22T15:42:58.820808Z"
        },
        "id": "_mlR_AQ075LU",
        "scrolled": false
      },
      "outputs": [],
      "source": [
        "print(np.show_config())"
      ]
    },
    {
      "cell_type": "markdown",
      "metadata": {
        "id": "busnIWTe75LU"
      },
      "source": [
        "### Примеры векторизации вычислений на NumPy\n"
      ]
    },
    {
      "cell_type": "markdown",
      "metadata": {
        "id": "TGc-ajUC75LU"
      },
      "source": [
        "Разберём несколько задач (из [100 numpy exercises](http://www.labri.fr/perso/nrougier/teaching/numpy.100/)), где NumPy может существенно ускорить вычисления и упростить код."
      ]
    },
    {
      "cell_type": "markdown",
      "metadata": {
        "id": "MXJxRZpX75LU"
      },
      "source": [
        "Дан четырёхмерный массив. Как получить двумерный массив, в котором элемент с индексами $(i, j)$ содержит сумму всех элементов исходного массива, у которых первые два индекса — это $(i, j)$?"
      ]
    },
    {
      "cell_type": "code",
      "execution_count": null,
      "metadata": {
        "ExecuteTime": {
          "end_time": "2020-09-22T15:42:58.988860Z",
          "start_time": "2020-09-22T15:42:58.985170Z"
        },
        "id": "Azy7PnZ-75LV"
      },
      "outputs": [],
      "source": [
        "A = np.random.randint(0,1000,(2,5,20,25))\n",
        "res = A.reshape(A.shape[:-2] + (-1,)).sum(axis=-1)\n",
        "print(res)"
      ]
    },
    {
      "cell_type": "markdown",
      "metadata": {
        "id": "YNYv02-i75LV"
      },
      "source": [
        "Даны одномерные массивы A и B. Элементы массива B принимают значения от 0 до `len(A) - 1`. Требуется прибавить единицу ко всем элементам A, чьи индексы записаны в B. Если индекс встречается в B несколько раз, то надо прибавить единицу для каждого такого вхождения."
      ]
    },
    {
      "cell_type": "code",
      "execution_count": null,
      "metadata": {
        "ExecuteTime": {
          "end_time": "2020-09-22T15:42:59.001625Z",
          "start_time": "2020-09-22T15:42:58.990334Z"
        },
        "id": "dCLI6GrT75LV"
      },
      "outputs": [],
      "source": [
        "A = np.ones(10)\n",
        "B = np.random.randint(0,len(A),20)\n",
        "print(A)\n",
        "print(B)\n",
        "A += np.bincount(B, minlength=len(A))\n",
        "print(A)"
      ]
    },
    {
      "cell_type": "markdown",
      "metadata": {
        "id": "OkPdV6fF75LW"
      },
      "source": [
        "Даны одномерный массив A и число n. Вычислите массив B, в котором i-й элемент равен среднему значению элементов с i-го по (i+n-1)-й в массиве A."
      ]
    },
    {
      "cell_type": "code",
      "execution_count": null,
      "metadata": {
        "ExecuteTime": {
          "end_time": "2020-09-22T15:42:59.009414Z",
          "start_time": "2020-09-22T15:42:59.004125Z"
        },
        "id": "WddNwx7l75LW",
        "scrolled": false
      },
      "outputs": [],
      "source": [
        "def moving_average(Z, n=3) :\n",
        "    ret = np.cumsum(Z, dtype=float)\n",
        "    ret[n:] = ret[n:] - ret[:-n]\n",
        "    return ret[n - 1:] / n\n",
        "A = np.random.randint(0, 10, 20)\n",
        "print(A)\n",
        "print(moving_average(A, n=3))"
      ]
    },
    {
      "cell_type": "markdown",
      "metadata": {
        "id": "9VJj0PxcxPo8"
      },
      "source": [
        "### Про джойны\n",
        "\n",
        "Таблица - совокупность из матрицы, названий строк (индексы), названий колонок "
      ]
    },
    {
      "cell_type": "code",
      "execution_count": null,
      "metadata": {
        "id": "q4rtfS9IxPo9"
      },
      "outputs": [],
      "source": [
        "X = np.arange(15)\n",
        "X.resize((5,3))\n",
        "df = pd.DataFrame(X)\n",
        "df.columns = ['a', 'b', 'c']\n",
        "df.index = ['z', 'y', 'x', 'x', 'v']\n",
        "df"
      ]
    },
    {
      "cell_type": "code",
      "execution_count": null,
      "metadata": {
        "id": "ViUWvYPHxPo9"
      },
      "outputs": [],
      "source": [
        "df.values"
      ]
    },
    {
      "cell_type": "code",
      "execution_count": null,
      "metadata": {
        "id": "kIvjizvOxPo9"
      },
      "outputs": [],
      "source": [
        "df.index.values"
      ]
    },
    {
      "cell_type": "code",
      "execution_count": null,
      "metadata": {
        "id": "gW-xQKoZxPo-"
      },
      "outputs": [],
      "source": [
        "df.columns.values"
      ]
    },
    {
      "cell_type": "code",
      "execution_count": null,
      "metadata": {
        "id": "DdHJcT_xxPo-"
      },
      "outputs": [],
      "source": [
        "dg = pd.DataFrame({'d': [5,5,6], 'e': [4,6,6]})\n",
        "dg.index = ['x','u','x']\n",
        "dg"
      ]
    },
    {
      "cell_type": "markdown",
      "metadata": {
        "id": "zXW1vFoBxPo_"
      },
      "source": [
        "![joins.png](data:image/png;base64,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)"
      ]
    },
    {
      "cell_type": "markdown",
      "metadata": {
        "id": "gx5eXl0oxPo_"
      },
      "source": [
        "A = {1,2}\n",
        "B = {3,4,5}\n",
        "A x B = {(1,3),(1,4),(1,5), (2,3), ...}"
      ]
    },
    {
      "cell_type": "code",
      "execution_count": null,
      "metadata": {
        "id": "106aooNBxPo_"
      },
      "outputs": [],
      "source": [
        "# Если индексы встречаются одинаковые, \n",
        "# он будет искать декартово произведение\n",
        "df.join(dg) # left join"
      ]
    },
    {
      "cell_type": "code",
      "execution_count": null,
      "metadata": {
        "scrolled": true,
        "id": "K1N7I226xPpA"
      },
      "outputs": [],
      "source": [
        "df.join(dg, how='right') # right join"
      ]
    },
    {
      "cell_type": "code",
      "execution_count": null,
      "metadata": {
        "scrolled": true,
        "id": "3qwXY9SCxPpA"
      },
      "outputs": [],
      "source": [
        "df.join(dg, how='inner')"
      ]
    },
    {
      "cell_type": "code",
      "execution_count": null,
      "metadata": {
        "id": "38qHBbNYxPpA"
      },
      "outputs": [],
      "source": [
        "df.join(dg, how='outer')"
      ]
    },
    {
      "cell_type": "markdown",
      "metadata": {
        "id": "ZM516VosxPpB"
      },
      "source": [
        "## Время приключений! (заданий)"
      ]
    },
    {
      "cell_type": "markdown",
      "metadata": {
        "id": "8XTjrKGmxPpB"
      },
      "source": [
        "![](https://media.giphy.com/media/fm4WhPMzu9hRK/giphy.gif)"
      ]
    },
    {
      "cell_type": "markdown",
      "metadata": {
        "id": "739ygUFjxPpB"
      },
      "source": [
        "**Задача 1. Матрица**\n",
        "\n",
        "- https://rusvectores.org/ru/calculator/#\n",
        "- матрица $X$ \n",
        "- вектор $v$ \n",
        "- найти в матрице $X$ строку, которая ближе всего к $v$ "
      ]
    },
    {
      "cell_type": "markdown",
      "metadata": {
        "id": "34Q9OkykxPpC"
      },
      "source": [
        "$$\n",
        "||x|| = \\sqrt{\\sum_{i=1}^n x^2_i}\n",
        "$$"
      ]
    },
    {
      "cell_type": "code",
      "execution_count": null,
      "metadata": {
        "id": "eEMTcv8TxPpC"
      },
      "outputs": [],
      "source": [
        "# код"
      ]
    },
    {
      "cell_type": "markdown",
      "metadata": {
        "id": "qwuV8aqHxPpC"
      },
      "source": [
        "**Задача 2. Нормирование** \n",
        "\n",
        "Отнормировать столбцы к отрезку [0;1].\n"
      ]
    },
    {
      "cell_type": "code",
      "execution_count": null,
      "metadata": {
        "id": "hHJpKpWoxPpD"
      },
      "outputs": [],
      "source": [
        "# код"
      ]
    },
    {
      "cell_type": "markdown",
      "metadata": {
        "id": "kTlno4o0xPpD"
      },
      "source": [
        "**Задача 3. Игральная кость** \n"
      ]
    },
    {
      "cell_type": "markdown",
      "metadata": {
        "id": "X077iSOoxPpD"
      },
      "source": [
        "- кость игральная $<3$, мы получаем 1 2 3 рубля от другого человека\n",
        "- выпало $>3$, мы платим 1 2 3 рубля другому человеку \n",
        "\n",
        "Хотим ли мы играть в эту игру? "
      ]
    },
    {
      "cell_type": "markdown",
      "metadata": {
        "id": "aaMDV8IDxPpD"
      },
      "source": [
        "$$\n",
        "E(X) = \\frac{1}{6} \\cdot 1 +  \\frac{1}{6} \\cdot 2 + \\ldots +  \\frac{1}{6} \\cdot 5 +  \\frac{1}{6} \\cdot 6 = 3.5\n",
        "$$\n",
        "\n",
        "$$\n",
        "\\bar{x} \\to E(X)\n",
        "$$"
      ]
    },
    {
      "cell_type": "markdown",
      "metadata": {
        "id": "virHybmexPpE"
      },
      "source": [
        "В какую игру играть невыгодно?\n",
        "\n",
        "- если среднее меньше 3 => платят нам \n",
        "- если среднее больше 3 => платим мы "
      ]
    },
    {
      "cell_type": "code",
      "execution_count": null,
      "metadata": {
        "id": "eXB0STQnxPpE"
      },
      "outputs": [],
      "source": [
        "# код"
      ]
    }
  ],
  "metadata": {
    "colab": {
      "collapsed_sections": [],
      "name": "sem05-numpy.ipynb",
      "provenance": [],
      "include_colab_link": true
    },
    "kernelspec": {
      "display_name": "Python 3",
      "language": "python",
      "name": "python3"
    },
    "language_info": {
      "codemirror_mode": {
        "name": "ipython",
        "version": 3
      },
      "file_extension": ".py",
      "mimetype": "text/x-python",
      "name": "python",
      "nbconvert_exporter": "python",
      "pygments_lexer": "ipython3",
      "version": "3.8.8"
    }
  },
  "nbformat": 4,
  "nbformat_minor": 0
}