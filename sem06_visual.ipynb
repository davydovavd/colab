{
  "cells": [
    {
      "cell_type": "markdown",
      "metadata": {
        "id": "view-in-github",
        "colab_type": "text"
      },
      "source": [
        "<a href=\"https://colab.research.google.com/github/vddavydova/colab/blob/main/sem06_visual.ipynb\" target=\"_parent\"><img src=\"https://colab.research.google.com/assets/colab-badge.svg\" alt=\"Open In Colab\"/></a>"
      ]
    },
    {
      "cell_type": "markdown",
      "metadata": {
        "id": "iuRkKUVqfxxJ"
      },
      "source": [
        "# DAP: class 6_visual"
      ]
    },
    {
      "cell_type": "markdown",
      "metadata": {
        "id": "MFNfucgu7VZd"
      },
      "source": [
        "____"
      ]
    },
    {
      "cell_type": "markdown",
      "metadata": {
        "id": "mpxOa1D77VZe"
      },
      "source": [
        "# План на сегодня:\n",
        "\n",
        "* красивые картинки: Matplotlib-Seaborn-Plotly"
      ]
    },
    {
      "cell_type": "markdown",
      "metadata": {
        "id": "CgF4nXXjoz_L"
      },
      "source": [
        "# Визуализации с помощью питона: Matplotlib-Seaborn-Plotly\n",
        "\n",
        "Честно советуем сразу обратиться к туториалам с официальных сайтов бибилотек, чтобы не тратить время зря :) Зачем изобретать велосипед?\n",
        "\n",
        "- https://matplotlib.org/stable/tutorials/index.html#\n",
        "- https://seaborn.pydata.org/tutorial.html\n",
        "- https://plotly.com/fsharp/plotly-fundamentals/\n",
        "\n",
        "\n",
        "<img src=\"https://files.catbox.moe/wl8ps2.png\" width=\"300\"/> <img src=\"https://files.catbox.moe/k062v4.png\" width=\"350\"/> <img src=\"https://files.catbox.moe/k7z5af.png\" width=\"300\"/>"
      ]
    },
    {
      "cell_type": "markdown",
      "metadata": {
        "id": "Mvz30Rzv7Vam"
      },
      "source": [
        "Картинки, графики, диаграммы и так далее - именно для этого созданы эти библиотеки. Уметь визуализировать информацию, результаты, статистику это ценный навык любого специалиста. Зная Питона - а мы его с вами прекрасно и полно изучили - пользоваться этими инструментами будет легко."
      ]
    },
    {
      "cell_type": "markdown",
      "metadata": {
        "id": "117soGmT7Vam"
      },
      "source": [
        "Визуализация занимает важную часть в анализе данных. Представляя информацию в графическом виде, вы облегчаете процесс ее восприятия, что дает возможность выделять дополнительные закономерности, оценивать соотношения величин, быстрее доносить ключевые аспекты в данных. \n",
        "\n",
        "Начнем с небольшой \"памятки\", о которой всегда нужно помнить при создании любых графиков. "
      ]
    },
    {
      "cell_type": "markdown",
      "metadata": {
        "id": "h2THhOj37Vam"
      },
      "source": [
        "### <center> Как визуализировать данные и заставить всех тебя ненавидеть </center>\n",
        "\n",
        "1. Заголовок графика для слабаков. По графику всегда понятно, какие данные и явления он описывает.\n",
        "2. Ни в коем случае не подписывай ни одной оси у графика. Пусть смотрящий развивает свою интуицую! \n",
        "3. Единицы измерения совсем не обязательны. Какая разница, в чем измеряли количество - в людях или в литрах!\n",
        "4. Чем меньше шрифт на графике, тем острее зрение смотрящего. \n",
        "5. На одном графике нужно стараться уместить всю информацию, которая у тебя есть в датасете. С полными названиями, расшифровками, сносками. Чем больше текста - тем информативнее!\n",
        "6. При любой возможности используйте 3D и спецэффекты, пусть знают, что ты — прирожденный дизайнер. К тому же, так будет меньше визуальных искажений. "
      ]
    },
    {
      "cell_type": "markdown",
      "metadata": {
        "id": "rfBgOW9A7Van"
      },
      "source": [
        "# Линейные графики, правильное оформление графиков\n",
        "\n"
      ]
    },
    {
      "cell_type": "code",
      "execution_count": null,
      "metadata": {
        "id": "W252dS987Van"
      },
      "outputs": [],
      "source": [
        "import math\n",
        "\n",
        "import matplotlib.pyplot as plt\n",
        "import seaborn as sns\n",
        "\n",
        "import plotly.express as px\n",
        "\n",
        "%matplotlib inline"
      ]
    },
    {
      "cell_type": "markdown",
      "source": [
        "## Matplotlib"
      ],
      "metadata": {
        "id": "ry9XhhdZD5QA"
      }
    },
    {
      "cell_type": "code",
      "execution_count": null,
      "metadata": {
        "id": "fHpUH3s07Van"
      },
      "outputs": [],
      "source": [
        "x_axis = [ x / 5 for x in range(0, 55)]\n",
        "y_axis = [math.sin(x) for x in x_axis]\n",
        "\n",
        "# функция plot из библиотеки matplotlib рисует линейные графики и принимает множество аргументов\n",
        "# но обязательными являются два - точки на Х оси и У оси\n",
        "plt.plot(x_axis, y_axis)\n",
        "plt.show()"
      ]
    },
    {
      "cell_type": "markdown",
      "metadata": {
        "id": "-Wdu4A8S7Van"
      },
      "source": [
        "Чего не хватает на этом графике (да в принципе всего хватает, но чего не хватает для хорошего графика, понятного любому, кто не видел код, который его рисует, например)?\n",
        "1. Подпись графика\n",
        "2. Подпись осей\n",
        "3. Сетки\n",
        "4. *можно было бы сделать размер графика немного другим\n"
      ]
    },
    {
      "cell_type": "code",
      "execution_count": null,
      "metadata": {
        "id": "WYK9efRn7Vao"
      },
      "outputs": [],
      "source": [
        "plt.figure(figsize=(10,3)) # меняем размер \"фигуры\", где \"фигура\" - место, где рисуются все графики, так сказать холст\n",
        "plt.plot(x_axis, y_axis)\n",
        "plt.title('A sine wave')\n",
        "plt.xlabel('$x$') # подписываем ОХ\n",
        "plt.ylabel('$\\sin(x)$') # подписываем ОY\n",
        "plt.grid(True)\n",
        "plt.show()"
      ]
    },
    {
      "cell_type": "markdown",
      "metadata": {
        "id": "vkv59xRH7Vao"
      },
      "source": [
        "Хм, лучше подравнять пределы осей и добавить больше точек (засечек) для ОХ."
      ]
    },
    {
      "cell_type": "code",
      "execution_count": null,
      "metadata": {
        "id": "PSR57oD67Vao"
      },
      "outputs": [],
      "source": [
        "plt.figure(figsize=(10,3)) \n",
        "plt.plot(x_axis, y_axis)\n",
        "plt.title('A sine wave')\n",
        "plt.xlabel('$x$')\n",
        "plt.ylabel('$\\sin(x)$')\n",
        "\n",
        "# показываем ось х от 0 до 10\n",
        "plt.xlim(0, 10)\n",
        "# показываем ось у от -1.5 до 1.5\n",
        "plt.ylim(-1.5, 1.5)\n",
        "# делаем засечки от 0 до 10 с шагом 0.5\n",
        "plt.xticks([x/2 for x in range(0, 21)],  # указываются места куда ставить\n",
        "           [str(x/2) for x in range(0, 21)])  # как подписывать засечки\n",
        "\n",
        "plt.grid(True)\n",
        "plt.show()"
      ]
    },
    {
      "cell_type": "markdown",
      "metadata": {
        "id": "fyizQU1v7Vao"
      },
      "source": [
        "Сделаем засечки на местах $0$, $0.5 \\pi$, $\\pi$, $1.5 \\pi$, $2 \\pi$, $2.5 \\pi$, $3 \\pi$ и подпишем соответсвенно (matplotlib умеет в LaTex - подавайте строку со знаком $ как обычно)."
      ]
    },
    {
      "cell_type": "code",
      "execution_count": null,
      "metadata": {
        "id": "mSe1hlK77Vao"
      },
      "outputs": [],
      "source": [
        "plt.figure(figsize=(10,3)) \n",
        "plt.plot(x_axis, y_axis)\n",
        "plt.title('A sine wave')\n",
        "plt.xlabel('$x$')\n",
        "plt.ylabel('$\\sin(x)$')\n",
        "plt.xlim(0, 10)\n",
        "plt.ylim(-1.5, 1.5)\n",
        "\n",
        "locs = [x / 2 * math.pi for x in range(0, 7)]\n",
        "text = [\"${}{}$\".format(x / 2, '\\pi' if x != 0 else '') for x in range(0, 7)]\n",
        "plt.xticks(locs, text)\n",
        "\n",
        "plt.grid(True)\n",
        "plt.show()"
      ]
    },
    {
      "cell_type": "markdown",
      "metadata": {
        "id": "8XlOjLN77Vap"
      },
      "source": [
        "Очевидно, что получившийся график лучше, чем график ниже, особенно если это касается каких-то неочевидных функций/значений."
      ]
    },
    {
      "cell_type": "code",
      "execution_count": null,
      "metadata": {
        "id": "8WdH7_9U7Vap"
      },
      "outputs": [],
      "source": [
        "plt.plot(x_axis, y_axis)\n",
        "plt.show()"
      ]
    },
    {
      "cell_type": "markdown",
      "metadata": {
        "id": "a8xXcS_57Vap"
      },
      "source": [
        "## Plotly & Seaborn\n",
        "\n",
        "Эти библиотеки больше работают именно с pandas DataFrame объектами. Создадим такой для линейного графика."
      ]
    },
    {
      "cell_type": "code",
      "execution_count": null,
      "metadata": {
        "id": "uBus5HRJ7Vap"
      },
      "outputs": [],
      "source": [
        "import pandas as pd\n",
        "\n",
        "df = pd.DataFrame({'x':x_axis, 'y':y_axis})\n",
        "df.head()"
      ]
    },
    {
      "cell_type": "code",
      "execution_count": null,
      "metadata": {
        "id": "Z0QvMXZw7Var"
      },
      "outputs": [],
      "source": [
        "fig = px.line(df, x=\"x\", y=\"y\", title='A sine wave', height=400, width=500)\n",
        "fig.show()"
      ]
    },
    {
      "cell_type": "markdown",
      "metadata": {
        "id": "4PMmdQJK7Vat"
      },
      "source": [
        "Особенность библиотеки plotly - её интерактивность. \n",
        "\n",
        "<img src=\"https://files.catbox.moe/2toob7.png\" width=\"300\"/>\n",
        "\n",
        "\n",
        "В случае с Seaborn все еще не менее интереснее - он отлично умеет показывать табличные данные с несколькими признаковыми столбцами. У него есть параметры `x` и `y`, которые отвечают за сами данные, которые надо отобразить, а так же `hue`, `size` и `style`, которые в случае категориальных данных помогают сгруппировать данные с помощью этих значений и отобазить их разным цветом, шириной и стилем линий.\n"
      ]
    },
    {
      "cell_type": "code",
      "execution_count": null,
      "metadata": {
        "id": "twLAVde37Vat"
      },
      "outputs": [],
      "source": [
        "import seaborn as sns\n",
        "sns.set_theme(style=\"darkgrid\")\n",
        "\n",
        "# загрузим пример датасета\n",
        "fmri = sns.load_dataset(\"fmri\")\n",
        "fmri.head()"
      ]
    },
    {
      "cell_type": "code",
      "execution_count": null,
      "metadata": {
        "id": "OhQ5VM5E7Vau"
      },
      "outputs": [],
      "source": [
        "sns.lineplot(x=\"timepoint\", y=\"signal\",\n",
        "             hue=\"region\", style=\"event\",\n",
        "             data=fmri)\n",
        "plt.plot()"
      ]
    },
    {
      "cell_type": "markdown",
      "metadata": {
        "id": "UcTkr0xq7Vau"
      },
      "source": [
        "## Визуализация нескольких графиков на одном\n"
      ]
    },
    {
      "cell_type": "markdown",
      "metadata": {
        "id": "ahwe2eVO7Vau"
      },
      "source": [
        "\n",
        "### Одновременно\n",
        "\n",
        "Достаточно для одного \"холста\" вызвать функцию `plt.plot` столько раз сколько необходимо, остальные функции \"для красоты\" буду применяться к \"холсту\"."
      ]
    },
    {
      "cell_type": "code",
      "execution_count": null,
      "metadata": {
        "id": "rkQ2-_ye7Vau"
      },
      "outputs": [],
      "source": [
        "# это самый простой и быстрый способ, хотя есть более правильный\n",
        "y_axis_cos = [math.cos(x) for x in x_axis]\n",
        "y_axis_sin = y_axis\n",
        "plt.figure(figsize=(10,3)) \n",
        "\n",
        "plt.plot(x_axis, y_axis_sin, label='$\\sin(x)$') # синус\n",
        "plt.plot(x_axis, y_axis_cos, label='$\\cos(x)$') # косинус\n",
        "\n",
        "plt.title('A sine and cosine waves')\n",
        "plt.xlabel('$x$')\n",
        "plt.ylabel('$f(x)$')\n",
        "plt.xlim(0, 10) \n",
        "plt.ylim(-1.5, 1.5) \n",
        "plt.xticks(locs, text)\n",
        "plt.grid(True)\n",
        "\n",
        "plt.legend() # легенда какой график чему соответствует (работает если у графиков указаны параметры label) \n",
        "\n",
        "plt.show()"
      ]
    },
    {
      "cell_type": "markdown",
      "metadata": {
        "id": "7r4MsJ_87Vau"
      },
      "source": [
        "Все параметры функции `plot` можно посмотреть тут: https://matplotlib.org/stable/api/_as_gen/matplotlib.pyplot.plot.html\n",
        "\n",
        "Вы почти никогда не сможете выучить наизусть, как рисовать красивые-особенные графики, вам всегда __придется__ гуглить. Мы это делаем абсолютно постоянно. Мы не сможем показать абсолютно всё в одном туториале, к сожалению."
      ]
    },
    {
      "cell_type": "markdown",
      "metadata": {
        "id": "2V3j1n7v7Vav"
      },
      "source": [
        "\n",
        "### Рядом"
      ]
    },
    {
      "cell_type": "code",
      "execution_count": null,
      "metadata": {
        "id": "CK3oQDd-7Vav"
      },
      "outputs": [],
      "source": [
        "plt.figure(figsize=(15,3))\n",
        "\n",
        "# subplot(сколько строк графиков, сколько в каждой строке графиков, \n",
        "# номер места куда ставить график который будет рисоваться далее)\n",
        "plt.subplot(1, 2, 1) \n",
        "\n",
        "\n",
        "plt.plot(x_axis, y_axis_sin) # синус\n",
        "plt.title('A sine wave')\n",
        "plt.xlabel('$x$')\n",
        "plt.ylabel('$\\sin(x)$')\n",
        "plt.xlim(0, 10) \n",
        "plt.ylim(-1.5, 1.5) \n",
        "plt.xticks(locs, text)\n",
        "plt.grid(True)\n",
        "\n",
        "plt.subplot(1, 2, 2)\n",
        "\n",
        "plt.plot(x_axis, y_axis_cos) # косинус\n",
        "plt.title('A cosine wave')\n",
        "plt.xlabel('$x$')\n",
        "plt.ylabel('$\\cos(x)$')\n",
        "plt.xlim(0, 10) \n",
        "plt.ylim(-1.5, 1.5) \n",
        "plt.xticks(locs, text)\n",
        "plt.grid(True)\n",
        "\n",
        "plt.show()"
      ]
    },
    {
      "cell_type": "markdown",
      "metadata": {
        "id": "L1CM20yh7Vaw"
      },
      "source": [
        "## Нелинейный графики\n",
        "\n",
        "Видов нелинейных график целове множество - гистограммы (histplot), столбчатые диаграммы (barplot), графики рассеивания (scatterplot), violin plot, box plot... Все они показывают разные виды статистики. \n",
        "\n",
        "Scatter обычно показывает зависимости переменных. \n",
        "\n",
        "Гистограммы - распределение одной величины. \n",
        "\n",
        "Барплоты - сравнение нескольких величин. \n",
        "\n",
        "Violin, box - сравнение распределений и отображение outliers. \n",
        "\n",
        "\n",
        "Все они нужны! И выбрать правильный график - основа навыка визуализации."
      ]
    },
    {
      "cell_type": "code",
      "execution_count": null,
      "metadata": {
        "id": "w2EaqKCr7Vaw"
      },
      "outputs": [],
      "source": [
        "import pandas as pd\n",
        "# загрузим данные, чтобы нам было что визуализировать\n",
        "dataset = pd.read_csv('https://web.stanford.edu/class/archive/cs/cs109/cs109.1166/stuff/titanic.csv')\n",
        "dataset.head()"
      ]
    },
    {
      "cell_type": "code",
      "execution_count": null,
      "metadata": {
        "id": "_0HqKQLb7Vaw"
      },
      "outputs": [],
      "source": [
        "sns.barplot(x='Pclass', y='Survived', data=dataset)\n",
        "plt.show()"
      ]
    },
    {
      "cell_type": "code",
      "execution_count": null,
      "metadata": {
        "id": "Sz3hd4lz7Vaw"
      },
      "outputs": [],
      "source": [
        "sns.violinplot(x='Survived', y='Age', data=dataset)\n",
        "plt.show()"
      ]
    },
    {
      "cell_type": "code",
      "execution_count": null,
      "metadata": {
        "id": "xeFtsjIc7Vax"
      },
      "outputs": [],
      "source": [
        "sns.histplot(x='Age', hue='Sex', data=dataset)\n",
        "plt.plot()"
      ]
    },
    {
      "cell_type": "code",
      "source": [
        "!wget -O data.zip https://archive.ics.uci.edu/ml/machine-learning-databases/00275/Bike-Sharing-Dataset.zip \n",
        "!unzip data.zip"
      ],
      "metadata": {
        "id": "ivX0K3or2U18"
      },
      "execution_count": null,
      "outputs": []
    },
    {
      "cell_type": "code",
      "source": [
        "data = pd.read_csv('hour.csv', header=0, index_col=0)\n",
        "data.head()"
      ],
      "metadata": {
        "id": "M9omdl8e2Yst"
      },
      "execution_count": null,
      "outputs": []
    },
    {
      "cell_type": "code",
      "execution_count": null,
      "metadata": {
        "id": "wLsU6jsk7Vax"
      },
      "outputs": [],
      "source": [
        "plt.figure(figsize=(10,6))\n",
        "sns.scatterplot(data=data, x='cnt', y='temp', hue='workingday', size='season', alpha=0.5)\n",
        "plt.plot()"
      ]
    },
    {
      "cell_type": "markdown",
      "metadata": {
        "id": "Maz087917Vay"
      },
      "source": [
        "### **Полезные материалы по правилам оформления графиков**\n",
        "1. Twenty rules for good graphics https://robjhyndman.com/hyndsight/graphics/\n",
        "2. Много статей и примеров https://www.darkhorseanalytics.com/blog .Например, как оформлять таблицы с резульатами https://www.darkhorseanalytics.com/portfolio/2016/1/7/data-looks-better-naked-clear-off-the-table\n",
        "\n",
        "\n",
        "### **Полезные материалы по работе с библиотеками**\n",
        "\n",
        "1. Руководство по библиотеке matplotlib https://matplotlib.org/3.2.1/tutorials/index.html \n",
        "2. Руководство по seaborn https://seaborn.pydata.org/tutorial.html\n",
        "3. Документация plotly https://plotly.com/python/ \n",
        "4. [Kaggle COVID19-Explained through Visualizations](https://www.kaggle.com/anshuls235/covid19-explained-through-visualizations/#data)\n",
        "5. Видео-лекция по визуализации из курса Open Data Science https://www.youtube.com/watch?v=uwQat1TV0JM\n",
        "\n",
        "### **Дополнительные хорошие библиотеки python по визуализации**:\n",
        "* Bokeh\n",
        "* ggplot\n",
        "* geoplotlib\n",
        "* pygal\n"
      ]
    },
    {
      "cell_type": "markdown",
      "metadata": {
        "id": "WfzCexEt7Vay"
      },
      "source": [
        "# Кейс про всем известный "
      ]
    },
    {
      "cell_type": "markdown",
      "metadata": {
        "id": "x7Xblm337Vay"
      },
      "source": [
        "![ ](https://www.pon-cat.com/application/files/7915/8400/2602/home-banner.jpg)"
      ]
    },
    {
      "cell_type": "markdown",
      "metadata": {
        "id": "pCtxTD-s7Vay"
      },
      "source": [
        "В качестве примера, рассмотрим кейс с пандемией. Воспользуемся датасетом с оперативно обновляемой статистикой по коронавирусу (COVID-19), который выложен в открытом доступе на Kaggle: https://www.kaggle.com/imdevskp/corona-virus-report?select=covid_19_clean_complete.csv"
      ]
    },
    {
      "cell_type": "code",
      "source": [
        "# вспомогательные пакеты\n",
        "!pip3 install plotly-express\n",
        "!pip3 install nbformat==4.2.0\n",
        "!pip install plotly"
      ],
      "metadata": {
        "id": "8T9RuBLs2_oI"
      },
      "execution_count": null,
      "outputs": []
    },
    {
      "cell_type": "code",
      "execution_count": null,
      "metadata": {
        "id": "nXJp8ksr7Vay"
      },
      "outputs": [],
      "source": [
        "import pandas as pd\n",
        "import numpy as np\n",
        "import pickle\n",
        "\n",
        "# Модули для визуализации\n",
        "import matplotlib.pyplot as plt\n",
        "%matplotlib inline\n",
        "# %matplotlib notebook\n",
        "import seaborn as sns\n",
        "import plotly\n",
        "import plotly_express as px\n",
        "import plotly.graph_objects as go\n",
        "from plotly.subplots import make_subplots\n",
        "from plotly.offline import init_notebook_mode\n",
        "init_notebook_mode(connected=True)\n",
        "\n",
        "%config InlineBackend.figure_format = 'svg' # Графики в svg выглядят четче\n",
        "\n",
        "# Увеличим дефолтный размер графиков\n",
        "from pylab import rcParams\n",
        "rcParams['figure.figsize'] = 7, 5\n",
        "\n",
        "import warnings\n",
        "warnings.filterwarnings('ignore')"
      ]
    },
    {
      "cell_type": "markdown",
      "metadata": {
        "id": "koN4jMEg7Vaz"
      },
      "source": [
        "Считаем данные и посмотрим количество стран в датасете и какие дни он покрывает. "
      ]
    },
    {
      "cell_type": "code",
      "source": [
        "import os\n",
        "os.getcwd()"
      ],
      "metadata": {
        "id": "gmEqcvrkAAqP"
      },
      "execution_count": null,
      "outputs": []
    },
    {
      "cell_type": "code",
      "execution_count": null,
      "metadata": {
        "id": "9n7gFTPJ7Vaz"
      },
      "outputs": [],
      "source": [
        "data = pd.read_csv('./covid_19_clean.csv')\n",
        "\n",
        "print(f\"Количество стран: {data['Country/Region'].nunique()}\")\n",
        "print(f\"Дни с {min(data['Date'])} по {max(data['Date'])}, всего {data['Date'].nunique()} дней.\")\n",
        "\n",
        "# Выведем последнюю статистику по России \n",
        "display(data[data['Country/Region'] == 'Russia'].tail())\n",
        "\n",
        "# Поменяем формат даты из str в pd.Timestamp \n",
        "data['Date'] = pd.to_datetime(data['Date'], format = '%Y-%m-%d')"
      ]
    },
    {
      "cell_type": "markdown",
      "metadata": {
        "id": "S660zb6_7Vaz"
      },
      "source": [
        "Распространение COVID-19 - это наглядный пример экспоненциального распределения. Чтобы это продемонстрировать, построим график по общему, выздоровевших и умерших. Мы будем использовать линейный тип графика (**Line Chart**), которые может отражать динамику по одному или нескольким показателям. Его удобно использовать, чтобы посмотреть, как величина меняется во времени. \n",
        "Возьмем переменные *Confirmed* и *Deaths*. "
      ]
    },
    {
      "cell_type": "code",
      "execution_count": null,
      "metadata": {
        "id": "pkn0y-Ss7Vaz"
      },
      "outputs": [],
      "source": [
        "# В pandas встроено построение графиков\n",
        "data.Confirmed.plot(); # попробуйте поменять тип графика через аргумент kind"
      ]
    },
    {
      "cell_type": "markdown",
      "metadata": {
        "id": "GrSmbx2b7Va0"
      },
      "source": [
        "Линейный график по одной переменной: количество заболевших. "
      ]
    },
    {
      "cell_type": "code",
      "execution_count": null,
      "metadata": {
        "id": "hTnPTFdU7Va0"
      },
      "outputs": [],
      "source": [
        "data[['Confirmed', 'Date']].groupby('Date').sum().plot();"
      ]
    },
    {
      "cell_type": "markdown",
      "metadata": {
        "id": "iCk8K0497Va1"
      },
      "source": [
        "Линейный график по двум переменным: количество заболевших и умерших. "
      ]
    },
    {
      "cell_type": "code",
      "execution_count": null,
      "metadata": {
        "id": "ZNO16Fp17Va1"
      },
      "outputs": [],
      "source": [
        "data[['Confirmed', 'Deaths', 'Date']].groupby('Date').sum().plot();"
      ]
    },
    {
      "cell_type": "code",
      "execution_count": null,
      "metadata": {
        "id": "sbNnTSc17Va1"
      },
      "outputs": [],
      "source": [
        "data[['Confirmed', 'Deaths', 'Date']].groupby('Date').sum().plot();"
      ]
    },
    {
      "cell_type": "code",
      "execution_count": null,
      "metadata": {
        "id": "I0cYG1id7Va1"
      },
      "outputs": [],
      "source": [
        "# Дополнительные настройки\n",
        "\n",
        "ax = data[['Confirmed', \n",
        "           'Recovered', \n",
        "           'Date']].groupby('Date').sum().plot(title='Рост числа заболевших и выздоровевших от COVID-19')\n",
        "ax.set_xlabel(\"Дата\")\n",
        "ax.set_ylabel(\"Количество заболевших\"); # символ ';' прячет первую строку Text из графика"
      ]
    },
    {
      "cell_type": "markdown",
      "metadata": {
        "id": "BPK3acol7Va2"
      },
      "source": [
        "Код для аналогичного линейного графика на matplotlib, а не через pandas (обращаемся через plt к заимпортированному matplotlib.pyplot):"
      ]
    },
    {
      "cell_type": "code",
      "execution_count": null,
      "metadata": {
        "id": "djtO62gO7Va2"
      },
      "outputs": [],
      "source": [
        "plt.plot(data[['Confirmed', 'Deaths', 'Date']].groupby('Date').sum())\n",
        "plt.title('Рост числа заболевших и выздоровевших от COVID-19')\n",
        "plt.xlabel('Дата')\n",
        "plt.ylabel('Количество заболевших')\n",
        "plt.xticks(rotation=45)\n",
        "plt.show()"
      ]
    },
    {
      "cell_type": "markdown",
      "metadata": {
        "id": "9bjbSCH37Va2"
      },
      "source": [
        "График выше показывает нам общую информацию по всему миру. Давайте выделим 10 наиболее пострадавших стран (по итогам последнего дня из датасета) и на одном **Line Chart** покажем данные по каждой из них по числу зарегистрированных случаев болезни. В этот раз, попробуем воспользоваться библиотекой **plotly**. "
      ]
    },
    {
      "cell_type": "code",
      "execution_count": null,
      "metadata": {
        "id": "HbnWAK1k7Va3"
      },
      "outputs": [],
      "source": [
        "# Выделим топ-10 стран по количеству подтвержденных случаев \n",
        "df_top = data[data['Date'] == max(data.Date)]\n",
        "df_top = df_top.groupby('Country/Region', as_index=False)['Confirmed'].sum()\n",
        "df_top = df_top.nlargest(10, 'Confirmed')\n",
        "\n",
        "# Выделим тренд с учетом времени\n",
        "df_trend = data.groupby(['Date','Country/Region'], as_index=False)['Confirmed'].sum()\n",
        "df_trend = df_trend.merge(df_top, on='Country/Region')\n",
        "df_trend.rename(columns={'Country/Region' : 'Countries', \n",
        "                         'Confirmed_x':'Cases',\n",
        "                         'Date' : 'Dates'}, \n",
        "                inplace=True)\n",
        "\n",
        "# px - это сокращения заимпортированного plotly_express\n",
        "px.line(df_trend, \n",
        "        title='Рост числа выявленных случаев COVID-19',\n",
        "        x='Dates', \n",
        "        y='Cases', \n",
        "        color='Countries')"
      ]
    },
    {
      "cell_type": "markdown",
      "metadata": {
        "id": "jcHDWs5Q7Va4"
      },
      "source": [
        "Попробуем прологарифмировать признак количества выявленных случаев и построить график еще раз. "
      ]
    },
    {
      "cell_type": "code",
      "execution_count": null,
      "metadata": {
        "id": "lcMULjQM7Va5"
      },
      "outputs": [],
      "source": [
        "# Добавим столбец для визуализации логарифмического \n",
        "df_trend['ln(Cases)'] = np.log(df_trend['Cases'] + 1) # Добавляем 1 для случая log(0)\n",
        "\n",
        "px.line(df_trend, \n",
        "        x='Dates', # обращение к столбцу, а не название осей\n",
        "        y='ln(Cases)', \n",
        "        color='Countries', \n",
        "        title='COVID19 Рост числа заболевших в 10 наиболее пострадавших стран 10 (логарифмическая шкала)')"
      ]
    },
    {
      "cell_type": "markdown",
      "metadata": {
        "id": "iW4z3qTZ7Va5"
      },
      "source": [
        "У большиснтва стран количество заболевших монотонно возрастает. \n",
        "\n",
        "Какие интересные выводы вы можете сделать по этому графику?"
      ]
    },
    {
      "cell_type": "markdown",
      "metadata": {
        "id": "VjiLDZb17Va5"
      },
      "source": [
        "Попробуйте сделать аналогичные графики по количеству смертей от COVID-19 (по переменной **Deaths** вместо **Confirmed**) по топ-10 странам, наиболее пострадавшим по отношению количества умерших к количеству заболевших. "
      ]
    },
    {
      "cell_type": "code",
      "execution_count": null,
      "metadata": {
        "id": "c7pNsXnB7Va5"
      },
      "outputs": [],
      "source": [
        "# TODO"
      ]
    },
    {
      "cell_type": "markdown",
      "metadata": {
        "id": "0LsJWKGi7Va5"
      },
      "source": [
        "Еще один тип графиков - круговая диаграмма (**Pie chart**). Чаще всего, этот график используют для визуализации отношения частей и целого (например, ваши траты за месяц в мобильном приложении банка), но многие его очень сильно недолюбливают (https://medium.com/@clmentviguier/the-hate-of-pie-charts-harms-good-data-visualization-cc7cfed243b6). \n",
        "\n",
        "Тем не менее, полезно знать, что они существуют, как они выглядят и как их построить. "
      ]
    },
    {
      "cell_type": "code",
      "execution_count": null,
      "metadata": {
        "id": "ClOPbLPm7Va6"
      },
      "outputs": [],
      "source": [
        "# Простой и ужасный пример\n",
        "\n",
        "df_trend.groupby('Countries')['Cases'].sum().plot(kind='pie');"
      ]
    },
    {
      "cell_type": "code",
      "execution_count": null,
      "metadata": {
        "id": "xaJNg33z7Va6"
      },
      "outputs": [],
      "source": [
        "# Круговые диаграммы (пончик и пирог )\n",
        "\n",
        "fig = make_subplots(rows=1, cols=2, specs=[[{'type':'domain'}, {'type':'domain'}]])\n",
        "labels = [country for country in df_top['Country/Region']]\n",
        "\n",
        "fig.add_trace(go.Pie(labels=labels, hole=0.3, hoverinfo=\"label+percent+name\", \n",
        "                     values=[cases for cases in df_top.Confirmed], \n",
        "                     name=\"Доля\", ), 1, 1)\n",
        "\n",
        "fig.add_trace(go.Pie(labels=labels, pull=[0, 0, 0.2, 0], \n",
        "                     values=[cases for cases in df_top.Confirmed], \n",
        "                     name=\"Доля\"), 1, 2)\n",
        "\n",
        "fig.update_layout(\n",
        "    title_text=\"Donut & Pie Chart: Распределение долей по заболевшим COVID-19 среди топ-10 стран\",\n",
        "    # Add annotations in the center of the donut pies.\n",
        "    annotations=[dict(text=' ', x=0.5, y=0.5, font_size=16, showarrow=False)],\n",
        "    colorway=['rgb(69, 135, 24)', 'rgb(136, 204, 41)', 'rgb(204, 204, 41)', \n",
        "              'rgb(235, 210, 26)', 'rgb(209, 156, 42)', 'rgb(209, 86, 42)', 'rgb(209, 42, 42)', ])\n",
        "fig.show()"
      ]
    },
    {
      "cell_type": "markdown",
      "metadata": {
        "id": "HbvPoT6f7Va6"
      },
      "source": [
        "На линейных графиках выше мы визуализировали совокупную информацию по странам по количеству выявленных заболевших. Теперь, давайте попробуем построить график по дневному тренду, посчитав разницу между текущим значением и значением предыдущего дня.\n",
        "Для этой цели, воспользуемся гистограммой (**Histogram**). Также, добавим указатели по ключевым событиям, например, даты lockdown в провинции Ухань в Китае, Италии и Великобритании. "
      ]
    },
    {
      "cell_type": "code",
      "execution_count": null,
      "metadata": {
        "id": "BK17Hp_o7Va7"
      },
      "outputs": [],
      "source": [
        "def add_daily_diffs(df):\n",
        "    # 0 because the previous value is unknown\n",
        "    df.loc[0,'Cases_daily'] = 0\n",
        "    df.loc[0,'Deaths_daily'] = 0\n",
        "    for i in range(1, len(df)):\n",
        "        df.loc[i,'Cases_daily'] = df.loc[i,'Confirmed'] - df.loc[i - 1,'Confirmed']\n",
        "        df.loc[i,'Deaths_daily'] = df.loc[i,'Deaths'] - df.loc[i - 1,'Deaths']\n",
        "    return df\n",
        "\n",
        "df_world = data.groupby('Date', as_index=False)['Deaths', 'Confirmed'].sum()\n",
        "df_world = add_daily_diffs(df_world)\n",
        "\n",
        "fig = go.Figure(data=[\n",
        "    go.Bar(name='Количество заболевших',\n",
        "           marker={'color': 'rgb(0,100,153)'},\n",
        "           x=df_world.Date, \n",
        "           y=df_world.Cases_daily),\n",
        "    go.Bar(name='Количество смертей', x=df_world.Date, y=df_world.Deaths_daily)\n",
        "])\n",
        "\n",
        "fig.update_layout(barmode='overlay', title='Статистика по числу заражений и летальных исходов от COVID-19 в мире',\n",
        "                 annotations=[dict(x='2020-01-23', y=1797, text=\"Lockdown (Ухань)\", \n",
        "                                   showarrow=True, arrowhead=1, ax=-100, ay=-200),\n",
        "                              dict(x='2020-03-09', y=1797, text=\"Lockdown (Италия)\", \n",
        "                                   showarrow=True, arrowhead=1, ax=-100, ay=-200),\n",
        "                              dict(x='2020-03-23', y=19000, text=\"Lockdown (Великобритания)\", \n",
        "                                   showarrow=True, arrowhead=1, ax=-100, ay=-200)])\n",
        "fig.show()"
      ]
    },
    {
      "cell_type": "code",
      "execution_count": null,
      "metadata": {
        "id": "1z5eRFna7Va7"
      },
      "outputs": [],
      "source": [
        "# Можно сохранить график в статичном виде на компьютер\n",
        "plotly.offline.plot(fig, filename='my_beautiful_histogram.html', show_link=False)"
      ]
    },
    {
      "cell_type": "markdown",
      "metadata": {
        "id": "jySvypxG7Va7"
      },
      "source": [
        "Гистограмму часто путают со столбиковой диаграммой (Bar Chart) из-за визуального сходства, однако у этих графиков разные цели. Гиcтограмма пoказывает, как распределены данные в рамках непрерывного интервала или определенного периода времени. По вертикальной оси гистограммы находится частотность, по горизонтальной — интервалы или какой-то временной период.\n",
        "\n",
        "Давайте теперь построим **Bar Chart**. Он бывает вертикальный и горизонтальный, выберем второй вариант. \n",
        "Построим график только для топ-20 стран по смертности. Будем рассчитывать эту статистику как отношение количества смертей к количеству подтвержденных заболевших по каждой стране. \n",
        "\n",
        "По некоторым странам в датасете статистика представлена по каждому региону (например, по всем штатам США). Для таких стран оставим только одно (максимальное) значение. Как вариант, можно было бы посчитать среднее по регионам и оставить его как показатель по стране.  "
      ]
    },
    {
      "cell_type": "code",
      "execution_count": null,
      "metadata": {
        "id": "A4eNSSFc7Va7"
      },
      "outputs": [],
      "source": [
        "# Столбчатая диаграмма\n",
        "\n",
        "df_mortality = data.query('(Date == \"2020-07-17\") & (Confirmed > 100)') \n",
        "df_mortality['mortality'] = df_mortality['Deaths'] / df_mortality['Confirmed']\n",
        "df_mortality['mortality'] = df_mortality['mortality'].apply(lambda x: round(x, 3))\n",
        "df_mortality.sort_values('mortality', ascending=False, inplace=True)\n",
        "# Оставим только максимальное значение смертности для стран, у которых статистика предоставлена по каждому региону\n",
        "\n",
        "df_mortality.drop_duplicates(subset=['Country/Region'], keep='first', inplace=True)\n",
        "\n",
        "fig = px.bar(df_mortality[:20].iloc[::-1],\n",
        "             x='mortality', \n",
        "             y='Country/Region',\n",
        "             labels={'mortality': 'Уровень смертности', 'Country_Region': 'Страна'},\n",
        "             title=f'Уровень смертности: топ-20 стран по состоянию на 2020-04-17', \n",
        "             text='mortality', \n",
        "             height=800, \n",
        "             orientation='h') # горизонтальный\n",
        "fig.show()\n"
      ]
    },
    {
      "cell_type": "markdown",
      "metadata": {
        "id": "I0IJz5pM7Va8"
      },
      "source": [
        "**Heat Maps** (тепловые карты) достаточно полезно использовать для дополнительная визуализации матриц корреляций между признаками. Когда признаков очень много, с помощью такого графика вы быстрее сможете оценить, какие признаки сильно скоррелировано или не обладают линейной взаимосвязью. "
      ]
    },
    {
      "cell_type": "code",
      "execution_count": null,
      "metadata": {
        "id": "RxLM2XEU7Va8"
      },
      "outputs": [],
      "source": [
        "# Тепловая карта (используя seaborn) \n",
        "sns.heatmap(data.corr(), annot=True, fmt='.2f', cmap='cividis'); # попробуйте другой цвет, например, 'RdBu'"
      ]
    },
    {
      "cell_type": "markdown",
      "metadata": {
        "id": "DXgGhVPi7Va9"
      },
      "source": [
        "График рассеяния помогает найти взаимосвязь между двумя показателями. Для этого, можно воспользоваться pairplot, который сразу выведет гистограмму по каждой переменной и диаграмму рассеяния по двум переменным (по разным осям графика). "
      ]
    },
    {
      "cell_type": "code",
      "execution_count": null,
      "metadata": {
        "id": "g-aG5xcM7Va9"
      },
      "outputs": [],
      "source": [
        "# Попарные двумерные распределений (pairplot)\n",
        "sns_plot = sns.pairplot(data[['Deaths', 'Confirmed']])\n",
        "sns_plot.savefig('pairplot.png') # сохранение картинки"
      ]
    },
    {
      "cell_type": "markdown",
      "metadata": {
        "id": "6vypc-KC7Va-"
      },
      "source": [
        "При анализе данных, часто используют сводные таблицы. Сводная таблица (**Pivot table**) может автоматически сортировать, рассчитывать суммы или получить среднее значение из данных."
      ]
    },
    {
      "cell_type": "code",
      "execution_count": null,
      "metadata": {
        "id": "-fCqOI7R7Va-"
      },
      "outputs": [],
      "source": [
        "# Сводные таблицы\n",
        "\n",
        "plt.figure(figsize=(12, 4))\n",
        "df_new = df_mortality.iloc[:10]\n",
        "df_new['Confirmed'] = df_new['Confirmed'].astype(np.int)\n",
        "df_new['binned_fatalities'] = pd.cut(df_new['Deaths'], 3)\n",
        "platform_genre_sales = df_new.pivot_table(\n",
        "                        index='binned_fatalities', \n",
        "                        columns='Country/Region', \n",
        "                        values='Confirmed', \n",
        "                        aggfunc=sum).fillna(int(0)).applymap(np.int)\n",
        "sns.heatmap(platform_genre_sales, annot=True, fmt=\".1f\", linewidths=0.7, cmap=\"viridis\");"
      ]
    },
    {
      "cell_type": "markdown",
      "metadata": {
        "id": "RlhJmHoR7Va-"
      },
      "source": [
        "Фоновая картограмма (choropleth map) как раз нужна для таких данных,которые необходимо показать по странам или регионам. Дополнительно, можно использовать временную ось, чтобы рассмотреть изменение показателей в динамике. "
      ]
    },
    {
      "cell_type": "code",
      "execution_count": null,
      "metadata": {
        "id": "jnMpiJJy7Va-"
      },
      "outputs": [],
      "source": [
        "# Карта (фоновая картограмма)\n",
        "\n",
        "# файл с аббревиатурами стран для матчинга с картой\n",
        "with open('./countries_codes.pkl', 'rb') as file:\n",
        "    countries_codes = pickle.load(file)\n",
        "    \n",
        "df_map = data.copy()\n",
        "df_map['Date'] = data['Date'].astype(str)\n",
        "df_map = df_map.groupby(['Date','Country/Region'], as_index=False)['Confirmed','Deaths'].sum()\n",
        "df_map['iso_alpha'] = df_map['Country/Region'].map(countries_codes)\n",
        "df_map['ln(Confirmed)'] = np.log(df_map.Confirmed + 1)\n",
        "df_map['ln(Deaths)'] = np.log(df_map.Deaths + 1)\n",
        "\n",
        "px.choropleth(df_map, \n",
        "              locations=\"iso_alpha\", \n",
        "              color=\"ln(Confirmed)\", \n",
        "              hover_name=\"Country/Region\",\n",
        "              hover_data=[\"Confirmed\"],\n",
        "              animation_frame=\"Date\",\n",
        "              color_continuous_scale=px.colors.sequential.OrRd,\n",
        "              title = 'Total Confirmed Cases growth (Logarithmic Scale)')"
      ]
    },
    {
      "cell_type": "markdown",
      "metadata": {
        "id": "5ka4S24p7Va-"
      },
      "source": [
        "Какую важную информацию дал новый график (визуализация по времени и геолокации)? Можно ли по графику ответить на вопросы:\n",
        "* С какой страны началось распространение коронавируса?\n",
        "* Какие страны наиболее пострадали от пандемии?\n",
        "* На какую часть полушария приходится большинство случаев заболевания? Какие можно сформулировать гипотезы относительно температуры и скорости распространения вируса?\n",
        "\n",
        "Какие еще наблюдения вы можете сделать из графика? "
      ]
    }
  ],
  "metadata": {
    "colab": {
      "collapsed_sections": [
        "h2THhOj37Vam",
        "Maz087917Vay"
      ],
      "name": "sem06-visual.ipynb",
      "provenance": [],
      "include_colab_link": true
    },
    "kernelspec": {
      "display_name": "Python 3",
      "language": "python",
      "name": "python3"
    },
    "language_info": {
      "codemirror_mode": {
        "name": "ipython",
        "version": 3
      },
      "file_extension": ".py",
      "mimetype": "text/x-python",
      "name": "python",
      "nbconvert_exporter": "python",
      "pygments_lexer": "ipython3",
      "version": "3.8.8"
    }
  },
  "nbformat": 4,
  "nbformat_minor": 0
}