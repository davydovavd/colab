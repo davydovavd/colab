{
  "cells": [
    {
      "cell_type": "markdown",
      "metadata": {
        "id": "view-in-github",
        "colab_type": "text"
      },
      "source": [
        "<a href=\"https://colab.research.google.com/github/vddavydova/colab/blob/main/sem08_parsing.ipynb\" target=\"_parent\"><img src=\"https://colab.research.google.com/assets/colab-badge.svg\" alt=\"Open In Colab\"/></a>"
      ]
    },
    {
      "cell_type": "markdown",
      "metadata": {
        "id": "uSPOiZzAyFzT"
      },
      "source": [
        "# DAP: class 8_parsing"
      ]
    },
    {
      "cell_type": "markdown",
      "metadata": {
        "id": "3Qt84wjxyFzb"
      },
      "source": [
        "___"
      ]
    },
    {
      "cell_type": "markdown",
      "metadata": {
        "id": "GdahFC_9yFzc"
      },
      "source": [
        "# Agenda \n",
        "\n",
        "* азы всех азов\n",
        "* что делать, если сервер разозлился\n",
        "* еще про API\n",
        "* что такое Selenium \n",
        "* хитрости"
      ]
    },
    {
      "cell_type": "markdown",
      "metadata": {
        "id": "ZFKh9DjdyFzd"
      },
      "source": [
        "__________"
      ]
    },
    {
      "cell_type": "markdown",
      "metadata": {
        "id": "Ds2i6NK_yFze"
      },
      "source": [
        "# 1. Азы всех азов\n",
        "\n",
        "Чтобы усвоить азы всех азов, прочитайте [статейку с хабра.](https://habr.com/ru/company/ods/blog/346632/) Там в соавторах один из семинаристов Вышки по аналогичному курсу в Москве, что как бы намекает на то, что контент годный."
      ]
    },
    {
      "cell_type": "markdown",
      "metadata": {
        "id": "a9rIocN3yFzg"
      },
      "source": [
        "## Что такое HTML? \n",
        "\n",
        "**HTML (HyperText Markup Language)**  — это такой же язык разметки как Markdown или LaTeX. Он является стандартным для написания различных сайтов. Команды в таком языке называются **тегами**. Если открыть абсолютно любой сайт, нажать на правую кнопку мышки, а после нажать `View page source`, то перед вами предстанет HTML скелет этого сайта. \n",
        "\n",
        "Вот так можно открыть html-код стартовой яндекса, найти в нём новость из топа и немного её изменить. Понятное дело, что вы так меняете html-страничку только на своём компьютере (клиенте). На сервере яндекса остаётся исходная версия. Когда вы обновите страничку все правки исчезнут. Однако никто вам не запрещает ворваться вк в какую-нибудь переписку, открыть её код, поменять текст нескольких сообщений и наделать скринов для мемов. \n",
        "\n",
        "\n",
        "HTML-страница это ни что иное, как набор вложенных тегов. Можно заметить, например, следующие теги:\n",
        "\n",
        "- `<title>` – заголовок страницы\n",
        "- `<h1>…<h6>` – заголовки разных уровней\n",
        "- `<p>` – абзац (paragraph)\n",
        "- `<div>` – выделения фрагмента документа с целью изменения вида содержимого\n",
        "- `<table>` – прорисовка таблицы \n",
        "- `<tr>` – разделитель для строк в таблице \n",
        "- `<td>` – разделитель для столбцов в таблице\n",
        "- `<b>` – устанавливает жирное начертание шрифта\n",
        "\n",
        "Обычно команда `<...>` открывает тег, а  `</...>` закрывает его. Все, что находится между этими двумя командами, подчиняется правилу, которое диктует тег. Например, все, что находится между `<p>` и  `</p>` — это отдельный абзац.   \n",
        "\n",
        "Теги образуют своеобразное дерево с корнем в теге `<html>` и разбивают страницу на разные логические кусочки. У каждого тега есть свои потомки (дети) — те теги, которые вложены в него и свои родители. \n",
        "\n",
        "Например, HTML-древо страницы может выглядеть вот так:\n",
        "\n",
        "\n",
        "````\n",
        "<html>\n",
        "<head> Заголовок </head>\n",
        "<body>\n",
        "    <div>\n",
        "        Первый кусок текста со своими свойствами\n",
        "    </div>\n",
        "    <div>\n",
        "        Второй кусок текста\n",
        "            <b>\n",
        "                Третий, жирный кусок\n",
        "            </b>\n",
        "    </div>\n",
        "    Четвёртый кусок текста\n",
        "</body>\n",
        "</html>\n",
        "````\n",
        "\n",
        "Можно работать с этим html как с текстом, а можно как с деревом. Обход этого дерева и есть парсинг веб-страницы. Мы всего лишь будем находить нужные нам узлы среди всего этого разнообразия и забирать из них информацию!\n",
        "\n",
        "<center>\n",
        "<img src=\"https://raw.githubusercontent.com/hse-econ-data-science/eds_spring_2020/master/sem05_parsing/image/tree.png\" width=\"450\"> "
      ]
    },
    {
      "cell_type": "markdown",
      "metadata": {
        "id": "m9t4MGxXyFzi"
      },
      "source": [
        "## Качаем цены на книги\n",
        "\n",
        "* Хотим собрать [цены на книги](http://books.toscrape.com)\n",
        "* Руками долго, напишем код\n",
        "\n",
        "Доступ к веб-станицам позволяет получать модуль requests. Подгрузим его. Если у вас не установлен этот модуль, то придётся напрячься и установить:  `pip install requests`."
      ]
    },
    {
      "cell_type": "code",
      "execution_count": null,
      "metadata": {
        "id": "b9UVmcdxyFzk",
        "outputId": "8ead6ace-92ab-48fe-cf65-dc2c9bbd5754"
      },
      "outputs": [
        {
          "data": {
            "text/plain": [
              "<Response [200]>"
            ]
          },
          "execution_count": 1,
          "metadata": {},
          "output_type": "execute_result"
        }
      ],
      "source": [
        "import requests  \n",
        "\n",
        "url = 'http://books.toscrape.com/catalogue/page-1.html'\n",
        "response = requests.get(url)\n",
        "response"
      ]
    },
    {
      "cell_type": "markdown",
      "metadata": {
        "id": "n__vj65ayFzn"
      },
      "source": [
        "Благословенный 200 ответ - соединение установлено и данные получены, всё чудесно! Если попытаться перейти на несуществующую страницу, то можно получить, например, знаменитую ошибку 404."
      ]
    },
    {
      "cell_type": "code",
      "execution_count": null,
      "metadata": {
        "id": "2gCCYVbXyFzp",
        "outputId": "f0ab02d1-d1fe-4138-f306-478349e36127"
      },
      "outputs": [
        {
          "data": {
            "text/plain": [
              "<Response [404]>"
            ]
          },
          "execution_count": 2,
          "metadata": {},
          "output_type": "execute_result"
        }
      ],
      "source": [
        "requests.get('http://books.toscrape.com/big_scholarship')"
      ]
    },
    {
      "cell_type": "markdown",
      "metadata": {
        "id": "yvF-hROsyFzq"
      },
      "source": [
        "Внутри response лежит html-разметка странички, которую мы парсим. "
      ]
    },
    {
      "cell_type": "code",
      "execution_count": null,
      "metadata": {
        "id": "0L4KOzYOyFzr",
        "outputId": "6cc9e530-0825-474a-b9dd-f9e4deef04d0"
      },
      "outputs": [
        {
          "data": {
            "text/plain": [
              "b'\\n\\n<!DOCTYPE html>\\n<!--[if lt IE 7]>      <html lang=\"en-us\" class=\"no-js lt-ie9 lt-ie8 lt-ie7\"> <![endif]-->\\n<!--[if IE 7]>         <html lang=\"en-us\" class=\"no-js lt-ie9 lt-ie8\"> <![endif]-->\\n<!--[if IE 8]>         <html lang=\"en-us\" class=\"no-js lt-ie9\"> <![endif]-->\\n<!--[if gt IE 8]><!--> <html lang=\"en-us\" class=\"no-js\"> <!--<![endif]-->\\n    <head>\\n        <title>\\n    All products | Books to Scrape - Sandbox\\n</title>\\n\\n        <meta http-equiv=\"content-type\" content=\"text/html; charset=UTF-8\" />\\n        <meta name=\"created\" content=\"24th Jun 2016 09:30\" />\\n        <meta name=\"description\" content=\"\" />\\n        <meta name=\"viewport\" content=\"width=device-width\" />\\n        <meta name=\"robots\" content=\"NOARCHIVE,NOCACHE\" />\\n\\n        <!-- Le HTML5 shim, for IE6-8 support of HTML elements -->\\n        <!--[if lt IE 9]>\\n        <script src=\"//html5shim.googlecode.com/svn/trunk/html5.js\"></script>\\n        <![endif]-->\\n\\n        \\n            <link rel=\"shortcut icon\" href=\"../static/oscar/fav'"
            ]
          },
          "execution_count": 3,
          "metadata": {},
          "output_type": "execute_result"
        }
      ],
      "source": [
        "response.content[:1000]"
      ]
    },
    {
      "cell_type": "markdown",
      "metadata": {
        "id": "wbbgMJVdyFzr"
      },
      "source": [
        "Выглядит неудобоваримо, как насчет сварить из этого дела что-то покрасивее? Например, прекрасный суп.\n",
        "\n",
        "<center>\n",
        "<img align=\"center\" src=\"https://raw.githubusercontent.com/hse-econ-data-science/eds_spring_2020/master/sem05_parsing/image/alisa.jpg\" height=\"200\" width=\"200\"> \n",
        "<center>\n"
      ]
    },
    {
      "cell_type": "markdown",
      "source": [
        "Пакет **[`bs4`](https://www.crummy.com/software/BeautifulSoup/)**, a.k.a **BeautifulSoup** был назван в честь стишка про красивый суп из Алисы в стране чудес. Эта совершенно волшебная библиотека, которая из сырого и необработанного HTML (или XML) кода страницы выдаст вам структурированный массив данных, по которому очень удобно искать необходимые теги, классы, атрибуты, тексты и прочие элементы веб страниц.\n",
        "\n",
        "> Пакет под названием `BeautifulSoup` — скорее всего, не то, что вам нужно. Это третья версия (*Beautiful Soup 3*), а мы будем использовать четвертую. Так что нам нужен пакет `beautifulsoup4`. Чтобы было совсем весело, при импорте нужно указывать другое название пакета — `bs4`, а импортировать функцию под названием `BeautifulSoup`. В общем, сначала легко запутаться, но эти трудности нужно преодолеть однажды, а потом будет проще."
      ],
      "metadata": {
        "id": "fX1DgT8p_2Hn"
      }
    },
    {
      "cell_type": "code",
      "execution_count": null,
      "metadata": {
        "id": "oxdAy3vxyFzs"
      },
      "outputs": [],
      "source": [
        "from bs4 import BeautifulSoup\n",
        "\n",
        "# распарсили страничку в дерево \n",
        "tree = BeautifulSoup(response.content, 'html.parser')"
      ]
    },
    {
      "cell_type": "markdown",
      "metadata": {
        "id": "mOKK8BsiyFzs"
      },
      "source": [
        "Внутри переменной `tree` теперь лежит дерево из тегов, по которому мы можем совершенно спокойно бродить. "
      ]
    },
    {
      "cell_type": "code",
      "execution_count": null,
      "metadata": {
        "id": "kXYwDjVZyFzt",
        "outputId": "a4aef331-48c2-42f6-914c-20d161e0c429"
      },
      "outputs": [
        {
          "data": {
            "text/plain": [
              "<title>\n",
              "    All products | Books to Scrape - Sandbox\n",
              "</title>"
            ]
          },
          "execution_count": 5,
          "metadata": {},
          "output_type": "execute_result"
        }
      ],
      "source": [
        "tree.html.head.title"
      ]
    },
    {
      "cell_type": "markdown",
      "metadata": {
        "id": "Qyk-8WsQyFzt"
      },
      "source": [
        "Можно вытащить из того места, куда мы забрели, текст с помощью метода `text`."
      ]
    },
    {
      "cell_type": "code",
      "execution_count": null,
      "metadata": {
        "id": "rQGfTmIjyFzt",
        "outputId": "fbf45c72-fb3c-4336-c61e-ea0c1ee521ca"
      },
      "outputs": [
        {
          "data": {
            "text/plain": [
              "'\\n    All products | Books to Scrape - Sandbox\\n'"
            ]
          },
          "execution_count": 6,
          "metadata": {},
          "output_type": "execute_result"
        }
      ],
      "source": [
        "tree.html.head.title.text"
      ]
    },
    {
      "cell_type": "markdown",
      "metadata": {
        "id": "-qrSg03PyFzu"
      },
      "source": [
        "С текстом можно работать классическими питоновскими методами. Например, можно избавиться от лишних отступов."
      ]
    },
    {
      "cell_type": "code",
      "execution_count": null,
      "metadata": {
        "id": "FGh0wNPYyFzu",
        "outputId": "f9623630-373c-421d-a47e-2fd9ad503609"
      },
      "outputs": [
        {
          "data": {
            "text/plain": [
              "'All products | Books to Scrape - Sandbox'"
            ]
          },
          "execution_count": 7,
          "metadata": {},
          "output_type": "execute_result"
        }
      ],
      "source": [
        "tree.html.head.title.text.strip()"
      ]
    },
    {
      "cell_type": "markdown",
      "metadata": {
        "id": "9Bf58KwEyFzv"
      },
      "source": [
        "Более того, зная адрес элемента, мы сразу можем найти его. Например, вот так в коде страницы мы можем найти где именно для каждой книги лежит основная информация. Видно, что она находится внутри тега `article`, для которого прописан класс `product_pod` (грубо говоря, в html класс задаёт оформление соотвествующего кусочка страницы). \n",
        "\n",
        "Вытащим инфу о книге из этого тега. "
      ]
    },
    {
      "cell_type": "code",
      "execution_count": null,
      "metadata": {
        "id": "3KGMpbwYyFzv",
        "outputId": "36f4fc81-8f78-4d6e-da0b-1f025f25af44"
      },
      "outputs": [
        {
          "data": {
            "text/plain": [
              "<article class=\"product_pod\">\n",
              "<div class=\"image_container\">\n",
              "<a href=\"a-light-in-the-attic_1000/index.html\"><img alt=\"A Light in the Attic\" class=\"thumbnail\" src=\"../media/cache/2c/da/2cdad67c44b002e7ead0cc35693c0e8b.jpg\"/></a>\n",
              "</div>\n",
              "<p class=\"star-rating Three\">\n",
              "<i class=\"icon-star\"></i>\n",
              "<i class=\"icon-star\"></i>\n",
              "<i class=\"icon-star\"></i>\n",
              "<i class=\"icon-star\"></i>\n",
              "<i class=\"icon-star\"></i>\n",
              "</p>\n",
              "<h3><a href=\"a-light-in-the-attic_1000/index.html\" title=\"A Light in the Attic\">A Light in the ...</a></h3>\n",
              "<div class=\"product_price\">\n",
              "<p class=\"price_color\">£51.77</p>\n",
              "<p class=\"instock availability\">\n",
              "<i class=\"icon-ok\"></i>\n",
              "    \n",
              "        In stock\n",
              "    \n",
              "</p>\n",
              "<form>\n",
              "<button class=\"btn btn-primary btn-block\" data-loading-text=\"Adding...\" type=\"submit\">Add to basket</button>\n",
              "</form>\n",
              "</div>\n",
              "</article>"
            ]
          },
          "execution_count": 8,
          "metadata": {},
          "output_type": "execute_result"
        }
      ],
      "source": [
        "books = tree.find_all('article', {'class' : 'product_pod'})\n",
        "books[0]"
      ]
    },
    {
      "cell_type": "markdown",
      "metadata": {
        "id": "N5l8wi4oyFzw"
      },
      "source": [
        "Полученный после поиска объект также обладает структурой bs4. Поэтому можно продолжить искать нужные нам объекты уже в нём."
      ]
    },
    {
      "cell_type": "code",
      "execution_count": null,
      "metadata": {
        "id": "KwaFARLwyFzw",
        "outputId": "e410b7b8-3524-4b2b-b2f7-bc369b30a976"
      },
      "outputs": [
        {
          "data": {
            "text/plain": [
              "bs4.element.Tag"
            ]
          },
          "execution_count": 9,
          "metadata": {},
          "output_type": "execute_result"
        }
      ],
      "source": [
        "type(books[0])"
      ]
    },
    {
      "cell_type": "code",
      "execution_count": null,
      "metadata": {
        "id": "Z8I99Jt8yFzw",
        "outputId": "eaa6fc55-ba28-42c7-8001-ab72976b2b3a"
      },
      "outputs": [
        {
          "data": {
            "text/plain": [
              "'£51.77'"
            ]
          },
          "execution_count": 10,
          "metadata": {},
          "output_type": "execute_result"
        }
      ],
      "source": [
        "books[0].find('p', {'class': 'price_color'}).text"
      ]
    },
    {
      "cell_type": "markdown",
      "metadata": {
        "id": "gCThyF9hyFzx"
      },
      "source": [
        "Обратите внимание, что для поиска есть как минимум два метода: `find` и `find_all`. Если несколько элементов на странице обладают указанным адресом, то метод `find` вернёт только самый первый. Чтобы найти все элементы с таким адресом, нужно использовать метод `find_all`. На выход будет выдан список.\n",
        "\n",
        "Кроме содержимого у тегов часто есть атрибуты. Например, у названия книги есть атрибуты `title` и `href`: "
      ]
    },
    {
      "cell_type": "code",
      "execution_count": null,
      "metadata": {
        "id": "6jDyArIEyFzx",
        "outputId": "0c197199-797a-47c9-8931-45654e429e6a"
      },
      "outputs": [
        {
          "data": {
            "text/plain": [
              "<h3><a href=\"a-light-in-the-attic_1000/index.html\" title=\"A Light in the Attic\">A Light in the ...</a></h3>"
            ]
          },
          "execution_count": 11,
          "metadata": {},
          "output_type": "execute_result"
        }
      ],
      "source": [
        "books[0].h3"
      ]
    },
    {
      "cell_type": "markdown",
      "metadata": {
        "id": "hTvwwHXbyFzy"
      },
      "source": [
        "Их тоже можно вытащить."
      ]
    },
    {
      "cell_type": "code",
      "execution_count": null,
      "metadata": {
        "id": "pIGf1-yQyFzy",
        "outputId": "e1ffc30d-7791-4d4b-a8ab-65c960c5284c"
      },
      "outputs": [
        {
          "data": {
            "text/plain": [
              "'a-light-in-the-attic_1000/index.html'"
            ]
          },
          "execution_count": 12,
          "metadata": {},
          "output_type": "execute_result"
        }
      ],
      "source": [
        "books[0].h3.a.get('href')"
      ]
    },
    {
      "cell_type": "code",
      "execution_count": null,
      "metadata": {
        "id": "4T1GDl9-yFzy",
        "outputId": "74fb3f98-db87-4655-fdf8-6ad51edf8d01"
      },
      "outputs": [
        {
          "data": {
            "text/plain": [
              "'A Light in the Attic'"
            ]
          },
          "execution_count": 13,
          "metadata": {},
          "output_type": "execute_result"
        }
      ],
      "source": [
        "books[0].h3.a.get('title')"
      ]
    },
    {
      "cell_type": "markdown",
      "metadata": {
        "id": "OXLd9HhSyFzz"
      },
      "source": [
        "А ещё по этим атрибутам можно искать интересующие нас кусочки страницы. "
      ]
    },
    {
      "cell_type": "code",
      "execution_count": null,
      "metadata": {
        "id": "obPOJyF-yFzz",
        "outputId": "03f9203d-7e1d-4520-c321-89b4ad8816a0"
      },
      "outputs": [
        {
          "data": {
            "text/plain": [
              "[<a href=\"a-light-in-the-attic_1000/index.html\" title=\"A Light in the Attic\">A Light in the ...</a>]"
            ]
          },
          "execution_count": 14,
          "metadata": {},
          "output_type": "execute_result"
        }
      ],
      "source": [
        "tree.find_all('a', {'title': 'A Light in the Attic'})"
      ]
    },
    {
      "cell_type": "markdown",
      "metadata": {
        "id": "Hv34WPJkyFzz"
      },
      "source": [
        "Собственно говоря, это всё. \n",
        "\n",
        "Обратите внимание, что на сайте все книги лежат на разных страничках. Если попробовать потыкать их, можно заметить, что в ссылке будет меняться атрибут `page`. Значит, если мы хотим собрать все книги, надо создать кучу ссылок с разным `page` внутри цикла. Когда качаешь данные с более сложных сайтов, в ссылке часто есть огромное количество атрибутов, которые регулируют выдачу.\n",
        "\n",
        "Давайте запишем весь код для сбора книг в виде функции. На вход она будет принимать номер странички, которую надо скачать. "
      ]
    },
    {
      "cell_type": "code",
      "execution_count": null,
      "metadata": {
        "id": "ZXdgCJRryFz0"
      },
      "outputs": [],
      "source": [
        "def get_page(p):\n",
        "    \n",
        "    # изготовили ссылку\n",
        "    url = 'http://books.toscrape.com/catalogue/page-{}.html'.format(p)\n",
        "    \n",
        "    # сходили по ней\n",
        "    response = requests.get(url)\n",
        "    \n",
        "    # построили дерево \n",
        "    tree = BeautifulSoup(response.content, 'html.parser')\n",
        "    \n",
        "    # нашли в нём всё самое интересное\n",
        "    books = tree.find_all('article', {'class' : 'product_pod'})\n",
        "    \n",
        "    infa = [ ]\n",
        "    \n",
        "    for book in books:\n",
        "        infa.append({'price': book.find('p', {'class': 'price_color'}).text,\n",
        "                     'href': book.h3.a.get('href'),\n",
        "                     'title': book.h3.a.get('title')})\n",
        "                     \n",
        "    return infa"
      ]
    },
    {
      "cell_type": "markdown",
      "metadata": {
        "id": "wOyUORwiyFz0"
      },
      "source": [
        "Осталось только пройтись по всем страничкам от page-1 до page-50 циклом и данные у нас в кармане. "
      ]
    },
    {
      "cell_type": "code",
      "execution_count": null,
      "metadata": {
        "id": "RW-WA2r6yFz0"
      },
      "outputs": [],
      "source": [
        "infa = []\n",
        "\n",
        "for p in range(1,51):\n",
        "    infa.extend(get_page(p))"
      ]
    },
    {
      "cell_type": "code",
      "execution_count": null,
      "metadata": {
        "id": "Oa1HEWRNyFz1",
        "outputId": "dc8aeb30-459a-4f30-e15b-f68a0229c7a3"
      },
      "outputs": [
        {
          "name": "stdout",
          "output_type": "stream",
          "text": [
            "(1000, 3)\n"
          ]
        },
        {
          "data": {
            "text/html": [
              "<div>\n",
              "<style scoped>\n",
              "    .dataframe tbody tr th:only-of-type {\n",
              "        vertical-align: middle;\n",
              "    }\n",
              "\n",
              "    .dataframe tbody tr th {\n",
              "        vertical-align: top;\n",
              "    }\n",
              "\n",
              "    .dataframe thead th {\n",
              "        text-align: right;\n",
              "    }\n",
              "</style>\n",
              "<table border=\"1\" class=\"dataframe\">\n",
              "  <thead>\n",
              "    <tr style=\"text-align: right;\">\n",
              "      <th></th>\n",
              "      <th>price</th>\n",
              "      <th>href</th>\n",
              "      <th>title</th>\n",
              "    </tr>\n",
              "  </thead>\n",
              "  <tbody>\n",
              "    <tr>\n",
              "      <th>0</th>\n",
              "      <td>£51.77</td>\n",
              "      <td>a-light-in-the-attic_1000/index.html</td>\n",
              "      <td>A Light in the Attic</td>\n",
              "    </tr>\n",
              "    <tr>\n",
              "      <th>1</th>\n",
              "      <td>£53.74</td>\n",
              "      <td>tipping-the-velvet_999/index.html</td>\n",
              "      <td>Tipping the Velvet</td>\n",
              "    </tr>\n",
              "    <tr>\n",
              "      <th>2</th>\n",
              "      <td>£50.10</td>\n",
              "      <td>soumission_998/index.html</td>\n",
              "      <td>Soumission</td>\n",
              "    </tr>\n",
              "    <tr>\n",
              "      <th>3</th>\n",
              "      <td>£47.82</td>\n",
              "      <td>sharp-objects_997/index.html</td>\n",
              "      <td>Sharp Objects</td>\n",
              "    </tr>\n",
              "    <tr>\n",
              "      <th>4</th>\n",
              "      <td>£54.23</td>\n",
              "      <td>sapiens-a-brief-history-of-humankind_996/index...</td>\n",
              "      <td>Sapiens: A Brief History of Humankind</td>\n",
              "    </tr>\n",
              "  </tbody>\n",
              "</table>\n",
              "</div>"
            ],
            "text/plain": [
              "    price                                               href  \\\n",
              "0  £51.77               a-light-in-the-attic_1000/index.html   \n",
              "1  £53.74                  tipping-the-velvet_999/index.html   \n",
              "2  £50.10                          soumission_998/index.html   \n",
              "3  £47.82                       sharp-objects_997/index.html   \n",
              "4  £54.23  sapiens-a-brief-history-of-humankind_996/index...   \n",
              "\n",
              "                                   title  \n",
              "0                   A Light in the Attic  \n",
              "1                     Tipping the Velvet  \n",
              "2                             Soumission  \n",
              "3                          Sharp Objects  \n",
              "4  Sapiens: A Brief History of Humankind  "
            ]
          },
          "execution_count": 17,
          "metadata": {},
          "output_type": "execute_result"
        }
      ],
      "source": [
        "import pandas as pd\n",
        "\n",
        "df = pd.DataFrame(infa)\n",
        "print(df.shape)\n",
        "df.head()"
      ]
    },
    {
      "cell_type": "markdown",
      "metadata": {
        "id": "YUoIiB-yyFz1"
      },
      "source": [
        "Кстати говоря, если перейти по ссылке в саму книгу, там о ней будет куча дополнительной информации. Можно пройтись по всем ссылкам и выкачать себе по ним дополнительную информацию. "
      ]
    },
    {
      "cell_type": "markdown",
      "metadata": {
        "id": "CFDi7RChyFz1"
      },
      "source": [
        "# 2. Что делать, если сервер разозлился\n",
        "\n",
        "Вы решили собрать себе немного данных...\n",
        "* Error 403, 404, 504, $\\ldots$ \n",
        "* Требования зарегистрироваться\n",
        "* Заботливые сообщения, что с вашего устройства обнаружен подозрительный трафик\n",
        "\n",
        "<center>\n",
        "<img src=\"https://raw.githubusercontent.com/hse-econ-data-science/eds_spring_2020/master/sem05_parsing/image/doge.jpg\" width=\"450\"> "
      ]
    },
    {
      "cell_type": "markdown",
      "metadata": {
        "id": "nc9LepLfyFz2"
      },
      "source": [
        "## а) быть терпеливым \n",
        "\n",
        "* Слишком частые запросы раздражают сервер\n",
        "* Ставьте между ними временные задержки "
      ]
    },
    {
      "cell_type": "code",
      "execution_count": null,
      "metadata": {
        "id": "ZJUR-FRsyFz2"
      },
      "outputs": [],
      "source": [
        "import time\n",
        "time.sleep(3) # и пусть весь мир подождёт 3 секунды"
      ]
    },
    {
      "cell_type": "markdown",
      "metadata": {
        "id": "tsA18Gi8yFz2"
      },
      "source": [
        "## б) быть похожим на человека\n",
        "\n",
        "\n",
        "Запрос нормального человека через браузер выглядит так: \n",
        "\n",
        "<center>\n",
        "<img src=\"https://raw.githubusercontent.com/hse-econ-data-science/eds_spring_2020/master/sem05_parsing/image/browser_get.png\" width=\"600\"> \n",
        " \n"
      ]
    },
    {
      "cell_type": "markdown",
      "source": [
        "С ним на сервер попадает куча информации! Запрос от питона выглядит так: \n",
        "\n",
        "<center>\n",
        "<img src=\"https://raw.githubusercontent.com/hse-econ-data-science/eds_spring_2020/master/sem05_parsing/image/python_get.jpg\" width=\"250\"> \n",
        "\n",
        "\n"
      ],
      "metadata": {
        "id": "rLHSKAYd-PJh"
      }
    },
    {
      "cell_type": "markdown",
      "source": [
        "Заметили разницу?  Очевидно, что нашему скромному запросу не тягаться с таким обилием мета-информации, которое передается при запросе из обычного браузера. К счастью, никто нам не мешает притвориться человечными и пустить пыль в глаза сервера при помощи генерации фейкового юзер-агента. Библиотек, которые справляются с такой задачей, существует очень и очень много, лично мне больше всего нравится [fake-useragent.](https://pypi.org/project/fake-useragent/) При вызове метода из различных кусочков будет генерироваться рандомное сочетание операционной системы, спецификаций и версии браузера, которые можно передавать в запрос:"
      ],
      "metadata": {
        "id": "vaGgsl7p-Jf7"
      }
    },
    {
      "cell_type": "code",
      "execution_count": null,
      "metadata": {
        "id": "cwrTh1M8yFz3",
        "outputId": "bf9b56cf-5f07-4b64-c48f-400b0b61c863"
      },
      "outputs": [
        {
          "name": "stdout",
          "output_type": "stream",
          "text": [
            "Collecting fake_useragent\n",
            "  Using cached fake_useragent-0.1.11-py3-none-any.whl\n",
            "Installing collected packages: fake-useragent\n",
            "Successfully installed fake-useragent-0.1.11\n"
          ]
        }
      ],
      "source": [
        "# не забываем устанавливать библиотеки\n",
        "\n",
        "#!pip install fake_useragent"
      ]
    },
    {
      "cell_type": "code",
      "execution_count": null,
      "metadata": {
        "id": "yOpSAU89yFz3",
        "outputId": "f1cfeee3-e627-4ffa-e813-f84a22a6c330"
      },
      "outputs": [
        {
          "name": "stderr",
          "output_type": "stream",
          "text": [
            "Error occurred during loading data. Trying to use cache server https://fake-useragent.herokuapp.com/browsers/0.1.11\n",
            "Traceback (most recent call last):\n",
            "  File \"C:\\Users\\Public\\anaconda3\\lib\\site-packages\\fake_useragent\\utils.py\", line 154, in load\n",
            "    for item in get_browsers(verify_ssl=verify_ssl):\n",
            "  File \"C:\\Users\\Public\\anaconda3\\lib\\site-packages\\fake_useragent\\utils.py\", line 99, in get_browsers\n",
            "    html = html.split('<table class=\"w3-table-all notranslate\">')[1]\n",
            "IndexError: list index out of range\n"
          ]
        },
        {
          "data": {
            "text/plain": [
              "'Mozilla/5.0 (Macintosh; Intel Mac OS X 10_8_3) AppleWebKit/537.36 (KHTML, like Gecko) Chrome/27.0.1453.93 Safari/537.36'"
            ]
          },
          "execution_count": 21,
          "metadata": {},
          "output_type": "execute_result"
        }
      ],
      "source": [
        "from fake_useragent import UserAgent\n",
        "UserAgent().chrome"
      ]
    },
    {
      "cell_type": "markdown",
      "metadata": {
        "id": "QfN6luoTyFz3"
      },
      "source": [
        "Например, https://knowyourmeme.com/ не захочет пускать к себе python и выдаст ошибку 403. Она выдается сервером, если он доступен и способен обрабатывать запросы, но по некоторым личным причинам отказывается это делать."
      ]
    },
    {
      "cell_type": "code",
      "execution_count": null,
      "metadata": {
        "id": "UKWOrcc3yFz3",
        "outputId": "8c4015d8-90ef-4711-eed3-1bcca5360c44"
      },
      "outputs": [
        {
          "data": {
            "text/plain": [
              "<Response [403]>"
            ]
          },
          "execution_count": 22,
          "metadata": {},
          "output_type": "execute_result"
        }
      ],
      "source": [
        "url = 'https://knowyourmeme.com/'\n",
        "\n",
        "response = requests.get(url)\n",
        "response"
      ]
    },
    {
      "cell_type": "markdown",
      "metadata": {
        "id": "y6P6gSr7yFz4"
      },
      "source": [
        "А если сгенерировать User-Agent, вопросов у сервера не возникнет. "
      ]
    },
    {
      "cell_type": "code",
      "execution_count": null,
      "metadata": {
        "id": "tV4otMgiyFz4",
        "outputId": "14cced6b-de00-472f-ddbf-2aa85fe39e47"
      },
      "outputs": [
        {
          "data": {
            "text/plain": [
              "<Response [200]>"
            ]
          },
          "execution_count": 23,
          "metadata": {},
          "output_type": "execute_result"
        }
      ],
      "source": [
        "response = requests.get(url, headers={'User-Agent': UserAgent().chrome})\n",
        "response"
      ]
    },
    {
      "cell_type": "markdown",
      "metadata": {
        "id": "NKKHnfBLyFz4"
      },
      "source": [
        "__Другой пример:__ если захотите спарсить ЦИАН, он начнет вам выдавать капчу. Один из вариантов обхода: менять ip через тор. Однако на практически каждый запрос из-под тора, ЦИАН будет выдавать капчу. Если добавить в запрос `User_Agent`, то капча будет вылезать намного реже. "
      ]
    },
    {
      "cell_type": "markdown",
      "metadata": {
        "id": "cMUu0mm_yFz5"
      },
      "source": [
        "## в) общаться через посредников\n",
        "\n",
        "<center>\n",
        "<img src=\"https://raw.githubusercontent.com/hse-econ-data-science/eds_spring_2020/master/sem05_parsing/image/proxy.jpeg\" width=\"400\"> "
      ]
    },
    {
      "cell_type": "markdown",
      "metadata": {
        "id": "arMlo9S9yFz5"
      },
      "source": [
        "Посмотрим на свой ip-адрес без прокси. "
      ]
    },
    {
      "cell_type": "code",
      "execution_count": null,
      "metadata": {
        "id": "LeShKnKDyFz5",
        "outputId": "2de4ff50-b0bd-4721-c573-a3dcba47c7d1"
      },
      "outputs": [
        {
          "name": "stdout",
          "output_type": "stream",
          "text": [
            "{'origin': '89.109.46.184'}\n"
          ]
        }
      ],
      "source": [
        "r = requests.get('https://httpbin.org/ip')\n",
        "print(r.json())"
      ]
    },
    {
      "cell_type": "markdown",
      "metadata": {
        "id": "fECAq7QayFz5"
      },
      "source": [
        "А теперь попробуем посмотреть, что будет если подключить прокси."
      ]
    },
    {
      "cell_type": "code",
      "execution_count": null,
      "metadata": {
        "id": "_Zf5gVcZyFz6",
        "outputId": "9e497193-07d4-4aff-a78f-d827e43596d1"
      },
      "outputs": [
        {
          "name": "stdout",
          "output_type": "stream",
          "text": [
            "{'origin': '89.109.46.184'}\n"
          ]
        }
      ],
      "source": [
        "proxies = {\n",
        "    'http': '89.109.46.184'}\n",
        "\n",
        "r = requests.get('https://httpbin.org/ip', proxies=proxies)\n",
        "\n",
        "print(r.json())"
      ]
    },
    {
      "cell_type": "markdown",
      "metadata": {
        "id": "unx_scOqyFz6"
      },
      "source": [
        "Запрос работал немного подольше, ip адрес сменился. Большая часть проксей, которые вы найдёте работают криво. Иногда запрос идёт очень долго и выгоднее сбросить его и попробовать другую проксю. Это можно настроить опцией `timeout`.  Например, так если сервер не будет отвечать секунду, код упадёт. "
      ]
    },
    {
      "cell_type": "code",
      "execution_count": null,
      "metadata": {
        "id": "UZej0dN0yFz6",
        "outputId": "bd878a66-21f0-47e8-ce80-880311e285b2"
      },
      "outputs": [
        {
          "data": {
            "text/plain": [
              "<Response [200]>"
            ]
          },
          "execution_count": 27,
          "metadata": {},
          "output_type": "execute_result"
        }
      ],
      "source": [
        "import requests\n",
        "requests.get('http://www.google.com', timeout=1)"
      ]
    },
    {
      "cell_type": "markdown",
      "metadata": {
        "id": "_5qsDCVpyFz7"
      },
      "source": [
        "У requests есть довольно много разных интересных примочек. Посмотреть на них можно в [гайде из документации.](https://requests.readthedocs.io/en/master/user/advanced/)\n",
        "\n",
        "\n",
        "__Где можно попытаться раздобыть списки прокси:__ \n",
        "\n",
        "* https://qna.habr.com/q/591069\n",
        "* https://getfreeproxylists.blogspot.com/\n",
        "* Большая часть бесплатных прокси обычно не работает. Пишите парсер, который будет собирать списки из проксей и пытаться применить их. "
      ]
    },
    {
      "cell_type": "markdown",
      "metadata": {
        "id": "BkV8TGqxyFz7"
      },
      "source": [
        "## г) уходить глубже \n",
        "\n",
        "<center>\n",
        "<img src=\"https://raw.githubusercontent.com/hse-econ-data-science/eds_spring_2020/master/sem05_parsing/image/tor.jpg\" width=\"600\"> \n",
        "\n"
      ]
    },
    {
      "cell_type": "markdown",
      "source": [
        "Можно попытаться обходить злые сервера через тор. Есть аж несколько способов, но мы про это говорить не будем. Лучше подробно почитать в нашей статье на Хабр, [т.е. тут](https://habr.com/ru/company/ods/blog/346632/)."
      ],
      "metadata": {
        "id": "Gx7ufJnRAszd"
      }
    },
    {
      "cell_type": "markdown",
      "metadata": {
        "id": "F4LKqIQdyFz7"
      },
      "source": [
        "## Совместить всё? \n",
        "\n",
        "1. Начните с малого.\n",
        "2. Если продолжает банить, накидывайте новые примочки.\n",
        "3. Каждая новая примочка бьёт по скорости.\n",
        "4. [Разные примочки для requests](http://docs.python-requests.org/en/v0.10.6/user/advanced/)."
      ]
    },
    {
      "cell_type": "markdown",
      "metadata": {
        "id": "HoaxifhgyFz8"
      },
      "source": [
        "# 3. API \n",
        "\n",
        "__API (Application Programming Interface)__ — это уже готовый код, который можно всунуть в свой код! Многие сервисы, в том числе Google и Вконтакте, предоставляют свои уже готовые решения для вашей разработки.\n",
        "\n",
        "Примеры: \n",
        "\n",
        "* [Контактовский API](https://vk.com/dev/methods)\n",
        "* [API twitter](https://developer.twitter.com/en/docs.html) \n",
        "* [API youtube](https://developers.google.com/youtube/v3/)\n",
        "* [API google maps](https://developers.google.com/maps/documentation/) \n",
        "* [Aviasales](https://www.aviasales.ru/API)\n",
        "* [Yandex Translate](https://yandex.ru/dev/translate/)\n",
        "\n",
        "Оно есть почти везде! На этом семинаре мы посмотрим на на API контакта."
      ]
    },
    {
      "cell_type": "markdown",
      "metadata": {
        "id": "A1MI8g8myFz8"
      },
      "source": [
        "## 3.1 API vk\n",
        "\n",
        "Зачем может понадобиться доступ к API контакта, думаю, объяснять не надо. Социальная сетка — это тонны различной полезной информации, которую можно заиспользовать для своего рисёрча. [В документации](https://vk.com/dev/manuals) очень подробно описано как можно работать с API контакта и к чему это приводит. \n",
        "\n",
        "Но для начала к API нужно получить доступ. Для этого придётся пройти пару бюрократических процедур (о, боже, эти два предложения были так бюрократически сформулированы, что мне захотелось отстоять в очереди).\n",
        "\n",
        "Первая такая процедура заключается в создании своего приложения. Для этого переходим по [ссылке](http://vk.com/editapp?act=create) и проходимся по необходимым шагам:\n",
        "\n",
        "<img align=\"center\" src=\"https://raw.githubusercontent.com/hse-econ-data-science/eds_spring_2020/master/sem05_parsing/image/app_creation_1.png\" width=\"500\">\n",
        "\n",
        "После подтверждения своей личности по номеру телефона, попадаем на страницу свежесозданного приложения\n",
        "\n",
        "<img align=\"center\" src=\"https://raw.githubusercontent.com/hse-econ-data-science/eds_spring_2020/master/sem05_parsing/image/app_creation_2.png\" width=\"500\">\n",
        "\n",
        "Слева нам будем доступна вкладка с настройками, перейдя в неё мы увидим все необходимые нам для работы с приложением параметры:\n",
        "<img align=\"center\" src=\"https://raw.githubusercontent.com/hse-econ-data-science/eds_spring_2020/master/sem05_parsing/image/app_creation_3.png\" width=\"500\">\n",
        "\n",
        "Отсюда в качестве токена можно забрать сервисный ключ доступа. Для работы с частью методов API этого вполне достаточно (обычно в заголовке такого метода стоит соответствующая пометка). Иногда нужны дополнительные доступы. Для того, чтобы получить их, необходимо сделать ещё пару странных манипуляций:\n",
        "\n",
        "Переходим по ссылке вида (на месте звездочек должен стоять ID созданного вами приложения):\n",
        "\n",
        "> https://oauth.vk.com/authorize?client_id=**********&scope=8198&redirect_uri=https://oauth.vk.com/blank.html&display=page&v=5.16&response_type=token\n",
        "\n",
        "В итоге по этому запросу будет сформирована ссылка следующего вида:\n",
        "> https://oauth.vk.com/blank.html#access_token=25b636116ef40e0718fe4d9f382544fc28&expires_in=86400&user_id=*******\n",
        "\n",
        "Первый набор знаков — `access token`, т.е. маркер доступа. Вторая цифра (`expires_in=`) время работы маркера доступа в секундах (одни сутки). По истечению суток нужно будет получить новый маркер доступа. Последняя цифра (`user_id=`) ваш ID Вконтакте. Нам в дальнейшем понадобится маркер доступа. Для удобства сохраним его в отдельном файле или экспортируем в глобальную область видимости. В целях безопасности ваших данных не стоит нигде светить токенами и тем более выкладывать их в открытый доступ. __Так можно и аккаунта случайно лишиться.__ Берегите токен смолоду. \n",
        "\n",
        "Обратите внимание на ссылку, по которой мы делали запрос на предоставление токена. Внутри неё находится странный параметр `scope=8198.` Это мы просим доступ к конкретным разделам. Подробнее познакомиться с взаимно-однозначным соответствием между числами и правами можно [в документации.](https://vk.com/dev/permissions) Например, если мы хотим получить доступ к друзьям, фото и стенам, мы подставим в scope цифру 2+4++8192=8198."
      ]
    },
    {
      "cell_type": "code",
      "execution_count": null,
      "metadata": {
        "id": "CmXOIFnDyFz8",
        "outputId": "d302d0cd-9f19-4763-a373-2a390d84aea9"
      },
      "outputs": [
        {
          "data": {
            "text/plain": [
              "'C:\\\\Users\\\\Виолетта'"
            ]
          },
          "execution_count": 139,
          "metadata": {},
          "output_type": "execute_result"
        }
      ],
      "source": [
        "# посмотреть директорию по умолчанию, чтобы добавить в нее файл с токеном\n",
        "\n",
        "import os\n",
        "os.getcwd()"
      ]
    },
    {
      "cell_type": "code",
      "execution_count": null,
      "metadata": {
        "id": "2yCRBDIUyFz9"
      },
      "outputs": [],
      "source": [
        "# мой номер странички\n",
        "myid = 'davydovaviolet'  # вставить id странички\n",
        "\n",
        "# версия используемого API\n",
        "version = '5.103' \n",
        "\n",
        "# подгружаем токен из файлика на компьютере\n",
        "with open('secret_token.txt') as f:\n",
        "    token = f.read()"
      ]
    },
    {
      "cell_type": "markdown",
      "metadata": {
        "id": "T9mK80OVyFz9"
      },
      "source": [
        "Чтобы скачать что-то из контакта, надо сделать ссылку и сходить по ней пакетом `requests`. Ссылка должна будет включать в себя метод (что мы просим у вк) и параметры (насколько много и как именно). Мы будем просто заменять эти две штуки и выкачивать разные вещи. "
      ]
    },
    {
      "cell_type": "code",
      "execution_count": null,
      "metadata": {
        "id": "haOhtlRayFz9",
        "outputId": "af2f97d3-9014-41d0-867f-eb7bab8bf662"
      },
      "outputs": [
        {
          "data": {
            "text/plain": [
              "{'response': [{'id': 218706293,\n",
              "   'first_name': 'Violetta',\n",
              "   'last_name': 'Davydova',\n",
              "   'can_access_closed': False,\n",
              "   'is_closed': True}]}"
            ]
          },
          "execution_count": 41,
          "metadata": {},
          "output_type": "execute_result"
        }
      ],
      "source": [
        "method = 'users.get'\n",
        "parameters = 'user_ids=davydovaviolet'\n",
        "\n",
        "url = 'https://api.vk.com/method/' + method + '?' + parameters + '&v=' + version + '&access_token=' + token\n",
        "\n",
        "response = requests.get(url) \n",
        "response.json()"
      ]
    },
    {
      "cell_type": "markdown",
      "metadata": {
        "id": "B3tFkyZ9yFz9"
      },
      "source": [
        "В ответ на наш запрос vk выкидывает JSON с информацией. JSON очень похож на птонячие словарики. Смысл квадратных и фигурных скобок такой же. Правда, есть и отличия: например, в Python одинарные и двойные кавычки ничем не отличаются, а в JSON можно использовать только двойные. \n",
        "\n",
        "Мы видим, что полученный нами JSON представляет собой словарь, значения которого — строки или числа, а также списки или словари, значения которых в свою очередь также могут быть строками, числами, списками, словарями и т.д. То есть получается такая довольно сложная структура данных, из которой можно вытащить всё то, что нас интересует. "
      ]
    },
    {
      "cell_type": "code",
      "execution_count": null,
      "metadata": {
        "id": "huon-2SGyFz-",
        "outputId": "1e8359c6-6ff3-4448-b51e-180baf76c7a2"
      },
      "outputs": [
        {
          "data": {
            "text/plain": [
              "'Violetta'"
            ]
          },
          "execution_count": 42,
          "metadata": {},
          "output_type": "execute_result"
        }
      ],
      "source": [
        "response.json()['response'][0]['first_name']"
      ]
    },
    {
      "cell_type": "markdown",
      "metadata": {
        "id": "w_avHlI-yFz-"
      },
      "source": [
        "[В документации](https://vk.com/dev/manuals) очень подробно описано какие есть методы и какие у них бывают параметры.  Давайте завернём код выше в функцию и попробуем что-нибудь скачать."
      ]
    },
    {
      "cell_type": "code",
      "execution_count": null,
      "metadata": {
        "id": "DlAY4LD8yFz-"
      },
      "outputs": [],
      "source": [
        "def vk_download(method, parameters):\n",
        "    \n",
        "    url = 'https://api.vk.com/method/' + method + '?' + parameters + '&access_token=' + token + '&v=' + version\n",
        "    response = requests.get(url) \n",
        "    infa = response.json()\n",
        "    return infa"
      ]
    },
    {
      "cell_type": "markdown",
      "metadata": {
        "id": "pycfREhsyFz-"
      },
      "source": [
        "Например, все лайки с [хайер скул оф мемс.](https://vk.com/hsemem)"
      ]
    },
    {
      "cell_type": "code",
      "execution_count": null,
      "metadata": {
        "id": "rzJM0b8myFz_"
      },
      "outputs": [],
      "source": [
        "group_id = '-139105204'  # взяли из ссылки на группу"
      ]
    },
    {
      "cell_type": "code",
      "execution_count": null,
      "metadata": {
        "id": "jwbksTvhyFz_"
      },
      "outputs": [],
      "source": [
        "wall = vk_download('wall.get', 'owner_id={}&count=100'.format(group_id))\n",
        "wall = wall['response']"
      ]
    },
    {
      "cell_type": "code",
      "execution_count": null,
      "metadata": {
        "id": "jtzZOg-syFz_",
        "outputId": "b486edb0-1a6e-4c87-f648-5e7498f88739"
      },
      "outputs": [
        {
          "data": {
            "text/plain": [
              "{'id': 81014,\n",
              " 'from_id': -139105204,\n",
              " 'owner_id': -139105204,\n",
              " 'date': 1631882646,\n",
              " 'marked_as_ads': 0,\n",
              " 'post_type': 'post',\n",
              " 'text': 'Нашему редактору Марии Платоновой суд назначил домашний арест на время следствия.\\n\\nМаше предстоит еще много препятствий и судебных заседаний на пути к свободе, которую у неё незаслуженно забрали. В частности, в ближайшие недели предстоит апелляция в Мосгорсуде.\\n\\nОгромное количество поручительств за Машу от друзей, родственников и коллег сегодня, возможно, сыграли не малую роль в решении суда.\\n\\n(ЭТО НЕ ПРИЗЫВ, ПОДПИСЫВАЙТЕ ПОРУЧИТЕЛЬСТВО ТОЛЬКО ПРИ ЖЕЛАНИИ)\\n\\nПоручительство в Мосгорсуд: https://docs.google.com/document/d/1bWMYdWmsyQ102Cslh--sUthlwlPoRYxSpZnt19pzCL8/edit\\nСкидывать в телеграме: t.me/j_akhtarieva\\n\\nИли принести по адресу:\\nПлетешковский пер. 8 стр.1 «Открытое Пространство»\\nс 13:00 до 23:00 (вт-сб)\\nс 13:00 до 21:00 (вскр-пн)\\n\\n(ЭТО НЕ ПРИЗЫВ, ПОДПИСЫВАЙТЕ ПОРУЧИТЕЛЬСТВО ТОЛЬКО ПРИ ЖЕЛАНИИ)\\n\\nСпасибо всем небезразличным\\n#свободумашеплатоновой',\n",
              " 'is_pinned': 1,\n",
              " 'attachments': [{'type': 'photo',\n",
              "   'photo': {'album_id': -7,\n",
              "    'date': 1631882646,\n",
              "    'id': 457262524,\n",
              "    'owner_id': -139105204,\n",
              "    'access_key': 'ee540b6ae5c14257b1',\n",
              "    'sizes': [{'height': 97,\n",
              "      'url': 'https://sun9-42.userapi.com/sun9-1/impf/pdl58gfzQ7Y9m4kBafJFvujt5Bsu852_jhySLg/pJbc0W5iz8E.jpg?size=130x97&quality=96&sign=1814f807ba142d64803c015d97b384fc&c_uniq_tag=7-srTqYp5Qe6fYD0PjZrJsI8j6hZPgHojTQ2EeIlJAQ&type=album',\n",
              "      'type': 'm',\n",
              "      'width': 130},\n",
              "     {'height': 98,\n",
              "      'url': 'https://sun9-42.userapi.com/sun9-1/impf/pdl58gfzQ7Y9m4kBafJFvujt5Bsu852_jhySLg/pJbc0W5iz8E.jpg?size=130x97&quality=96&sign=1814f807ba142d64803c015d97b384fc&c_uniq_tag=7-srTqYp5Qe6fYD0PjZrJsI8j6hZPgHojTQ2EeIlJAQ&type=album',\n",
              "      'type': 'o',\n",
              "      'width': 130},\n",
              "     {'height': 150,\n",
              "      'url': 'https://sun9-42.userapi.com/sun9-1/impf/pdl58gfzQ7Y9m4kBafJFvujt5Bsu852_jhySLg/pJbc0W5iz8E.jpg?size=200x150&quality=96&sign=4be6f4ec46ccf05b02d47e29bda842bd&c_uniq_tag=NVT6pvFx4zzDwf1__m0SeS0cfrLtc6G15EFbZ-cWWUc&type=album',\n",
              "      'type': 'p',\n",
              "      'width': 200},\n",
              "     {'height': 240,\n",
              "      'url': 'https://sun9-42.userapi.com/sun9-1/impf/pdl58gfzQ7Y9m4kBafJFvujt5Bsu852_jhySLg/pJbc0W5iz8E.jpg?size=320x240&quality=96&sign=a92598c00d88ff8ca0ea85ac75f2b604&c_uniq_tag=ZwTUgJJbaY6j1qCsyvgFoNvYbQ1NSTehIivmIzjFbKE&type=album',\n",
              "      'type': 'q',\n",
              "      'width': 320},\n",
              "     {'height': 383,\n",
              "      'url': 'https://sun9-42.userapi.com/sun9-1/impf/pdl58gfzQ7Y9m4kBafJFvujt5Bsu852_jhySLg/pJbc0W5iz8E.jpg?size=510x382&quality=96&sign=be37a6072f0905c5cc0aed1d9746872d&c_uniq_tag=6GQo_xhoKmOb43BkxLpBTJXFUAchBROJ_AN0VP2bJKc&type=album',\n",
              "      'type': 'r',\n",
              "      'width': 510},\n",
              "     {'height': 56,\n",
              "      'url': 'https://sun9-42.userapi.com/sun9-1/impf/pdl58gfzQ7Y9m4kBafJFvujt5Bsu852_jhySLg/pJbc0W5iz8E.jpg?size=75x56&quality=96&sign=0a5fcebb1adb310d9c6b64c41c06e522&c_uniq_tag=RCaM0E72-91Etk3tv-ezNoBdmZKy-ffjQ9V132xHjDY&type=album',\n",
              "      'type': 's',\n",
              "      'width': 75},\n",
              "     {'height': 453,\n",
              "      'url': 'https://sun9-42.userapi.com/sun9-1/impf/pdl58gfzQ7Y9m4kBafJFvujt5Bsu852_jhySLg/pJbc0W5iz8E.jpg?size=604x453&quality=96&sign=fa1a90712d227b9e4dfcef4591b65c25&c_uniq_tag=Jbw0eGNOhGBsALOcD1GhRCxjTUYzW0bi04SqdqdZfrM&type=album',\n",
              "      'type': 'x',\n",
              "      'width': 604},\n",
              "     {'height': 605,\n",
              "      'url': 'https://sun9-42.userapi.com/sun9-1/impf/pdl58gfzQ7Y9m4kBafJFvujt5Bsu852_jhySLg/pJbc0W5iz8E.jpg?size=807x605&quality=96&sign=02618558f3d5ce0bf6ee032557aa00a0&c_uniq_tag=WpBQ1eLmmewrV-fhhrXmh6Rg55aRD7k3aVNZXaBF_d0&type=album',\n",
              "      'type': 'y',\n",
              "      'width': 807},\n",
              "     {'height': 960,\n",
              "      'url': 'https://sun9-42.userapi.com/sun9-1/impf/pdl58gfzQ7Y9m4kBafJFvujt5Bsu852_jhySLg/pJbc0W5iz8E.jpg?size=1280x960&quality=96&sign=9c8c46e1a143ff883a08b65fa0ee33f7&c_uniq_tag=HDgKx0u6OdDBfsoerDIc2Yd4pqpG8aRODFUWrVzv9b8&type=album',\n",
              "      'type': 'z',\n",
              "      'width': 1280}],\n",
              "    'text': '',\n",
              "    'user_id': 100}},\n",
              "  {'type': 'link',\n",
              "   'link': {'url': 'https://docs.google.com/document/d/1bWMYdWmsyQ102Cslh--sUthlwlPoRYxSpZnt19pzCL8/edit',\n",
              "    'title': 'Поручительство Мосгорсуд',\n",
              "    'description': 'В Московской городской суд ул. Богородский вал., 8 г. Москва, 107076 ЛИЧНОЕ ПОРУЧИТЕЛЬСТВО (в порядке ст. 103 УПК) Я, _________________________________________________________________, место работы (учебы), должность_____________________________________________, паспорт серия ______...',\n",
              "    'target': 'internal',\n",
              "    'photo': {'album_id': -28,\n",
              "     'date': 1631882650,\n",
              "     'id': 457360771,\n",
              "     'owner_id': 2000025300,\n",
              "     'sizes': [{'height': 480,\n",
              "       'url': 'https://sun9-42.userapi.com/sun9-49/impf/7hpYCc4seMi4Lq1Y3pK15ZpIo50dOmX2MzRJwA/AKwS0Gkjl7Y.jpg?size=1074x480&quality=96&sign=9e78b6c6aea09ae2948b6c551ed9efcf&c_uniq_tag=0JI1ARF2m0UAQ_97yv1DFOHH2RkDUzRPxzV1PtwqP8U&type=share',\n",
              "       'type': 'k',\n",
              "       'width': 1074},\n",
              "      {'height': 240,\n",
              "       'url': 'https://sun9-42.userapi.com/sun9-49/impf/7hpYCc4seMi4Lq1Y3pK15ZpIo50dOmX2MzRJwA/AKwS0Gkjl7Y.jpg?size=537x240&quality=96&sign=6358d638670f6d8a79510c136bb43a87&c_uniq_tag=PaKFDTwGc4m5EOOspOxNIe5ZyKFJeYU1_FCY7qO-gn8&type=share',\n",
              "       'type': 'l',\n",
              "       'width': 537},\n",
              "      {'height': 70,\n",
              "       'url': 'https://sun9-42.userapi.com/sun9-49/impf/7hpYCc4seMi4Lq1Y3pK15ZpIo50dOmX2MzRJwA/AKwS0Gkjl7Y.jpg?size=130x80&quality=96&crop=147,0,780,480&sign=bc1102106189a7c03c3d839249dac98a&c_uniq_tag=gNoJ4d7P_Nz5rL1mR62nbyQ8oySTEILzZ5-mWr9VeSw&type=share',\n",
              "       'type': 'm',\n",
              "       'width': 130},\n",
              "      {'height': 140,\n",
              "       'url': 'https://sun9-42.userapi.com/sun9-49/impf/7hpYCc4seMi4Lq1Y3pK15ZpIo50dOmX2MzRJwA/AKwS0Gkjl7Y.jpg?size=260x140&quality=96&crop=91,0,891,480&sign=d186064d899da8ae8e3fb5d312727e47&c_uniq_tag=N5C0EaPO_SmeNgmOX0mLRmWDgM7_q6xz6MLiSIsf93Q&type=share',\n",
              "       'type': 'p',\n",
              "       'width': 260},\n",
              "      {'height': 39,\n",
              "       'url': 'https://sun9-42.userapi.com/sun9-49/impf/7hpYCc4seMi4Lq1Y3pK15ZpIo50dOmX2MzRJwA/AKwS0Gkjl7Y.jpg?size=75x35&quality=96&crop=22,0,1029,480&sign=669a3c136cd4c4f295f1534af1bdcb80&c_uniq_tag=4UalTGaWlgtCZTj3G1Ps-9Xew0GWYk8vDrWi4BzXaBY&type=share',\n",
              "       'type': 's',\n",
              "       'width': 75},\n",
              "      {'height': 80,\n",
              "       'url': 'https://sun9-42.userapi.com/sun9-49/impf/7hpYCc4seMi4Lq1Y3pK15ZpIo50dOmX2MzRJwA/AKwS0Gkjl7Y.jpg?size=150x80&quality=96&crop=87,0,900,480&sign=623e18770e28d479740ac8df8feb55c1&c_uniq_tag=1xC1FN3bvjP6fJHI3Nv9M_BSgYySgNqWNwTooWMrdfQ&type=share',\n",
              "       'type': 'x',\n",
              "       'width': 150}],\n",
              "     'text': '',\n",
              "     'user_id': 100}}}],\n",
              " 'post_source': {'platform': 'iphone', 'type': 'api'},\n",
              " 'comments': {'can_post': 1, 'count': 9, 'groups_can_post': True},\n",
              " 'likes': {'can_like': 1, 'count': 1182, 'user_likes': 0, 'can_publish': 1},\n",
              " 'reposts': {'count': 293, 'user_reposted': 0},\n",
              " 'views': {'count': 268437},\n",
              " 'edited': 1631891776,\n",
              " 'hash': 'f3WH2qa4n3daOnQ55w'}"
            ]
          },
          "execution_count": 46,
          "metadata": {},
          "output_type": "execute_result"
        }
      ],
      "source": [
        "wall['items'][0]"
      ]
    },
    {
      "cell_type": "code",
      "execution_count": null,
      "metadata": {
        "id": "FRFLSIvlyFz_",
        "outputId": "67955224-16db-423d-97b6-fce002fef165"
      },
      "outputs": [
        {
          "data": {
            "text/plain": [
              "1182"
            ]
          },
          "execution_count": 47,
          "metadata": {},
          "output_type": "execute_result"
        }
      ],
      "source": [
        "wall['items'][0]['likes']['count']"
      ]
    },
    {
      "cell_type": "code",
      "execution_count": null,
      "metadata": {
        "collapsed": true,
        "id": "KqEHtpyCyF0A",
        "outputId": "cf0aa4c6-c142-4049-a265-8482d436d23d"
      },
      "outputs": [
        {
          "data": {
            "text/plain": [
              "[1182,\n",
              " 110,\n",
              " 532,\n",
              " 16,\n",
              " 985,\n",
              " 511,\n",
              " 361,\n",
              " 816,\n",
              " 744,\n",
              " 438,\n",
              " 1028,\n",
              " 435,\n",
              " 868,\n",
              " 1226,\n",
              " 111,\n",
              " 1423,\n",
              " 1347,\n",
              " 3317,\n",
              " 412,\n",
              " 55,\n",
              " 2419,\n",
              " 697,\n",
              " 1589,\n",
              " 1184,\n",
              " 376,\n",
              " 624,\n",
              " 46,\n",
              " 364,\n",
              " 748,\n",
              " 139,\n",
              " 462,\n",
              " 340,\n",
              " 621,\n",
              " 1935,\n",
              " 97,\n",
              " 261,\n",
              " 659,\n",
              " 1142,\n",
              " 999,\n",
              " 1210,\n",
              " 2878,\n",
              " 1000,\n",
              " 555,\n",
              " 2248,\n",
              " 939,\n",
              " 868,\n",
              " 759,\n",
              " 1366,\n",
              " 698,\n",
              " 1553,\n",
              " 770,\n",
              " 4430,\n",
              " 32,\n",
              " 1487,\n",
              " 654,\n",
              " 469,\n",
              " 849,\n",
              " 851,\n",
              " 1410,\n",
              " 175,\n",
              " 286,\n",
              " 500,\n",
              " 640,\n",
              " 1485,\n",
              " 2018,\n",
              " 9,\n",
              " 1468,\n",
              " 1427,\n",
              " 1384,\n",
              " 6311,\n",
              " 1050,\n",
              " 315,\n",
              " 676,\n",
              " 474,\n",
              " 720,\n",
              " 334,\n",
              " 284,\n",
              " 1052,\n",
              " 268,\n",
              " 312,\n",
              " 228,\n",
              " 937,\n",
              " 497,\n",
              " 783,\n",
              " 544,\n",
              " 124,\n",
              " 260,\n",
              " 520,\n",
              " 2265,\n",
              " 189,\n",
              " 82,\n",
              " 751,\n",
              " 1023,\n",
              " 352,\n",
              " 1308,\n",
              " 460,\n",
              " 570,\n",
              " 28,\n",
              " 949,\n",
              " 2271]"
            ]
          },
          "execution_count": 51,
          "metadata": {},
          "output_type": "execute_result"
        }
      ],
      "source": [
        "likes = [item['likes']['count'] for item in wall['items']]\n",
        "likes[:100]"
      ]
    },
    {
      "cell_type": "markdown",
      "metadata": {
        "id": "9sQXua0RyF0A"
      },
      "source": [
        "За один запрос скачалось всего-лишь $100$ постов с лайками. В паблике их целых"
      ]
    },
    {
      "cell_type": "code",
      "execution_count": null,
      "metadata": {
        "id": "17xiKo8gyF0A",
        "outputId": "97597853-08b9-4c35-a3c2-611315d906cd"
      },
      "outputs": [
        {
          "data": {
            "text/plain": [
              "8160"
            ]
          },
          "execution_count": 52,
          "metadata": {},
          "output_type": "execute_result"
        }
      ],
      "source": [
        "wall['count']"
      ]
    },
    {
      "cell_type": "markdown",
      "metadata": {
        "id": "XrbCogSRyF0A"
      },
      "source": [
        "[Документация](https://vk.com/dev/manuals) говорит, что есть параметр `offset`, с помощью которого можно указать какие именно посты из группы нужно скачать. Например, если мы укажем `offset = 100`, скачается вторая сотня. Наше дело за малым: написать цикл. "
      ]
    },
    {
      "cell_type": "code",
      "execution_count": null,
      "metadata": {
        "id": "TazpWplxyF0B"
      },
      "outputs": [],
      "source": [
        "import time\n",
        "\n",
        "likes = [ ] # сюда буду сохранять лайки\n",
        "\n",
        "for offset in range(0, 4800, 100):\n",
        "    \n",
        "    time.sleep(0.4) # вк согласен работать 3 раза в секунду, \n",
        "                    # между запросами python спит 0.4 секунды\n",
        "    \n",
        "    wall = vk_download('wall.get', 'owner_id={}&count=100&offset={}'.format(group_id, offset))\n",
        "    \n",
        "    likes.extend([item['likes']['count'] for item in wall['response']['items']])"
      ]
    },
    {
      "cell_type": "markdown",
      "metadata": {
        "id": "thpJZqs0yF0B"
      },
      "source": [
        "Лайки в наших руках. Можем даже посмотреть на их распределение и попробовать что-то с ними сделать. "
      ]
    },
    {
      "cell_type": "code",
      "execution_count": null,
      "metadata": {
        "id": "KXtealp0yF0B",
        "outputId": "6f6e5747-355f-42ec-9014-88c57b04955b"
      },
      "outputs": [
        {
          "data": {
            "text/plain": [
              "4800"
            ]
          },
          "execution_count": 54,
          "metadata": {},
          "output_type": "execute_result"
        }
      ],
      "source": [
        "len(likes)"
      ]
    },
    {
      "cell_type": "code",
      "execution_count": null,
      "metadata": {
        "id": "inXx-cyRyF0B",
        "outputId": "534c092d-c3ab-4538-b3b7-36859ed2f881"
      },
      "outputs": [
        {
          "data": {
            "image/png": "[encoded data removed]",
            "text/plain": [
              "<Figure size 432x288 with 1 Axes>"
            ]
          },
          "metadata": {
            "needs_background": "light"
          },
          "output_type": "display_data"
        }
      ],
      "source": [
        "import matplotlib.pyplot as plt \n",
        "plt.hist(likes);"
      ]
    },
    {
      "cell_type": "markdown",
      "metadata": {
        "id": "zOe5I4_5yF0C"
      },
      "source": [
        "В принципе похожим образом можно скачать что угодно. Обратите внимание, что у вк есть специальный метод [`execute`,](https://vk.com/dev/execute) который иногда помогает ускорить скачку в $25$ раз."
      ]
    },
    {
      "cell_type": "markdown",
      "metadata": {
        "id": "RkJuzZXjyF0C"
      },
      "source": [
        "# 4. Selenium\n",
        "\n",
        "Это инструмент для роботизированного управления браузером. Для его коректной работы нужно скачать драйвер: [для хрома](https://sites.google.com/a/chromium.org/chromedriver/downloads) или [для фаерфокса.](https://github.com/mozilla/geckodriver/releases) "
      ]
    },
    {
      "cell_type": "code",
      "execution_count": null,
      "metadata": {
        "id": "asaa9tKXyF0C"
      },
      "outputs": [],
      "source": [
        "from selenium import webdriver\n",
        "\n",
        "driver = webdriver.Firefox()"
      ]
    },
    {
      "cell_type": "markdown",
      "metadata": {
        "id": "ST2JHzGAyF0C"
      },
      "source": [
        "После выполнения верхнего блока у вас откроется ещё один браузер. Можно пойти в нём на стартовую гугла. "
      ]
    },
    {
      "cell_type": "code",
      "execution_count": null,
      "metadata": {
        "id": "15mTezwHyF0C"
      },
      "outputs": [],
      "source": [
        "ref = 'http://google.com'\n",
        "driver.get(ref)"
      ]
    },
    {
      "cell_type": "markdown",
      "metadata": {
        "id": "MecFpoRsyF0D"
      },
      "source": [
        "Найти по html-коду строку для ввода запроса, кликнуть на неё. "
      ]
    },
    {
      "cell_type": "code",
      "execution_count": null,
      "metadata": {
        "id": "6HIRVCMgyF0D",
        "outputId": "c8d171b9-67a4-4eef-9954-4f47da4b7ce7"
      },
      "outputs": [
        {
          "name": "stderr",
          "output_type": "stream",
          "text": [
            "<ipython-input-64-3d9bf865e72d>:1: DeprecationWarning: find_element_by_* commands are deprecated. Please use find_element() instead\n",
            "  stroka = driver.find_element_by_name(\"q\")\n"
          ]
        }
      ],
      "source": [
        "stroka = driver.find_element_by_name(\"q\")\n",
        "stroka.click()"
      ]
    },
    {
      "cell_type": "markdown",
      "metadata": {
        "id": "WJ2cz92cyF0D"
      },
      "source": [
        "Написать в неё что-нибудь. "
      ]
    },
    {
      "cell_type": "code",
      "execution_count": null,
      "metadata": {
        "id": "WdmsW1ndyF0D"
      },
      "outputs": [],
      "source": [
        "stroka.send_keys('Вконтакте')"
      ]
    },
    {
      "cell_type": "markdown",
      "metadata": {
        "id": "ecqKDWvByF0E"
      },
      "source": [
        "Найти кнопку для гугления и нажать её. "
      ]
    },
    {
      "cell_type": "code",
      "execution_count": null,
      "metadata": {
        "id": "ZNZCYKIPyF0E",
        "outputId": "1d6ba846-ff3d-4078-da92-650cd1665f3f"
      },
      "outputs": [
        {
          "name": "stderr",
          "output_type": "stream",
          "text": [
            "<ipython-input-66-83f31cfc20f4>:2: DeprecationWarning: find_element_by_* commands are deprecated. Please use find_element() instead\n",
            "  button = driver.find_element_by_name('btnK')\n"
          ]
        }
      ],
      "source": [
        "# находим кнопку для гугления и жмём её\n",
        "button = driver.find_element_by_name('btnK')\n",
        "button.click()"
      ]
    },
    {
      "cell_type": "markdown",
      "metadata": {
        "id": "fcPDsCSOyF0E"
      },
      "source": [
        "У нас на стринчке есть поисковая выдача. Заберём её в bs4 и найдём все сайты. "
      ]
    },
    {
      "cell_type": "code",
      "execution_count": null,
      "metadata": {
        "id": "p_xWSCMGyF0E",
        "outputId": "192e51f5-4929-4f68-dbbf-daa96d3b712e"
      },
      "outputs": [
        {
          "data": {
            "text/plain": [
              "[<a class=\"l\" data-jsarwt=\"1\" data-usg=\"AOvVaw18t7pi476Ol0YfG2fgGDYR\" data-ved=\"2ahUKEwjU6b-24tP2AhV9AxAIHWs3AKsQjBB6BAgEEAE\" href=\"https://vk.com/login\">Вход</a>,\n",
              " <a class=\"l\" data-jsarwt=\"1\" data-usg=\"AOvVaw2Sy7uwzJR8ejX6X426RtP3\" data-ved=\"2ahUKEwjU6b-24tP2AhV9AxAIHWs3AKsQjBB6BAgLEAE\" href=\"https://vk.com/vk\">Вк</a>,\n",
              " <a class=\"l\" data-jsarwt=\"1\" data-usg=\"AOvVaw3OosKDDIrDqVVYPU2is0H8\" data-ved=\"2ahUKEwjU6b-24tP2AhV9AxAIHWs3AKsQjBB6BAgKEAE\" href=\"https://vk.com/page-777107_28406709\">Моя Страница</a>,\n",
              " <a class=\"l\" data-jsarwt=\"1\" data-usg=\"AOvVaw2H7FfblOOf5fNCrBOFmWob\" data-ved=\"2ahUKEwjU6b-24tP2AhV9AxAIHWs3AKsQjBB6BAgFEAE\" href=\"https://vk.com/blog\">Блог</a>,\n",
              " <a class=\"l\" data-jsarwt=\"1\" data-usg=\"AOvVaw3wA_oWh7FV1nvopZtOZoXJ\" data-ved=\"2ahUKEwjU6b-24tP2AhV9AxAIHWs3AKsQjBB6BAgJEAE\" href=\"https://vk.com/about\">Социальная сеть</a>,\n",
              " <a class=\"l\" data-jsarwt=\"1\" data-usg=\"AOvVaw2jeY8t5XZm4vfYEIjiXtQm\" data-ved=\"2ahUKEwjU6b-24tP2AhV9AxAIHWs3AKsQjBB6BAgGEAE\" href=\"https://vk.com/biz\">Развивайте свой бизнес</a>]"
            ]
          },
          "execution_count": 120,
          "metadata": {},
          "output_type": "execute_result"
        }
      ],
      "source": [
        "bs = BeautifulSoup(driver.page_source)\n",
        "\n",
        "# \"грязные\" данные\n",
        "dirty_hrefs = bs.find_all('a', attrs={'class':'l'})\n",
        "dirty_hrefs"
      ]
    },
    {
      "cell_type": "code",
      "execution_count": null,
      "metadata": {
        "id": "qBpB93KJyF0F",
        "outputId": "932c8a86-105f-4ee0-879d-78c8ffabe426"
      },
      "outputs": [
        {
          "data": {
            "text/plain": [
              "['https://vk.com/login',\n",
              " 'https://vk.com/vk',\n",
              " 'https://vk.com/page-777107_28406709',\n",
              " 'https://vk.com/blog',\n",
              " 'https://vk.com/about',\n",
              " 'https://vk.com/biz']"
            ]
          },
          "execution_count": 127,
          "metadata": {},
          "output_type": "execute_result"
        }
      ],
      "source": [
        "# очистим данные от ненужной информации\n",
        "clean_hrefs = [href.get('href') for href in dirty_hrefs]\n",
        "clean_hrefs"
      ]
    },
    {
      "cell_type": "markdown",
      "metadata": {
        "id": "LszNHDfSyF0F"
      },
      "source": [
        "Закроем браузер. "
      ]
    },
    {
      "cell_type": "code",
      "execution_count": null,
      "metadata": {
        "id": "W09TDNSTyF0F"
      },
      "outputs": [],
      "source": [
        "driver.close()"
      ]
    },
    {
      "cell_type": "markdown",
      "metadata": {
        "id": "qrlx52JfyF0F"
      },
      "source": [
        "Вообще selenium придумывали для тестировщиков, а не для парсинга. Для парсеров имеет смысл использовать только в крайнем случае. Он очень медленный. Если у вас очень-очень-очень-очень не получается обмануть сервер через requests или вы сталкиваетесь с какой-то специфической защитой от ботов, seleium может помочь. Ещё для selenium __важно__ не забывать ставить временные задержки, чтобы страница успевала прогрузиться. Либо можно дописывать полноценные код, который будет ждать прогрузки и только тогда тыкать на кнопки и тп. \n"
      ]
    },
    {
      "cell_type": "markdown",
      "metadata": {
        "id": "xgWl5vKpyF0G"
      },
      "source": [
        "# 5. Хитрости\n",
        "\n"
      ]
    },
    {
      "cell_type": "markdown",
      "source": [
        "### Хитрость 1:  не стесняйтесь пользоваться `try-except`\n",
        "\n",
        "Эта конструкция позволяет питону в случае ошибки сделать что-нибудь другое либо проигнорировать её. Например, мы хотим найти логарифм от всех чисел из списка: "
      ],
      "metadata": {
        "id": "ZrXr_6nmBm7o"
      }
    },
    {
      "cell_type": "code",
      "execution_count": null,
      "metadata": {
        "id": "sBQXHQY8yF0G",
        "outputId": "6eb5ac3b-146c-45c5-8e2d-f1fd71b7afcd"
      },
      "outputs": [
        {
          "name": "stdout",
          "output_type": "stream",
          "text": [
            "0.0\n",
            "0.6931471805599453\n",
            "1.0986122886681098\n"
          ]
        },
        {
          "ename": "ValueError",
          "evalue": "math domain error",
          "output_type": "error",
          "traceback": [
            "\u001b[1;31m---------------------------------------------------------------------------\u001b[0m",
            "\u001b[1;31mValueError\u001b[0m                                Traceback (most recent call last)",
            "\u001b[1;32m<ipython-input-129-523b7735cdde>\u001b[0m in \u001b[0;36m<module>\u001b[1;34m\u001b[0m\n\u001b[0;32m      4\u001b[0m \u001b[1;33m\u001b[0m\u001b[0m\n\u001b[0;32m      5\u001b[0m \u001b[1;32mfor\u001b[0m \u001b[0mitem\u001b[0m \u001b[1;32min\u001b[0m \u001b[0ma\u001b[0m\u001b[1;33m:\u001b[0m\u001b[1;33m\u001b[0m\u001b[1;33m\u001b[0m\u001b[0m\n\u001b[1;32m----> 6\u001b[1;33m     \u001b[0mprint\u001b[0m\u001b[1;33m(\u001b[0m\u001b[0mlog\u001b[0m\u001b[1;33m(\u001b[0m\u001b[0mitem\u001b[0m\u001b[1;33m)\u001b[0m\u001b[1;33m)\u001b[0m\u001b[1;33m\u001b[0m\u001b[1;33m\u001b[0m\u001b[0m\n\u001b[0m",
            "\u001b[1;31mValueError\u001b[0m: math domain error"
          ]
        }
      ],
      "source": [
        "from math import log \n",
        "\n",
        "a = [1,2,3,-1,-5,10,3]\n",
        "\n",
        "for item in a:\n",
        "    print(log(item))"
      ]
    },
    {
      "cell_type": "markdown",
      "metadata": {
        "id": "agX5jL6hyF0G"
      },
      "source": [
        "У нас не выходит, так как логарифм от отрицательных чисел не берётся. Чтобы код не падал при возникновении ошибки, мы можем его немного изменить: "
      ]
    },
    {
      "cell_type": "code",
      "execution_count": null,
      "metadata": {
        "id": "2RfhtgsKyF0G",
        "outputId": "283f33cc-e5a9-40d8-fb5b-0061acf29760"
      },
      "outputs": [
        {
          "name": "stdout",
          "output_type": "stream",
          "text": [
            "0.0\n",
            "0.6931471805599453\n",
            "1.0986122886681098\n",
            "я не смог\n",
            "я не смог\n",
            "2.302585092994046\n",
            "1.0986122886681098\n"
          ]
        }
      ],
      "source": [
        "from math import log \n",
        "\n",
        "a = [1,2,3,-1,-5,10,3]\n",
        "\n",
        "for item in a:\n",
        "    try:\n",
        "        print(log(item))  # попробуй взять логарифм\n",
        "    except:\n",
        "        print('я не смог') # если не вышло, сознайся и работай дальше"
      ]
    },
    {
      "cell_type": "markdown",
      "metadata": {
        "id": "iRlDE_kVyF0H"
      },
      "source": [
        "__Как это использовать при парсинге?__  Интернет создаёт человек. У многих людей руки очень кривые. Предположим, что мы на ночь поставили парсер скачивать цены, он отработал час и упал из-за того, что на како-нибудь одной странице были криво проставлены теги, либо вылезло какое-то редкое поле, либо вылезли какие-то артефакты от старой версии сайта, которые не были учтены в нашем парсере. Гораздо лучше, чтобы код проигнорировал эту ошибку и продолжил работать дальше. "
      ]
    },
    {
      "cell_type": "markdown",
      "metadata": {
        "id": "2YYjBvpqyF0H"
      },
      "source": [
        "### Хитрость 2:  pd.read_html\n",
        "\n",
        "Если на странице, которую вы спарсили, среди тэгов `<tr>` и `<td>` прячется таблица, чаще всего можно забрать её себе без написания цикла, который будет перебирать все стобцы и строки. Поможет в этом `pd.read_html`. Например, вот так можно забрать себе [табличку с сайта ЦБ](https://cbr.ru/currency_base/daily/) "
      ]
    },
    {
      "cell_type": "code",
      "execution_count": null,
      "metadata": {
        "id": "NFXrHiaMyF0H",
        "outputId": "0d1e4ebd-1852-4be5-8bd8-4724ad77496a"
      },
      "outputs": [
        {
          "data": {
            "text/html": [
              "<div>\n",
              "<style scoped>\n",
              "    .dataframe tbody tr th:only-of-type {\n",
              "        vertical-align: middle;\n",
              "    }\n",
              "\n",
              "    .dataframe tbody tr th {\n",
              "        vertical-align: top;\n",
              "    }\n",
              "\n",
              "    .dataframe thead th {\n",
              "        text-align: right;\n",
              "    }\n",
              "</style>\n",
              "<table border=\"1\" class=\"dataframe\">\n",
              "  <thead>\n",
              "    <tr style=\"text-align: right;\">\n",
              "      <th></th>\n",
              "      <th>Цифр. код</th>\n",
              "      <th>Букв. код</th>\n",
              "      <th>Единиц</th>\n",
              "      <th>Валюта</th>\n",
              "      <th>Курс</th>\n",
              "    </tr>\n",
              "  </thead>\n",
              "  <tbody>\n",
              "    <tr>\n",
              "      <th>0</th>\n",
              "      <td>36</td>\n",
              "      <td>AUD</td>\n",
              "      <td>1</td>\n",
              "      <td>Австралийский доллар</td>\n",
              "      <td>766025</td>\n",
              "    </tr>\n",
              "    <tr>\n",
              "      <th>1</th>\n",
              "      <td>944</td>\n",
              "      <td>AZN</td>\n",
              "      <td>1</td>\n",
              "      <td>Азербайджанский манат</td>\n",
              "      <td>613071</td>\n",
              "    </tr>\n",
              "    <tr>\n",
              "      <th>2</th>\n",
              "      <td>51</td>\n",
              "      <td>AMD</td>\n",
              "      <td>100</td>\n",
              "      <td>Армянских драмов</td>\n",
              "      <td>212771</td>\n",
              "    </tr>\n",
              "    <tr>\n",
              "      <th>3</th>\n",
              "      <td>933</td>\n",
              "      <td>BYN</td>\n",
              "      <td>1</td>\n",
              "      <td>Белорусский рубль</td>\n",
              "      <td>315237</td>\n",
              "    </tr>\n",
              "    <tr>\n",
              "      <th>4</th>\n",
              "      <td>975</td>\n",
              "      <td>BGN</td>\n",
              "      <td>1</td>\n",
              "      <td>Болгарский лев</td>\n",
              "      <td>585252</td>\n",
              "    </tr>\n",
              "  </tbody>\n",
              "</table>\n",
              "</div>"
            ],
            "text/plain": [
              "   Цифр. код Букв. код  Единиц                 Валюта    Курс\n",
              "0         36       AUD       1   Австралийский доллар  766025\n",
              "1        944       AZN       1  Азербайджанский манат  613071\n",
              "2         51       AMD     100       Армянских драмов  212771\n",
              "3        933       BYN       1      Белорусский рубль  315237\n",
              "4        975       BGN       1         Болгарский лев  585252"
            ]
          },
          "execution_count": 133,
          "metadata": {},
          "output_type": "execute_result"
        }
      ],
      "source": [
        "import pandas as pd\n",
        "\n",
        "df = pd.read_html('https://cbr.ru/currency_base/daily/', header=None)[0]\n",
        "df.head()"
      ]
    },
    {
      "cell_type": "markdown",
      "metadata": {
        "id": "PZaLmF9HyF0H"
      },
      "source": [
        "Команда пытается собрать в массив все таблички c веб-страницы. Если хочется, можно сначала через bs4 найти нужную таблицу, а потом уже распарсить её: "
      ]
    },
    {
      "cell_type": "code",
      "execution_count": null,
      "metadata": {
        "id": "2P5yz_pFyF0H",
        "outputId": "8329ad1a-a9b3-468b-f0e8-5bb3c695476c"
      },
      "outputs": [
        {
          "data": {
            "text/html": [
              "<div>\n",
              "<style scoped>\n",
              "    .dataframe tbody tr th:only-of-type {\n",
              "        vertical-align: middle;\n",
              "    }\n",
              "\n",
              "    .dataframe tbody tr th {\n",
              "        vertical-align: top;\n",
              "    }\n",
              "\n",
              "    .dataframe thead th {\n",
              "        text-align: right;\n",
              "    }\n",
              "</style>\n",
              "<table border=\"1\" class=\"dataframe\">\n",
              "  <thead>\n",
              "    <tr style=\"text-align: right;\">\n",
              "      <th></th>\n",
              "      <th>Цифр. код</th>\n",
              "      <th>Букв. код</th>\n",
              "      <th>Единиц</th>\n",
              "      <th>Валюта</th>\n",
              "      <th>Курс</th>\n",
              "    </tr>\n",
              "  </thead>\n",
              "  <tbody>\n",
              "    <tr>\n",
              "      <th>0</th>\n",
              "      <td>36</td>\n",
              "      <td>AUD</td>\n",
              "      <td>1</td>\n",
              "      <td>Австралийский доллар</td>\n",
              "      <td>766025</td>\n",
              "    </tr>\n",
              "    <tr>\n",
              "      <th>1</th>\n",
              "      <td>944</td>\n",
              "      <td>AZN</td>\n",
              "      <td>1</td>\n",
              "      <td>Азербайджанский манат</td>\n",
              "      <td>613071</td>\n",
              "    </tr>\n",
              "    <tr>\n",
              "      <th>2</th>\n",
              "      <td>51</td>\n",
              "      <td>AMD</td>\n",
              "      <td>100</td>\n",
              "      <td>Армянских драмов</td>\n",
              "      <td>212771</td>\n",
              "    </tr>\n",
              "    <tr>\n",
              "      <th>3</th>\n",
              "      <td>933</td>\n",
              "      <td>BYN</td>\n",
              "      <td>1</td>\n",
              "      <td>Белорусский рубль</td>\n",
              "      <td>315237</td>\n",
              "    </tr>\n",
              "    <tr>\n",
              "      <th>4</th>\n",
              "      <td>975</td>\n",
              "      <td>BGN</td>\n",
              "      <td>1</td>\n",
              "      <td>Болгарский лев</td>\n",
              "      <td>585252</td>\n",
              "    </tr>\n",
              "  </tbody>\n",
              "</table>\n",
              "</div>"
            ],
            "text/plain": [
              "   Цифр. код Букв. код  Единиц                 Валюта    Курс\n",
              "0         36       AUD       1   Австралийский доллар  766025\n",
              "1        944       AZN       1  Азербайджанский манат  613071\n",
              "2         51       AMD     100       Армянских драмов  212771\n",
              "3        933       BYN       1      Белорусский рубль  315237\n",
              "4        975       BGN       1         Болгарский лев  585252"
            ]
          },
          "execution_count": 135,
          "metadata": {},
          "output_type": "execute_result"
        }
      ],
      "source": [
        "resp = requests.get('https://cbr.ru/currency_base/daily/')\n",
        "tree = BeautifulSoup(resp.content, 'html.parser')\n",
        "\n",
        "# нашли табличку\n",
        "table = tree.find_all('table', {'class' : 'data'})[0]\n",
        "\n",
        "# распарсили её\n",
        "df = pd.read_html(str(table), header=None)[0]\n",
        "df.head()"
      ]
    },
    {
      "cell_type": "markdown",
      "metadata": {
        "id": "6YA054TNyF0I"
      },
      "source": [
        "### Хитрость 3:  используйте пакет tqdm\n",
        "\n",
        "> Код уже работает час. Я вообще без понятия когда он закончит работу. Было бы круто узнать, сколько ещё ждать... \n",
        "\n",
        "Если в вашей голове возникла такая мысль, пакет `tqdm` ваш лучший друг. Установите его: ```pip install tqdm```"
      ]
    },
    {
      "cell_type": "code",
      "execution_count": null,
      "metadata": {
        "id": "PEPVkHQNyF0I",
        "outputId": "ff550ef9-ecd7-47ea-c5d1-65af7c68b48d",
        "colab": {
          "referenced_widgets": [
            "aeec9bf94ac94c6db0db17405e04a407"
          ]
        }
      },
      "outputs": [
        {
          "name": "stderr",
          "output_type": "stream",
          "text": [
            "<ipython-input-136-b83b2df6bc34>:6: TqdmDeprecationWarning: This function will be removed in tqdm==5.0.0\n",
            "Please use `tqdm.notebook.tqdm` instead of `tqdm.tqdm_notebook`\n",
            "  for i in tqdm_notebook(a):\n"
          ]
        },
        {
          "data": {
            "application/vnd.jupyter.widget-view+json": {
              "model_id": "aeec9bf94ac94c6db0db17405e04a407",
              "version_major": 2,
              "version_minor": 0
            },
            "text/plain": [
              "  0%|          | 0/30 [00:00<?, ?it/s]"
            ]
          },
          "metadata": {},
          "output_type": "display_data"
        }
      ],
      "source": [
        "from tqdm import tqdm_notebook\n",
        "\n",
        "a = list(range(30))\n",
        "\n",
        "# 30 раз будем спать по секунде\n",
        "for i in tqdm_notebook(a):\n",
        "    time.sleep(1)"
      ]
    },
    {
      "cell_type": "markdown",
      "metadata": {
        "id": "TEKc2ii_yF0I"
      },
      "source": [
        "Мы обмотали тот вектор, по которому идёт цикл в `tqdm_notebook`. Это даёт нам красивую зелёную строку, которая показывает насколько сильно мы продвинулись по коду. Обматывайте свои самые большие и долгие циклы в `tqdm_notebook` и всегда понимайте сколько осталось до конца. "
      ]
    },
    {
      "cell_type": "markdown",
      "metadata": {
        "id": "zyKAuFvQyF0I"
      },
      "source": [
        "### Хитрость 4:  распаралеливание\n",
        "\n",
        "Если сервер не очень настроен вас банить, можно распаралелить свои запросы к нему. Самый простой способ сделать это — библиотека `joblib`. "
      ]
    },
    {
      "cell_type": "code",
      "execution_count": null,
      "metadata": {
        "id": "uetLD0G-yF0J",
        "outputId": "4a6b1a6a-f871-4e04-f7ec-3a164fd4084a",
        "colab": {
          "referenced_widgets": [
            "84203765fa42480fac226659940c8d04"
          ]
        }
      },
      "outputs": [
        {
          "name": "stderr",
          "output_type": "stream",
          "text": [
            "<ipython-input-137-fd2fcb2aa7b1>:11: TqdmDeprecationWarning: This function will be removed in tqdm==5.0.0\n",
            "Please use `tqdm.notebook.tqdm` instead of `tqdm.tqdm_notebook`\n",
            "  for item in tqdm_notebook(range(10)))   # к каким объектам применям\n"
          ]
        },
        {
          "data": {
            "application/vnd.jupyter.widget-view+json": {
              "model_id": "84203765fa42480fac226659940c8d04",
              "version_major": 2,
              "version_minor": 0
            },
            "text/plain": [
              "  0%|          | 0/10 [00:00<?, ?it/s]"
            ]
          },
          "metadata": {},
          "output_type": "display_data"
        }
      ],
      "source": [
        "from joblib import Parallel, delayed\n",
        "from tqdm import tqdm_notebook\n",
        "\n",
        "def simple_function(x):\n",
        "    return x**2\n",
        "\n",
        "\n",
        "nj = -1 # паралель на все ядра \n",
        "result = Parallel(n_jobs=nj)(\n",
        "                delayed(simple_function)(item)          # какую функцию применяем \n",
        "                for item in tqdm_notebook(range(10)))   # к каким объектам применям\n",
        "\n",
        "# tqdm_notebook в последней строчке будет создавать зелёный бегунок с прогрессом"
      ]
    },
    {
      "cell_type": "markdown",
      "metadata": {
        "id": "k8BbhTIhyF0J"
      },
      "source": [
        "На самом деле это не самый эффективный способ паралелить в python. Он жрёт много памяти и работает медленнее, чем [стандартный multiprocessing.](https://docs.python.org/3/library/multiprocessing.html) Но зато две строчки, КАРЛ! Две строчки! "
      ]
    },
    {
      "cell_type": "markdown",
      "metadata": {
        "id": "lMfN8DK-yF0J"
      },
      "source": [
        "### Хитрость 5:  selenium без браузера\n",
        "\n",
        "Селениум можно настроить так, чтобы физически браузер не открывался."
      ]
    },
    {
      "cell_type": "code",
      "execution_count": null,
      "metadata": {
        "id": "b_582_qryF0J"
      },
      "outputs": [],
      "source": [
        "from selenium import webdriver\n",
        "from selenium.webdriver.firefox.options import Options\n",
        "\n",
        "options = Options()\n",
        "options.headless = True \n",
        "driver = webdriver.Firefox(options=options)\n",
        "\n",
        "ref = 'http://google.com'\n",
        "driver.get(ref)\n",
        "\n",
        "driver.close()"
      ]
    },
    {
      "cell_type": "markdown",
      "metadata": {
        "id": "_y2Bo1PSyF0K"
      },
      "source": [
        "### Ещё хитрости: \n",
        "\n",
        "* __Сохраняйте то, что парсите по мере скачки!__ Прямо внутрь цикла запихните код, который сохраняет файл! \n",
        "* Когда код упал в середине списка для скачки, не обязательно запускать его с самого начала. Просто сохраните тот кусок, который уже скачался и дозапустите код с места падения.\n",
        "* Засовывать цикл для обхода ссылок внутрь функции - не самая хорошая идея. Предположим, что надо обойти $100$ ссылок. Функция должна вернуть на выход объекты, которые скачались по всему этому добру. Она берёт и падает на $50$ объекте. Конечно же то, что уже было скачано, функция не возвращает. Всё, что вы накачали - вы теряете. Надо запускать заново. Почему? Потому что внутри функции своё пространство имён. Если бы вы делали это циклом влоб, то можно было бы сохранить первые $50$ объектов, которые уже лежат внутри листа, а потом продолжить скачку. \n",
        "* Можно ориентироваться на html-страничке с помощью `xpath`. Он предназначен для того, чтобы внутри html-странички можно было быстро находить какие-то элементы. [Подробнее можно почитать тут.](https://devhints.io/xpath)\n",
        "* Не ленитесь листать документацию. Из неё можно узнать много полезных штук. "
      ]
    },
    {
      "cell_type": "markdown",
      "metadata": {
        "id": "IndHkSIbyF0K"
      },
      "source": [
        "# 6. Парсинг новостей с сайта Вышки\n"
      ]
    },
    {
      "cell_type": "markdown",
      "metadata": {
        "id": "2nDEwfzNyPh4"
      },
      "source": [
        "Мы поработаем со страницей новостей Международного сетевого анализа Вышки. Посмотреть [эту страницу](https://anr.hse.ru/)."
      ]
    },
    {
      "cell_type": "code",
      "execution_count": null,
      "metadata": {
        "colab": {
          "base_uri": "https://localhost:8080/"
        },
        "id": "9iNdLkBHyF0K",
        "outputId": "72c61972-1d16-4841-bafa-2b03a3e99c9f"
      },
      "outputs": [
        {
          "name": "stdout",
          "output_type": "stream",
          "text": [
            "<!DOCTYPE html>\n",
            "<!-- (c) Art. Lebedev Studio | http://www.artlebedev.com/ -->\n",
            "<html xmlns:perl=\"urn:perl\" lang=\"ru\"><head><meta http-equiv=\"Content-Type\" content=\"text/html; charset=UTF-8\"><meta http-equiv=\"X-UA-Compatible\" content=\"IE=Edge\"><meta name=\"theme-color\" content=\"#1658DA\"><meta name=\"viewport\" content=\"width=device-width\"><link rel=\"apple-touch-icon\" sizes=\"180x180\" href=\"/f/src/global/i/favicon/favicon_ios_180x180.png\"><link rel=\"icon\" type=\"image/png\" sizes=\"32x32\" href=\"/f/src/global/i/favicon/favicon_32x32.png\"><link rel=\"icon\" type=\"image/png\" sizes=\"16x16\" href=\"/f/src/global/i/favicon/favicon_16x16.png\"><link rel=\"mask-icon\" href=\"/f/src/global/i/favicon/favicon.svg\" color=\"#242f63\"><link rel=\"manifest\" href=\"/f/src/manifest/manifest_ru.json\"><meta name=\"msapplication-config\" content=\"/f/src/global/i/favicon/browserconfig.xml\"><link rel=\"shortcut icon\" type=\"image/x-icon\" href=\"/favicon.ico\"><!--[if lt IE 10]><script src=\"/f/src/global/bower_components/es5-shim/es5-shim.min.js\"></script><![endif]--><link rel=\"stylesheet\" href=\"/f/src/global/css/main.css?v2\" media=\"all\"><link rel=\"stylesheet\" href=\"/f/src/global/css/vision.css\" media=\"all\"><link rel=\"stylesheet\" href=\"/f/src/global/css/sitemap.css\" media=\"all\"><link rel=\"stylesheet\" href=\"/f/src/global/css/fotorama.css\" media=\"all\"><link rel=\"stylesheet\" href=\"/f/src/home/owl.carousel.css\" media=\"all\"><link rel=\"stylesheet\" href=\"/f/src/science/science.css\" media=\"all\"><link rel=\"stylesheet\" href=\"/f/src/dop_card/dop_card.css?v6\" media=\"all\"><link rel=\"stylesheet\" href=\"/f/src/science_dep_card/science_dep_card.css\" media=\"all\"><link rel=\"stylesheet\" href=\"/f/src/projects/science_dep/mobile.css\" media=\"all\"><script src=\"//www.hse.ru/f/src/global/js/cache/jquery-1.12.4.min/jquery-ui/jquery.ui.touch-punch.min/hse.utils/errtrack/main/modernizr/popup/switcher/tag/fixes/email-obfuscator/jquery.cookie/vision/jquery.rwdImageMaps.min/sitemap.ajax/fotorama/vertical-fixer/masonry.pkgd.min/imagesloaded.pkgd.min/dop_card/submenu/filter-popup/sidebar_scroll/jquery.carouFredSel-6.2.1-packed/init-slider-carousel/init-media-carousel/owl.carousel.min/events-switcher/edu_mobile/tag-cloud.js\"></script><script src=\"/f/src/global/bower_components/jqcloud2/dist/jqcloud.min.js\"></script><link rel=\"stylesheet\" href=\"/f/src/global/bower_components/jqcloud2/dist/jqcloud.min.css\" media=\"all\"><script src=\"/f/src/global/js/gibs.js\"></script><link href=\"https://anr.hse.ru/\" rel=\"canonical\"><script src=\"https://www.hse.ru/f/src/global/js/job.js\" async=\"async\"></script><title>Международная лаборатория прикладного сетевого анализа — Национальный исследовательский университет «Высшая школа экономики»</title><script src=\"/f/gtm/ip\"></script><script>\n",
            "(function(w,d,s,l,i){w[l]=w[l]||[];w[l].push({'gtm.start':\n",
            "\tnew Date().getTime(),event:'gtm.js'});var f=d.getElementsByTagName(s)[0],\n",
            "\tj=d.createElement(s),dl=l!='dataLayer'?'&l='+l:'';j.async=true;j.src=\n",
            "\t'https://www.googletagmanager.com/gtm.js?id='+i+dl;f.parentNode.insertBefore(j,f);\n",
            "\t})(window,document,'script','dataLayer','GTM-P6DCQX');\n",
            "</script><meta content=\"Международная лаборатория прикладного сетевого анализа\" property=\"og:title\"><meta content=\"Международная лаборатория прикладного сетевого анализа\" name=\"mrc__share_title\"><meta content=\"Международная лаборатория прикладного сетевого анализа\" itemprop=\"name\"><meta content=\"https://www.hse.ru/images/fb/hse_ru_thumb.jpg\" property=\"og:image\"><meta content=\"https://www.hse.ru/images/fb/hse_ru_thumb.jpg\" itemprop=\"image\"><link rel=\"image_src\" content=\"https://www.hse.ru/images/fb/hse_ru_thumb.jpg\"><meta content=\"https://anr.hse.ru/\" property=\"og:url\"><meta content=\"website\" property=\"og:type\"><link rel=\"alternate\" href=\"https://anr.hse.ru/\" hreflang=\"x-default\"><link rel=\"alternate\" href=\"https://anr.hse.ru/\" hreflang=\"ru\"><link rel=\"alternate\" href=\"https://anr.hse.ru/en/\" hreflang=\"en\"><link rel=\"stylesheet\" href=\"/f/src/projects/science_dep/mobile.css\"></head><body data-lang=\"ru\" data-unit=\"119655633\"><div class=\"page \"><!--noindex--><div style=\"display:none;\" class=\"browser_outdate\">\n",
            "\t\t\t\tВ старых версиях браузеров сайт может отображаться некорректно. Для оптимальной работы с сайтом рекомендуем воспользоваться современным браузером.\n",
            "\t\t\t</div><div style=\"display:none;\" class=\"gdpr_bar\"><div class=\"gdpr_bar__inner\"><noindex>\n",
            "<p class=\"first_child last_child \">Мы используем файлы cookies для улучшения работы сайта НИУ ВШЭ и большего удобства его использования. Более подробную информацию об использовании файлов cookies можно найти <a target=\"_blank\" href=\"https://www.hse.ru/cookie.html\" title=\"Пройти по ссылке\" class=\"link\">здесь</a>, наши правила обработки персональных данных – <a target=\"_blank\" href=\"https://www.hse.ru/data_protection_regulation\" title=\"Пройти по ссылке\" class=\"link\">здесь</a>. Продолжая пользоваться сайтом, вы подтверждаете, что были проинформированы об использовании файлов cookies сайтом НИУ ВШЭ и согласны с нашими правилами обработки персональных данных. Вы можете отключить файлы cookies в настройках Вашего браузера.</p>\n",
            "</noindex><span class=\"gdpr_bar__close\">✖</span></div></div><!--/noindex--><div class=\"sv-control\"><div class=\"sv-control__block\"><ul class=\"sv-control__list sv-size\"><li data-type=\"size\" data-value=\"normal\" class=\"sv-control__item sv-control__item--s_normal active\">A</li><li data-type=\"size\" data-value=\"medium\" class=\"sv-control__item sv-control__item--s_medium\">A</li><li data-type=\"size\" data-value=\"large\" class=\"sv-control__item sv-control__item--s_large\">A</li></ul></div><div class=\"sv-control__block\"><ul class=\"sv-control__list sv-spacing\"><li data-type=\"spacing\" data-value=\"normal\" class=\"active sv-control__item sv-control__item--ls_normal\">АБВ</li><li data-type=\"spacing\" data-value=\"medium\" class=\"sv-control__item sv-control__item--ls_medium\">АБВ</li><li data-type=\"spacing\" data-value=\"large\" class=\"sv-control__item sv-control__item--ls_large\">АБВ</li></ul></div><div class=\"sv-control__block\"><ul class=\"sv-control__list sv-contrast\"><li data-type=\"contrast\" data-value=\"normal\" class=\"sv-control__item sv-control__item---color1 active\">А</li><li data-type=\"contrast\" data-value=\"invert\" class=\"sv-control__item sv-control__item---color2\">А</li><li data-type=\"contrast\" data-value=\"blue\" class=\"sv-control__item sv-control__item---color3\">А</li><li data-type=\"contrast\" data-value=\"beige\" class=\"sv-control__item sv-control__item---color4\">А</li><li data-type=\"contrast\" data-value=\"brown\" class=\"sv-control__item sv-control__item---color5\">А</li></ul></div><div class=\"sv-control__block\"><ul class=\"sv-control__list sv-image\"><li data-type=\"image\" data-value=\"on\" class=\"sv-control__item sv-control__item--image_on active\"><li data-type=\"image\" data-value=\"off\" class=\"sv-control__item sv-control__item--image_off\"></ul></div><div class=\"sv-control__block\"><div class=\"sv-off js-sv-off\">Обычная версия сайта</div></div></div><div class=\"fa-sidebar\"><div class=\"fa-sidebar__top fa-sidebar__top--secondary\" style=\"background-color: #000a3a; \"><div class=\"fa-sidebar__controls is-mobile\"><ul class=\"control_lang2\"><li class=\"control_lang2_item first_child activated\"><span class=\"link link_no-visited link_no-underline\">RU</span></li><li class=\"control_lang2_item last_child\"><a href=\"https://anr.hse.ru/en/\" class=\"link link_no-visited link_no-underline\">EN</a></li></ul><a href=\"//www.hse.ru/user/\" class=\"control control_user control_white\" title=\"Личный кабинет сотрудника ВШЭ\"><ins><svg xmlns=\"http://www.w3.org/2000/svg\" class=\"control_svg\" width=\"17\" height=\"18\" viewBox=\"0 0 17 18\"><path d=\"M13.702 13.175c.827.315 1.486.817 1.978 1.506.492.689.738 1.467.738 2.333h-16.419c0-1.417.532-2.5 1.595-3.248.394-.276 1.358-.591 2.894-.945.945-.118 1.457-.374 1.536-.768.039-.157.059-.61.059-1.358 0-.118-.039-.217-.118-.295-.157-.157-.315-.433-.472-.827-.079-.315-.157-.787-.236-1.417-.157.039-.285-.02-.384-.177-.098-.157-.177-.364-.236-.62l-.089-.443c-.157-.866-.098-1.28.177-1.24-.118-.157-.217-.532-.295-1.122-.118-.866-.059-1.634.177-2.303.276-.748.768-1.319 1.476-1.713.709-.394 1.476-.571 2.303-.532.787.039 1.506.276 2.156.709.65.433 1.093 1.024 1.329 1.772.197.551.217 1.319.059 2.303-.079.472-.157.768-.236.886.118-.039.207 0 .266.118.059.118.079.266.059.443l-.059.472c-.02.138-.049.246-.089.325l-.118.413c-.039.276-.108.472-.207.591-.098.118-.226.157-.384.118-.079.866-.217 1.476-.413 1.831 0 .039-.069.138-.207.295-.138.157-.207.256-.207.295v.65c0 .394.039.689.118.886.079.197.354.354.827.472.276.118.679.217 1.211.295.532.079.935.177 1.211.295z\" fill=\"#1658DA\"></path></svg></ins></a><span class=\"control control_search control_white js-search_mobile_control\"><ins><svg xmlns=\"http://www.w3.org/2000/svg\" class=\"control_svg\" width=\"19\" height=\"19\" viewBox=\"0 0 19 19\"><path d=\"M12.927 7.9c0-1.384-.492-2.568-1.476-3.552s-2.168-1.476-3.552-1.476-2.568.492-3.552 1.476-1.476 2.168-1.476 3.552.492 2.568 1.476 3.552 2.168 1.476 3.552 1.476 2.568-.492 3.552-1.476 1.476-2.168 1.476-3.552zm4.053 11.1l-4.603-4.592c-1.339.928-2.832 1.391-4.477 1.391-1.07 0-2.093-.208-3.069-.623-.976-.415-1.818-.976-2.525-1.683-.707-.707-1.268-1.549-1.683-2.525-.415-.976-.623-1.999-.623-3.069 0-1.07.208-2.093.623-3.069.415-.976.976-1.818 1.683-2.525.707-.707 1.549-1.268 2.525-1.683.976-.415 1.999-.623 3.069-.623 1.07 0 2.093.208 3.069.623.976.415 1.818.976 2.525 1.683.707.707 1.268 1.549 1.683 2.525.415.976.623 1.999.623 3.069 0 1.646-.464 3.138-1.391 4.477l4.603 4.603-2.031 2.02z\" fill=\"#1658DA\"></path></svg></ins></span><span style=\"cursor:pointer;\" onclick=\"void(0)\" class=\"control is-mobile control_menu control_menu--close js-control_menu_close\"><ins></ins></span></div><div class=\"js-search_mobile_popup not_display is-mobile\"><div class=\"search-form\"><form action=\"/search/search.html\"><div class=\"search-form__button\"><button class=\"button button--merged button_grey\">Найти</button></div><div class=\"search-form__input\"><input type=\"text\" name=\"text\" placeholder=\"Поиск по сайту\" class=\"input fa-search_input input100 input_mr\"><input type=\"hidden\" name=\"simple\" value=\"1\"></div></form></div><div class=\"popup__block\"><a href=\"//www.hse.ru/search/search.html?simple=0\" class=\"link link_white no-visited\">Расширенный поиск по сайту</a></div></div><div class=\"fa-sidebar__title_inner\"><a class=\"link_white link_no-underline\" href=\"https://anr.hse.ru\">Международная лаборатория прикладного сетевого анализа</a></div></div><ul class=\"fa-sidemenu fa-sidemenu--primary\"><li class=\"fa-sidemenu__section\"><ul class=\"fa-sidemenu__sub \"><li class=\"fa-sidemenu__item\"><a href=\"https://anr.hse.ru/about\" class=\" link link_no-underline link_dark2 fa-sidemenu__link\">О Лаборатории</a></li><li class=\"fa-sidemenu__item\"><a href=\"https://anr.hse.ru/persons\" class=\" link link_no-underline link_dark2 fa-sidemenu__link\">Сотрудники</a></li><li class=\"fa-sidemenu__item\"><a href=\"https://anr.hse.ru/job\" class=\" link link_no-underline link_dark2 fa-sidemenu__link\">Вакансии</a></li><li class=\"fa-sidemenu__item selected\"><span class=\" link link_no-underline link_dark2 fa-sidemenu__link fa-sidemenu__link--parent\">Научная деятельность</span><i class=\"fa-sidemenu__arr\"></i><div class=\"fa-sidemenu__popup\"><div class=\"fa-sidemenu__sub\"><div class=\"fa-sidemenu__section\"><ul class=\"fa-sidemenu\"><li class=\"fa-sidemenu__item\"><a href=\"https://anr.hse.ru/directions\" class=\"link link_no-underline link_dark2 fa-sidemenu__link\">Направления</a></li><li class=\"fa-sidemenu__item\"><a href=\"https://anr.hse.ru/projects\" class=\"link link_no-underline link_dark2 fa-sidemenu__link\">Проекты</a></li></ul></div></div></div></li><li class=\"fa-sidemenu__item selected\"><span class=\" link link_no-underline link_dark2 fa-sidemenu__link fa-sidemenu__link--parent\">Мероприятия</span><i class=\"fa-sidemenu__arr\"></i><div class=\"fa-sidemenu__popup\"><div class=\"fa-sidemenu__sub\"><div class=\"fa-sidemenu__section\"><ul class=\"fa-sidemenu\"><li class=\"fa-sidemenu__item\"><a href=\"https://anr.hse.ru/news/announcements/\" class=\"link link_no-underline link_dark2 fa-sidemenu__link\">Анонсы</a></li><li class=\"fa-sidemenu__item\"><a href=\"https://anr.hse.ru/seminars\" class=\"link link_no-underline link_dark2 fa-sidemenu__link\">Семинары</a></li><li class=\"fa-sidemenu__item\"><a href=\"https://anr.hse.ru/news/ourconferences/\" class=\"link link_no-underline link_dark2 fa-sidemenu__link\">Конференции</a></li><li class=\"fa-sidemenu__item\"><a href=\"https://anr.hse.ru/news/ourschools/\" class=\"link link_no-underline link_dark2 fa-sidemenu__link\">Летние школы</a></li></ul></div></div></div></li><li class=\"fa-sidemenu__item\"><a href=\"https://anr.hse.ru/resources\" class=\" link link_no-underline link_dark2 fa-sidemenu__link\">Ресурсы</a></li><li class=\"fa-sidemenu__item selected\"><span class=\" link link_no-underline link_dark2 fa-sidemenu__link fa-sidemenu__link--parent\">Образовательные программы</span><i class=\"fa-sidemenu__arr\"></i><div class=\"fa-sidemenu__popup\"><div class=\"fa-sidemenu__sub\"><div class=\"fa-sidemenu__section\"><ul class=\"fa-sidemenu\"><li class=\"fa-sidemenu__item\"><a href=\"https://www.hse.ru/ma/sna\" class=\"link link_no-underline link_dark2 fa-sidemenu__link\">Магистерская программа \"Прикладная статистика с методами сетевого анализа\"</a></li><li class=\"fa-sidemenu__item\"><a href=\"https://www.hse.ru/ma/dataanalytics/\" class=\"link link_no-underline link_dark2 fa-sidemenu__link\">Магистерская программа \"Магистр прикладной и сетевой аналитики\" (Coursera)</a></li></ul></div></div></div></li><li class=\"fa-sidemenu__item\"><a href=\"https://anr.hse.ru/consult\" class=\" link link_no-underline link_dark2 fa-sidemenu__link\">Центр аналитической поддержки принятия решений</a></li></ul></li><li class=\"fa-sidemenu__section fa-sidemenu__sub\"><div class=\"links-white\"><dl class=\"with-indent3\"><dd><div id=\"executives\" class=\"first_child last_child \">\n",
            "<div class=\"first_child last_child \">\n",
            "<p class=\"first_child \"><br>\n",
            "Научный руководитель лаборатории:<br>\n",
            "<a href=\"https://www.hse.ru/org/persons/207739493\" class=\"link\">Анушка Ферлигой</a>, PhD, профессор Университета<br>\n",
            "Любляны</p>\n",
            "\n",
            "<p>Заведующий лабораторией:<br>\n",
            "<a href=\"https://www.hse.ru/staff/vkuskova\" class=\"link\">Валентина Кускова</a>, PhD, доцент НИУ ВШЭ</p>\n",
            "\n",
            "<p>Менеджер:<br>\n",
            "<a href=\"https://www.hse.ru/org/persons/337495021\" class=\"link\">Ольга Рослякова</a></p>\n",
            "\n",
            "<p class=\"last_child \"><br>\n",
            "Москва,<br>\n",
            "АУК \"Покровский бульвар\", Покровский б-р, д.11,<br>\n",
            "кабинеты M405, M406, M409<br>\n",
            "тел.: 772-95-90 доб. 12-232<br>\n",
            "anr@hse.ru</p>\n",
            "</div>\n",
            "</div>\n",
            "</dd></dl><dl class=\"with-indent2\"><dd></dd></dl></div></li></ul></div><div class=\"layout fullwidth\"><div class=\"layout_bg\" style=\"background:url('/mirror/pubs/share/direct/136051104.jpg') no-repeat; background:linear-gradient(to bottom, rgba(255,255,255,0) 0, rgba(0,10,58,0) 1126px, rgba(0,10,58,1)  1325px) no-repeat ,url('/mirror/pubs/share/direct/136051104.jpg') no-repeat;background-color: #000a3a; \"></div><div class=\"header\" style=\"background-color: #000a3a; \"><div class=\"crop\"><div class=\"header-top header-top--stoped row\" style=\"background-color: #000a3a; \"><div class=\"left\"><span class=\"control control_sitemap\"><span class=\"control_sitemap__line\"></span></span><a href=\"//www.hse.ru/\" class=\"control control_home_white\"><ins><svg xmlns=\"http://www.w3.org/2000/svg\" width=\"18\" height=\"26\" viewBox=\"0 0 18 26\"><path d=\"M6.66 0l.134.002h1.336c2.639 0 3.745.464 4.994 1.428 1.819 1.424 2.105 3.492 2.105 4.525 0 1.283-.393 2.638-1.356 3.742-.714.856-1.955 2.097-4.388 2.388-1.663.2-2.891.127-3.506.061v-1.306c.273.038.676.074 1.222.074 1.656 0 2.829-.827 3.543-1.719.81-.983.98-1.909 1.015-2.737h-4.555v-1.282h4.515c-.116-.866-.448-1.528-.985-2.179-1.035-1.283-2.499-1.497-3.462-1.497l-6.505-.002-.768-1.498h6.66zm-6.317 26l.804-1.564v-21.844h3.55v21.82h2.508v-8.523h3.276v8.514h2.838v-3.878c0-2.351-.122-5.622-2.77-7.311l1.542-.566c3.194 1.186 4.791 4.283 4.791 8.362v3.428l.804 1.562h-17.344z\" fill=\"#1658DA\"></path></svg></ins></a></div><div class=\"right\"><div class=\"header__controls\"><ul class=\"control_lang2\"><li class=\"control_lang2_item first_child activated\"><span class=\"link link_no-visited link_no-underline\">RU</span></li><li class=\"control_lang2_item last_child\"><a href=\"https://anr.hse.ru/en/\" class=\"link link_no-visited link_no-underline\">EN</a></li></ul><span class=\"control control_vision\" title=\"Версия для слабовидящих\"><svg xmlns=\"http://www.w3.org/2000/svg\" width=\"21\" height=\"12\" viewBox=\"0 0 21 12\"><path d=\"M10.5 0c3.438 0 6.937 2.016 10.5 6.047-.844.844-1.383 1.375-1.617 1.594-.234.219-.805.703-1.711 1.453-.906.75-1.641 1.266-2.203 1.547-.563.281-1.305.578-2.227.891-.922.313-1.836.469-2.742.469-1.125 0-2.156-.141-3.094-.422-.938-.281-1.875-.766-2.813-1.453-.938-.688-1.672-1.273-2.203-1.758-.531-.484-1.328-1.273-2.391-2.367 2.031-2.031 3.836-3.539 5.414-4.523 1.578-.984 3.273-1.477 5.086-1.477zm0 10.266c1.156 0 2.148-.422 2.977-1.266.828-.844 1.242-1.844 1.242-3s-.414-2.156-1.242-3c-.828-.844-1.82-1.266-2.977-1.266-1.156 0-2.148.422-2.977 1.266-.828.844-1.242 1.844-1.242 3s.414 2.156 1.242 3c.828.844 1.82 1.266 2.977 1.266zm0-5.766c0 .438.141.797.422 1.078s.641.422 1.078.422c.313 0 .625-.109.938-.328v.328c0 .688-.234 1.273-.703 1.758-.469.484-1.047.727-1.734.727-.688 0-1.266-.242-1.734-.727-.469-.484-.703-1.07-.703-1.758s.234-1.273.703-1.758c.469-.484 1.047-.727 1.734-.727h.375c-.25.313-.375.641-.375.984z\" fill=\"#1658DA\"></path></svg></span><a href=\"//www.hse.ru/user/\" class=\"control control_user\" title=\"Личный кабинет сотрудника ВШЭ\"><ins><svg xmlns=\"http://www.w3.org/2000/svg\" class=\"control_svg\" width=\"17\" height=\"18\" viewBox=\"0 0 17 18\"><path d=\"M13.702 13.175c.827.315 1.486.817 1.978 1.506.492.689.738 1.467.738 2.333h-16.419c0-1.417.532-2.5 1.595-3.248.394-.276 1.358-.591 2.894-.945.945-.118 1.457-.374 1.536-.768.039-.157.059-.61.059-1.358 0-.118-.039-.217-.118-.295-.157-.157-.315-.433-.472-.827-.079-.315-.157-.787-.236-1.417-.157.039-.285-.02-.384-.177-.098-.157-.177-.364-.236-.62l-.089-.443c-.157-.866-.098-1.28.177-1.24-.118-.157-.217-.532-.295-1.122-.118-.866-.059-1.634.177-2.303.276-.748.768-1.319 1.476-1.713.709-.394 1.476-.571 2.303-.532.787.039 1.506.276 2.156.709.65.433 1.093 1.024 1.329 1.772.197.551.217 1.319.059 2.303-.079.472-.157.768-.236.886.118-.039.207 0 .266.118.059.118.079.266.059.443l-.059.472c-.02.138-.049.246-.089.325l-.118.413c-.039.276-.108.472-.207.591-.098.118-.226.157-.384.118-.079.866-.217 1.476-.413 1.831 0 .039-.069.138-.207.295-.138.157-.207.256-.207.295v.65c0 .394.039.689.118.886.079.197.354.354.827.472.276.118.679.217 1.211.295.532.079.935.177 1.211.295z\" fill=\"#1658DA\"></path></svg></ins></a><span class=\"control control_search\" title=\"Поиск\"><ins class=\"popup_opener\"><svg xmlns=\"http://www.w3.org/2000/svg\" class=\"control_svg\" width=\"19\" height=\"19\" viewBox=\"0 0 19 19\"><path d=\"M12.927 7.9c0-1.384-.492-2.568-1.476-3.552s-2.168-1.476-3.552-1.476-2.568.492-3.552 1.476-1.476 2.168-1.476 3.552.492 2.568 1.476 3.552 2.168 1.476 3.552 1.476 2.568-.492 3.552-1.476 1.476-2.168 1.476-3.552zm4.053 11.1l-4.603-4.592c-1.339.928-2.832 1.391-4.477 1.391-1.07 0-2.093-.208-3.069-.623-.976-.415-1.818-.976-2.525-1.683-.707-.707-1.268-1.549-1.683-2.525-.415-.976-.623-1.999-.623-3.069 0-1.07.208-2.093.623-3.069.415-.976.976-1.818 1.683-2.525.707-.707 1.549-1.268 2.525-1.683.976-.415 1.999-.623 3.069-.623 1.07 0 2.093.208 3.069.623.976.415 1.818.976 2.525 1.683.707.707 1.268 1.549 1.683 2.525.415.976.623 1.999.623 3.069 0 1.646-.464 3.138-1.391 4.477l4.603 4.603-2.031 2.02z\" fill=\"#1658DA\"></path></svg></ins><div class=\"popup popup_search not_display\"><div class=\"popup__inner\"><div class=\"search-form\"><form action=\"https://anr.hse.ru/search/search.html\"><div class=\"search-form__button\"><button class=\"button button_grey \">Найти</button></div><div class=\"search-form__input\"><input type=\"text\" name=\"text\" placeholder=\"Поиск по сайту\" class=\"input input100 input_mr\"><input type=\"hidden\" name=\"simple\" value=\"1\"><input type=\"hidden\" name=\"searchid\" value=\"2284688\"></div></form></div><div class=\"popup__block popup__block_indent\"><a href=\"//www.hse.ru/search/search.html?simple=0&amp;searchid=2284688\" class=\"link link_dark no-visited\">Расширенный поиск по сайту</a><span class=\"b-adv-search\"></span></div></div></div></span><span style=\"cursor:pointer;\" onclick=\"void(0)\" class=\"control is-mobile control_menu js-control_menu_open\"><ins></ins><span class=\"control__text\">Меню</span></span></div></div><div class=\"header_body\" style=\"margin-left: 240px;\"><div class=\"header_breadcrumb\"><div class=\"header_breadcrumb__inner is-mobile no_crumb_arrow\"><a class=\"link_white no-visited link\" href=\"https://www.hse.ru\">Высшая школа экономики</a></div><div class=\"header_breadcrumb__inner is-desktop no_crumb_arrow\"><ul class=\"header_breadcrumb__list\"><li class=\"header_breadcrumb__item\"><a href=\"//www.hse.ru\" class=\"link no-visited header_breadcrumb__link\"><span>Национальный исследовательский университет «Высшая школа экономики»</span></a></li><li class=\"header_breadcrumb__item\"><a href=\"//www.hse.ru/org/hse/sci/\" class=\"link no-visited header_breadcrumb__link\"><span>Научные подразделения</span></a></li><li class=\"header_breadcrumb__item\"><span><span class=\"breadcrumb_current\">Международная лаборатория прикладного сетевого анализа</span></span></li></ul></div></div></div></div><div class=\"header-board is-mobile\"><h1><a class=\"link_white link_no-underline\" href=\"https://anr.hse.ru\">Международная лаборатория прикладного сетевого анализа</a></h1></div></div></div><div class=\"l-sidebar l-sidebar_white\"><div class=\"dpo-logo\"><a class=\"link link_white link_no-underline dpo-logo__link dpo-logo__link--fit\" href=\"https://anr.hse.ru/\">МЕЖДУНАРОДНАЯ ЛАБОРАТОРИЯ ПРИКЛАДНОГО СЕТЕВОГО АНАЛИЗА </a></div><div class=\"l-sidebar__inner\"><div class=\"holder holder_menu activated\"><div class=\"fixed stopped\" style=\"margin-top: 0;\"><div class=\"fixed__inner\" style=\"position: relative;\"><ul class=\"navigation navigation_dpo js-dpo\"><li><a class=\"link link_white first_level\" href=\"https://anr.hse.ru/about\">О Лаборатории</a></li><li><a class=\"link link_white first_level\" href=\"https://anr.hse.ru/persons\">Сотрудники</a></li><li><a class=\"link link_white first_level\" href=\"https://anr.hse.ru/job\">Вакансии</a></li><li><span class=\"link link_white first_level\">Научная деятельность</span><ul class=\"navigation_dpo-sub\"><li><a href=\"https://anr.hse.ru/directions\" class=\"link navigation_dpo-sub-item\">Направления</a></li><li><a href=\"https://anr.hse.ru/projects\" class=\"link navigation_dpo-sub-item\">Проекты</a></li></ul></li><li><span class=\"link link_white first_level\">Мероприятия</span><ul class=\"navigation_dpo-sub\"><li><a href=\"https://anr.hse.ru/news/announcements/\" class=\"link navigation_dpo-sub-item\">Анонсы</a></li><li><a href=\"https://anr.hse.ru/seminars\" class=\"link navigation_dpo-sub-item\">Семинары</a></li><li><a href=\"https://anr.hse.ru/news/ourconferences/\" class=\"link navigation_dpo-sub-item\">Конференции</a></li><li><a href=\"https://anr.hse.ru/news/ourschools/\" class=\"link navigation_dpo-sub-item\">Летние школы</a></li></ul></li><li><a class=\"link link_white first_level\" href=\"https://anr.hse.ru/resources\">Ресурсы</a></li><li><span class=\"link link_white first_level\">Образовательные программы</span><ul class=\"navigation_dpo-sub\"><li><a href=\"https://www.hse.ru/ma/sna\" class=\"link navigation_dpo-sub-item\">Магистерская программа \"Прикладная статистика с методами сетевого анализа\"</a></li><li><a href=\"https://www.hse.ru/ma/dataanalytics/\" class=\"link navigation_dpo-sub-item\">Магистерская программа \"Магистр прикладной и сетевой аналитики\" (Coursera)</a></li></ul></li><li><a class=\"link link_white first_level\" href=\"https://anr.hse.ru/consult\">Центр аналитической поддержки принятия решений</a></li></ul><div class=\"links-white\"><dl class=\"with-indent3 dpo-sidebar-section\"><dd><div id=\"executives\" class=\"first_child last_child \">\n",
            "<div class=\"first_child last_child \">\n",
            "<p class=\"first_child \"><br>\n",
            "Научный руководитель лаборатории:<br>\n",
            "<a href=\"https://www.hse.ru/org/persons/207739493\" class=\"link\">Анушка Ферлигой</a>, PhD, профессор Университета<br>\n",
            "Любляны</p>\n",
            "\n",
            "<p>Заведующий лабораторией:<br>\n",
            "<a href=\"https://www.hse.ru/staff/vkuskova\" class=\"link\">Валентина Кускова</a>, PhD, доцент НИУ ВШЭ</p>\n",
            "\n",
            "<p>Менеджер:<br>\n",
            "<a href=\"https://www.hse.ru/org/persons/337495021\" class=\"link\">Ольга Рослякова</a></p>\n",
            "\n",
            "<p class=\"last_child \"><br>\n",
            "Москва,<br>\n",
            "АУК \"Покровский бульвар\", Покровский б-р, д.11,<br>\n",
            "кабинеты M405, M406, M409<br>\n",
            "тел.: 772-95-90 доб. 12-232<br>\n",
            "anr@hse.ru</p>\n",
            "</div>\n",
            "</div>\n",
            "</dd></dl><dl class=\"with-indent2 dpo-sidebar-section\"><dd></dd></dl></div></div></div></div></div></div><div class=\"grid grid_with-sidebar\"><div class=\"b-header\"><div class=\"is-desktop\"><h1 class=\"with-indent\">Международная лаборатория прикладного сетевого анализа</h1></div></div><div class=\"main main_with-m-t main_with-modules\"><div class=\"modules\"><div class=\"modules__inner\"><div style=\"margin: 0 0 2em;\"><div class=\"b-side \"><div class=\"b-side__inner\"><div class=\"h5\">Мы в соцсетях</div><ul class=\"first_child last_child navigation\"><li><a href=\"https://www.facebook.com/anrlab/\" class=\"with-icon with-icon_fb-blue link\" rel=\"nofollow\">Facebook</a></li><li><a href=\"https://vk.com/hsemasna\" class=\"with-icon with-icon_vk-blue link\">Вконтакте</a></li><li><a href=\"https://www.instagram.com/masna.mdna.hse/\" class=\"with-icon with-icon_inst-blue link\">Instagram</a></li><li><a href=\"https://t.me/anrlab\" class=\"with-icon with-icon_tg-blue link\" rel=\"nofollow\">Telegram (Nodes and Links)</a></li><li><a href=\"https://t.me/HSE_analytic_ru\" class=\"with-icon with-icon_tg-blue link\">Telegram (Аналитическая мастерская)</a></li><li><a href=\"https://t.me/HSE_analytic_eng\" class=\"with-icon with-icon_tg-blue link\">Telegram (Analytic workshop)</a></li><li><a href=\"https://twitter.com/HseMasna\" class=\"with-icon with-icon_tw-blue link\">Twitter</a></li><li><a href=\"https://www.youtube.com/channel/UCUdJWy9nI50ez22HmYek6Uw/\" class=\"with-icon with-icon_yt-blue link\" rel=\"nofollow\">YouTube</a></li></ul></div></div><div class=\"with-indent5 _builder builder--text\"></div></div><div class=\"module card card_brown card_first\"><div class=\"card__inner\"><div class=\"c\"><div class=\"h5\"><a class=\"link link_dark2 no-visited\" href=\"https://anr.hse.ru/news/announcements/\">Мероприятия</a></div></div><div class=\"events\"><div class=\"events__item\"><div class=\"events__date\">21 марта, 20:00</div><span class=\"events__title\"><a href=\"https://anr.hse.ru/announcements/576232321.html\" class=\"link\">Семинар ANR-Lab “Анализ текстовых данных”</a></span><div class=\"events__comment grey\"><p>Регистрация доступна по ссылке<span class=\"with-icon with-icon_flag2 with-icon_right\"> </span></p></div><div class=\"events__foot vivid b\">онлайн</div></div><div class=\"events__item\"><div class=\"events__date\">4 апреля – 8 апреля</div><span class=\"events__title\"><a href=\"https://anr.hse.ru/announcements/525578050.html\" class=\"link\">Секция “Сетевой анализ” на XXIII Ясинской (Апрельской) конференции</a></span><div class=\"events__comment grey\"><p>Дедлайн для подачи заявок – 25 ноября 2021<span class=\"with-icon with-icon_flag2 with-icon_right\"> </span></p></div></div><div class=\"events__item\"><div class=\"events__date\">22 июня – 24 июня</div><span class=\"events__title\"><a href=\"http://ngw.spbu.ru\" target=\"_blank\" rel=\"nofollow\">Networks in the Global World 2022</a></span><div class=\"events__comment grey\"><p>Дедлайн для подачи заявок – 7 февраля 2022<span class=\"with-icon with-icon_flag2 with-icon_right\"> </span></p></div></div><div class=\"events__item\"><div class=\"events__date\">12 июля – 16 июля</div><span class=\"events__title\"><a href=\"https://www.sunbelt2022.org\" target=\"_blank\" rel=\"nofollow\">Sunbelt Conference 2022</a></span><div class=\"events__comment grey\"><p>Дедлайн для подачи заявок – 6 февраля 2022<span class=\"with-icon with-icon_flag2 with-icon_right\"> </span></p></div></div></div><div class=\"card_controls small\"><a href=\"https://anr.hse.ru/news/announcements/\" class=\"button button_clean \">Показать все<span class=\"button__decorate\"></span></a></div></div></div><div class=\"module card card_sand\"><div class=\"card__inner\"><div class=\"h5 with-hint\">Публикации</div><div class=\"b-publications-inst\"><div class=\"b-publications-inst__item\"><div class=\"extraEvTitle-holder extraEvTitle-holder_left b-publications-inst__item-type\"><div class=\"extraEvTitle grey\">Книга</div></div><a href=\"https://publications.hse.ru/view/540279900\" class=\"link link_no-underline b b-publications-inst__title\"><img src=\"//www.hse.ru/pubs/share/book/cover/thumb/540279900x40\" class=\"b-publications__img\"><span class=\"link\">Институт общественных экологических инспекторов в России: оценка результатов внедрения</span></a><p class=\"b\">Иншаков И. А., Колеснева Е. А., Корсун В. А.</p><p class=\"source italic\">\n",
            "      Вып. 12. М.: Центр перспективных управленческих решений, 2021.\n",
            "    </p></div><div class=\"b-publications-inst__item\"><div class=\"extraEvTitle-holder extraEvTitle-holder_left b-publications-inst__item-type\"><div class=\"extraEvTitle grey\">Статья</div></div><a href=\"https://publications.hse.ru/view/576718376\" class=\"link link_no-underline b b-publications-inst__title\" style=\"min-height: 0;\"><span class=\"link\">The Lessons Of The Pandemic For Family And School: Challenges And Prospects Of Network Education</span></a><p class=\"b\">\n",
            "      Vachkova S. N., Vachkov I. V., Klimov I. A. et al.\n",
            "    </p><p class=\"source italic\">\n",
            "      Sustainability. 2022. Vol. 14. No. 4. P. 1-24.\n",
            "    </p></div><div class=\"b-publications-inst__item\"><div class=\"extraEvTitle-holder extraEvTitle-holder_left b-publications-inst__item-type\"><div class=\"extraEvTitle grey\">Глава в книге</div></div><a href=\"https://publications.hse.ru/view/502058748\" class=\"link link_no-underline b b-publications-inst__title\" style=\"min-height: 0;\"><span class=\"link\">Social Network Analysis of the ProfessionalCommunity Interaction - Movie Industry Case</span> <span class=\"b-status b-status_bg\">В печати</span></a><p class=\"b\">Karpov I., Marakulin R.</p><p class=\"source italic\">\n",
            "      In bk.: Data Analytics and Management in Data Intensive Domains 22st International Conference, DAMDID/RCDL 2021. Springer, 2022. P. 1-15.\n",
            "    </p></div><div class=\"b-publications-inst__item\"><div class=\"extraEvTitle-holder extraEvTitle-holder_left b-publications-inst__item-type\"><div class=\"extraEvTitle grey\">Препринт</div></div><a href=\"https://publications.hse.ru/view/519263269\" class=\"link link_no-underline b b-publications-inst__title\" style=\"min-height: 0;\"><span class=\"link\">Stability evaluation of the Russian sociologists online community: 2011-2018 years</span></a><p class=\"b\">Kim A., Maltseva D.</p><p class=\"source italic\">\n",
            "      arxiv.org. Computer Science. Cornell University, 2021\n",
            "    </p></div><div class=\"b-publications_control\"><a href=\"https://anr.hse.ru/publications\" class=\"button button_clean \">Все публикации<span class=\"button__decorate\"></span></a></div></div></div></div></div><div class=\"sidebar__inner\" style=\"padding: 0\"><div class=\"b-side b-side_notice\"><div class=\"b-side__inner\"><br><!--noindex--><span class=\"with-icon with-icon_tick\"> </span><p class=\"last_child with-indent\">\n",
            "\t\t\t\tНашли <span class=\"wrong\">опечатку</span>?<br>\n",
            "\t\t\t\tВыделите её, нажмите Ctrl+Enter и отправьте нам уведомление. Спасибо за участие!<br>\n",
            "\t\t\t\tСервис предназначен только для отправки сообщений об орфографических и пунктуационных ошибках.\n",
            "\t\t\t</p><!--/noindex--><script type=\"text/javascript\">\n",
            "\t\t\t(function() {\n",
            "\t\t\t\tvar s = document.createElement('script'); s.type = 'text/javascript'; s.async = true;\n",
            "\t\t\t\ts.src = '/f/src/_/jquery.orfo.js';\n",
            "\t\t\t\ts.onload = s.onreadystatechange = function() {\n",
            "\t\t\t\t\tif ($.fn.hseOrfo) {\t// old IE...\n",
            "\t\t\t\t\t\t$(document).hseOrfo({\n",
            "\t\t\t\t\t\t\t'lang': 'ru'\n",
            "\t\t\t\t\t\t});\n",
            "\t\t\t\t\t}\n",
            "\t\t\t\t};\n",
            "\t\t\t\tvar t = document.getElementsByTagName('script')[0]; t.parentNode.insertBefore(s, t);\n",
            "\t\t\t})();\n",
            "\t\t</script></div></div></div></div><div class=\"content\"><div class=\"content__inner\"><div class=\"post post_splash post_slider post_banner post_block\"><div class=\"splash_slider\"><div class=\"js-splash-slider js-splash-slider--top\"></div><div class=\"b-soc-media__pages splash-slider-pages\"><div class=\"b-soc-media__pages-list js-splash-slider-pages\"></div></div><div class=\"gallery-prev splash-slider-prev\"></div><div class=\"gallery-next splash-slider-next\"></div><script type=\"text/javascript\">function setSliderTopProp() { $('.js-splash-slider--top').triggerHandler('configuration').auto.timeoutDuration = 10000;;$(window).trigger('resize');}</script></div></div><div><div class=\"block__head splash splash_high splash_13 splash_light splash_decorations\"><div class=\"splash__decoration splash__decoration_1\"></div><div class=\"splash__decoration splash__decoration_2\"></div><div class=\"row splash__body\"><div class=\"splash__text\"><h2></h2><p class=\"small\"><p data-mce-style=\"line-height: 24.7999992370605px;\">ANR-Lab занимается разработкой и тестированием новых методов анализа сетевых данных и их применением в эмпирических исследованиях в различных научных областях. Состав сотрудников лаборатории представлен исследователями из области социологии, политологии, экономики, менеджмента, математики, статистики, компьютерной лингвистики и компьютерных наук. Мы поддерживаем сотрудничество с российскими и зарубежными учеными и научными коллективами, работающими в области сетевого анализа.</p>  <p data-mce-style=\"line-height: 24.7999992370605px;\">Осенью 2017 года Лабораторией запущена магистерская программа <strong><a href=\"https://www.hse.ru/ma/sna\">&laquo;Прикладная статистика с методами сетевого анализа&raquo;</a></strong>.</p>  <p data-mce-style=\"line-height: 24.7999992370605px;\">А в 2021 году ANR-Lab открывает набор на новую магистерскую программу <strong><a href=\"https://www.hse.ru/ma/sna\">&laquo;</a><a href=\"https://www.hse.ru/ma/dataanalytics/\">Магистр прикладной и сетевой аналитики</a><a href=\"https://www.hse.ru/ma/sna\">&raquo;</a></strong>&nbsp;на платформе Coursera.</p> <br></p></div><div class=\"m-selector row\"><div class=\"m-selector__item opener-rubric js-opener-rubric smaller pseudo\"><div class=\"opener-rubric-decoration\"></div>Новости<ins class=\"b-arr b-arr_3 b-arr_down\"></ins></div><div class=\"popup-rubric js-popup-rubric\" style=\"display:none\"><div class=\"popup-rubric__inner\"><div class=\"popup__block\"><a class=\"rubric rubric_1 s-rubric\" href=\"https://anr.hse.ru/news/\"><span><rubric href=\"https://anr.hse.ru/news/\" type=\"1\" selected>Все новости</rubric></span></a><br><a class=\"rubric rubric_46 s-rubric\" href=\"https://anr.hse.ru/news/admission/\"><span><rubric href=\"https://anr.hse.ru/news/admission/\" rubric_id=\"115898698\" type=\"46\">Поступающим</rubric></span></a><br><a class=\"rubric rubric_9 s-rubric\" href=\"https://anr.hse.ru/news/edu/\"><span><rubric href=\"https://anr.hse.ru/news/edu/\" rubric_id=\"120624776\" type=\"9\">Образование</rubric></span></a><br><a class=\"rubric rubric_32 s-rubric\" href=\"https://anr.hse.ru/news/science/\"><span><rubric href=\"https://anr.hse.ru/news/science/\" rubric_id=\"115898694\" type=\"32\">Наука</rubric></span></a><br><a class=\"rubric rubric_5 s-rubric\" href=\"https://anr.hse.ru/news/expertise/\"><span><rubric href=\"https://anr.hse.ru/news/expertise/\" rubric_id=\"162981761\" type=\"5\">Экспертиза</rubric></span></a><br><a class=\"rubric rubric_4 s-rubric\" href=\"https://anr.hse.ru/news/community/\"><span><rubric href=\"https://anr.hse.ru/news/community/\" rubric_id=\"115898692\" type=\"4\">Общество</rubric></span></a><br><a class=\"rubric rubric_26 s-rubric\" href=\"https://anr.hse.ru/news/life/\"><span><rubric href=\"https://anr.hse.ru/news/life/\" rubric_id=\"115898700\" type=\"26\">Университетская жизнь</rubric></span></a><br><a class=\"rubric rubric_4 s-rubric\" href=\"https://anr.hse.ru/news/ourschools/\"><span><rubric href=\"https://anr.hse.ru/news/ourschools/\" type=\"4\">Наши школы</rubric></span></a><br><a class=\"rubric rubric_1 s-rubric\" href=\"https://anr.hse.ru/news/events/\"><span><rubric href=\"https://anr.hse.ru/news/events/\" type=\"1\">Мероприятия</rubric></span></a><br><a class=\"rubric rubric_11 s-rubric\" href=\"https://anr.hse.ru/news/ourconferences/\"><span><rubric href=\"https://anr.hse.ru/news/ourconferences/\" type=\"11\">Наши конференции</rubric></span></a><br></div><div class=\"popup__block\"></div><div class=\"popup__block popup__block_indent\"><a href=\"//www.hse.ru/search/search.html?simple=0&amp;search_in=news\" class=\"link no-visited\">Расширенный поиск<br> новостей\n",
            "                        </a><span class=\"b-adv-search\"></span></div></div></div></div></div></div></div><div class=\"posts posts_general posts_indent\"><div class=\"post  post_first\"><div class=\"post__extra \"><div class=\"post-meta\"><div class=\"post-meta__filter-ico rubric-white rubric_32\"><svg xmlns=\"http://www.w3.org/2000/svg\" xmlns:xlink=\"http://www.w3.org/1999/xlink\" width=\"70\" height=\"70\" viewBox=\"0 0 70 70\"><rect x=\"0\" y=\"0\" width=\"70\" height=\"70\" clip-path=\"url(#hse-mask)\" fill=\"#0941AF\"></rect><image class=\"svg\" xlink:href=\"/f/src/global/i/mask-rubric-cut.png\" src=\"/f/src/global/i/mask-rubric-cut.png\" width=\"70\" height=\"70\" clip-path=\"url(#hse-mask)\"></image></svg><span class=\"filter-ico filter-ico_mask\"><img src=\"/f/src/global/i/mask-pic.png\" width=\"70\" height=\"70\"></span></div><div class=\"post-meta__date\"><div class=\"post-meta__day\">2</div><div class=\"post-meta__month\">фев</div><div class=\"post-meta__year\">2022</div><div class=\"post-meta__visitors\"></div></div></div></div><div class=\"post__content\"><div class=\"picture first_child\"><img src=\"/data/2022/02/02/1758168211/1%D0%B3%D0%BE%D1%80%D0%B8%D0%B7%D0%BE%D0%BD%D1%82%D0%B0%D0%BB%D1%8C%D0%BD%D0%B0%D1%8F%20%D0%BD%D0%BE%20%D0%BD%D0%B5%20%D1%81%D0%B8%D0%BB%D1%8C%D0%BD%D0%BE.png\" width=\"100%\" alt=\"Иллюстрация к новости: Арюна Ким зачислена в академический кадровый резерв\" title=\"Арюна Ким зачислена в академический кадровый резерв\"></div><h2 class=\"first_child\"><a href=\"https://anr.hse.ru/news/559777345.html\" class=\"link link_dark2 no-visited\">Арюна Ким зачислена в академический кадровый резерв</a></h2><div class=\"post__text\"><p class=\"first_child last_child \"><p class=\"first_child last_child \">Поздравляем стажера-исследователя ANR-Lab Арюну Ким с зачислением в академический кадровый резерв в категорию “Новые исследователи”.</p></p></div><div class=\"tag-set smaller\"><a class=\"rubric rubric_32\" href=\"https://anr.hse.ru/news/science/\"><span>Наука</span></a><a class=\"tag\" href=\"https://anr.hse.ru/news/tags/achievements/\" title=\"достижения\">достижения</a><a class=\"tag\" href=\"https://anr.hse.ru/news/tags/success/\" title=\"конструктор успеха\">конструктор успеха</a><a class=\"tag\" href=\"https://anr.hse.ru/news/tags/official/\" title=\"официально\">официально</a></div><div class=\"post__date is-mobile\">2 февраля</div></div></div><div class=\"post \"><div class=\"post__extra \"><div class=\"post-meta\"><div class=\"post-meta__filter-ico rubric-white rubric_9\"><svg xmlns=\"http://www.w3.org/2000/svg\" xmlns:xlink=\"http://www.w3.org/1999/xlink\" width=\"70\" height=\"70\" viewBox=\"0 0 70 70\"><rect x=\"0\" y=\"0\" width=\"70\" height=\"70\" clip-path=\"url(#hse-mask)\" fill=\"#0941AF\"></rect><image class=\"svg\" xlink:href=\"/f/src/global/i/mask-rubric-cut.png\" src=\"/f/src/global/i/mask-rubric-cut.png\" width=\"70\" height=\"70\" clip-path=\"url(#hse-mask)\"></image></svg><span class=\"filter-ico filter-ico_mask\"><img src=\"/f/src/global/i/mask-pic.png\" width=\"70\" height=\"70\"></span></div><div class=\"post-meta__date\"><div class=\"post-meta__day\">25</div><div class=\"post-meta__month\">янв</div><div class=\"post-meta__year\">2022</div><div class=\"post-meta__visitors\"></div></div></div></div><div class=\"post__content\"><div class=\"picture first_child\"><img src=\"/data/2022/01/25/1755658487/6_%D1%84%D0%BE%D1%80%D0%BC%D0%B0%D1%82%20%D1%81%D0%B0%D0%B9%D1%82%D0%B0%20%D1%81%20%D0%B0%D0%BD%D1%80.png\" width=\"100%\" alt=\"Иллюстрация к новости: Сотрудница ANR-Lab Марья Воробьева проведет семестр по обмену в Бельгии\" title=\"Сотрудница ANR-Lab Марья Воробьева проведет семестр по обмену в Бельгии\"></div><h2 class=\"first_child\"><a href=\"https://anr.hse.ru/news/557005349.html\" class=\"link link_dark2 no-visited\">Сотрудница ANR-Lab Марья Воробьева проведет семестр по обмену в Бельгии</a></h2><div class=\"post__text\"><p class=\"first_child last_child \"><p class=\"first_child last_child \">Студентка MASNA и стажер-исследователь ANR-Lab Марья Воробьева отправилась в Левенский католический университет (KU Leuven) по программе студенческого обмена на весенний семестр (с января по июль).</p></p></div><div class=\"tag-set smaller\"><a class=\"rubric rubric_9\" href=\"https://anr.hse.ru/news/edu/\"><span>Образование</span></a><a class=\"tag\" href=\"https://anr.hse.ru/news/tags/achievements/\" title=\"достижения\">достижения</a><a class=\"tag\" href=\"https://anr.hse.ru/news/tags/success/\" title=\"конструктор успеха\">конструктор успеха</a><a class=\"tag\" href=\"https://anr.hse.ru/news/tags/stud/\" title=\"студенты\">студенты</a><a class=\"tag\" href=\"https://anr.hse.ru/news/tags/mag/\" title=\"магистратура\">магистратура</a></div><div class=\"post__date is-mobile\">25 января</div></div></div><div class=\"post \"><div class=\"post__extra \"><div class=\"post-meta\"><div class=\"post-meta__filter-ico rubric-white rubric_5\"><svg xmlns=\"http://www.w3.org/2000/svg\" xmlns:xlink=\"http://www.w3.org/1999/xlink\" width=\"70\" height=\"70\" viewBox=\"0 0 70 70\"><rect x=\"0\" y=\"0\" width=\"70\" height=\"70\" clip-path=\"url(#hse-mask)\" fill=\"#0941AF\"></rect><image class=\"svg\" xlink:href=\"/f/src/global/i/mask-rubric-cut.png\" src=\"/f/src/global/i/mask-rubric-cut.png\" width=\"70\" height=\"70\" clip-path=\"url(#hse-mask)\"></image></svg><span class=\"filter-ico filter-ico_mask\"><img src=\"/f/src/global/i/mask-pic.png\" width=\"70\" height=\"70\"></span></div><div class=\"post-meta__date\"><div class=\"post-meta__day\">16</div><div class=\"post-meta__month\">янв</div><div class=\"post-meta__year\">2022</div><div class=\"post-meta__visitors\"></div></div></div></div><div class=\"post__content\"><div class=\"picture first_child\"><img src=\"/data/2022/01/16/1768269247/3%D0%B2%D0%BE%D1%82%20%D1%8D%D1%82%D0%BE%20%D0%BD%D0%B0%20%D1%81%D0%B0%D0%B9%D1%82_%D0%BB%D0%B0%D0%B1.png\" width=\"100%\" alt=\"Иллюстрация к новости: Сотрудники ANR-Lab получили благодарности от руководства университета\" title=\"Сотрудники ANR-Lab получили благодарности от руководства университета\"></div><h2 class=\"first_child\"><a href=\"https://anr.hse.ru/news/552839021.html\" class=\"link link_dark2 no-visited\">Сотрудники ANR-Lab получили благодарности от руководства университета</a></h2><div class=\"post__text\"><p class=\"first_child last_child \"><p class=\"first_child last_child \">24 декабря состоялось торжественное мероприятие в связи с 10-летним юбилеем проекта “Международные лаборатории”, где сотрудники ANR-Lab Дарья Мальцева, Дмитрий Зайцев и Григорий Хвацкий получили награды от руководства университета. </p></p></div><div class=\"tag-set smaller\"><a class=\"rubric rubric_5\" href=\"https://anr.hse.ru/news/expertise/\"><span>Экспертиза</span></a><a class=\"tag\" href=\"https://anr.hse.ru/news/tags/achievements/\" title=\"достижения\">достижения</a><a class=\"tag\" href=\"https://anr.hse.ru/news/tags/success/\" title=\"конструктор успеха\">конструктор успеха</a><a class=\"tag\" href=\"https://anr.hse.ru/news/tags/official/\" title=\"официально\">официально</a><a class=\"tag\" href=\"https://anr.hse.ru/news/tags/erep/\" title=\"репортаж о событии\">репортаж о событии</a></div><div class=\"post__date is-mobile\">16 января</div></div></div><div class=\"post \"><div class=\"post__extra \"><div class=\"post-meta\"><div class=\"post-meta__filter-ico rubric-white rubric_9\"><svg xmlns=\"http://www.w3.org/2000/svg\" xmlns:xlink=\"http://www.w3.org/1999/xlink\" width=\"70\" height=\"70\" viewBox=\"0 0 70 70\"><rect x=\"0\" y=\"0\" width=\"70\" height=\"70\" clip-path=\"url(#hse-mask)\" fill=\"#0941AF\"></rect><image class=\"svg\" xlink:href=\"/f/src/global/i/mask-rubric-cut.png\" src=\"/f/src/global/i/mask-rubric-cut.png\" width=\"70\" height=\"70\" clip-path=\"url(#hse-mask)\"></image></svg><span class=\"filter-ico filter-ico_mask\"><img src=\"/f/src/global/i/mask-pic.png\" width=\"70\" height=\"70\"></span></div><div class=\"post-meta__date\"><div class=\"post-meta__day\">30</div><div class=\"post-meta__month\">дек</div><div class=\"post-meta__year\">2021</div><div class=\"post-meta__visitors\"></div></div></div></div><div class=\"post__content\"><div class=\"picture first_child\"><img src=\"/data/2022/01/11/1765013627/3%D1%84%D0%BE%D1%80%D0%BC%D0%B0%D1%82%20%D0%B4%D1%80%D1%83%D0%B3%D0%BE%D0%B9.png\" width=\"100%\" alt=\"Иллюстрация к новости: Сотрудница ANR-Lab и студентка MASNA Алина Арсланова стала лауреатом конкурса НИРС 2021\" title=\"Сотрудница ANR-Lab и студентка MASNA Алина Арсланова стала лауреатом конкурса НИРС 2021\"></div><h2 class=\"first_child\"><a href=\"https://anr.hse.ru/news/547748521.html\" class=\"link link_dark2 no-visited\">Сотрудница ANR-Lab и студентка MASNA Алина Арсланова стала лауреатом конкурса НИРС 2021</a></h2><div class=\"post__text\"><p class=\"first_child last_child \"><p class=\"first_child last_child \">Поздравляем Алину Арсланову и ее научного руководителя Валентину Кускову с победой в конкурсе НИРС в номинации «Лучшая научно-исследовательская работа по социологии для студентов магистратуры и выпускников 2021 года».</p></p></div><div class=\"tag-set smaller\"><a class=\"rubric rubric_9\" href=\"https://anr.hse.ru/news/edu/\"><span>Образование</span></a><a class=\"tag\" href=\"https://anr.hse.ru/news/tags/achievements/\" title=\"достижения\">достижения</a><a class=\"tag\" href=\"https://anr.hse.ru/news/tags/stud/\" title=\"студенты\">студенты</a><a class=\"tag\" href=\"https://anr.hse.ru/news/tags/official/\" title=\"официально\">официально</a><a class=\"tag\" href=\"https://anr.hse.ru/news/tags/mag/\" title=\"магистратура\">магистратура</a></div><div class=\"post__date is-mobile\">30 декабря\n",
            "\t\t\t\t\t 2021</div></div></div><div class=\"post \"><div class=\"post__extra \"><div class=\"post-meta\"><div class=\"post-meta__filter-ico rubric-white rubric_32\"><svg xmlns=\"http://www.w3.org/2000/svg\" xmlns:xlink=\"http://www.w3.org/1999/xlink\" width=\"70\" height=\"70\" viewBox=\"0 0 70 70\"><rect x=\"0\" y=\"0\" width=\"70\" height=\"70\" clip-path=\"url(#hse-mask)\" fill=\"#0941AF\"></rect><image class=\"svg\" xlink:href=\"/f/src/global/i/mask-rubric-cut.png\" src=\"/f/src/global/i/mask-rubric-cut.png\" width=\"70\" height=\"70\" clip-path=\"url(#hse-mask)\"></image></svg><span class=\"filter-ico filter-ico_mask\"><img src=\"/f/src/global/i/mask-pic.png\" width=\"70\" height=\"70\"></span></div><div class=\"post-meta__date\"><div class=\"post-meta__day\">13</div><div class=\"post-meta__month\">дек</div><div class=\"post-meta__year\">2021</div><div class=\"post-meta__visitors\"></div></div></div></div><div class=\"post__content\"><div class=\"picture first_child\"><img src=\"/data/2021/12/13/1776209481/1photo_2021-12-13_20-48-53.jpg\" width=\"100%\" alt=\"Иллюстрация к новости: Научные руководители ANR-Lab удостоены почетных наград Словении\" title=\"Научные руководители ANR-Lab удостоены почетных наград Словении\"></div><h2 class=\"first_child\"><a href=\"https://anr.hse.ru/news/541641883.html\" class=\"link link_dark2 no-visited\">Научные руководители ANR-Lab удостоены почетных наград Словении</a></h2><div class=\"post__text\"><p class=\"first_child last_child \"><p class=\"first_child last_child \">Поздравляем Анушку Ферлигой и Владимира Батагеля с получением почетных наград Республики Словения за достижения в научных исследованиях и разработках.</p></p></div><div class=\"tag-set smaller\"><a class=\"rubric rubric_32\" href=\"https://anr.hse.ru/news/science/\"><span>Наука</span></a><a class=\"tag\" href=\"https://anr.hse.ru/news/tags/achievements/\" title=\"достижения\">достижения</a><a class=\"tag\" href=\"https://anr.hse.ru/news/tags/prof/\" title=\"профессора\">профессора</a><a class=\"tag\" href=\"https://anr.hse.ru/news/tags/official/\" title=\"официально\">официально</a><a class=\"tag\" href=\"https://anr.hse.ru/news/tags/intcoop/\" title=\"международное сотрудничество\">международное сотрудничество</a></div><div class=\"post__date is-mobile\">13 декабря\n",
            "\t\t\t\t\t 2021</div></div></div><div class=\"post \"><div class=\"post__extra \"><div class=\"post-meta\"><div class=\"post-meta__filter-ico rubric-white rubric_32\"><svg xmlns=\"http://www.w3.org/2000/svg\" xmlns:xlink=\"http://www.w3.org/1999/xlink\" width=\"70\" height=\"70\" viewBox=\"0 0 70 70\"><rect x=\"0\" y=\"0\" width=\"70\" height=\"70\" clip-path=\"url(#hse-mask)\" fill=\"#0941AF\"></rect><image class=\"svg\" xlink:href=\"/f/src/global/i/mask-rubric-cut.png\" src=\"/f/src/global/i/mask-rubric-cut.png\" width=\"70\" height=\"70\" clip-path=\"url(#hse-mask)\"></image></svg><span class=\"filter-ico filter-ico_mask\"><img src=\"/f/src/global/i/mask-pic.png\" width=\"70\" height=\"70\"></span></div><div class=\"post-meta__date\"><div class=\"post-meta__day\">30</div><div class=\"post-meta__month\">ноя</div><div class=\"post-meta__year\">2021</div><div class=\"post-meta__visitors\"></div></div></div></div><div class=\"post__content\"><div class=\"picture first_child\"><img src=\"/data/2021/11/30/1450998735/3photo_2021-11-30_17-25-09.jpg\" width=\"100%\" alt=\"Иллюстрация к новости: Стажер-исследователь ANR-Lab Марья Воробьева опубликовала статью в журнале первого квартиля\" title=\"Стажер-исследователь ANR-Lab Марья Воробьева опубликовала статью в журнале первого квартиля\"></div><h2 class=\"first_child\"><a href=\"https://anr.hse.ru/news/535460125.html\" class=\"link link_dark2 no-visited\">Стажер-исследователь ANR-Lab Марья Воробьева опубликовала статью в журнале первого квартиля</a></h2><div class=\"post__text\"><p class=\"first_child last_child \"><p class=\"first_child last_child \">Поздравляем Марью Воробьеву, стажера-исследователя ANR-Lab и студентку программы MASNA, с выходом статьи в журнале первого квартиля Cultural Trends.</p></p></div><div class=\"tag-set smaller\"><a class=\"rubric rubric_32\" href=\"https://anr.hse.ru/news/science/\"><span>Наука</span></a><a class=\"tag\" href=\"https://anr.hse.ru/news/tags/achievements/\" title=\"достижения\">достижения</a><a class=\"tag\" href=\"https://anr.hse.ru/news/tags/stud/\" title=\"студенты\">студенты</a><a class=\"tag\" href=\"https://anr.hse.ru/news/tags/official/\" title=\"официально\">официально</a></div><div class=\"post__date is-mobile\">30 ноября\n",
            "\t\t\t\t\t 2021</div></div></div><div class=\"post \"><div class=\"post__extra \"><div class=\"post-meta\"><div class=\"post-meta__filter-ico rubric-white rubric_1\"><svg xmlns=\"http://www.w3.org/2000/svg\" xmlns:xlink=\"http://www.w3.org/1999/xlink\" width=\"70\" height=\"70\" viewBox=\"0 0 70 70\"><rect x=\"0\" y=\"0\" width=\"70\" height=\"70\" clip-path=\"url(#hse-mask)\" fill=\"#0941AF\"></rect><image class=\"svg\" xlink:href=\"/f/src/global/i/mask-rubric-cut.png\" src=\"/f/src/global/i/mask-rubric-cut.png\" width=\"70\" height=\"70\" clip-path=\"url(#hse-mask)\"></image></svg><span class=\"filter-ico filter-ico_mask\"><img src=\"/f/src/global/i/mask-pic.png\" width=\"70\" height=\"70\"></span></div><div class=\"post-meta__date\"><div class=\"post-meta__day\">15</div><div class=\"post-meta__month\">сен</div><div class=\"post-meta__year\">2021</div><div class=\"post-meta__visitors\"></div></div></div></div><div class=\"post__content\"><div class=\"picture first_child\"><img src=\"/data/2021/09/15/1471946260/3EUSN.png\" width=\"100%\" alt=\"Иллюстрация к новости: Сотрудники лаборатории приняли участие в 5-й Европейской конференции по социальным сетям EUSN 2021\" title=\"Сотрудники лаборатории приняли участие в 5-й Европейской конференции по социальным сетям EUSN 2021\"></div><h2 class=\"first_child\"><a href=\"https://anr.hse.ru/news/506076358.html\" class=\"link link_dark2 no-visited\">Сотрудники лаборатории приняли участие в 5-й Европейской конференции по социальным сетям EUSN 2021</a></h2><div class=\"post__text\"><p class=\"first_child last_child \"><p class=\"first_child last_child \">Конференция прошла онлайн 6-10 сентября и объединила социологов, статистиков, специалистов по компьютерам и наукам, экономистов, гуманитариев и ученых из всех областей, связанных с сетевой наукой. На конференции были представлены актуальные результаты и новейшие методологические разработки в области анализа социальных сетей.</p></p></div><div class=\"tag-set smaller\"><a class=\"rubric rubric_1\" href=\"https://anr.hse.ru/news/events/\"><span>Мероприятия</span></a><a class=\"rubric rubric_11\" href=\"https://anr.hse.ru/news/ourconferences/\"><span>Наши конференции</span></a><a class=\"tag\" href=\"https://anr.hse.ru/news/tags/practice/\" title=\"идеи и опыт\">идеи и опыт</a><a class=\"tag\" href=\"https://anr.hse.ru/news/tags/erep/\" title=\"репортаж о событии\">репортаж о событии</a></div><div class=\"post__date is-mobile\">15 сентября\n",
            "\t\t\t\t\t 2021</div></div></div><div class=\"post \"><div class=\"post__extra \"><div class=\"post-meta\"><div class=\"post-meta__filter-ico rubric-white rubric_32\"><svg xmlns=\"http://www.w3.org/2000/svg\" xmlns:xlink=\"http://www.w3.org/1999/xlink\" width=\"70\" height=\"70\" viewBox=\"0 0 70 70\"><rect x=\"0\" y=\"0\" width=\"70\" height=\"70\" clip-path=\"url(#hse-mask)\" fill=\"#0941AF\"></rect><image class=\"svg\" xlink:href=\"/f/src/global/i/mask-rubric-cut.png\" src=\"/f/src/global/i/mask-rubric-cut.png\" width=\"70\" height=\"70\" clip-path=\"url(#hse-mask)\"></image></svg><span class=\"filter-ico filter-ico_mask\"><img src=\"/f/src/global/i/mask-pic.png\" width=\"70\" height=\"70\"></span></div><div class=\"post-meta__date\"><div class=\"post-meta__day\">15</div><div class=\"post-meta__month\">сен</div><div class=\"post-meta__year\">2021</div><div class=\"post-meta__visitors\"></div></div></div></div><div class=\"post__content\"><div class=\"picture first_child\"><img src=\"/data/2021/09/15/1471940333/5ESA.png\" width=\"100%\" alt=\"Иллюстрация к новости: Станислав Моисеев принял участие в 15-й конференции, организованной Европейской социологической ассоциацией ESA 2021\" title=\"Станислав Моисеев принял участие в 15-й конференции, организованной Европейской социологической ассоциацией ESA 2021\"></div><h2 class=\"first_child\"><a href=\"https://anr.hse.ru/news/506070079.html\" class=\"link link_dark2 no-visited\">Станислав Моисеев принял участие в 15-й конференции, организованной Европейской социологической ассоциацией ESA 2021</a></h2><div class=\"post__text\"><p class=\"first_child last_child \"><p class=\"first_child last_child \">Конференция Европейской социологической ассоциации прошла онлайн с 31 августа по 3 сентября и собрала более 3800 участников. Главным фокусом мероприятия были социологические знания для альтернативного будущего.</p></p></div><div class=\"tag-set smaller\"><a class=\"rubric rubric_32\" href=\"https://anr.hse.ru/news/science/\"><span>Наука</span></a><a class=\"rubric rubric_1\" href=\"https://anr.hse.ru/news/events/\"><span>Мероприятия</span></a><a class=\"tag\" href=\"https://anr.hse.ru/news/tags/practice/\" title=\"идеи и опыт\">идеи и опыт</a><a class=\"tag\" href=\"https://anr.hse.ru/news/tags/erep/\" title=\"репортаж о событии\">репортаж о событии</a></div><div class=\"post__date is-mobile\">15 сентября\n",
            "\t\t\t\t\t 2021</div></div></div><div class=\"post \"><div class=\"post__extra \"><div class=\"post-meta\"><div class=\"post-meta__filter-ico rubric-white rubric_9\"><svg xmlns=\"http://www.w3.org/2000/svg\" xmlns:xlink=\"http://www.w3.org/1999/xlink\" width=\"70\" height=\"70\" viewBox=\"0 0 70 70\"><rect x=\"0\" y=\"0\" width=\"70\" height=\"70\" clip-path=\"url(#hse-mask)\" fill=\"#0941AF\"></rect><image class=\"svg\" xlink:href=\"/f/src/global/i/mask-rubric-cut.png\" src=\"/f/src/global/i/mask-rubric-cut.png\" width=\"70\" height=\"70\" clip-path=\"url(#hse-mask)\"></image></svg><span class=\"filter-ico filter-ico_mask\"><img src=\"/f/src/global/i/mask-pic.png\" width=\"70\" height=\"70\"></span></div><div class=\"post-meta__date\"><div class=\"post-meta__day\">8</div><div class=\"post-meta__month\">авг</div><div class=\"post-meta__year\">2021</div><div class=\"post-meta__visitors\"></div></div></div></div><div class=\"post__content\"><div class=\"picture first_child\"><img src=\"/data/2021/08/08/1425858902/218922948_4223804581019838_2790971888850970307_n-2.jpg\" width=\"100%\" alt=\"Иллюстрация к новости: Сотрудники ANR-Lab приняли участие в Санкт-Петербургской летней школе по сетевому анализу\" title=\"Сотрудники ANR-Lab приняли участие в Санкт-Петербургской летней школе по сетевому анализу\"></div><h2 class=\"first_child\"><a href=\"https://anr.hse.ru/news/493544324.html\" class=\"link link_dark2 no-visited\">Сотрудники ANR-Lab приняли участие в Санкт-Петербургской летней школе по сетевому анализу</a></h2><div class=\"post__text\"><p class=\"first_child last_child \"><p class=\"first_child last_child \">12-17 июля 2021 года состоялась 4-я Санкт-Петербургская летняя школа по сетевому анализу. Мероприятие прошло онлайн и собрало участников из 9 стран. Две сотрудницы нашей лаборатории приняли участие в летней школе, где представили свои исследования и получили советы от приглашенных преподавателей.</p></p></div><div class=\"tag-set smaller\"><a class=\"rubric rubric_9\" href=\"https://anr.hse.ru/news/edu/\"><span>Образование</span></a><a class=\"tag\" href=\"https://anr.hse.ru/news/tags/lecture/\" title=\"лектории\">лектории</a><a class=\"tag\" href=\"https://anr.hse.ru/news/tags/stud/\" title=\"студенты\">студенты</a><a class=\"tag\" href=\"https://anr.hse.ru/news/tags/erep/\" title=\"репортаж о событии\">репортаж о событии</a><a class=\"tag\" href=\"https://anr.hse.ru/news/tags/eduaddon/\" title=\"дополнительное образование\">дополнительное образование</a></div><div class=\"post__date is-mobile\">8 августа\n",
            "\t\t\t\t\t 2021</div></div></div><div class=\"post  post_last\"><div class=\"post__extra \"><div class=\"post-meta\"><div class=\"post-meta__filter-ico rubric-white rubric_32\"><svg xmlns=\"http://www.w3.org/2000/svg\" xmlns:xlink=\"http://www.w3.org/1999/xlink\" width=\"70\" height=\"70\" viewBox=\"0 0 70 70\"><rect x=\"0\" y=\"0\" width=\"70\" height=\"70\" clip-path=\"url(#hse-mask)\" fill=\"#0941AF\"></rect><image class=\"svg\" xlink:href=\"/f/src/global/i/mask-rubric-cut.png\" src=\"/f/src/global/i/mask-rubric-cut.png\" width=\"70\" height=\"70\" clip-path=\"url(#hse-mask)\"></image></svg><span class=\"filter-ico filter-ico_mask\"><img src=\"/f/src/global/i/mask-pic.png\" width=\"70\" height=\"70\"></span></div><div class=\"post-meta__date\"><div class=\"post-meta__day\">25</div><div class=\"post-meta__month\">июл</div><div class=\"post-meta__year\">2021</div><div class=\"post-meta__visitors\"></div></div></div></div><div class=\"post__content\"><div class=\"picture first_child\"><img src=\"/data/2021/08/20/1412528871/3%D0%A1%D0%BD%D0%B8%D0%BC%D0%BE%D0%BA%20%D1%8D%D0%BA%D1%80%D0%B0%D0%BD%D0%B0%202021-08-20%20%D0%B2%2016.54.09.png\" width=\"100%\" alt=\"Иллюстрация к новости: Сотрудники лаборатории приняли участие в 26-м Всемирном конгрессе политических наук\" title=\"Сотрудники лаборатории приняли участие в 26-м Всемирном конгрессе политических наук\"></div><h2 class=\"first_child\"><a href=\"https://anr.hse.ru/news/497514549.html\" class=\"link link_dark2 no-visited\">Сотрудники лаборатории приняли участие в 26-м Всемирном конгрессе политических наук</a></h2><div class=\"post__text\"><p class=\"first_child last_child \"><p class=\"first_child last_child \">10-15 июля онлайн прошел 26-й Всемирный конгресс политических наук. Сотрудники лаборатории Валентина Кускова, Дмитрий Зайцев, Григорий Хвацкий и Анна Сокол представили свои доклады на секции “Policy Networks”.</p></p></div><div class=\"tag-set smaller\"><a class=\"rubric rubric_32\" href=\"https://anr.hse.ru/news/science/\"><span>Наука</span></a><a class=\"tag\" href=\"https://anr.hse.ru/news/tags/resanl/\" title=\"исследования и аналитика\">исследования и аналитика</a><a class=\"tag\" href=\"https://anr.hse.ru/news/tags/erep/\" title=\"репортаж о событии\">репортаж о событии</a></div><div class=\"post__date is-mobile\">25 июля\n",
            "\t\t\t\t\t 2021</div></div></div></div><div class=\"pages-control pages-control_bt\"><a href=\"https://anr.hse.ru/news/page2.html\" class=\"button button_blue button_large \">Показать еще…</a></div><svg xmlns:xlink=\"http://www.w3.org/1999/xlink\" width=\"0\" height=\"0\" class=\"svg-mask\"><defs><clipPath id=\"hse-mask\"><use xlink:href=\"#hse-mask-path\" x=\"0\" y=\"0\"></use></clipPath><path id=\"hse-mask-path\" fill=\"none\" stroke=\"#000\" stroke-width=\"1\" stroke-opacity=\"0.3\" d=\"M0,70 M64.979,3.055l-25.904,0.05 c-21.8,0-36.163,11.798-36.163,31.612c0,19.389,13.387,32.251,35.769,32.251c13.183,0,30.315-0.071,30.315-0.071l-4.029-5.025 L64.979,3.055L64.979,3.055z\"></path></defs></svg></div></div></div><div class=\"footer\"><div class=\"footer__inner row\"><div class=\"footer__border\"></div><div class=\"footer__breadcrumbs\"><a href=\"//www.hse.ru\" class=\"link no-visited\">Национальный исследовательский университет «Высшая школа экономики»</a> → <a href=\"//www.hse.ru/org/hse/sci/\" class=\"link no-visited\">Научные подразделения</a> → <span class=\"b\">Международная лаборатория прикладного сетевого анализа</span></div><div class=\"footer__navigation\"><ul class=\"navigation navigation_footer\"><li class=\"parent\"><a href=\"//www.hse.ru/org/hse/info/\" class=\"link link_dark title no-visited\">О Вышке</a> \n",
            "\t\t\t\t</li><li><a href=\"//www.hse.ru/figures/\" class=\"link no-visited\">Цифры и факты</a></li><li><a href=\"//www.hse.ru/orgstructure/\" class=\"link no-visited\">Руководство и структура</a></li><li><a href=\"//www.hse.ru/org/persons/\" class=\"link no-visited\">Преподаватели и сотрудники</a></li><li><a href=\"//www.hse.ru/buildinghse\" class=\"link no-visited\">Корпуса и общежития</a></li><li><a href=\"https://www.hse.ru/org/hse/aup/procurement/\" class=\"link no-visited\">Закупки</a></li><li><a href=\"//www.hse.ru/appeal/\" class=\"link no-visited\">Обращения граждан в НИУ ВШЭ</a></li><li><a href=\"//endowment.hse.ru/\" class=\"link no-visited\">Фонд целевого капитала</a></li><li><a href=\"https://www.hse.ru/anticorruption\" class=\"link no-visited\">Противодействие коррупции</a></li><li><a href=\"https://www.hse.ru/anticorruption/information\" class=\"link no-visited\">Сведения о доходах, расходах, об имуществе и обязательствах имущественного характера</a></li><li><a href=\"//www.hse.ru/sveden/\" class=\"link no-visited\">Сведения об образовательной организации</a></li><li><a href=\"https://inclusive.hse.ru/\" class=\"link no-visited\">Людям с ограниченными возможностями здоровья</a></li><li><a href=\"https://pay.hse.ru/\" class=\"link no-visited\">Единая платежная страница</a></li></ul><ul class=\"navigation navigation_footer\"><li class=\"parent\"><a href=\"//www.hse.ru/education/\" class=\"link link_dark title no-visited\">ОБРАЗОВАНИЕ</a> \n",
            "\t\t\t\t</li><li><a href=\"//school.hse.ru\" class=\"link no-visited\">Лицей</a></li><li><a href=\"https://fdp.hse.ru/\" class=\"link no-visited\">Довузовская подготовка</a></li><li><a href=\"//olymp.hse.ru/\" class=\"link no-visited\">Олимпиады</a></li><li><a href=\"//ba.hse.ru/\" class=\"link no-visited\">Прием в бакалавриат</a></li><li><a href=\"https://www.hse.ru/plus\" class=\"link no-visited\">Вышка+</a></li><li><a href=\"//ma.hse.ru/\" class=\"link no-visited\">Прием в магистратуру</a></li><li><a href=\"//aspirantura.hse.ru/\" class=\"link no-visited\">Аспирантура</a></li><li><a href=\"//busedu.hse.ru/\" class=\"link no-visited\">Дополнительное образование</a></li><li><a href=\"https://career.hse.ru/\" class=\"link no-visited\">Центр развития карьеры</a></li><li><a href=\"http://inc.hse.ru/\" class=\"link no-visited\">Бизнес-инкубатор ВШЭ</a></li></ul><ul class=\"navigation navigation_footer\"><li class=\"parent\"><a href=\"//www.hse.ru/science/\" class=\"link link_dark title no-visited\">НАУКА</a> \n",
            "\t\t\t\t</li><li><a href=\"//www.hse.ru/science/centers\" class=\"link no-visited\">Научные подразделения</a></li><li><a href=\"https://www.hse.ru/org/projects/\" class=\"link no-visited\">Исследовательские проекты</a></li><li><a href=\"//www.hse.ru/monitoring/\" class=\"link no-visited\">Мониторинги</a></li><li><a href=\"//www.hse.ru/science/disscoun/\" class=\"link no-visited\">Диссертационные советы</a></li><li><a href=\"https://aspirantura.hse.ru/defence/announcements/\" class=\"link no-visited\">Защиты диссертаций</a></li><li><a href=\"//academics.hse.ru/\" class=\"link no-visited\">Академическое развитие</a></li><li><a href=\"//www.hse.ru/science/hsegrants\" class=\"link no-visited\">Конкурсы и гранты</a></li><li><a href=\"https://iq.hse.ru/\" class=\"link no-visited\">Научно-образовательный портал IQ.hse.ru</a></li><li><a href=\"https://conf.hse.ru/2022\" class=\"link no-visited\">XXIII Ясинская (Апрельская) международная научная конференция</a></li></ul><ul class=\"navigation navigation_footer\"><li class=\"parent\"><a href=\"//publications.hse.ru\" class=\"link link_dark title no-visited\">Ресурсы</a> \n",
            "\t\t\t\t</li><li><a href=\"https://library.hse.ru/\" class=\"link no-visited\">Библиотека</a></li><li><a href=\"//id.hse.ru\" class=\"link no-visited\">Издательский дом ВШЭ</a></li><li><a href=\"//bookshop.hse.ru/\" class=\"link no-visited\">Книжный магазин «БукВышка»</a></li><li><a href=\"https://print.hse.ru/\" class=\"link no-visited\">Типография</a></li><li><a href=\"https://mc.hse.ru/\" class=\"link no-visited\">Медиацентр</a></li><li><a href=\"//www.hse.ru/science/journals\" class=\"link no-visited\">Журналы ВШЭ</a></li><li><a href=\"//publications.hse.ru\" class=\"link no-visited\">Публикации</a></li><li><a href=\"http://sophist.hse.ru/\" class=\"link no-visited\">Единый архив экономических и социологических данных</a></li></ul><ul class=\"navigation navigation_footer\"><li class=\"parent\">Полезные ссылки</li><li><a href=\"http://www.minobrnauki.gov.ru/\" class=\"link no-visited\" rel=\"nofollow\">Министерство науки и высшего образования РФ</a></li><li><a href=\"https://edu.gov.ru/\" class=\"link no-visited\" rel=\"nofollow\">Министерство просвещения РФ</a></li><li><a href=\"http://www.edu.ru\" class=\"link no-visited\" rel=\"nofollow\">Федеральный портал «Российское образование»</a></li><li><a href=\"https://elearning.hse.ru/mooc\" class=\"link no-visited\">Массовые открытые онлайн-курсы</a></li><li><a href=\"https://studyinrussia.ru/\" class=\"link no-visited\" rel=\"nofollow\">Study In Russia</a></li></ul></div><div class=\"footer__extra\"><div class=\"footer__extra-inner\"><div class=\"editor\"><!--noindex--><a class=\"link link_btm_editor\" href=\"https://www.hse.ru/adm/edit/edit.html?goto=%2AaHR0cDovL2Fuci5oc2UucnUvP19yPTEzMjQ2OTYxNjQ3NzU1OTM4LjY4MzU5%5E&amp;id=119655633&amp;cid=22700&amp;addon_name=default&amp;newportal=1\">Редактору</a><!--/noindex--></div></div></div><div class=\"footer__bottom\"><span class=\"grey\">© НИУ ВШЭ 1993&ndash;2022</span> \n",
            "\t\t\t\t\t<a href=\"https://www.hse.ru/contacts.html\">Адреса и контакты</a> \n",
            "\t\t\t\t<a href=\"https://www.hse.ru/copyright\">Условия использования материалов</a> \n",
            "\t\t\t\t<a href=\"https://www.hse.ru/data_protection_regulation\">Политика конфиденциальности</a> \n",
            "\t\t\t\t<a href=\"https://www.hse.ru/sitemap.html\">Карта сайта</a> \n",
            "\t\t\t\t</div></div></div></div></div></div><div class=\"popups\"></div></body></html>\n",
            "\n"
          ]
        }
      ],
      "source": [
        "import requests\n",
        "\n",
        "response = requests.get(\"https://anr.hse.ru/\")\n",
        "\n",
        "#with open(\"hse.html\", \"w\") as fp:\n",
        "#   fp.write(response.text)\n",
        "\n",
        "print(response.text)"
      ]
    },
    {
      "cell_type": "code",
      "execution_count": null,
      "metadata": {
        "colab": {
          "base_uri": "https://localhost:8080/"
        },
        "id": "F_dqrFuCyF0K",
        "outputId": "6de4ca60-e4ad-497a-ae03-8cb9404bc04f"
      },
      "outputs": [
        {
          "name": "stdout",
          "output_type": "stream",
          "text": [
            "ok\n"
          ]
        }
      ],
      "source": [
        "if response.status_code == 200:\n",
        "  print(\"ok\")"
      ]
    },
    {
      "cell_type": "code",
      "execution_count": null,
      "metadata": {
        "colab": {
          "base_uri": "https://localhost:8080/",
          "height": 17
        },
        "id": "9VxqbCtNyF0L",
        "outputId": "32d9f9a7-ec49-4598-fe58-044064b1ab23"
      },
      "outputs": [
        {
          "data": {
            "application/javascript": [
              "\n",
              "    async function download(id, filename, size) {\n",
              "      if (!google.colab.kernel.accessAllowed) {\n",
              "        return;\n",
              "      }\n",
              "      const div = document.createElement('div');\n",
              "      const label = document.createElement('label');\n",
              "      label.textContent = `Downloading \"${filename}\": `;\n",
              "      div.appendChild(label);\n",
              "      const progress = document.createElement('progress');\n",
              "      progress.max = size;\n",
              "      div.appendChild(progress);\n",
              "      document.body.appendChild(div);\n",
              "\n",
              "      const buffers = [];\n",
              "      let downloaded = 0;\n",
              "\n",
              "      const channel = await google.colab.kernel.comms.open(id);\n",
              "      // Send a message to notify the kernel that we're ready.\n",
              "      channel.send({})\n",
              "\n",
              "      for await (const message of channel.messages) {\n",
              "        // Send a message to notify the kernel that we're ready.\n",
              "        channel.send({})\n",
              "        if (message.buffers) {\n",
              "          for (const buffer of message.buffers) {\n",
              "            buffers.push(buffer);\n",
              "            downloaded += buffer.byteLength;\n",
              "            progress.value = downloaded;\n",
              "          }\n",
              "        }\n",
              "      }\n",
              "      const blob = new Blob(buffers, {type: 'application/binary'});\n",
              "      const a = document.createElement('a');\n",
              "      a.href = window.URL.createObjectURL(blob);\n",
              "      a.download = filename;\n",
              "      div.appendChild(a);\n",
              "      a.click();\n",
              "      div.remove();\n",
              "    }\n",
              "  "
            ],
            "text/plain": [
              "<IPython.core.display.Javascript object>"
            ]
          },
          "metadata": {},
          "output_type": "display_data"
        },
        {
          "data": {
            "application/javascript": [
              "download(\"download_16b63fbd-3426-4866-9cb5-017987cc2018\", \"hse.html\", 0)"
            ],
            "text/plain": [
              "<IPython.core.display.Javascript object>"
            ]
          },
          "metadata": {},
          "output_type": "display_data"
        }
      ],
      "source": [
        "from google.colab import files\n",
        "files.download('hse.html') "
      ]
    },
    {
      "cell_type": "code",
      "execution_count": null,
      "metadata": {
        "colab": {
          "base_uri": "https://localhost:8080/"
        },
        "id": "QlwJfXMQyF0L",
        "outputId": "16c2f4d0-fc88-4c04-d7f4-deb243d1c4c8"
      },
      "outputs": [
        {
          "name": "stdout",
          "output_type": "stream",
          "text": [
            "\n",
            "Page title is:  Международная лаборатория прикладного сетевого анализа — Национальный исследовательский университет «Высшая школа экономики»\n"
          ]
        }
      ],
      "source": [
        "import re\n",
        "\n",
        "res = re.findall(r\"<title>(.+?)</title>\", response.text)\n",
        "print(\"\\nPage title is: \", res[0])"
      ]
    },
    {
      "cell_type": "code",
      "execution_count": null,
      "metadata": {
        "colab": {
          "base_uri": "https://localhost:8080/"
        },
        "id": "bRPyQouEzwy6",
        "outputId": "195f3432-cdff-4859-9128-d242c76c4bf5"
      },
      "outputs": [
        {
          "name": "stdout",
          "output_type": "stream",
          "text": [
            "### Арюна Ким зачислена в академический кадровый резерв\n",
            "### Сотрудница ANR-Lab Марья Воробьева проведет семестр по обмену в Бельгии\n",
            "### Сотрудники ANR-Lab получили благодарности от руководства университета\n",
            "### Сотрудница ANR-Lab и студентка MASNA Алина Арсланова стала лауреатом конкурса НИРС 2021\n",
            "### Научные руководители ANR-Lab удостоены почетных наград Словении\n",
            "### Стажер-исследователь ANR-Lab Марья Воробьева опубликовала статью в журнале первого квартиля\n",
            "### Сотрудники лаборатории приняли участие в 5-й Европейской конференции по социальным сетям EUSN 2021\n",
            "### Станислав Моисеев принял участие в 15-й конференции, организованной Европейской социологической ассоциацией ESA 2021\n",
            "### Сотрудники ANR-Lab приняли участие в Санкт-Петербургской летней школе по сетевому анализу\n",
            "### Сотрудники лаборатории приняли участие в 26-м Всемирном конгрессе политических наук\n"
          ]
        }
      ],
      "source": [
        "res = re.findall(r\"(?<=class=\\\"link link_dark2 no-visited\\\">)(.*?)(?=</a>)\", response.text)\n",
        "for hr in res:\n",
        "    print(f\"### {hr}\")"
      ]
    },
    {
      "cell_type": "markdown",
      "metadata": {
        "id": "J58rDhE1z-1O"
      },
      "source": [
        "Затем мы выделяем некоторый текст в соответствии с тегом вокруг текста, используя регулярное выражение.\n"
      ]
    },
    {
      "cell_type": "code",
      "execution_count": null,
      "metadata": {
        "colab": {
          "base_uri": "https://localhost:8080/"
        },
        "id": "vpmdwTaD0CVa",
        "outputId": "98a7679e-a927-4cbb-86b9-55077e4d5359"
      },
      "outputs": [
        {
          "data": {
            "text/plain": [
              "['Арюна Ким зачислена в академический кадровый резерв',\n",
              " 'Сотрудница ANR-Lab Марья Воробьева проведет семестр по обмену в Бельгии',\n",
              " 'Сотрудники ANR-Lab получили благодарности от руководства университета',\n",
              " 'Сотрудница ANR-Lab и студентка MASNA Алина Арсланова стала лауреатом конкурса НИРС 2021',\n",
              " 'Научные руководители ANR-Lab удостоены почетных наград Словении',\n",
              " 'Стажер-исследователь ANR-Lab Марья Воробьева опубликовала статью в журнале первого квартиля',\n",
              " 'Сотрудники лаборатории приняли участие в 5-й Европейской конференции по социальным сетям EUSN 2021',\n",
              " 'Станислав Моисеев принял участие в 15-й конференции, организованной Европейской социологической ассоциацией ESA 2021',\n",
              " 'Сотрудники ANR-Lab приняли участие в Санкт-Петербургской летней школе по сетевому анализу',\n",
              " 'Сотрудники лаборатории приняли участие в 26-м Всемирном конгрессе политических наук']"
            ]
          },
          "execution_count": 45,
          "metadata": {},
          "output_type": "execute_result"
        }
      ],
      "source": [
        "res[-10:]"
      ]
    },
    {
      "cell_type": "markdown",
      "metadata": {
        "id": "pWys6-HX0iyl"
      },
      "source": [
        "Далее получим ссылки с помощью регулярных выражений.\n",
        "\n",
        "Почитать о регулярных выражениях и потестить их работу [тут](https://regexone.com/)."
      ]
    },
    {
      "cell_type": "code",
      "execution_count": null,
      "metadata": {
        "colab": {
          "base_uri": "https://localhost:8080/"
        },
        "id": "3X0u__qg0Ge3",
        "outputId": "f04b7b27-5779-4a5f-c3dd-4c18dfc4eee4"
      },
      "outputs": [
        {
          "name": "stdout",
          "output_type": "stream",
          "text": [
            "### /f/src/global/i/favicon/favicon_ios_180x180.\n",
            "### /f/src/global/i/favicon/favicon_32x32.\n",
            "### /f/src/global/i/favicon/favicon_16x16.\n",
            "### /f/src/global/i/favicon/favicon.\n",
            "### /f/src/manifest/manifest_ru.\n",
            "### /favicon.\n",
            "### /f/src/global/css/main.\n",
            "### /f/src/global/css/vision.\n",
            "### /f/src/global/css/sitemap.\n",
            "### /f/src/global/css/fotorama.\n",
            "### /f/src/home/owl.\n",
            "### /f/src/science/science.\n",
            "### /f/src/dop_card/dop_card.\n",
            "### /f/src/science_dep_card/science_dep_card.\n",
            "### /f/src/projects/science_dep/mobile.\n",
            "### /f/src/global/bower_components/jqcloud2/dist/jqcloud.\n",
            "### https://anr.\n",
            "### https://anr.\n",
            "### https://anr.\n",
            "### https://anr.\n",
            "### /f/src/projects/science_dep/mobile.\n",
            "### https://www.\n",
            "### https://www.\n",
            "### https://anr.\n",
            "### //www.\n",
            "### //www.\n",
            "### https://anr.\n",
            "### https://anr.\n",
            "### https://anr.\n",
            "### https://anr.\n",
            "### https://anr.\n",
            "### https://anr.\n",
            "### https://anr.\n",
            "### https://anr.\n",
            "### https://anr.\n",
            "### https://anr.\n",
            "### https://anr.\n",
            "### https://www.\n",
            "### https://www.\n",
            "### https://anr.\n",
            "### https://www.\n",
            "### https://www.\n",
            "### https://www.\n",
            "### //www.\n",
            "### https://anr.\n",
            "### //www.\n",
            "### //www.\n",
            "### https://www.\n",
            "### //www.\n",
            "### //www.\n",
            "### https://anr.\n",
            "### https://anr.\n",
            "### https://anr.\n",
            "### https://anr.\n",
            "### https://anr.\n",
            "### https://anr.\n",
            "### https://anr.\n",
            "### https://anr.\n",
            "### https://anr.\n",
            "### https://anr.\n",
            "### https://anr.\n",
            "### https://anr.\n",
            "### https://www.\n",
            "### https://www.\n",
            "### https://anr.\n",
            "### https://www.\n",
            "### https://www.\n",
            "### https://www.\n",
            "### https://www.\n",
            "### https://vk.\n",
            "### https://www.\n",
            "### https://t.\n",
            "### https://t.\n",
            "### https://t.\n",
            "### https://twitter.\n",
            "### https://www.\n",
            "### https://anr.\n",
            "### https://anr.\n",
            "### https://anr.\n",
            "### http://ngw.\n",
            "### https://www.\n",
            "### https://anr.\n",
            "### https://publications.\n",
            "### https://publications.\n",
            "### https://publications.\n",
            "### https://publications.\n",
            "### https://anr.\n",
            "### https://www.\n",
            "### https://www.\n",
            "### https://www.\n",
            "### https://www.\n",
            "### https://anr.\n",
            "### https://anr.\n",
            "### https://anr.\n",
            "### https://anr.\n",
            "### https://anr.\n",
            "### https://anr.\n",
            "### https://anr.\n",
            "### https://anr.\n",
            "### https://anr.\n",
            "### https://anr.\n",
            "### https://anr.\n",
            "### https://anr.\n",
            "### https://anr.\n",
            "### https://anr.\n",
            "### https://anr.\n",
            "### https://anr.\n",
            "### https://anr.\n",
            "### https://anr.\n",
            "### https://anr.\n",
            "### https://anr.\n",
            "### //www.\n",
            "### /f/src/global/i/mask-rubric-cut.\n",
            "### https://anr.\n",
            "### https://anr.\n",
            "### https://anr.\n",
            "### https://anr.\n",
            "### https://anr.\n",
            "### /f/src/global/i/mask-rubric-cut.\n",
            "### https://anr.\n",
            "### https://anr.\n",
            "### https://anr.\n",
            "### https://anr.\n",
            "### https://anr.\n",
            "### https://anr.\n",
            "### /f/src/global/i/mask-rubric-cut.\n",
            "### https://anr.\n",
            "### https://anr.\n",
            "### https://anr.\n",
            "### https://anr.\n",
            "### https://anr.\n",
            "### https://anr.\n",
            "### /f/src/global/i/mask-rubric-cut.\n",
            "### https://anr.\n",
            "### https://anr.\n",
            "### https://anr.\n",
            "### https://anr.\n",
            "### https://anr.\n",
            "### https://anr.\n",
            "### /f/src/global/i/mask-rubric-cut.\n",
            "### https://anr.\n",
            "### https://anr.\n",
            "### https://anr.\n",
            "### https://anr.\n",
            "### https://anr.\n",
            "### https://anr.\n",
            "### /f/src/global/i/mask-rubric-cut.\n",
            "### https://anr.\n",
            "### https://anr.\n",
            "### https://anr.\n",
            "### https://anr.\n",
            "### https://anr.\n",
            "### /f/src/global/i/mask-rubric-cut.\n",
            "### https://anr.\n",
            "### https://anr.\n",
            "### https://anr.\n",
            "### https://anr.\n",
            "### https://anr.\n",
            "### /f/src/global/i/mask-rubric-cut.\n",
            "### https://anr.\n",
            "### https://anr.\n",
            "### https://anr.\n",
            "### https://anr.\n",
            "### https://anr.\n",
            "### /f/src/global/i/mask-rubric-cut.\n",
            "### https://anr.\n",
            "### https://anr.\n",
            "### https://anr.\n",
            "### https://anr.\n",
            "### https://anr.\n",
            "### https://anr.\n",
            "### /f/src/global/i/mask-rubric-cut.\n",
            "### https://anr.\n",
            "### https://anr.\n",
            "### https://anr.\n",
            "### https://anr.\n",
            "### https://anr.\n",
            "### #hse-mask-path\" x=\"0\" y=\"0\"></use></clipPath><path id=\"hse-mask-path\" fill=\"none\" stroke=\"#000\" stroke-width=\"1\" stroke-opacity=\"0.\n",
            "### //www.\n",
            "### //www.\n",
            "### //www.\n",
            "### //www.\n",
            "### //www.\n",
            "### //www.\n",
            "### //www.\n",
            "### https://www.\n",
            "### //www.\n",
            "### //endowment.\n",
            "### https://www.\n",
            "### https://www.\n",
            "### //www.\n",
            "### https://inclusive.\n",
            "### https://pay.\n",
            "### //www.\n",
            "### //school.\n",
            "### https://fdp.\n",
            "### //olymp.\n",
            "### //ba.\n",
            "### https://www.\n",
            "### //ma.\n",
            "### //aspirantura.\n",
            "### //busedu.\n",
            "### https://career.\n",
            "### http://inc.\n",
            "### //www.\n",
            "### //www.\n",
            "### https://www.\n",
            "### //www.\n",
            "### //www.\n",
            "### https://aspirantura.\n",
            "### //academics.\n",
            "### //www.\n",
            "### https://iq.\n",
            "### https://conf.\n",
            "### //publications.\n",
            "### https://library.\n",
            "### //id.\n",
            "### //bookshop.\n",
            "### https://print.\n",
            "### https://mc.\n",
            "### //www.\n",
            "### //publications.\n",
            "### http://sophist.\n",
            "### http://www.\n",
            "### https://edu.\n",
            "### http://www.\n",
            "### https://elearning.\n",
            "### https://studyinrussia.\n",
            "### https://www.\n",
            "### https://www.\n",
            "### https://www.\n",
            "### https://www.\n",
            "### https://www.\n"
          ]
        }
      ],
      "source": [
        "res = re.findall(r'href=\"(.*?\\.)', response.text)\n",
        "for hr in res:\n",
        "    print(f\"### {hr}\")"
      ]
    },
    {
      "cell_type": "markdown",
      "metadata": {
        "id": "C4OrXedm1rPs"
      },
      "source": [
        "Далее подключим для работы **BeautifulSoup**."
      ]
    },
    {
      "cell_type": "code",
      "execution_count": null,
      "metadata": {
        "id": "LMrH3Xld0GRt"
      },
      "outputs": [],
      "source": [
        "from bs4 import BeautifulSoup\n",
        "import requests\n",
        "\n",
        "resp = requests.get(\"https://anr.hse.ru/\")\n",
        "html = resp.text\n",
        "#print(html)"
      ]
    },
    {
      "cell_type": "markdown",
      "metadata": {
        "id": "EYGO02UX1_Xr"
      },
      "source": [
        "Анализируя этот html с помощью метода html.parser, создим объект супа. И возьмем просто «h1» или «p», чтобы вызвать заголовок 1 и тег абзаца из супа.\n"
      ]
    },
    {
      "cell_type": "code",
      "execution_count": null,
      "metadata": {
        "colab": {
          "base_uri": "https://localhost:8080/"
        },
        "id": "PnqVifCg1x-V",
        "outputId": "c1aa579c-47e2-4fbf-d135-24d2be152520"
      },
      "outputs": [
        {
          "name": "stdout",
          "output_type": "stream",
          "text": [
            "<a class=\"link\" href=\"https://www.hse.ru/cookie.html\" target=\"_blank\" title=\"Пройти по ссылке\">здесь</a>\n"
          ]
        }
      ],
      "source": [
        "soup = BeautifulSoup(html, \"html.parser\")\n",
        "print(soup.a)\n",
        "#print('\\n', soup.p)"
      ]
    },
    {
      "cell_type": "markdown",
      "metadata": {
        "id": "7WIBJiPm2PwB"
      },
      "source": [
        "Вы всегда можете использовать некоторые полезные функции для поиска тегов и получить доступ к атрибуту найденных тегов с помощью ключа точно так же, как это в словаре Python.\n"
      ]
    },
    {
      "cell_type": "code",
      "execution_count": null,
      "metadata": {
        "colab": {
          "base_uri": "https://localhost:8080/"
        },
        "id": "C9aim3XM1xox",
        "outputId": "410eb7b9-27e0-48d5-e612-1600f78aec04"
      },
      "outputs": [
        {
          "name": "stdout",
          "output_type": "stream",
          "text": [
            "### https://www.hse.ruhttps://www.hse.ru/cookie.html\n",
            "### https://www.hse.ruhttps://www.hse.ru/data_protection_regulation\n",
            "### https://www.hse.ruhttps://anr.hse.ru/en/\n",
            "### https://www.hse.ru//www.hse.ru/user/\n",
            "### https://www.hse.ru//www.hse.ru/search/search.html?simple=0\n",
            "### https://www.hse.ruhttps://anr.hse.ru\n",
            "### https://www.hse.ruhttps://anr.hse.ru/about\n",
            "### https://www.hse.ruhttps://anr.hse.ru/persons\n",
            "### https://www.hse.ruhttps://anr.hse.ru/job\n",
            "### https://www.hse.ruhttps://anr.hse.ru/directions\n",
            "### https://www.hse.ruhttps://anr.hse.ru/projects\n",
            "### https://www.hse.ruhttps://anr.hse.ru/news/announcements/\n",
            "### https://www.hse.ruhttps://anr.hse.ru/seminars\n",
            "### https://www.hse.ruhttps://anr.hse.ru/news/ourconferences/\n",
            "### https://www.hse.ruhttps://anr.hse.ru/news/ourschools/\n",
            "### https://www.hse.ruhttps://anr.hse.ru/resources\n",
            "### https://www.hse.ruhttps://www.hse.ru/ma/sna\n",
            "### https://www.hse.ruhttps://www.hse.ru/ma/dataanalytics/\n",
            "### https://www.hse.ruhttps://anr.hse.ru/consult\n",
            "### https://www.hse.ruhttps://www.hse.ru/org/persons/207739493\n",
            "### https://www.hse.ruhttps://www.hse.ru/staff/vkuskova\n",
            "### https://www.hse.ruhttps://www.hse.ru/org/persons/337495021\n",
            "### https://www.hse.ru//www.hse.ru/\n",
            "### https://www.hse.ruhttps://anr.hse.ru/en/\n",
            "### https://www.hse.ru//www.hse.ru/user/\n",
            "### https://www.hse.ru//www.hse.ru/search/search.html?simple=0&searchid=2284688\n",
            "### https://www.hse.ruhttps://www.hse.ru\n",
            "### https://www.hse.ru//www.hse.ru\n",
            "### https://www.hse.ru//www.hse.ru/org/hse/sci/\n",
            "### https://www.hse.ruhttps://anr.hse.ru\n",
            "### https://www.hse.ruhttps://anr.hse.ru/\n",
            "### https://www.hse.ruhttps://anr.hse.ru/about\n",
            "### https://www.hse.ruhttps://anr.hse.ru/persons\n",
            "### https://www.hse.ruhttps://anr.hse.ru/job\n",
            "### https://www.hse.ruhttps://anr.hse.ru/directions\n",
            "### https://www.hse.ruhttps://anr.hse.ru/projects\n",
            "### https://www.hse.ruhttps://anr.hse.ru/news/announcements/\n",
            "### https://www.hse.ruhttps://anr.hse.ru/seminars\n",
            "### https://www.hse.ruhttps://anr.hse.ru/news/ourconferences/\n",
            "### https://www.hse.ruhttps://anr.hse.ru/news/ourschools/\n",
            "### https://www.hse.ruhttps://anr.hse.ru/resources\n",
            "### https://www.hse.ruhttps://www.hse.ru/ma/sna\n",
            "### https://www.hse.ruhttps://www.hse.ru/ma/dataanalytics/\n",
            "### https://www.hse.ruhttps://anr.hse.ru/consult\n",
            "### https://www.hse.ruhttps://www.hse.ru/org/persons/207739493\n",
            "### https://www.hse.ruhttps://www.hse.ru/staff/vkuskova\n",
            "### https://www.hse.ruhttps://www.hse.ru/org/persons/337495021\n",
            "### https://www.hse.ruhttps://www.facebook.com/anrlab/\n",
            "### https://www.hse.ruhttps://vk.com/hsemasna\n",
            "### https://www.hse.ruhttps://www.instagram.com/masna.mdna.hse/\n",
            "### https://www.hse.ruhttps://t.me/anrlab\n",
            "### https://www.hse.ruhttps://t.me/HSE_analytic_ru\n",
            "### https://www.hse.ruhttps://t.me/HSE_analytic_eng\n",
            "### https://www.hse.ruhttps://twitter.com/HseMasna\n",
            "### https://www.hse.ruhttps://www.youtube.com/channel/UCUdJWy9nI50ez22HmYek6Uw/\n",
            "### https://www.hse.ruhttps://anr.hse.ru/news/announcements/\n",
            "### https://www.hse.ruhttps://anr.hse.ru/announcements/576232321.html\n",
            "### https://www.hse.ruhttps://anr.hse.ru/announcements/525578050.html\n",
            "### https://www.hse.ruhttp://ngw.spbu.ru\n",
            "### https://www.hse.ruhttps://www.sunbelt2022.org\n",
            "### https://www.hse.ruhttps://anr.hse.ru/news/announcements/\n",
            "### https://www.hse.ruhttps://publications.hse.ru/view/540279900\n",
            "### https://www.hse.ruhttps://publications.hse.ru/view/576718376\n",
            "### https://www.hse.ruhttps://publications.hse.ru/view/502058748\n",
            "### https://www.hse.ruhttps://publications.hse.ru/view/519263269\n",
            "### https://www.hse.ruhttps://anr.hse.ru/publications\n",
            "### https://www.hse.ruhttps://www.hse.ru/ma/sna\n",
            "### https://www.hse.ruhttps://www.hse.ru/ma/sna\n",
            "### https://www.hse.ruhttps://www.hse.ru/ma/dataanalytics/\n",
            "### https://www.hse.ruhttps://www.hse.ru/ma/sna\n",
            "### https://www.hse.ruhttps://anr.hse.ru/news/\n",
            "### https://www.hse.ruhttps://anr.hse.ru/news/admission/\n",
            "### https://www.hse.ruhttps://anr.hse.ru/news/edu/\n",
            "### https://www.hse.ruhttps://anr.hse.ru/news/science/\n",
            "### https://www.hse.ruhttps://anr.hse.ru/news/expertise/\n",
            "### https://www.hse.ruhttps://anr.hse.ru/news/community/\n",
            "### https://www.hse.ruhttps://anr.hse.ru/news/life/\n",
            "### https://www.hse.ruhttps://anr.hse.ru/news/ourschools/\n",
            "### https://www.hse.ruhttps://anr.hse.ru/news/events/\n",
            "### https://www.hse.ruhttps://anr.hse.ru/news/ourconferences/\n",
            "### https://www.hse.ru//www.hse.ru/search/search.html?simple=0&search_in=news\n",
            "### https://www.hse.ruhttps://anr.hse.ru/news/559777345.html\n",
            "### https://www.hse.ruhttps://anr.hse.ru/news/science/\n",
            "### https://www.hse.ruhttps://anr.hse.ru/news/tags/achievements/\n",
            "### https://www.hse.ruhttps://anr.hse.ru/news/tags/success/\n",
            "### https://www.hse.ruhttps://anr.hse.ru/news/tags/official/\n",
            "### https://www.hse.ruhttps://anr.hse.ru/news/557005349.html\n",
            "### https://www.hse.ruhttps://anr.hse.ru/news/edu/\n",
            "### https://www.hse.ruhttps://anr.hse.ru/news/tags/achievements/\n",
            "### https://www.hse.ruhttps://anr.hse.ru/news/tags/success/\n",
            "### https://www.hse.ruhttps://anr.hse.ru/news/tags/stud/\n",
            "### https://www.hse.ruhttps://anr.hse.ru/news/tags/mag/\n",
            "### https://www.hse.ruhttps://anr.hse.ru/news/552839021.html\n",
            "### https://www.hse.ruhttps://anr.hse.ru/news/expertise/\n",
            "### https://www.hse.ruhttps://anr.hse.ru/news/tags/achievements/\n",
            "### https://www.hse.ruhttps://anr.hse.ru/news/tags/success/\n",
            "### https://www.hse.ruhttps://anr.hse.ru/news/tags/official/\n",
            "### https://www.hse.ruhttps://anr.hse.ru/news/tags/erep/\n",
            "### https://www.hse.ruhttps://anr.hse.ru/news/547748521.html\n",
            "### https://www.hse.ruhttps://anr.hse.ru/news/edu/\n",
            "### https://www.hse.ruhttps://anr.hse.ru/news/tags/achievements/\n",
            "### https://www.hse.ruhttps://anr.hse.ru/news/tags/stud/\n",
            "### https://www.hse.ruhttps://anr.hse.ru/news/tags/official/\n",
            "### https://www.hse.ruhttps://anr.hse.ru/news/tags/mag/\n",
            "### https://www.hse.ruhttps://anr.hse.ru/news/541641883.html\n",
            "### https://www.hse.ruhttps://anr.hse.ru/news/science/\n",
            "### https://www.hse.ruhttps://anr.hse.ru/news/tags/achievements/\n",
            "### https://www.hse.ruhttps://anr.hse.ru/news/tags/prof/\n",
            "### https://www.hse.ruhttps://anr.hse.ru/news/tags/official/\n",
            "### https://www.hse.ruhttps://anr.hse.ru/news/tags/intcoop/\n",
            "### https://www.hse.ruhttps://anr.hse.ru/news/535460125.html\n",
            "### https://www.hse.ruhttps://anr.hse.ru/news/science/\n",
            "### https://www.hse.ruhttps://anr.hse.ru/news/tags/achievements/\n",
            "### https://www.hse.ruhttps://anr.hse.ru/news/tags/stud/\n",
            "### https://www.hse.ruhttps://anr.hse.ru/news/tags/official/\n",
            "### https://www.hse.ruhttps://anr.hse.ru/news/506076358.html\n",
            "### https://www.hse.ruhttps://anr.hse.ru/news/events/\n",
            "### https://www.hse.ruhttps://anr.hse.ru/news/ourconferences/\n",
            "### https://www.hse.ruhttps://anr.hse.ru/news/tags/practice/\n",
            "### https://www.hse.ruhttps://anr.hse.ru/news/tags/erep/\n",
            "### https://www.hse.ruhttps://anr.hse.ru/news/506070079.html\n",
            "### https://www.hse.ruhttps://anr.hse.ru/news/science/\n",
            "### https://www.hse.ruhttps://anr.hse.ru/news/events/\n",
            "### https://www.hse.ruhttps://anr.hse.ru/news/tags/practice/\n",
            "### https://www.hse.ruhttps://anr.hse.ru/news/tags/erep/\n",
            "### https://www.hse.ruhttps://anr.hse.ru/news/493544324.html\n",
            "### https://www.hse.ruhttps://anr.hse.ru/news/edu/\n",
            "### https://www.hse.ruhttps://anr.hse.ru/news/tags/lecture/\n",
            "### https://www.hse.ruhttps://anr.hse.ru/news/tags/stud/\n",
            "### https://www.hse.ruhttps://anr.hse.ru/news/tags/erep/\n",
            "### https://www.hse.ruhttps://anr.hse.ru/news/tags/eduaddon/\n",
            "### https://www.hse.ruhttps://anr.hse.ru/news/497514549.html\n",
            "### https://www.hse.ruhttps://anr.hse.ru/news/science/\n",
            "### https://www.hse.ruhttps://anr.hse.ru/news/tags/resanl/\n",
            "### https://www.hse.ruhttps://anr.hse.ru/news/tags/erep/\n",
            "### https://www.hse.ruhttps://anr.hse.ru/news/page2.html\n",
            "### https://www.hse.ru//www.hse.ru\n",
            "### https://www.hse.ru//www.hse.ru/org/hse/sci/\n",
            "### https://www.hse.ru//www.hse.ru/org/hse/info/\n",
            "### https://www.hse.ru//www.hse.ru/figures/\n",
            "### https://www.hse.ru//www.hse.ru/orgstructure/\n",
            "### https://www.hse.ru//www.hse.ru/org/persons/\n",
            "### https://www.hse.ru//www.hse.ru/buildinghse\n",
            "### https://www.hse.ruhttps://www.hse.ru/org/hse/aup/procurement/\n",
            "### https://www.hse.ru//www.hse.ru/appeal/\n",
            "### https://www.hse.ru//endowment.hse.ru/\n",
            "### https://www.hse.ruhttps://www.hse.ru/anticorruption\n",
            "### https://www.hse.ruhttps://www.hse.ru/anticorruption/information\n",
            "### https://www.hse.ru//www.hse.ru/sveden/\n",
            "### https://www.hse.ruhttps://inclusive.hse.ru/\n",
            "### https://www.hse.ruhttps://pay.hse.ru/\n",
            "### https://www.hse.ru//www.hse.ru/education/\n",
            "### https://www.hse.ru//school.hse.ru\n",
            "### https://www.hse.ruhttps://fdp.hse.ru/\n",
            "### https://www.hse.ru//olymp.hse.ru/\n",
            "### https://www.hse.ru//ba.hse.ru/\n",
            "### https://www.hse.ruhttps://www.hse.ru/plus\n",
            "### https://www.hse.ru//ma.hse.ru/\n",
            "### https://www.hse.ru//aspirantura.hse.ru/\n",
            "### https://www.hse.ru//busedu.hse.ru/\n",
            "### https://www.hse.ruhttps://career.hse.ru/\n",
            "### https://www.hse.ruhttp://inc.hse.ru/\n",
            "### https://www.hse.ru//www.hse.ru/science/\n",
            "### https://www.hse.ru//www.hse.ru/science/centers\n",
            "### https://www.hse.ruhttps://www.hse.ru/org/projects/\n",
            "### https://www.hse.ru//www.hse.ru/monitoring/\n",
            "### https://www.hse.ru//www.hse.ru/science/disscoun/\n",
            "### https://www.hse.ruhttps://aspirantura.hse.ru/defence/announcements/\n",
            "### https://www.hse.ru//academics.hse.ru/\n",
            "### https://www.hse.ru//www.hse.ru/science/hsegrants\n",
            "### https://www.hse.ruhttps://iq.hse.ru/\n",
            "### https://www.hse.ruhttps://conf.hse.ru/2022\n",
            "### https://www.hse.ru//publications.hse.ru\n",
            "### https://www.hse.ruhttps://library.hse.ru/\n",
            "### https://www.hse.ru//id.hse.ru\n",
            "### https://www.hse.ru//bookshop.hse.ru/\n",
            "### https://www.hse.ruhttps://print.hse.ru/\n",
            "### https://www.hse.ruhttps://mc.hse.ru/\n",
            "### https://www.hse.ru//www.hse.ru/science/journals\n",
            "### https://www.hse.ru//publications.hse.ru\n",
            "### https://www.hse.ruhttp://sophist.hse.ru/\n",
            "### https://www.hse.ruhttp://www.minobrnauki.gov.ru/\n",
            "### https://www.hse.ruhttps://edu.gov.ru/\n",
            "### https://www.hse.ruhttp://www.edu.ru\n",
            "### https://www.hse.ruhttps://elearning.hse.ru/mooc\n",
            "### https://www.hse.ruhttps://studyinrussia.ru/\n",
            "### https://www.hse.ruhttps://www.hse.ru/adm/edit/edit.html?goto=%2AaHR0cDovL2Fuci5oc2UucnUvP19yPTEzMjQ2OTYxNjQ3NzU1OTM4LjY4MzU5%5E&id=119655633&cid=22700&addon_name=default&newportal=1\n",
            "### https://www.hse.ruhttps://www.hse.ru/contacts.html\n",
            "### https://www.hse.ruhttps://www.hse.ru/copyright\n",
            "### https://www.hse.ruhttps://www.hse.ru/data_protection_regulation\n",
            "### https://www.hse.ruhttps://www.hse.ru/sitemap.html\n"
          ]
        }
      ],
      "source": [
        "all_href = soup.find_all('a')\n",
        "all_href = [l['href'] for l in all_href]\n",
        "for hr in all_href:\n",
        "    print(f\"### https://www.hse.ru{hr}\")"
      ]
    },
    {
      "cell_type": "markdown",
      "metadata": {
        "id": "QnOiUEGh20IR"
      },
      "source": [
        "Далее проанализируем этот html с помощью метода lxml и создадим объект супа: найдем все теги \"li\", которые имеют class=month.\n"
      ]
    },
    {
      "cell_type": "code",
      "execution_count": null,
      "metadata": {
        "colab": {
          "base_uri": "https://localhost:8080/"
        },
        "id": "4-Vup6lF2jNn",
        "outputId": "f1b2eb10-d367-4f1e-a8c3-fa4b05338553"
      },
      "outputs": [
        {
          "name": "stdout",
          "output_type": "stream",
          "text": [
            "####\n",
            "function setSliderTopProp() { $('.js-splash-slider--top').triggerHandler('configuration').auto.timeoutDuration = 10000;;$(window).trigger('resize');}\n",
            "####\n",
            "2фев2022Арюна Ким зачислена в академический кадровый резервПоздравляем стажера-исследователя ANR-Lab Арюну Ким с зачислением в академический кадровый резерв в категорию “Новые исследователи”.Наукадостиженияконструктор успехаофициально2 февраля\n",
            "####\n",
            "25янв2022Сотрудница ANR-Lab Марья Воробьева проведет семестр по обмену в БельгииСтудентка MASNA и стажер-исследователь ANR-Lab Марья Воробьева отправилась в Левенский католический университет (KU Leuven) по программе студенческого обмена на весенний семестр (с января по июль).Образованиедостиженияконструктор успехастудентымагистратура25 января\n",
            "####\n",
            "16янв2022Сотрудники ANR-Lab получили благодарности от руководства университета24 декабря состоялось торжественное мероприятие в связи с 10-летним юбилеем проекта “Международные лаборатории”, где сотрудники ANR-Lab Дарья Мальцева, Дмитрий Зайцев и Григорий Хвацкий получили награды от руководства университета. Экспертизадостиженияконструктор успехаофициальнорепортаж о событии16 января\n",
            "####\n",
            "30дек2021Сотрудница ANR-Lab и студентка MASNA Алина Арсланова стала лауреатом конкурса НИРС 2021Поздравляем Алину Арсланову и ее научного руководителя Валентину Кускову с победой в конкурсе НИРС в номинации «Лучшая научно-исследовательская работа по социологии для студентов магистратуры и выпускников 2021 года».Образованиедостижениястудентыофициальномагистратура30 декабря\n",
            "\t\t\t\t\t 2021\n",
            "####\n",
            "13дек2021Научные руководители ANR-Lab удостоены почетных наград СловенииПоздравляем Анушку Ферлигой и Владимира Батагеля с получением почетных наград Республики Словения за достижения в научных исследованиях и разработках.Наукадостиженияпрофессораофициальномеждународное сотрудничество13 декабря\n",
            "\t\t\t\t\t 2021\n",
            "####\n",
            "30ноя2021Стажер-исследователь ANR-Lab Марья Воробьева опубликовала статью в журнале первого квартиляПоздравляем Марью Воробьеву, стажера-исследователя ANR-Lab и студентку программы MASNA, с выходом статьи в журнале первого квартиля Cultural Trends.Наукадостижениястудентыофициально30 ноября\n",
            "\t\t\t\t\t 2021\n",
            "####\n",
            "15сен2021Сотрудники лаборатории приняли участие в 5-й Европейской конференции по социальным сетям EUSN 2021Конференция прошла онлайн 6-10 сентября и объединила социологов, статистиков, специалистов по компьютерам и наукам, экономистов, гуманитариев и ученых из всех областей, связанных с сетевой наукой. На конференции были представлены актуальные результаты и новейшие методологические разработки в области анализа социальных сетей.МероприятияНаши конференцииидеи и опытрепортаж о событии15 сентября\n",
            "\t\t\t\t\t 2021\n",
            "####\n",
            "15сен2021Станислав Моисеев принял участие в 15-й конференции, организованной Европейской социологической ассоциацией ESA 2021Конференция Европейской социологической ассоциации прошла онлайн с 31 августа по 3 сентября и собрала более 3800 участников. Главным фокусом мероприятия были социологические знания для альтернативного будущего.НаукаМероприятияидеи и опытрепортаж о событии15 сентября\n",
            "\t\t\t\t\t 2021\n",
            "####\n",
            "8авг2021Сотрудники ANR-Lab приняли участие в Санкт-Петербургской летней школе по сетевому анализу12-17 июля 2021 года состоялась 4-я Санкт-Петербургская летняя школа по сетевому анализу. Мероприятие прошло онлайн и собрало участников из 9 стран. Две сотрудницы нашей лаборатории приняли участие в летней школе, где представили свои исследования и получили советы от приглашенных преподавателей.Образованиелекториистудентырепортаж о событиидополнительное образование8 августа\n",
            "\t\t\t\t\t 2021\n",
            "####\n",
            "25июл2021Сотрудники лаборатории приняли участие в 26-м Всемирном конгрессе политических наук10-15 июля онлайн прошел 26-й Всемирный конгресс политических наук. Сотрудники лаборатории Валентина Кускова, Дмитрий Зайцев, Григорий Хвацкий и Анна Сокол представили свои доклады на секции “Policy Networks”.Наукаисследования и аналитикарепортаж о событии25 июля\n",
            "\t\t\t\t\t 2021\n"
          ]
        }
      ],
      "source": [
        "soup = BeautifulSoup(html, 'lxml')\n",
        "\n",
        "# use class to narrow search\n",
        "posts = soup.find_all('div', {\"class\": \"post\"})\n",
        "for post in posts:\n",
        "    print(\"####\\n\" + post.get_text())"
      ]
    },
    {
      "cell_type": "markdown",
      "metadata": {
        "id": "LsUs-NsE3HYm"
      },
      "source": [
        "Пусть мы хотим загрузить все картинки из новостной ленты страницы Вышки, т.е. [отсюда](https://www.hse.ru/news/)."
      ]
    },
    {
      "cell_type": "code",
      "execution_count": null,
      "metadata": {
        "id": "bEtDT2Kf3M0A"
      },
      "outputs": [],
      "source": [
        "images = soup.find_all('div', {\"class\": \"picture first_child\"})"
      ]
    },
    {
      "cell_type": "code",
      "execution_count": null,
      "metadata": {
        "colab": {
          "base_uri": "https://localhost:8080/"
        },
        "id": "tFyBanuW5KgF",
        "outputId": "cfb2883a-d85e-4f01-e0cd-8eab84d0b142"
      },
      "outputs": [
        {
          "data": {
            "text/plain": [
              "[<div class=\"picture first_child\"><img alt=\"Иллюстрация к новости: Арюна Ким зачислена в академический кадровый резерв\" src=\"/data/2022/02/02/1758168211/1%D0%B3%D0%BE%D1%80%D0%B8%D0%B7%D0%BE%D0%BD%D1%82%D0%B0%D0%BB%D1%8C%D0%BD%D0%B0%D1%8F%20%D0%BD%D0%BE%20%D0%BD%D0%B5%20%D1%81%D0%B8%D0%BB%D1%8C%D0%BD%D0%BE.png\" title=\"Арюна Ким зачислена в академический кадровый резерв\" width=\"100%\"/></div>,\n",
              " <div class=\"picture first_child\"><img alt=\"Иллюстрация к новости: Сотрудница ANR-Lab Марья Воробьева проведет семестр по обмену в Бельгии\" src=\"/data/2022/01/25/1755658487/6_%D1%84%D0%BE%D1%80%D0%BC%D0%B0%D1%82%20%D1%81%D0%B0%D0%B9%D1%82%D0%B0%20%D1%81%20%D0%B0%D0%BD%D1%80.png\" title=\"Сотрудница ANR-Lab Марья Воробьева проведет семестр по обмену в Бельгии\" width=\"100%\"/></div>,\n",
              " <div class=\"picture first_child\"><img alt=\"Иллюстрация к новости: Сотрудники ANR-Lab получили благодарности от руководства университета\" src=\"/data/2022/01/16/1768269247/3%D0%B2%D0%BE%D1%82%20%D1%8D%D1%82%D0%BE%20%D0%BD%D0%B0%20%D1%81%D0%B0%D0%B9%D1%82_%D0%BB%D0%B0%D0%B1.png\" title=\"Сотрудники ANR-Lab получили благодарности от руководства университета\" width=\"100%\"/></div>,\n",
              " <div class=\"picture first_child\"><img alt=\"Иллюстрация к новости: Сотрудница ANR-Lab и студентка MASNA Алина Арсланова стала лауреатом конкурса НИРС 2021\" src=\"/data/2022/01/11/1765013627/3%D1%84%D0%BE%D1%80%D0%BC%D0%B0%D1%82%20%D0%B4%D1%80%D1%83%D0%B3%D0%BE%D0%B9.png\" title=\"Сотрудница ANR-Lab и студентка MASNA Алина Арсланова стала лауреатом конкурса НИРС 2021\" width=\"100%\"/></div>,\n",
              " <div class=\"picture first_child\"><img alt=\"Иллюстрация к новости: Научные руководители ANR-Lab удостоены почетных наград Словении\" src=\"/data/2021/12/13/1776209481/1photo_2021-12-13_20-48-53.jpg\" title=\"Научные руководители ANR-Lab удостоены почетных наград Словении\" width=\"100%\"/></div>,\n",
              " <div class=\"picture first_child\"><img alt=\"Иллюстрация к новости: Стажер-исследователь ANR-Lab Марья Воробьева опубликовала статью в журнале первого квартиля\" src=\"/data/2021/11/30/1450998735/3photo_2021-11-30_17-25-09.jpg\" title=\"Стажер-исследователь ANR-Lab Марья Воробьева опубликовала статью в журнале первого квартиля\" width=\"100%\"/></div>,\n",
              " <div class=\"picture first_child\"><img alt=\"Иллюстрация к новости: Сотрудники лаборатории приняли участие в 5-й Европейской конференции по социальным сетям EUSN 2021\" src=\"/data/2021/09/15/1471946260/3EUSN.png\" title=\"Сотрудники лаборатории приняли участие в 5-й Европейской конференции по социальным сетям EUSN 2021\" width=\"100%\"/></div>,\n",
              " <div class=\"picture first_child\"><img alt=\"Иллюстрация к новости: Станислав Моисеев принял участие в 15-й конференции, организованной Европейской социологической ассоциацией ESA 2021\" src=\"/data/2021/09/15/1471940333/5ESA.png\" title=\"Станислав Моисеев принял участие в 15-й конференции, организованной Европейской социологической ассоциацией ESA 2021\" width=\"100%\"/></div>,\n",
              " <div class=\"picture first_child\"><img alt=\"Иллюстрация к новости: Сотрудники ANR-Lab приняли участие в Санкт-Петербургской летней школе по сетевому анализу\" src=\"/data/2021/08/08/1425858902/218922948_4223804581019838_2790971888850970307_n-2.jpg\" title=\"Сотрудники ANR-Lab приняли участие в Санкт-Петербургской летней школе по сетевому анализу\" width=\"100%\"/></div>,\n",
              " <div class=\"picture first_child\"><img alt=\"Иллюстрация к новости: Сотрудники лаборатории приняли участие в 26-м Всемирном конгрессе политических наук\" src=\"/data/2021/08/20/1412528871/3%D0%A1%D0%BD%D0%B8%D0%BC%D0%BE%D0%BA%20%D1%8D%D0%BA%D1%80%D0%B0%D0%BD%D0%B0%202021-08-20%20%D0%B2%2016.54.09.png\" title=\"Сотрудники лаборатории приняли участие в 26-м Всемирном конгрессе политических наук\" width=\"100%\"/></div>]"
            ]
          },
          "execution_count": 77,
          "metadata": {},
          "output_type": "execute_result"
        }
      ],
      "source": [
        "images"
      ]
    },
    {
      "cell_type": "markdown",
      "metadata": {
        "id": "pmvmrQtT3mn2"
      },
      "source": [
        "Создадим folder для картинок."
      ]
    },
    {
      "cell_type": "code",
      "execution_count": null,
      "metadata": {
        "id": "F3PVHVj33r0R"
      },
      "outputs": [],
      "source": [
        "import os\n",
        "\n",
        "os.makedirs('./img/', exist_ok=True)"
      ]
    },
    {
      "cell_type": "markdown",
      "metadata": {
        "id": "Abk0i3p33wP9"
      },
      "source": [
        "Наконец загрузим картинки."
      ]
    },
    {
      "cell_type": "code",
      "execution_count": null,
      "metadata": {
        "colab": {
          "base_uri": "https://localhost:8080/",
          "height": 53
        },
        "id": "HCe4eLjIBZMb",
        "outputId": "615c1a9a-0130-4aa4-9921-335d7fcaae88"
      },
      "outputs": [
        {
          "data": {
            "application/vnd.google.colaboratory.intrinsic+json": {
              "type": "string"
            },
            "text/plain": [
              "'https://anr.hse.ru//data/2021/08/20/1412528871/3%D0%A1%D0%BD%D0%B8%D0%BC%D0%BE%D0%BA%20%D1%8D%D0%BA%D1%80%D0%B0%D0%BD%D0%B0%202021-08-20%20%D0%B2%2016.54.09.png'"
            ]
          },
          "execution_count": 87,
          "metadata": {},
          "output_type": "execute_result"
        }
      ],
      "source": [
        "url ='https://anr.hse.ru'+url\n",
        "url"
      ]
    },
    {
      "cell_type": "code",
      "execution_count": null,
      "metadata": {
        "colab": {
          "base_uri": "https://localhost:8080/"
        },
        "id": "jfoEYJYO3y1f",
        "outputId": "2c6f2965-9a0a-4425-cf12-943b8c2e3905"
      },
      "outputs": [
        {
          "name": "stdout",
          "output_type": "stream",
          "text": [
            "Saved 1%D0%B3%D0%BE%D1%80%D0%B8%D0%B7%D0%BE%D0%BD%D1%82%D0%B0%D0%BB%D1%8C%D0%BD%D0%B0%D1%8F%20%D0%BD%D0%BE%20%D0%BD%D0%B5%20%D1%81%D0%B8%D0%BB%D1%8C%D0%BD%D0%BE.png\n",
            "Saved 6_%D1%84%D0%BE%D1%80%D0%BC%D0%B0%D1%82%20%D1%81%D0%B0%D0%B9%D1%82%D0%B0%20%D1%81%20%D0%B0%D0%BD%D1%80.png\n",
            "Saved 3%D0%B2%D0%BE%D1%82%20%D1%8D%D1%82%D0%BE%20%D0%BD%D0%B0%20%D1%81%D0%B0%D0%B9%D1%82_%D0%BB%D0%B0%D0%B1.png\n",
            "Saved 3%D1%84%D0%BE%D1%80%D0%BC%D0%B0%D1%82%20%D0%B4%D1%80%D1%83%D0%B3%D0%BE%D0%B9.png\n",
            "Saved 1photo_2021-12-13_20-48-53.jpg\n",
            "Saved 3photo_2021-11-30_17-25-09.jpg\n",
            "Saved 3EUSN.png\n",
            "Saved 5ESA.png\n",
            "Saved 218922948_4223804581019838_2790971888850970307_n-2.jpg\n",
            "Saved 3%D0%A1%D0%BD%D0%B8%D0%BC%D0%BE%D0%BA%20%D1%8D%D0%BA%D1%80%D0%B0%D0%BD%D0%B0%202021-08-20%20%D0%B2%2016.54.09.png\n"
          ]
        }
      ],
      "source": [
        "for div in images:\n",
        "    imgs = div.find_all('img')\n",
        "    for img in imgs:\n",
        "        url = img['src']\n",
        "        url ='https://anr.hse.ru'+url\n",
        "        r = requests.get(url, stream=True)\n",
        "        image_name = url.split('/')[-1]\n",
        "        with open('./img/%s' % image_name, 'wb') as f:\n",
        "            for chunk in r.iter_content(chunk_size=128):\n",
        "                f.write(chunk)\n",
        "        print('Saved %s' % image_name)"
      ]
    },
    {
      "cell_type": "markdown",
      "metadata": {
        "id": "geTxBBOpyF0L"
      },
      "source": [
        "# 7. Почиташки\n",
        "\n",
        "* [Парсим мемы в python](https://habr.com/ru/company/ods/blog/346632/) - подробная статья на Хабре, по которой можно научиться ... парсить (ВНЕЗАПНО).\n",
        "* [Книга про парсинг](https://github.com/FUlyankin/Parsers/blob/master/Ryan_Mitchell_Web_Scraping_with_Python-_Collecting_Data_from_the_Modern_Web_2015.pdf) на случай если вам совсем скучно и хочется почитать что-то длинное и на английском\n",
        "* [Продвинутое использование requests](https://2.python-requests.org/en/master/user/advanced/)\n",
        "* [Перевод документации по selenium на русский на хабре](https://habr.com/ru/post/248559/)\n"
      ]
    }
  ],
  "metadata": {
    "colab": {
      "collapsed_sections": [
        "Ds2i6NK_yFze",
        "CFDi7RChyFz1",
        "cMUu0mm_yFz5",
        "BkV8TGqxyFz7",
        "F4LKqIQdyFz7",
        "HoaxifhgyFz8",
        "A1MI8g8myFz8",
        "RkJuzZXjyF0C",
        "xgWl5vKpyF0G",
        "ZrXr_6nmBm7o",
        "2YYjBvpqyF0H",
        "6YA054TNyF0I",
        "zyKAuFvQyF0I",
        "lMfN8DK-yF0J",
        "_y2Bo1PSyF0K",
        "IndHkSIbyF0K"
      ],
      "name": "sem08-parsing.ipynb",
      "provenance": [],
      "include_colab_link": true
    },
    "kernelspec": {
      "display_name": "Python 3",
      "language": "python",
      "name": "python3"
    },
    "language_info": {
      "codemirror_mode": {
        "name": "ipython",
        "version": 3
      },
      "file_extension": ".py",
      "mimetype": "text/x-python",
      "name": "python",
      "nbconvert_exporter": "python",
      "pygments_lexer": "ipython3",
      "version": "3.8.8"
    }
  },
  "nbformat": 4,
  "nbformat_minor": 0
}