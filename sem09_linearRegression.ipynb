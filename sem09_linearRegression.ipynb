{
  "cells": [
    {
      "cell_type": "markdown",
      "metadata": {
        "id": "view-in-github",
        "colab_type": "text"
      },
      "source": [
        "<a href=\"https://colab.research.google.com/github/davydovavd/colab/blob/main/sem09_linearRegression.ipynb\" target=\"_parent\"><img src=\"https://colab.research.google.com/assets/colab-badge.svg\" alt=\"Open In Colab\"/></a>"
      ]
    },
    {
      "cell_type": "markdown",
      "metadata": {
        "id": "yFEuIxc7y7DU"
      },
      "source": [
        "# Линейная регрессия\n",
        "\n",
        "\n",
        "## Мотивация\n",
        "\n",
        "Почему мы изучаем линеную регрессию?\n",
        "- широко используема\n",
        "- легко использовать (не нужно тюнить много параметров)\n",
        "- относительно легко интерпретируема\n",
        "- является базой для понимания более сложных алгоритмов\n",
        "\n",
        "## Библиотеки\n",
        "\n",
        "Мы познакомимся с двумя библиотеками: [Statsmodels](http://statsmodels.sourceforge.net/) и [scikit-learn](http://scikit-learn.org/stable/). Первая будет полезна вам для эконометрики и интерпретации моделей, вторая это в целом более популярная библиотека для машинного обучения, которая предлагает множество других методов помимо линейной регресии."
      ]
    },
    {
      "cell_type": "code",
      "execution_count": null,
      "metadata": {
        "id": "6rLDnfQAy7DY"
      },
      "outputs": [],
      "source": [
        "import pandas as pd\n",
        "import matplotlib.pyplot as plt\n",
        "import numpy as np"
      ]
    },
    {
      "cell_type": "markdown",
      "metadata": {
        "id": "6aSPqXL5y7DZ"
      },
      "source": [
        "## Мы рассмотрим Advertising Dataset\n"
      ]
    },
    {
      "cell_type": "code",
      "execution_count": null,
      "metadata": {
        "id": "bNbvg2ROy7Da",
        "outputId": "f1a0797c-09bd-49b0-f213-a71d20c99322"
      },
      "outputs": [
        {
          "data": {
            "text/html": [
              "<div>\n",
              "<style scoped>\n",
              "    .dataframe tbody tr th:only-of-type {\n",
              "        vertical-align: middle;\n",
              "    }\n",
              "\n",
              "    .dataframe tbody tr th {\n",
              "        vertical-align: top;\n",
              "    }\n",
              "\n",
              "    .dataframe thead th {\n",
              "        text-align: right;\n",
              "    }\n",
              "</style>\n",
              "<table border=\"1\" class=\"dataframe\">\n",
              "  <thead>\n",
              "    <tr style=\"text-align: right;\">\n",
              "      <th></th>\n",
              "      <th>TV</th>\n",
              "      <th>Radio</th>\n",
              "      <th>Newspaper</th>\n",
              "      <th>Sales</th>\n",
              "    </tr>\n",
              "  </thead>\n",
              "  <tbody>\n",
              "    <tr>\n",
              "      <td>1</td>\n",
              "      <td>230.1</td>\n",
              "      <td>37.8</td>\n",
              "      <td>69.2</td>\n",
              "      <td>22.1</td>\n",
              "    </tr>\n",
              "    <tr>\n",
              "      <td>2</td>\n",
              "      <td>44.5</td>\n",
              "      <td>39.3</td>\n",
              "      <td>45.1</td>\n",
              "      <td>10.4</td>\n",
              "    </tr>\n",
              "    <tr>\n",
              "      <td>3</td>\n",
              "      <td>17.2</td>\n",
              "      <td>45.9</td>\n",
              "      <td>69.3</td>\n",
              "      <td>9.3</td>\n",
              "    </tr>\n",
              "    <tr>\n",
              "      <td>4</td>\n",
              "      <td>151.5</td>\n",
              "      <td>41.3</td>\n",
              "      <td>58.5</td>\n",
              "      <td>18.5</td>\n",
              "    </tr>\n",
              "    <tr>\n",
              "      <td>5</td>\n",
              "      <td>180.8</td>\n",
              "      <td>10.8</td>\n",
              "      <td>58.4</td>\n",
              "      <td>12.9</td>\n",
              "    </tr>\n",
              "  </tbody>\n",
              "</table>\n",
              "</div>"
            ],
            "text/plain": [
              "      TV  Radio  Newspaper  Sales\n",
              "1  230.1   37.8       69.2   22.1\n",
              "2   44.5   39.3       45.1   10.4\n",
              "3   17.2   45.9       69.3    9.3\n",
              "4  151.5   41.3       58.5   18.5\n",
              "5  180.8   10.8       58.4   12.9"
            ]
          },
          "execution_count": 10,
          "metadata": {},
          "output_type": "execute_result"
        }
      ],
      "source": [
        "# read data into a DataFrame\n",
        "data = pd.read_csv('Advertising.csv', index_col=0)\n",
        "data.head()"
      ]
    },
    {
      "cell_type": "markdown",
      "metadata": {
        "id": "_dHll_sKy7Db"
      },
      "source": [
        "Что такое **признаки / регрессоры / независимые переменные / \"фичи\" / факторы**?\n",
        "- TV: доллары, потраченные на ТВ рекламу для одного продукта на данном рынке (в тысячах долларов)\n",
        "- Radio: доллары, потраченные на радио рекламу\n",
        "- Newspaper: доллары, потраченные на рекламу в газетах\n",
        "\n",
        "Что такое **таргет / зависимая переменная**?\n",
        "- Sales: продажи одного продукта на данном рынке (в тысячах)"
      ]
    },
    {
      "cell_type": "code",
      "execution_count": null,
      "metadata": {
        "id": "oAqDL5f2y7Db",
        "outputId": "054338bf-9814-47b8-9e2c-128e7998a219"
      },
      "outputs": [
        {
          "data": {
            "text/plain": [
              "(200, 4)"
            ]
          },
          "execution_count": 11,
          "metadata": {},
          "output_type": "execute_result"
        }
      ],
      "source": [
        "# print the shape of the DataFrame\n",
        "data.shape"
      ]
    },
    {
      "cell_type": "markdown",
      "metadata": {
        "id": "5z3RZMZey7Dc"
      },
      "source": [
        "В нашей выборке мы имеем 200 **наблюдений / \"семплов\"** (200 рынков в наборе данных)"
      ]
    },
    {
      "cell_type": "code",
      "execution_count": null,
      "metadata": {
        "id": "1VjXDprey7Dc",
        "outputId": "4e13baa2-bdab-4b07-94dd-2ecc9e31b786"
      },
      "outputs": [
        {
          "data": {
            "image/png": "[encoded data removed]",
            "text/plain": [
              "<Figure size 1152x576 with 3 Axes>"
            ]
          },
          "metadata": {
            "needs_background": "light"
          },
          "output_type": "display_data"
        }
      ],
      "source": [
        "# visualize the relationship between the features and the response using scatterplots\n",
        "fig, axs = plt.subplots(1, 3, sharey=True)\n",
        "data.plot(kind='scatter', x='TV', y='Sales', ax=axs[0], figsize=(16, 8))\n",
        "data.plot(kind='scatter', x='Radio', y='Sales', ax=axs[1])\n",
        "data.plot(kind='scatter', x='Newspaper', y='Sales', ax=axs[2])\n",
        "plt.show()"
      ]
    },
    {
      "cell_type": "markdown",
      "metadata": {
        "id": "My6Vtwgvy7Dd"
      },
      "source": [
        "## Вопросы на которые мы обычно хотим знать ответы\n",
        "\n",
        "Давайте представим, что вы работаете на компанию, которая производит и продает этот товар. Компания может задать вам следующий вопрос: на основании этих данных, как мы должны тратить наши рекламные деньги в будущем?\n",
        "\n",
        "Этот общий вопрос может привести вас к более конкретным вопросам:\n",
        "1. Существует ли связь между рекламой и продажами?\n",
        "2. Насколько сильны эти отношения?\n",
        "3. Какие типы рекламы способствуют росту продаж?\n",
        "4. Зная расходы на рекламу на конкретном рынке,можем ли мы предсказать продажи?\n"
      ]
    },
    {
      "cell_type": "markdown",
      "metadata": {
        "id": "LX0a7M10y7Dd"
      },
      "source": [
        "## Одномерная линейная регрессия\n",
        "\n",
        "Простая линейная регрессия - это подход к прогнозированию **количественной переменной** с использованием **одного признака**:\n",
        "\n",
        "$y = \\beta_0 + \\beta_1x$\n",
        "\n",
        "- $y$ это таргет\n",
        "- $x$ это признак\n",
        "- $\\beta_0$ это свободный член\n",
        "- $\\beta_1$ это коэффициент при признаке x\n",
        "\n",
        "Вместе $\\beta_0$ and $\\beta_1$ называются **коэффициентами модели**. Чтобы создать свою модель, вы должны \"выучить\" значения этих коэффициентов. И как только мы \"выучим\" эти коэффициенты, мы сможем использовать модель для прогнозирования продаж!"
      ]
    },
    {
      "cell_type": "markdown",
      "metadata": {
        "id": "G__NCttIy7De"
      },
      "source": [
        "## Оценка (\"обучение\") коэффициентов модели\n",
        "\n",
        "\n",
        "Вообще говоря, коэффициенты оцениваются с использованием **критерия наименьших квадратов**, что означает, что мы находим линию (математически), которая минимизирует **сумму квадратов остатков** (или «сумму квадратов ошибок»):"
      ]
    },
    {
      "cell_type": "markdown",
      "metadata": {
        "id": "DtdEOpkiy7De"
      },
      "source": [
        "![08_estimating_coefficients.png](data:image/png;base64,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)"
      ]
    },
    {
      "cell_type": "markdown",
      "metadata": {
        "id": "uToCTY7My7De"
      },
      "source": [
        "Что изображено на схеме?\n",
        "- Черные точки - это **наблюдаемые значения** x и y.\n",
        "- Синяя линия - это наша **линия полученная при минимизации квадратов ошибок**.\n",
        "- Красные линии - это **остатки**, которые представляют собой расстояния между наблюдаемыми значениями и линией наименьших квадратов.\n",
        "\n",
        "Как коэффициенты модели соотносятся с линией наименьших квадратов?\n",
        "- $ \\ beta_0 $ - это **точка пересечения** (значение $ y $, когда $ x $ = 0)\n",
        "- $ \\ beta_1 $ - это **наклон** (изменение $ y $, деленное на изменение $ x $)\n",
        "\n",
        "Вот графическое изображение этих вычислений:"
      ]
    },
    {
      "cell_type": "markdown",
      "metadata": {
        "id": "-hWAfoEqy7Df"
      },
      "source": [
        "![08_slope_intercept.png](data:image/png;base64,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)"
      ]
    },
    {
      "cell_type": "markdown",
      "metadata": {
        "id": "MIX-REu5y7Df"
      },
      "source": [
        "Давайте попробуем использовать **Statsmodels** для оценки коэффициентов модели на наших данных"
      ]
    },
    {
      "cell_type": "code",
      "execution_count": null,
      "metadata": {
        "id": "iSbdbdKIy7Dg",
        "outputId": "b1d83d43-e1a0-4c31-8586-7f3ab1f463bb"
      },
      "outputs": [
        {
          "data": {
            "text/plain": [
              "Intercept    7.032594\n",
              "TV           0.047537\n",
              "dtype: float64"
            ]
          },
          "execution_count": 13,
          "metadata": {},
          "output_type": "execute_result"
        }
      ],
      "source": [
        "# this is the standard import if you're using \"formula notation\" (similar to R)\n",
        "import statsmodels.formula.api as smf\n",
        "\n",
        "# create a fitted model in one line\n",
        "lm = smf.ols(formula='Sales ~ TV', data=data).fit()\n",
        "\n",
        "# print the coefficients\n",
        "lm.params"
      ]
    },
    {
      "cell_type": "markdown",
      "metadata": {
        "id": "xOLpRxzmy7Dg"
      },
      "source": [
        "## Интерпретация коэффициентов модели\n",
        "\n",
        "Как мы интерпретируем TV коэффициент ($\\beta_1$)?\n",
        "- Дополнительные 1000 долларов, потраченные на телевизионную рекламу, увеличивают продажы на 47,537 товаров.\n",
        "\n",
        "Обратите внимание, что если бы увеличение расходов на телевизионную рекламу было связано с **снижением** продаж, $\\beta_1$ был бы **отрицательным**."
      ]
    },
    {
      "cell_type": "markdown",
      "metadata": {
        "id": "sF3HmO9Hy7Dg"
      },
      "source": [
        "## Использование модели для прогнозирования\n",
        "\n",
        "Допустим, появился новый рынок, на котором расходы на телевизионную рекламу составили **$50,000**. Что бы мы спрогнозировали для продаж на этом рынке?\n",
        "\n",
        "$$y = \\beta_0 + \\beta_1x$$\n",
        "$$y = 7.032594 + 0.047537 \\times 50$$"
      ]
    },
    {
      "cell_type": "code",
      "execution_count": null,
      "metadata": {
        "id": "q5G10gVgy7Dh",
        "outputId": "cd69db95-55aa-4351-da11-e262c8a2a30f"
      },
      "outputs": [
        {
          "data": {
            "text/plain": [
              "9.409444"
            ]
          },
          "execution_count": 14,
          "metadata": {},
          "output_type": "execute_result"
        }
      ],
      "source": [
        "# manually calculate the prediction\n",
        "7.032594 + 0.047537*50"
      ]
    },
    {
      "cell_type": "markdown",
      "metadata": {
        "id": "U3-Wb15ay7Dh"
      },
      "source": [
        "Таким образом, мы могли бы предсказать продажи **9409 товаров** на этом рынке.\n",
        "\n",
        "Конечно, мы также можем использовать Statsmodels  для прогнозирования:"
      ]
    },
    {
      "cell_type": "code",
      "execution_count": null,
      "metadata": {
        "id": "4lCHZRMCy7Dh",
        "outputId": "06556645-2be7-4d6f-9e08-18adae9b3bf9"
      },
      "outputs": [
        {
          "data": {
            "text/html": [
              "<div>\n",
              "<style scoped>\n",
              "    .dataframe tbody tr th:only-of-type {\n",
              "        vertical-align: middle;\n",
              "    }\n",
              "\n",
              "    .dataframe tbody tr th {\n",
              "        vertical-align: top;\n",
              "    }\n",
              "\n",
              "    .dataframe thead th {\n",
              "        text-align: right;\n",
              "    }\n",
              "</style>\n",
              "<table border=\"1\" class=\"dataframe\">\n",
              "  <thead>\n",
              "    <tr style=\"text-align: right;\">\n",
              "      <th></th>\n",
              "      <th>TV</th>\n",
              "    </tr>\n",
              "  </thead>\n",
              "  <tbody>\n",
              "    <tr>\n",
              "      <td>0</td>\n",
              "      <td>50</td>\n",
              "    </tr>\n",
              "  </tbody>\n",
              "</table>\n",
              "</div>"
            ],
            "text/plain": [
              "   TV\n",
              "0  50"
            ]
          },
          "execution_count": 15,
          "metadata": {},
          "output_type": "execute_result"
        }
      ],
      "source": [
        "# you have to create a DataFrame since the Statsmodels formula interface expects it\n",
        "X_new = pd.DataFrame({'TV': [50]})\n",
        "X_new.head()"
      ]
    },
    {
      "cell_type": "code",
      "execution_count": null,
      "metadata": {
        "id": "ihfPm46ky7Di",
        "outputId": "417f3792-754b-4857-e45f-fea3d3172cfd"
      },
      "outputs": [
        {
          "data": {
            "text/plain": [
              "0    9.409426\n",
              "dtype: float64"
            ]
          },
          "execution_count": 16,
          "metadata": {},
          "output_type": "execute_result"
        }
      ],
      "source": [
        "# use the model to make predictions on a new value\n",
        "lm.predict(X_new)"
      ]
    },
    {
      "cell_type": "markdown",
      "metadata": {
        "id": "qYuH9U3jy7Di"
      },
      "source": [
        "## Построение линии наименьших квадратов\n",
        "\n",
        "Давайте сделаем прогнозы для **наименьших и наибольших наблюдаемых значений x**, а затем используем предсказанные значения для построения линии наименьших квадратов:"
      ]
    },
    {
      "cell_type": "code",
      "execution_count": null,
      "metadata": {
        "id": "QSAyWsZYy7Di",
        "outputId": "48d6519c-1e94-4426-f898-0fd03bdc0e2d"
      },
      "outputs": [
        {
          "data": {
            "text/html": [
              "<div>\n",
              "<style scoped>\n",
              "    .dataframe tbody tr th:only-of-type {\n",
              "        vertical-align: middle;\n",
              "    }\n",
              "\n",
              "    .dataframe tbody tr th {\n",
              "        vertical-align: top;\n",
              "    }\n",
              "\n",
              "    .dataframe thead th {\n",
              "        text-align: right;\n",
              "    }\n",
              "</style>\n",
              "<table border=\"1\" class=\"dataframe\">\n",
              "  <thead>\n",
              "    <tr style=\"text-align: right;\">\n",
              "      <th></th>\n",
              "      <th>TV</th>\n",
              "    </tr>\n",
              "  </thead>\n",
              "  <tbody>\n",
              "    <tr>\n",
              "      <td>0</td>\n",
              "      <td>0.7</td>\n",
              "    </tr>\n",
              "    <tr>\n",
              "      <td>1</td>\n",
              "      <td>296.4</td>\n",
              "    </tr>\n",
              "  </tbody>\n",
              "</table>\n",
              "</div>"
            ],
            "text/plain": [
              "      TV\n",
              "0    0.7\n",
              "1  296.4"
            ]
          },
          "execution_count": 17,
          "metadata": {},
          "output_type": "execute_result"
        }
      ],
      "source": [
        "# create a DataFrame with the minimum and maximum values of TV\n",
        "X_new = pd.DataFrame({'TV': [data.TV.min(), data.TV.max()]})\n",
        "X_new.head()"
      ]
    },
    {
      "cell_type": "code",
      "execution_count": null,
      "metadata": {
        "id": "IbGy5zNEy7Dj",
        "outputId": "0724edcd-d675-43b2-d5e9-385ffe0fd72a"
      },
      "outputs": [
        {
          "data": {
            "text/plain": [
              "0     7.065869\n",
              "1    21.122454\n",
              "dtype: float64"
            ]
          },
          "execution_count": 18,
          "metadata": {},
          "output_type": "execute_result"
        }
      ],
      "source": [
        "# make predictions for those x values and store them\n",
        "preds = lm.predict(X_new)\n",
        "preds"
      ]
    },
    {
      "cell_type": "code",
      "execution_count": null,
      "metadata": {
        "id": "JKKFAaB5y7Dj",
        "outputId": "4a01ff0f-2348-429f-beff-b732df222fa0"
      },
      "outputs": [
        {
          "data": {
            "image/png": "[encoded data removed]",
            "text/plain": [
              "<Figure size 432x288 with 1 Axes>"
            ]
          },
          "metadata": {
            "needs_background": "light"
          },
          "output_type": "display_data"
        }
      ],
      "source": [
        "# first, plot the observed data\n",
        "data.plot(kind='scatter', x='TV', y='Sales')\n",
        "\n",
        "# then, plot the least squares line\n",
        "plt.plot(X_new, preds, c='red', linewidth=2)\n",
        "plt.show()"
      ]
    },
    {
      "cell_type": "markdown",
      "metadata": {
        "id": "u52gsc1Dy7Dk"
      },
      "source": [
        "## Насколько хорошо модель соответствует данным?\n",
        "\n",
        "Одним из способом оценки качества линейной модели является значение **R-квадрат**. R-квадрат-это **это доля объяснённой суммы квадратов в общей**:\n",
        "\n",
        "![](https://miro.medium.com/max/2812/1*JwEiZQSkL4I710994WaY4w.png)\n",
        "\n",
        "Чем выше R-квадрат, тем лучше, потому что это означает, что большая дисперсия объясняется моделью. Вот пример того, как выглядит R-квадрат\":"
      ]
    },
    {
      "cell_type": "markdown",
      "metadata": {
        "id": "ODJaLK3gy7Dk"
      },
      "source": [
        "![08_r_squared.png](data:image/png;base64,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)"
      ]
    },
    {
      "cell_type": "markdown",
      "metadata": {
        "id": "NVJx0fsiy7Dk"
      },
      "source": [
        "Вы можете видеть, что **синяя линия** объясняет некоторую дисперсию в данных (R-квадрат=0,54), **зеленая линия** объясняет большую часть дисперсии (R-квадрат=0,64), а **красная линия** еще больше подходит к данным обучения (R-квадрат=0,66). (Красная линия выглядит так, как будто она **слишком сильно подстраивается**?)\n",
        "\n",
        "Давайте вычислим значение R-квадрата для нашей простой линейной модели:"
      ]
    },
    {
      "cell_type": "code",
      "execution_count": null,
      "metadata": {
        "id": "QaQGTXy0y7Dk",
        "outputId": "a92a166b-dfbf-4f55-8b12-7f26b2775399"
      },
      "outputs": [
        {
          "data": {
            "text/plain": [
              "0.611875050850071"
            ]
          },
          "execution_count": 21,
          "metadata": {},
          "output_type": "execute_result"
        }
      ],
      "source": [
        "# print the R-squared value for the model\n",
        "lm.rsquared"
      ]
    },
    {
      "cell_type": "markdown",
      "metadata": {
        "id": "8oJNKdTMy7Dl"
      },
      "source": [
        "Является ли это \"хорошим\" значением R-квадрата? Трудно сказать. Порог для хорошего значения R-квадрата широко зависит от области. Поэтому он наиболее полезен в качестве инструмента для **сравнения различных моделей**."
      ]
    },
    {
      "cell_type": "markdown",
      "metadata": {
        "id": "qmgU2Vz0y7Dl"
      },
      "source": [
        "## Множественная линейная регрессия\n",
        "\n",
        "Простая линейная регрессия может быть легко расширена для включения нескольких объектов. Это называется **множественной линейной регрессией** (вообще, когда говорят о линейной регрессии подразумевают именно ее):\n",
        "\n",
        "$y = \\beta_0 + \\beta_1x_1 + ... + \\beta_nx_n$\n",
        "\n",
        "Каждый $x$ представляет собой отдельный признак и имеет свой собственный коэффициент. В этом случае:\n",
        "\n",
        "$y = \\beta_0 + \\beta_1 \\times TV + \\beta_2 \\times Radio + \\beta_3 \\times Newspaper$\n",
        "\n",
        "Давайте воспользуемся Statsmodels для оценки этих коэффициентов:"
      ]
    },
    {
      "cell_type": "code",
      "execution_count": null,
      "metadata": {
        "id": "ZWqV-W7By7Dl",
        "outputId": "eb68721b-8f43-4d7a-f89a-3a877c80e11a"
      },
      "outputs": [
        {
          "data": {
            "text/plain": [
              "Intercept    2.938889\n",
              "TV           0.045765\n",
              "Radio        0.188530\n",
              "Newspaper   -0.001037\n",
              "dtype: float64"
            ]
          },
          "execution_count": 22,
          "metadata": {},
          "output_type": "execute_result"
        }
      ],
      "source": [
        "# create a fitted model with all three features\n",
        "lm = smf.ols(formula='Sales ~ TV + Radio + Newspaper', data=data).fit()\n",
        "\n",
        "# print the coefficients\n",
        "lm.params"
      ]
    },
    {
      "cell_type": "markdown",
      "metadata": {
        "id": "LcfjNsr2y7Dm"
      },
      "source": [
        "Как мы интерпретируем эти коэффициенты? Для данной суммы расходов на рекламу на радио и в газетах **увеличение расходов на рекламу на телевидении на 1000 долларов увеличивает продажы на 45,765**.\n"
      ]
    },
    {
      "cell_type": "markdown",
      "metadata": {
        "id": "RNIDVTZLy7Dm"
      },
      "source": [
        "## Несколько слов про значимость полученных результатов\n",
        "\n",
        "Вы должны понимать, что **коэффициенты полученные вами это случайные величины**. В примере выше, например, можно сказать, что **реклама в газетах уменьшает количество проданного товара**, тк коэффициент перед сооствествующим коэффициентом отрицательный. Однако, из-за того, что коэффициент маленький **так могло произойти случайно**. Чтобы оценить это вам понадобяться знания, которые вы получите позже :) Однако, даже сейчас вы можете посмотреть отчет, который предлагает Statsmodels и сделать \"примерные\" выводы о значимости каждого коэффициента "
      ]
    },
    {
      "cell_type": "code",
      "execution_count": null,
      "metadata": {
        "id": "3ycvHkUyy7Dm",
        "outputId": "a8787f56-ee2a-4992-a2f8-b2861c125188"
      },
      "outputs": [
        {
          "data": {
            "text/html": [
              "<table class=\"simpletable\">\n",
              "<caption>OLS Regression Results</caption>\n",
              "<tr>\n",
              "  <th>Dep. Variable:</th>          <td>Sales</td>      <th>  R-squared:         </th> <td>   0.897</td>\n",
              "</tr>\n",
              "<tr>\n",
              "  <th>Model:</th>                   <td>OLS</td>       <th>  Adj. R-squared:    </th> <td>   0.896</td>\n",
              "</tr>\n",
              "<tr>\n",
              "  <th>Method:</th>             <td>Least Squares</td>  <th>  F-statistic:       </th> <td>   570.3</td>\n",
              "</tr>\n",
              "<tr>\n",
              "  <th>Date:</th>             <td>Sun, 15 Nov 2020</td> <th>  Prob (F-statistic):</th> <td>1.58e-96</td>\n",
              "</tr>\n",
              "<tr>\n",
              "  <th>Time:</th>                 <td>17:02:22</td>     <th>  Log-Likelihood:    </th> <td> -386.18</td>\n",
              "</tr>\n",
              "<tr>\n",
              "  <th>No. Observations:</th>      <td>   200</td>      <th>  AIC:               </th> <td>   780.4</td>\n",
              "</tr>\n",
              "<tr>\n",
              "  <th>Df Residuals:</th>          <td>   196</td>      <th>  BIC:               </th> <td>   793.6</td>\n",
              "</tr>\n",
              "<tr>\n",
              "  <th>Df Model:</th>              <td>     3</td>      <th>                     </th>     <td> </td>   \n",
              "</tr>\n",
              "<tr>\n",
              "  <th>Covariance Type:</th>      <td>nonrobust</td>    <th>                     </th>     <td> </td>   \n",
              "</tr>\n",
              "</table>\n",
              "<table class=\"simpletable\">\n",
              "<tr>\n",
              "      <td></td>         <th>coef</th>     <th>std err</th>      <th>t</th>      <th>P>|t|</th>  <th>[0.025</th>    <th>0.975]</th>  \n",
              "</tr>\n",
              "<tr>\n",
              "  <th>Intercept</th> <td>    2.9389</td> <td>    0.312</td> <td>    9.422</td> <td> 0.000</td> <td>    2.324</td> <td>    3.554</td>\n",
              "</tr>\n",
              "<tr>\n",
              "  <th>TV</th>        <td>    0.0458</td> <td>    0.001</td> <td>   32.809</td> <td> 0.000</td> <td>    0.043</td> <td>    0.049</td>\n",
              "</tr>\n",
              "<tr>\n",
              "  <th>Radio</th>     <td>    0.1885</td> <td>    0.009</td> <td>   21.893</td> <td> 0.000</td> <td>    0.172</td> <td>    0.206</td>\n",
              "</tr>\n",
              "<tr>\n",
              "  <th>Newspaper</th> <td>   -0.0010</td> <td>    0.006</td> <td>   -0.177</td> <td> 0.860</td> <td>   -0.013</td> <td>    0.011</td>\n",
              "</tr>\n",
              "</table>\n",
              "<table class=\"simpletable\">\n",
              "<tr>\n",
              "  <th>Omnibus:</th>       <td>60.414</td> <th>  Durbin-Watson:     </th> <td>   2.084</td>\n",
              "</tr>\n",
              "<tr>\n",
              "  <th>Prob(Omnibus):</th> <td> 0.000</td> <th>  Jarque-Bera (JB):  </th> <td> 151.241</td>\n",
              "</tr>\n",
              "<tr>\n",
              "  <th>Skew:</th>          <td>-1.327</td> <th>  Prob(JB):          </th> <td>1.44e-33</td>\n",
              "</tr>\n",
              "<tr>\n",
              "  <th>Kurtosis:</th>      <td> 6.332</td> <th>  Cond. No.          </th> <td>    454.</td>\n",
              "</tr>\n",
              "</table><br/><br/>Warnings:<br/>[1] Standard Errors assume that the covariance matrix of the errors is correctly specified."
            ],
            "text/plain": [
              "<class 'statsmodels.iolib.summary.Summary'>\n",
              "\"\"\"\n",
              "                            OLS Regression Results                            \n",
              "==============================================================================\n",
              "Dep. Variable:                  Sales   R-squared:                       0.897\n",
              "Model:                            OLS   Adj. R-squared:                  0.896\n",
              "Method:                 Least Squares   F-statistic:                     570.3\n",
              "Date:                Sun, 15 Nov 2020   Prob (F-statistic):           1.58e-96\n",
              "Time:                        17:02:22   Log-Likelihood:                -386.18\n",
              "No. Observations:                 200   AIC:                             780.4\n",
              "Df Residuals:                     196   BIC:                             793.6\n",
              "Df Model:                           3                                         \n",
              "Covariance Type:            nonrobust                                         \n",
              "==============================================================================\n",
              "                 coef    std err          t      P>|t|      [0.025      0.975]\n",
              "------------------------------------------------------------------------------\n",
              "Intercept      2.9389      0.312      9.422      0.000       2.324       3.554\n",
              "TV             0.0458      0.001     32.809      0.000       0.043       0.049\n",
              "Radio          0.1885      0.009     21.893      0.000       0.172       0.206\n",
              "Newspaper     -0.0010      0.006     -0.177      0.860      -0.013       0.011\n",
              "==============================================================================\n",
              "Omnibus:                       60.414   Durbin-Watson:                   2.084\n",
              "Prob(Omnibus):                  0.000   Jarque-Bera (JB):              151.241\n",
              "Skew:                          -1.327   Prob(JB):                     1.44e-33\n",
              "Kurtosis:                       6.332   Cond. No.                         454.\n",
              "==============================================================================\n",
              "\n",
              "Warnings:\n",
              "[1] Standard Errors assume that the covariance matrix of the errors is correctly specified.\n",
              "\"\"\""
            ]
          },
          "execution_count": 23,
          "metadata": {},
          "output_type": "execute_result"
        }
      ],
      "source": [
        "# print a summary of the fitted model\n",
        "lm.summary()"
      ]
    },
    {
      "cell_type": "markdown",
      "metadata": {
        "id": "8Y6VHiecy7Dn"
      },
      "source": [
        "Что можно увидеть по результатам выше?\n",
        "\n",
        "- Расходы на рекламу на телевидении и радио **положительно связаны** с продажами, в то время как расходы на рекламу в газетах **незначимо отрицательно связаны** с продажами.\n",
        "- Эта модель имеет более высокий **R-квадрат** (0,897), чем предыдущая модель, что означает, что эта модель обеспечивает лучшее соответствие данным, чем модель, включающая только TV."
      ]
    },
    {
      "cell_type": "markdown",
      "metadata": {
        "id": "0cRJBE9jy7Dn"
      },
      "source": [
        "## Переобучение (overfitting)\n"
      ]
    },
    {
      "cell_type": "markdown",
      "metadata": {
        "id": "5wtJYikNy7Dn"
      },
      "source": [
        "**R-квадрат всегда будет увеличиваться по мере добавления новых признаков в модель**, даже если они не связаны с таргетом. Таким образом, выбор модели с наибольшим R-квадратом не является надежным подходом для выбора наилучшей линейной модели.\n"
      ]
    },
    {
      "cell_type": "markdown",
      "metadata": {
        "id": "KHUnK8sBy7Dn"
      },
      "source": [
        "![](https://miro.medium.com/max/875/1*_7OPgojau8hkiPUiHoGK_w.png)"
      ]
    },
    {
      "cell_type": "code",
      "execution_count": null,
      "metadata": {
        "id": "6gx-onSfy7Dn",
        "outputId": "2594d05d-6093-4579-cf24-d2f87c6f0125"
      },
      "outputs": [
        {
          "data": {
            "text/plain": [
              "0.8971942610828956"
            ]
          },
          "execution_count": 33,
          "metadata": {},
          "output_type": "execute_result"
        }
      ],
      "source": [
        "# only include TV and Radio in the model\n",
        "lm = smf.ols(formula='Sales ~ TV + Radio', data=data).fit()\n",
        "lm.rsquared"
      ]
    },
    {
      "cell_type": "code",
      "execution_count": null,
      "metadata": {
        "id": "UJYPLGtRy7Do",
        "outputId": "67c8e190-1afd-4e6a-825b-9b67b0977312"
      },
      "outputs": [
        {
          "data": {
            "text/plain": [
              "0.8972106381789522"
            ]
          },
          "execution_count": 34,
          "metadata": {},
          "output_type": "execute_result"
        }
      ],
      "source": [
        "# add Newspaper to the model (which we believe has no association with Sales)\n",
        "lm = smf.ols(formula='Sales ~ TV + Radio + Newspaper', data=data).fit()\n",
        "lm.rsquared"
      ]
    },
    {
      "cell_type": "code",
      "execution_count": null,
      "metadata": {
        "id": "9QjABn-wy7Do",
        "outputId": "b3536a61-9bd3-4db2-f230-903a0f5265b8"
      },
      "outputs": [
        {
          "data": {
            "text/plain": [
              "0.8972907570941141"
            ]
          },
          "execution_count": 37,
          "metadata": {},
          "output_type": "execute_result"
        }
      ],
      "source": [
        "data[\"Random\"] = np.random.normal(0, 1, data.shape[0])\n",
        "\n",
        "lm = smf.ols(formula='Sales ~ TV + Radio + Newspaper + Random', data=data).fit()\n",
        "lm.rsquared"
      ]
    },
    {
      "cell_type": "markdown",
      "metadata": {
        "id": "nvawovScy7Dp"
      },
      "source": [
        "Что делать? **Тестировать на независимой выборке**! Этим нужно заниматься отдельно, а сейчас scikit-learn!"
      ]
    },
    {
      "cell_type": "markdown",
      "metadata": {
        "id": "-iT-F_Ezy7Dp"
      },
      "source": [
        "## Линейная регрессия в scikit-learn\n"
      ]
    },
    {
      "cell_type": "code",
      "execution_count": null,
      "metadata": {
        "id": "_0queguHy7Dp",
        "outputId": "e593adbe-1964-46e0-c3d5-4f4d2ea30ef8"
      },
      "outputs": [
        {
          "name": "stdout",
          "output_type": "stream",
          "text": [
            "2.938889369459412\n",
            "[ 0.04576465  0.18853002 -0.00103749]\n"
          ]
        }
      ],
      "source": [
        "# create X and y\n",
        "feature_cols = ['TV', 'Radio', 'Newspaper']\n",
        "X = data[feature_cols]\n",
        "y = data.Sales\n",
        "\n",
        "# follow the usual sklearn pattern: import, instantiate, fit\n",
        "from sklearn.linear_model import LinearRegression\n",
        "lm = LinearRegression()\n",
        "lm.fit(X, y)\n",
        "\n",
        "# print intercept and coefficients\n",
        "print(lm.intercept_)\n",
        "print(lm.coef_)"
      ]
    },
    {
      "cell_type": "code",
      "execution_count": null,
      "metadata": {
        "id": "LpC1apUyy7Dp",
        "outputId": "b27f1a66-2698-4595-c566-b35378d2930b"
      },
      "outputs": [
        {
          "data": {
            "text/plain": [
              "[('TV', 0.0457646454553976),\n",
              " ('Radio', 0.18853001691820448),\n",
              " ('Newspaper', -0.0010374930424763285)]"
            ]
          },
          "execution_count": 45,
          "metadata": {},
          "output_type": "execute_result"
        }
      ],
      "source": [
        "# pair the feature names with the coefficients\n",
        "list(zip(feature_cols, lm.coef_))"
      ]
    },
    {
      "cell_type": "code",
      "execution_count": null,
      "metadata": {
        "id": "Atl8Fxcyy7Dq",
        "outputId": "c8c29d72-1c02-4831-bb54-bc190f82721a"
      },
      "outputs": [
        {
          "data": {
            "text/plain": [
              "array([12.20266701])"
            ]
          },
          "execution_count": 49,
          "metadata": {},
          "output_type": "execute_result"
        }
      ],
      "source": [
        "# predict for a new observation\n",
        "lm.predict(np.array([[100, 25, 25]]))"
      ]
    },
    {
      "cell_type": "code",
      "execution_count": null,
      "metadata": {
        "id": "tuDTFMnGy7Dq",
        "outputId": "9706b0dd-687e-4113-eba0-793f33826643"
      },
      "outputs": [
        {
          "data": {
            "text/plain": [
              "0.8972106381789521"
            ]
          },
          "execution_count": 50,
          "metadata": {},
          "output_type": "execute_result"
        }
      ],
      "source": [
        "# calculate the R-squared\n",
        "lm.score(X, y)"
      ]
    },
    {
      "cell_type": "markdown",
      "metadata": {
        "id": "KAbXfskTy7Dq"
      },
      "source": [
        "Заметьте, что **scikit-learn предоставляет сильно меньше информации** по сравнению с Statsmodels"
      ]
    },
    {
      "cell_type": "markdown",
      "metadata": {
        "id": "q8R-8mC1y7Dq"
      },
      "source": [
        "## Обработка категориальных предикторов с двумя категориями\n",
        "\n",
        "До сих пор все наши предсказатели были числовыми. Что, если один из наших предсказателей был категориальным?\n",
        "\n",
        "Давайте создадим новый бинарный признак под названием **Size** с двумя возможными значениями: **маленький или большой**:"
      ]
    },
    {
      "cell_type": "code",
      "execution_count": null,
      "metadata": {
        "id": "efHrTLK9y7Dr",
        "outputId": "5ab55b21-cb9b-4915-97ce-258bb1cd7bc9"
      },
      "outputs": [
        {
          "data": {
            "text/html": [
              "<div>\n",
              "<style scoped>\n",
              "    .dataframe tbody tr th:only-of-type {\n",
              "        vertical-align: middle;\n",
              "    }\n",
              "\n",
              "    .dataframe tbody tr th {\n",
              "        vertical-align: top;\n",
              "    }\n",
              "\n",
              "    .dataframe thead th {\n",
              "        text-align: right;\n",
              "    }\n",
              "</style>\n",
              "<table border=\"1\" class=\"dataframe\">\n",
              "  <thead>\n",
              "    <tr style=\"text-align: right;\">\n",
              "      <th></th>\n",
              "      <th>TV</th>\n",
              "      <th>Radio</th>\n",
              "      <th>Newspaper</th>\n",
              "      <th>Sales</th>\n",
              "      <th>Random</th>\n",
              "      <th>Size</th>\n",
              "    </tr>\n",
              "  </thead>\n",
              "  <tbody>\n",
              "    <tr>\n",
              "      <td>1</td>\n",
              "      <td>230.1</td>\n",
              "      <td>37.8</td>\n",
              "      <td>69.2</td>\n",
              "      <td>22.1</td>\n",
              "      <td>0.049770</td>\n",
              "      <td>large</td>\n",
              "    </tr>\n",
              "    <tr>\n",
              "      <td>2</td>\n",
              "      <td>44.5</td>\n",
              "      <td>39.3</td>\n",
              "      <td>45.1</td>\n",
              "      <td>10.4</td>\n",
              "      <td>0.298244</td>\n",
              "      <td>small</td>\n",
              "    </tr>\n",
              "    <tr>\n",
              "      <td>3</td>\n",
              "      <td>17.2</td>\n",
              "      <td>45.9</td>\n",
              "      <td>69.3</td>\n",
              "      <td>9.3</td>\n",
              "      <td>-1.071444</td>\n",
              "      <td>small</td>\n",
              "    </tr>\n",
              "    <tr>\n",
              "      <td>4</td>\n",
              "      <td>151.5</td>\n",
              "      <td>41.3</td>\n",
              "      <td>58.5</td>\n",
              "      <td>18.5</td>\n",
              "      <td>-0.778989</td>\n",
              "      <td>small</td>\n",
              "    </tr>\n",
              "    <tr>\n",
              "      <td>5</td>\n",
              "      <td>180.8</td>\n",
              "      <td>10.8</td>\n",
              "      <td>58.4</td>\n",
              "      <td>12.9</td>\n",
              "      <td>-1.162397</td>\n",
              "      <td>large</td>\n",
              "    </tr>\n",
              "  </tbody>\n",
              "</table>\n",
              "</div>"
            ],
            "text/plain": [
              "      TV  Radio  Newspaper  Sales    Random   Size\n",
              "1  230.1   37.8       69.2   22.1  0.049770  large\n",
              "2   44.5   39.3       45.1   10.4  0.298244  small\n",
              "3   17.2   45.9       69.3    9.3 -1.071444  small\n",
              "4  151.5   41.3       58.5   18.5 -0.778989  small\n",
              "5  180.8   10.8       58.4   12.9 -1.162397  large"
            ]
          },
          "execution_count": 51,
          "metadata": {},
          "output_type": "execute_result"
        }
      ],
      "source": [
        "import numpy as np\n",
        "\n",
        "# set a seed for reproducibility\n",
        "np.random.seed(12345)\n",
        "\n",
        "# create a Series of booleans in which roughly half are True\n",
        "nums = np.random.rand(len(data))\n",
        "mask_large = nums > 0.5\n",
        "\n",
        "# initially set Size to small, then change roughly half to be large\n",
        "data['Size'] = 'small'\n",
        "data.loc[mask_large, 'Size'] = 'large'\n",
        "data.head()"
      ]
    },
    {
      "cell_type": "markdown",
      "metadata": {
        "id": "YDeVEjNyy7Dr"
      },
      "source": [
        "Для scikit-learn нам нужно представить все данные **в числовом формате**. Если функция имеет только две категории, мы можем просто создать **фиктивную переменную**, которая представляет категории как бинарное значение:"
      ]
    },
    {
      "cell_type": "code",
      "execution_count": null,
      "metadata": {
        "id": "gBZx9TlZy7Dr",
        "outputId": "2e3b87bb-a32e-4bda-a8bd-046ac24fd445"
      },
      "outputs": [
        {
          "data": {
            "text/html": [
              "<div>\n",
              "<style scoped>\n",
              "    .dataframe tbody tr th:only-of-type {\n",
              "        vertical-align: middle;\n",
              "    }\n",
              "\n",
              "    .dataframe tbody tr th {\n",
              "        vertical-align: top;\n",
              "    }\n",
              "\n",
              "    .dataframe thead th {\n",
              "        text-align: right;\n",
              "    }\n",
              "</style>\n",
              "<table border=\"1\" class=\"dataframe\">\n",
              "  <thead>\n",
              "    <tr style=\"text-align: right;\">\n",
              "      <th></th>\n",
              "      <th>TV</th>\n",
              "      <th>Radio</th>\n",
              "      <th>Newspaper</th>\n",
              "      <th>Sales</th>\n",
              "      <th>Random</th>\n",
              "      <th>Size</th>\n",
              "      <th>IsLarge</th>\n",
              "    </tr>\n",
              "  </thead>\n",
              "  <tbody>\n",
              "    <tr>\n",
              "      <td>1</td>\n",
              "      <td>230.1</td>\n",
              "      <td>37.8</td>\n",
              "      <td>69.2</td>\n",
              "      <td>22.1</td>\n",
              "      <td>0.049770</td>\n",
              "      <td>large</td>\n",
              "      <td>1</td>\n",
              "    </tr>\n",
              "    <tr>\n",
              "      <td>2</td>\n",
              "      <td>44.5</td>\n",
              "      <td>39.3</td>\n",
              "      <td>45.1</td>\n",
              "      <td>10.4</td>\n",
              "      <td>0.298244</td>\n",
              "      <td>small</td>\n",
              "      <td>0</td>\n",
              "    </tr>\n",
              "    <tr>\n",
              "      <td>3</td>\n",
              "      <td>17.2</td>\n",
              "      <td>45.9</td>\n",
              "      <td>69.3</td>\n",
              "      <td>9.3</td>\n",
              "      <td>-1.071444</td>\n",
              "      <td>small</td>\n",
              "      <td>0</td>\n",
              "    </tr>\n",
              "    <tr>\n",
              "      <td>4</td>\n",
              "      <td>151.5</td>\n",
              "      <td>41.3</td>\n",
              "      <td>58.5</td>\n",
              "      <td>18.5</td>\n",
              "      <td>-0.778989</td>\n",
              "      <td>small</td>\n",
              "      <td>0</td>\n",
              "    </tr>\n",
              "    <tr>\n",
              "      <td>5</td>\n",
              "      <td>180.8</td>\n",
              "      <td>10.8</td>\n",
              "      <td>58.4</td>\n",
              "      <td>12.9</td>\n",
              "      <td>-1.162397</td>\n",
              "      <td>large</td>\n",
              "      <td>1</td>\n",
              "    </tr>\n",
              "  </tbody>\n",
              "</table>\n",
              "</div>"
            ],
            "text/plain": [
              "      TV  Radio  Newspaper  Sales    Random   Size  IsLarge\n",
              "1  230.1   37.8       69.2   22.1  0.049770  large        1\n",
              "2   44.5   39.3       45.1   10.4  0.298244  small        0\n",
              "3   17.2   45.9       69.3    9.3 -1.071444  small        0\n",
              "4  151.5   41.3       58.5   18.5 -0.778989  small        0\n",
              "5  180.8   10.8       58.4   12.9 -1.162397  large        1"
            ]
          },
          "execution_count": 52,
          "metadata": {},
          "output_type": "execute_result"
        }
      ],
      "source": [
        "# create a new Series called IsLarge\n",
        "data['IsLarge'] = data.Size.map({'small':0, 'large':1})\n",
        "data.head()"
      ]
    },
    {
      "cell_type": "code",
      "execution_count": null,
      "metadata": {
        "id": "f3DH18a3y7Ds",
        "outputId": "fdf08641-5f3c-47d8-91d4-4cc028c7a57c"
      },
      "outputs": [
        {
          "data": {
            "text/plain": [
              "[('TV', 0.04571982092436277),\n",
              " ('Radio', 0.1887281431342785),\n",
              " ('Newspaper', -0.001097679448351624),\n",
              " ('IsLarge', 0.05742385085482783)]"
            ]
          },
          "execution_count": 54,
          "metadata": {},
          "output_type": "execute_result"
        }
      ],
      "source": [
        "# create X and y\n",
        "feature_cols = ['TV', 'Radio', 'Newspaper', 'IsLarge']\n",
        "X = data[feature_cols]\n",
        "y = data.Sales\n",
        "\n",
        "# instantiate, fit\n",
        "lm = LinearRegression()\n",
        "lm.fit(X, y)\n",
        "\n",
        "# print coefficients\n",
        "list(zip(feature_cols, lm.coef_))"
      ]
    },
    {
      "cell_type": "markdown",
      "metadata": {
        "id": "EJNHt70Ny7Ds"
      },
      "source": [
        "Как мы интерпретируем **IsLarge коэффициент**? Для данного объема расходов на рекламу на телевидении/радио/в газетах наличие большого рынка связано со средним **увеличением** продаж на 57,42 (по сравнению с небольшим рынком, который называется **базовым значением**).\n",
        "\n",
        "Если бы мы изменили кодировку 0/1 и вместо этого создали признак \"IsSmall\"? Коэффициент будет тем же самым, за исключением того, что он будет отрицательным, а не положительным."
      ]
    },
    {
      "cell_type": "markdown",
      "metadata": {
        "id": "lVHtmhOuy7Ds"
      },
      "source": [
        "## Обработка категориальных предикторов с более чем двумя категориями\n",
        "\n",
        "Давайте создадим новый признак под названием **Area** и случайным образом назначим наблюдения **rural, suburban, или urban**:"
      ]
    },
    {
      "cell_type": "code",
      "execution_count": null,
      "metadata": {
        "id": "pdmi3Xxhy7Dt",
        "outputId": "565d2bea-c6d4-4b6f-99cf-9ff89b6674dd"
      },
      "outputs": [
        {
          "data": {
            "text/html": [
              "<div>\n",
              "<style scoped>\n",
              "    .dataframe tbody tr th:only-of-type {\n",
              "        vertical-align: middle;\n",
              "    }\n",
              "\n",
              "    .dataframe tbody tr th {\n",
              "        vertical-align: top;\n",
              "    }\n",
              "\n",
              "    .dataframe thead th {\n",
              "        text-align: right;\n",
              "    }\n",
              "</style>\n",
              "<table border=\"1\" class=\"dataframe\">\n",
              "  <thead>\n",
              "    <tr style=\"text-align: right;\">\n",
              "      <th></th>\n",
              "      <th>TV</th>\n",
              "      <th>Radio</th>\n",
              "      <th>Newspaper</th>\n",
              "      <th>Sales</th>\n",
              "      <th>Random</th>\n",
              "      <th>Size</th>\n",
              "      <th>IsLarge</th>\n",
              "      <th>Area</th>\n",
              "    </tr>\n",
              "  </thead>\n",
              "  <tbody>\n",
              "    <tr>\n",
              "      <td>1</td>\n",
              "      <td>230.1</td>\n",
              "      <td>37.8</td>\n",
              "      <td>69.2</td>\n",
              "      <td>22.1</td>\n",
              "      <td>0.049770</td>\n",
              "      <td>large</td>\n",
              "      <td>1</td>\n",
              "      <td>rural</td>\n",
              "    </tr>\n",
              "    <tr>\n",
              "      <td>2</td>\n",
              "      <td>44.5</td>\n",
              "      <td>39.3</td>\n",
              "      <td>45.1</td>\n",
              "      <td>10.4</td>\n",
              "      <td>0.298244</td>\n",
              "      <td>small</td>\n",
              "      <td>0</td>\n",
              "      <td>urban</td>\n",
              "    </tr>\n",
              "    <tr>\n",
              "      <td>3</td>\n",
              "      <td>17.2</td>\n",
              "      <td>45.9</td>\n",
              "      <td>69.3</td>\n",
              "      <td>9.3</td>\n",
              "      <td>-1.071444</td>\n",
              "      <td>small</td>\n",
              "      <td>0</td>\n",
              "      <td>rural</td>\n",
              "    </tr>\n",
              "    <tr>\n",
              "      <td>4</td>\n",
              "      <td>151.5</td>\n",
              "      <td>41.3</td>\n",
              "      <td>58.5</td>\n",
              "      <td>18.5</td>\n",
              "      <td>-0.778989</td>\n",
              "      <td>small</td>\n",
              "      <td>0</td>\n",
              "      <td>urban</td>\n",
              "    </tr>\n",
              "    <tr>\n",
              "      <td>5</td>\n",
              "      <td>180.8</td>\n",
              "      <td>10.8</td>\n",
              "      <td>58.4</td>\n",
              "      <td>12.9</td>\n",
              "      <td>-1.162397</td>\n",
              "      <td>large</td>\n",
              "      <td>1</td>\n",
              "      <td>suburban</td>\n",
              "    </tr>\n",
              "  </tbody>\n",
              "</table>\n",
              "</div>"
            ],
            "text/plain": [
              "      TV  Radio  Newspaper  Sales    Random   Size  IsLarge      Area\n",
              "1  230.1   37.8       69.2   22.1  0.049770  large        1     rural\n",
              "2   44.5   39.3       45.1   10.4  0.298244  small        0     urban\n",
              "3   17.2   45.9       69.3    9.3 -1.071444  small        0     rural\n",
              "4  151.5   41.3       58.5   18.5 -0.778989  small        0     urban\n",
              "5  180.8   10.8       58.4   12.9 -1.162397  large        1  suburban"
            ]
          },
          "execution_count": 55,
          "metadata": {},
          "output_type": "execute_result"
        }
      ],
      "source": [
        "# set a seed for reproducibility\n",
        "np.random.seed(123456)\n",
        "\n",
        "# assign roughly one third of observations to each group\n",
        "nums = np.random.rand(len(data))\n",
        "mask_suburban = (nums > 0.33) & (nums < 0.66)\n",
        "mask_urban = nums >= 0.66\n",
        "data['Area'] = 'rural'\n",
        "data.loc[mask_suburban, 'Area'] = 'suburban'\n",
        "data.loc[mask_urban, 'Area'] = 'urban'\n",
        "data.head()"
      ]
    },
    {
      "cell_type": "markdown",
      "metadata": {
        "id": "AvOQ77__y7Dt"
      },
      "source": [
        "Мы должны представлять область численно, но мы не можем просто кодировать ее как 0=Сельская, 1=Пригородная, 2=городская, потому что это означало бы упорядоченное отношение между пригородом и городом (и, таким образом, город каким-то образом \"дважды\" является пригородной категорией).\n",
        "\n",
        "Вместо этого мы создаем **еще одну фиктивную переменную**:"
      ]
    },
    {
      "cell_type": "code",
      "execution_count": null,
      "metadata": {
        "id": "1bYC37mBy7Dt",
        "outputId": "60e9200f-1192-452c-b9cb-43245224b2f1"
      },
      "outputs": [
        {
          "data": {
            "text/html": [
              "<div>\n",
              "<style scoped>\n",
              "    .dataframe tbody tr th:only-of-type {\n",
              "        vertical-align: middle;\n",
              "    }\n",
              "\n",
              "    .dataframe tbody tr th {\n",
              "        vertical-align: top;\n",
              "    }\n",
              "\n",
              "    .dataframe thead th {\n",
              "        text-align: right;\n",
              "    }\n",
              "</style>\n",
              "<table border=\"1\" class=\"dataframe\">\n",
              "  <thead>\n",
              "    <tr style=\"text-align: right;\">\n",
              "      <th></th>\n",
              "      <th>TV</th>\n",
              "      <th>Radio</th>\n",
              "      <th>Newspaper</th>\n",
              "      <th>Sales</th>\n",
              "      <th>Random</th>\n",
              "      <th>Size</th>\n",
              "      <th>IsLarge</th>\n",
              "      <th>Area</th>\n",
              "      <th>Area_suburban</th>\n",
              "      <th>Area_urban</th>\n",
              "    </tr>\n",
              "  </thead>\n",
              "  <tbody>\n",
              "    <tr>\n",
              "      <td>1</td>\n",
              "      <td>230.1</td>\n",
              "      <td>37.8</td>\n",
              "      <td>69.2</td>\n",
              "      <td>22.1</td>\n",
              "      <td>0.049770</td>\n",
              "      <td>large</td>\n",
              "      <td>1</td>\n",
              "      <td>rural</td>\n",
              "      <td>0</td>\n",
              "      <td>0</td>\n",
              "    </tr>\n",
              "    <tr>\n",
              "      <td>2</td>\n",
              "      <td>44.5</td>\n",
              "      <td>39.3</td>\n",
              "      <td>45.1</td>\n",
              "      <td>10.4</td>\n",
              "      <td>0.298244</td>\n",
              "      <td>small</td>\n",
              "      <td>0</td>\n",
              "      <td>urban</td>\n",
              "      <td>0</td>\n",
              "      <td>1</td>\n",
              "    </tr>\n",
              "    <tr>\n",
              "      <td>3</td>\n",
              "      <td>17.2</td>\n",
              "      <td>45.9</td>\n",
              "      <td>69.3</td>\n",
              "      <td>9.3</td>\n",
              "      <td>-1.071444</td>\n",
              "      <td>small</td>\n",
              "      <td>0</td>\n",
              "      <td>rural</td>\n",
              "      <td>0</td>\n",
              "      <td>0</td>\n",
              "    </tr>\n",
              "    <tr>\n",
              "      <td>4</td>\n",
              "      <td>151.5</td>\n",
              "      <td>41.3</td>\n",
              "      <td>58.5</td>\n",
              "      <td>18.5</td>\n",
              "      <td>-0.778989</td>\n",
              "      <td>small</td>\n",
              "      <td>0</td>\n",
              "      <td>urban</td>\n",
              "      <td>0</td>\n",
              "      <td>1</td>\n",
              "    </tr>\n",
              "    <tr>\n",
              "      <td>5</td>\n",
              "      <td>180.8</td>\n",
              "      <td>10.8</td>\n",
              "      <td>58.4</td>\n",
              "      <td>12.9</td>\n",
              "      <td>-1.162397</td>\n",
              "      <td>large</td>\n",
              "      <td>1</td>\n",
              "      <td>suburban</td>\n",
              "      <td>1</td>\n",
              "      <td>0</td>\n",
              "    </tr>\n",
              "  </tbody>\n",
              "</table>\n",
              "</div>"
            ],
            "text/plain": [
              "      TV  Radio  Newspaper  Sales    Random   Size  IsLarge      Area  \\\n",
              "1  230.1   37.8       69.2   22.1  0.049770  large        1     rural   \n",
              "2   44.5   39.3       45.1   10.4  0.298244  small        0     urban   \n",
              "3   17.2   45.9       69.3    9.3 -1.071444  small        0     rural   \n",
              "4  151.5   41.3       58.5   18.5 -0.778989  small        0     urban   \n",
              "5  180.8   10.8       58.4   12.9 -1.162397  large        1  suburban   \n",
              "\n",
              "   Area_suburban  Area_urban  \n",
              "1              0           0  \n",
              "2              0           1  \n",
              "3              0           0  \n",
              "4              0           1  \n",
              "5              1           0  "
            ]
          },
          "execution_count": 56,
          "metadata": {},
          "output_type": "execute_result"
        }
      ],
      "source": [
        "# create three dummy variables using get_dummies, then exclude the first dummy column\n",
        "area_dummies = pd.get_dummies(data.Area, prefix='Area').iloc[:, 1:]\n",
        "\n",
        "# concatenate the dummy variable columns onto the original DataFrame (axis=0 means rows, axis=1 means columns)\n",
        "data = pd.concat([data, area_dummies], axis=1)\n",
        "data.head()"
      ]
    },
    {
      "cell_type": "markdown",
      "metadata": {
        "id": "Qd_qkCTQy7Dt"
      },
      "source": [
        "Вот как мы интерпретируем кодировку:\n",
        "- **сельский** кодируется как Area_suburban=0 и Area_urban=0\n",
        "- **suburban** кодируется как Area_suburban=1 и Area_urban=0\n",
        "- **urban** кодируется как Area_suburban=0 и Area_urban=1\n",
        "\n",
        "Почему нам нужны только **две фиктивные переменные, а не три?** потому что две дамми переменные захватывают всю информацию об признаке Area и неявно определяют сельскую местность как базовое значение. (В общем случае, если у вас есть категориальный признак с k уровнями, вы создаете фиктивные переменные k-1.)\n",
        "\n",
        "Если это сбивает с толку, подумайте о том, почему нам нужна только одна фиктивная Переменная для размера (IsLarge), а не две фиктивные переменные (IsSmall и IsLarge).\n",
        "\n",
        "Давайте включим в модель две новые фиктивные переменные:"
      ]
    },
    {
      "cell_type": "code",
      "execution_count": null,
      "metadata": {
        "id": "Rf4yE9zYy7Du",
        "outputId": "15e3748c-7e2d-4f70-bf14-bc4c0becbb48"
      },
      "outputs": [
        {
          "data": {
            "text/plain": [
              "[('TV', 0.04574401036331374),\n",
              " ('Radio', 0.18786669552525798),\n",
              " ('Newspaper', -0.0010876977267109122),\n",
              " ('IsLarge', 0.07739660749747915),\n",
              " ('Area_suburban', -0.10656299015958612),\n",
              " ('Area_urban', 0.26813802165220074)]"
            ]
          },
          "execution_count": 58,
          "metadata": {},
          "output_type": "execute_result"
        }
      ],
      "source": [
        "# create X and y\n",
        "feature_cols = ['TV', 'Radio', 'Newspaper', 'IsLarge', 'Area_suburban', 'Area_urban']\n",
        "X = data[feature_cols]\n",
        "y = data.Sales\n",
        "\n",
        "# instantiate, fit\n",
        "lm = LinearRegression()\n",
        "lm.fit(X, y)\n",
        "\n",
        "# print coefficients\n",
        "list(zip(feature_cols, lm.coef_))"
      ]
    },
    {
      "cell_type": "markdown",
      "metadata": {
        "id": "jGvwjrOry7Du"
      },
      "source": [
        "Как мы интерпретируем коэффициенты?\n",
        "- Если все остальные переменные фиксированны, то быть **пригородным** районом, влечет **снижение** продаж на 106,56  (по сравнению с базовым уровнем, который является сельским).\n",
        "- Быть **городским** районом связано со средним **увеличением** продаж на 268,13 (по сравнению с сельским районом).\n",
        "\n",
        "**Заключительное замечание о фиктивном кодировании:** если у вас есть категории, которые можно ранжировать (например, полностью не согласен, не согласен, нейтрален, согласен, полностью согласен), вы можете использовать одну фиктивную переменную и представлять категории численно (например, 1, 2, 3, 4, 5)."
      ]
    },
    {
      "cell_type": "markdown",
      "metadata": {
        "id": "PSsARk9oy7Du"
      },
      "source": [
        "## Что мы не рассмотрели?\n",
        "\n",
        "- Допущения линейной регрессии\n",
        "- Нелинейные засисимости\n",
        "- Обнаружение коллинеарности\n",
        "- И многое другое! Этот ноутбук рассказывает только про самые базовые вещи!\n"
      ]
    },
    {
      "cell_type": "markdown",
      "metadata": {
        "id": "wut445hRy7Du"
      },
      "source": [
        "## References\n",
        "\n",
        "Этот ноутбук является переводом и адаптацией [данного ноутбука](https://github.com/justmarkham/DAT4/blob/master/notebooks/08_linear_regression.ipynb).\n",
        "\n",
        "\n"
      ]
    }
  ],
  "metadata": {
    "kernelspec": {
      "display_name": "Python 3",
      "language": "python",
      "name": "python3"
    },
    "language_info": {
      "codemirror_mode": {
        "name": "ipython",
        "version": 3
      },
      "file_extension": ".py",
      "mimetype": "text/x-python",
      "name": "python",
      "nbconvert_exporter": "python",
      "pygments_lexer": "ipython3",
      "version": "3.8.8"
    },
    "colab": {
      "name": "sem09_linearRegression.ipynb",
      "provenance": [],
      "collapsed_sections": [
        "xOLpRxzmy7Dg",
        "sF3HmO9Hy7Dg",
        "qYuH9U3jy7Di",
        "PSsARk9oy7Du",
        "wut445hRy7Du"
      ],
      "include_colab_link": true
    }
  },
  "nbformat": 4,
  "nbformat_minor": 0
}